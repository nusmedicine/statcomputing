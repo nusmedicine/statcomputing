{
 "cells": [
  {
   "cell_type": "markdown",
   "metadata": {},
   "source": [
    "# Modeling for Prediction\n",
    "\n",
    "We explore how we can build a model using available data with the intent of predicting a response/outcome with new data\n",
    "\n",
    "![modeling_prediction.png](images/modeling_prediction.png)\n",
    "\n",
    "Here, the selection of covariates is guided by the prediction accuracy on new data (actual or inferred)\n",
    "- the coefficients give an indication of which covariates are important for the prediction\n",
    "- the coefficients are **not meant** to explain the effect size on the outcome"
   ]
  },
  {
   "cell_type": "markdown",
   "metadata": {},
   "source": [
    "---\n",
    "## Data preparation\n",
    "\n",
    "We will use the dataset from the Framingham study, which was a long term study of cardiovascular disease about subjsects in Framingham, USA. In this dataset ~4000 subjects were followed up and clinical data and chronic heart disease outcomes were examined longitudinally over > 10 years\n",
    "\n",
    "Variables include:\n",
    "- `male` : 0 = female, 1 = male\n",
    "- `age` : Age at the time of medical examination in years.\n",
    "- `education` : 1 = Some high school, 2 = high school/GED, 3 = some college/vocational school, 4 = college\n",
    "- `currentSmoker`: Current cigarette smoking at the time of examinations\n",
    "- `cigsPerDay`: Number of cigarettes smoked each day\n",
    "- `BPmeds`: Use of Anti-hypertensive medication at exam\n",
    "- `prevalentStroke`: Prevalent Stroke \n",
    "- `prevalentHyp`: Prevalent Hypertensive\n",
    "- `diabetes`: Diabetic according to criteria of first exam treated\n",
    "- `totChol`: Total cholesterol (mg/dL)\n",
    "- `sysBP`: Systolic Blood Pressure (mmHg)\n",
    "- `diaBP`: Diastolic blood pressure (mmHg)\n",
    "- `BMI`: Body Mass Index, weight (kg)/height (m)^2\n",
    "- `heartRate`: Heart rate (beats/minute)\n",
    "- `glucose`: Blood glucose level (mg/dL)"
   ]
  },
  {
   "cell_type": "code",
   "execution_count": 1,
   "metadata": {},
   "outputs": [
    {
     "name": "stderr",
     "output_type": "stream",
     "text": [
      "── \u001b[1mAttaching core tidyverse packages\u001b[22m ──────────────────────── tidyverse 2.0.0 ──\n",
      "\u001b[32m✔\u001b[39m \u001b[34mdplyr    \u001b[39m 1.1.1     \u001b[32m✔\u001b[39m \u001b[34mreadr    \u001b[39m 2.1.4\n",
      "\u001b[32m✔\u001b[39m \u001b[34mforcats  \u001b[39m 1.0.0     \u001b[32m✔\u001b[39m \u001b[34mstringr  \u001b[39m 1.5.0\n",
      "\u001b[32m✔\u001b[39m \u001b[34mggplot2  \u001b[39m 3.4.2     \u001b[32m✔\u001b[39m \u001b[34mtibble   \u001b[39m 3.2.1\n",
      "\u001b[32m✔\u001b[39m \u001b[34mlubridate\u001b[39m 1.9.2     \u001b[32m✔\u001b[39m \u001b[34mtidyr    \u001b[39m 1.3.0\n",
      "\u001b[32m✔\u001b[39m \u001b[34mpurrr    \u001b[39m 1.0.1     \n",
      "── \u001b[1mConflicts\u001b[22m ────────────────────────────────────────── tidyverse_conflicts() ──\n",
      "\u001b[31m✖\u001b[39m \u001b[34mdplyr\u001b[39m::\u001b[32mfilter()\u001b[39m masks \u001b[34mstats\u001b[39m::filter()\n",
      "\u001b[31m✖\u001b[39m \u001b[34mdplyr\u001b[39m::\u001b[32mlag()\u001b[39m    masks \u001b[34mstats\u001b[39m::lag()\n",
      "\u001b[36mℹ\u001b[39m Use the conflicted package (\u001b[3m\u001b[34m<http://conflicted.r-lib.org/>\u001b[39m\u001b[23m) to force all conflicts to become errors\n",
      "\u001b[1mRows: \u001b[22m\u001b[34m4240\u001b[39m \u001b[1mColumns: \u001b[22m\u001b[34m16\u001b[39m\n",
      "\u001b[36m──\u001b[39m \u001b[1mColumn specification\u001b[22m \u001b[36m────────────────────────────────────────────────────────\u001b[39m\n",
      "\u001b[1mDelimiter:\u001b[22m \",\"\n",
      "\u001b[32mdbl\u001b[39m (16): male, age, education, currentSmoker, cigsPerDay, BPMeds, prevalent...\n",
      "\n",
      "\u001b[36mℹ\u001b[39m Use `spec()` to retrieve the full column specification for this data.\n",
      "\u001b[36mℹ\u001b[39m Specify the column types or set `show_col_types = FALSE` to quiet this message.\n"
     ]
    }
   ],
   "source": [
    "library(tidyverse)\n",
    "\n",
    "# read data\n",
    "data<- read_csv(\"https://raw.githubusercontent.com/kennethban/dataset/main/framingham.csv\")\n",
    "\n",
    "# rename and change data types\n",
    "data <- data %>%\n",
    "        rename(sex = male) %>%\n",
    "        mutate(sex = as.factor(sex)) %>%\n",
    "        mutate(education = as.factor(education)) %>%\n",
    "        mutate(currentSmoker = as.factor(currentSmoker)) %>%\n",
    "        mutate(BPMeds = as.factor(BPMeds)) %>%\n",
    "        mutate(prevalentStroke = as.factor(prevalentStroke)) %>%\n",
    "        mutate(prevalentHyp = as.factor(prevalentHyp)) %>%\n",
    "        mutate(diabetes = as.factor(diabetes)) %>%\n",
    "        mutate(TenYearCHD = as.factor(TenYearCHD))\n",
    "\n",
    "# drop missing values\n",
    "data <- data %>% drop_na"
   ]
  },
  {
   "cell_type": "markdown",
   "metadata": {},
   "source": [
    "We will choose a subset of variables and find a model to predict the systolic BP `sysBP` from a combination of these variables"
   ]
  },
  {
   "cell_type": "code",
   "execution_count": 2,
   "metadata": {},
   "outputs": [
    {
     "data": {
      "text/html": [
       "<table class=\"dataframe\">\n",
       "<caption>A tibble: 6 × 10</caption>\n",
       "<thead>\n",
       "\t<tr><th scope=col>sex</th><th scope=col>age</th><th scope=col>education</th><th scope=col>cigsPerDay</th><th scope=col>diabetes</th><th scope=col>totChol</th><th scope=col>sysBP</th><th scope=col>BMI</th><th scope=col>heartRate</th><th scope=col>glucose</th></tr>\n",
       "\t<tr><th scope=col>&lt;fct&gt;</th><th scope=col>&lt;dbl&gt;</th><th scope=col>&lt;fct&gt;</th><th scope=col>&lt;dbl&gt;</th><th scope=col>&lt;fct&gt;</th><th scope=col>&lt;dbl&gt;</th><th scope=col>&lt;dbl&gt;</th><th scope=col>&lt;dbl&gt;</th><th scope=col>&lt;dbl&gt;</th><th scope=col>&lt;dbl&gt;</th></tr>\n",
       "</thead>\n",
       "<tbody>\n",
       "\t<tr><td>1</td><td>39</td><td>4</td><td> 0</td><td>0</td><td>195</td><td>106.0</td><td>26.97</td><td>80</td><td> 77</td></tr>\n",
       "\t<tr><td>0</td><td>46</td><td>2</td><td> 0</td><td>0</td><td>250</td><td>121.0</td><td>28.73</td><td>95</td><td> 76</td></tr>\n",
       "\t<tr><td>1</td><td>48</td><td>1</td><td>20</td><td>0</td><td>245</td><td>127.5</td><td>25.34</td><td>75</td><td> 70</td></tr>\n",
       "\t<tr><td>0</td><td>61</td><td>3</td><td>30</td><td>0</td><td>225</td><td>150.0</td><td>28.58</td><td>65</td><td>103</td></tr>\n",
       "\t<tr><td>0</td><td>46</td><td>3</td><td>23</td><td>0</td><td>285</td><td>130.0</td><td>23.10</td><td>85</td><td> 85</td></tr>\n",
       "\t<tr><td>0</td><td>43</td><td>2</td><td> 0</td><td>0</td><td>228</td><td>180.0</td><td>30.30</td><td>77</td><td> 99</td></tr>\n",
       "</tbody>\n",
       "</table>\n"
      ],
      "text/latex": [
       "A tibble: 6 × 10\n",
       "\\begin{tabular}{llllllllll}\n",
       " sex & age & education & cigsPerDay & diabetes & totChol & sysBP & BMI & heartRate & glucose\\\\\n",
       " <fct> & <dbl> & <fct> & <dbl> & <fct> & <dbl> & <dbl> & <dbl> & <dbl> & <dbl>\\\\\n",
       "\\hline\n",
       "\t 1 & 39 & 4 &  0 & 0 & 195 & 106.0 & 26.97 & 80 &  77\\\\\n",
       "\t 0 & 46 & 2 &  0 & 0 & 250 & 121.0 & 28.73 & 95 &  76\\\\\n",
       "\t 1 & 48 & 1 & 20 & 0 & 245 & 127.5 & 25.34 & 75 &  70\\\\\n",
       "\t 0 & 61 & 3 & 30 & 0 & 225 & 150.0 & 28.58 & 65 & 103\\\\\n",
       "\t 0 & 46 & 3 & 23 & 0 & 285 & 130.0 & 23.10 & 85 &  85\\\\\n",
       "\t 0 & 43 & 2 &  0 & 0 & 228 & 180.0 & 30.30 & 77 &  99\\\\\n",
       "\\end{tabular}\n"
      ],
      "text/markdown": [
       "\n",
       "A tibble: 6 × 10\n",
       "\n",
       "| sex &lt;fct&gt; | age &lt;dbl&gt; | education &lt;fct&gt; | cigsPerDay &lt;dbl&gt; | diabetes &lt;fct&gt; | totChol &lt;dbl&gt; | sysBP &lt;dbl&gt; | BMI &lt;dbl&gt; | heartRate &lt;dbl&gt; | glucose &lt;dbl&gt; |\n",
       "|---|---|---|---|---|---|---|---|---|---|\n",
       "| 1 | 39 | 4 |  0 | 0 | 195 | 106.0 | 26.97 | 80 |  77 |\n",
       "| 0 | 46 | 2 |  0 | 0 | 250 | 121.0 | 28.73 | 95 |  76 |\n",
       "| 1 | 48 | 1 | 20 | 0 | 245 | 127.5 | 25.34 | 75 |  70 |\n",
       "| 0 | 61 | 3 | 30 | 0 | 225 | 150.0 | 28.58 | 65 | 103 |\n",
       "| 0 | 46 | 3 | 23 | 0 | 285 | 130.0 | 23.10 | 85 |  85 |\n",
       "| 0 | 43 | 2 |  0 | 0 | 228 | 180.0 | 30.30 | 77 |  99 |\n",
       "\n"
      ],
      "text/plain": [
       "  sex age education cigsPerDay diabetes totChol sysBP BMI   heartRate glucose\n",
       "1 1   39  4          0         0        195     106.0 26.97 80         77    \n",
       "2 0   46  2          0         0        250     121.0 28.73 95         76    \n",
       "3 1   48  1         20         0        245     127.5 25.34 75         70    \n",
       "4 0   61  3         30         0        225     150.0 28.58 65        103    \n",
       "5 0   46  3         23         0        285     130.0 23.10 85         85    \n",
       "6 0   43  2          0         0        228     180.0 30.30 77         99    "
      ]
     },
     "metadata": {},
     "output_type": "display_data"
    }
   ],
   "source": [
    "data_subset <- data %>%\n",
    "               filter(BPMeds==0) %>%\n",
    "               select(-TenYearCHD, -prevalentStroke, -prevalentHyp, -diaBP, -currentSmoker, -BPMeds)\n",
    "\n",
    "head(data_subset)"
   ]
  },
  {
   "cell_type": "markdown",
   "metadata": {},
   "source": [
    "---\n",
    "## Predicting systolic BP as an example\n",
    "\n",
    "In predictive modeling, we would like to achieve the lowest prediction error on an out-of-sample dataset that was not used to build the model\n",
    "\n",
    "We will explore this idea by splitting the dataset into training and test sets\n",
    "- The training dataset will be used to build models with different parameters (covariates)\n",
    "- The model will be used to predict the systolic BP based on the model parameters (covariates)\n",
    "\n",
    "![predict_train_test.png](images/predict_train_test.png)"
   ]
  },
  {
   "cell_type": "markdown",
   "metadata": {},
   "source": [
    "We will use the `initial_split`, `training` and `testing` functions from the `tidymodels` library\n",
    "- Define the proportion of the split: `initial_split(data, prop = <proportion of training split>)`\n",
    "- Generate the training and testing datasets: `training(<initial_split data>)` and `testing(<initial_split data>)`"
   ]
  },
  {
   "cell_type": "code",
   "execution_count": 3,
   "metadata": {
    "tags": []
   },
   "outputs": [
    {
     "name": "stderr",
     "output_type": "stream",
     "text": [
      "── \u001b[1mAttaching packages\u001b[22m ────────────────────────────────────── tidymodels 1.0.0 ──\n",
      "\n",
      "\u001b[32m✔\u001b[39m \u001b[34mbroom       \u001b[39m 1.0.4     \u001b[32m✔\u001b[39m \u001b[34mrsample     \u001b[39m 1.1.1\n",
      "\u001b[32m✔\u001b[39m \u001b[34mdials       \u001b[39m 1.2.0     \u001b[32m✔\u001b[39m \u001b[34mtune        \u001b[39m 1.1.1\n",
      "\u001b[32m✔\u001b[39m \u001b[34minfer       \u001b[39m 1.0.4     \u001b[32m✔\u001b[39m \u001b[34mworkflows   \u001b[39m 1.1.3\n",
      "\u001b[32m✔\u001b[39m \u001b[34mmodeldata   \u001b[39m 1.1.0     \u001b[32m✔\u001b[39m \u001b[34mworkflowsets\u001b[39m 1.0.1\n",
      "\u001b[32m✔\u001b[39m \u001b[34mparsnip     \u001b[39m 1.1.0     \u001b[32m✔\u001b[39m \u001b[34myardstick   \u001b[39m 1.1.0\n",
      "\u001b[32m✔\u001b[39m \u001b[34mrecipes     \u001b[39m 1.0.5     \n",
      "\n",
      "── \u001b[1mConflicts\u001b[22m ───────────────────────────────────────── tidymodels_conflicts() ──\n",
      "\u001b[31m✖\u001b[39m \u001b[34mscales\u001b[39m::\u001b[32mdiscard()\u001b[39m masks \u001b[34mpurrr\u001b[39m::discard()\n",
      "\u001b[31m✖\u001b[39m \u001b[34mdplyr\u001b[39m::\u001b[32mfilter()\u001b[39m   masks \u001b[34mstats\u001b[39m::filter()\n",
      "\u001b[31m✖\u001b[39m \u001b[34mrecipes\u001b[39m::\u001b[32mfixed()\u001b[39m  masks \u001b[34mstringr\u001b[39m::fixed()\n",
      "\u001b[31m✖\u001b[39m \u001b[34mdplyr\u001b[39m::\u001b[32mlag()\u001b[39m      masks \u001b[34mstats\u001b[39m::lag()\n",
      "\u001b[31m✖\u001b[39m \u001b[34myardstick\u001b[39m::\u001b[32mspec()\u001b[39m masks \u001b[34mreadr\u001b[39m::spec()\n",
      "\u001b[31m✖\u001b[39m \u001b[34mrecipes\u001b[39m::\u001b[32mstep()\u001b[39m   masks \u001b[34mstats\u001b[39m::step()\n",
      "\u001b[34m•\u001b[39m Dig deeper into tidy modeling with R at \u001b[32mhttps://www.tmwr.org\u001b[39m\n",
      "\n"
     ]
    },
    {
     "data": {
      "text/html": [
       "<table class=\"dataframe\">\n",
       "<caption>A tibble: 6 × 10</caption>\n",
       "<thead>\n",
       "\t<tr><th scope=col>sex</th><th scope=col>age</th><th scope=col>education</th><th scope=col>cigsPerDay</th><th scope=col>diabetes</th><th scope=col>totChol</th><th scope=col>sysBP</th><th scope=col>BMI</th><th scope=col>heartRate</th><th scope=col>glucose</th></tr>\n",
       "\t<tr><th scope=col>&lt;fct&gt;</th><th scope=col>&lt;dbl&gt;</th><th scope=col>&lt;fct&gt;</th><th scope=col>&lt;dbl&gt;</th><th scope=col>&lt;fct&gt;</th><th scope=col>&lt;dbl&gt;</th><th scope=col>&lt;dbl&gt;</th><th scope=col>&lt;dbl&gt;</th><th scope=col>&lt;dbl&gt;</th><th scope=col>&lt;dbl&gt;</th></tr>\n",
       "</thead>\n",
       "<tbody>\n",
       "\t<tr><td>1</td><td>46</td><td>3</td><td> 0</td><td>0</td><td>305</td><td>150.0</td><td>26.82</td><td>75</td><td> 75</td></tr>\n",
       "\t<tr><td>0</td><td>53</td><td>3</td><td>20</td><td>0</td><td>221</td><td>131.0</td><td>24.09</td><td>90</td><td> 95</td></tr>\n",
       "\t<tr><td>0</td><td>59</td><td>3</td><td> 0</td><td>0</td><td>240</td><td>149.0</td><td>27.48</td><td>80</td><td> 82</td></tr>\n",
       "\t<tr><td>0</td><td>40</td><td>4</td><td> 3</td><td>0</td><td>230</td><td>107.5</td><td>26.38</td><td>75</td><td> 76</td></tr>\n",
       "\t<tr><td>0</td><td>61</td><td>2</td><td> 0</td><td>0</td><td>255</td><td>114.0</td><td>24.79</td><td>83</td><td>107</td></tr>\n",
       "\t<tr><td>0</td><td>43</td><td>1</td><td> 0</td><td>0</td><td>229</td><td>124.0</td><td>30.28</td><td>72</td><td> 77</td></tr>\n",
       "</tbody>\n",
       "</table>\n"
      ],
      "text/latex": [
       "A tibble: 6 × 10\n",
       "\\begin{tabular}{llllllllll}\n",
       " sex & age & education & cigsPerDay & diabetes & totChol & sysBP & BMI & heartRate & glucose\\\\\n",
       " <fct> & <dbl> & <fct> & <dbl> & <fct> & <dbl> & <dbl> & <dbl> & <dbl> & <dbl>\\\\\n",
       "\\hline\n",
       "\t 1 & 46 & 3 &  0 & 0 & 305 & 150.0 & 26.82 & 75 &  75\\\\\n",
       "\t 0 & 53 & 3 & 20 & 0 & 221 & 131.0 & 24.09 & 90 &  95\\\\\n",
       "\t 0 & 59 & 3 &  0 & 0 & 240 & 149.0 & 27.48 & 80 &  82\\\\\n",
       "\t 0 & 40 & 4 &  3 & 0 & 230 & 107.5 & 26.38 & 75 &  76\\\\\n",
       "\t 0 & 61 & 2 &  0 & 0 & 255 & 114.0 & 24.79 & 83 & 107\\\\\n",
       "\t 0 & 43 & 1 &  0 & 0 & 229 & 124.0 & 30.28 & 72 &  77\\\\\n",
       "\\end{tabular}\n"
      ],
      "text/markdown": [
       "\n",
       "A tibble: 6 × 10\n",
       "\n",
       "| sex &lt;fct&gt; | age &lt;dbl&gt; | education &lt;fct&gt; | cigsPerDay &lt;dbl&gt; | diabetes &lt;fct&gt; | totChol &lt;dbl&gt; | sysBP &lt;dbl&gt; | BMI &lt;dbl&gt; | heartRate &lt;dbl&gt; | glucose &lt;dbl&gt; |\n",
       "|---|---|---|---|---|---|---|---|---|---|\n",
       "| 1 | 46 | 3 |  0 | 0 | 305 | 150.0 | 26.82 | 75 |  75 |\n",
       "| 0 | 53 | 3 | 20 | 0 | 221 | 131.0 | 24.09 | 90 |  95 |\n",
       "| 0 | 59 | 3 |  0 | 0 | 240 | 149.0 | 27.48 | 80 |  82 |\n",
       "| 0 | 40 | 4 |  3 | 0 | 230 | 107.5 | 26.38 | 75 |  76 |\n",
       "| 0 | 61 | 2 |  0 | 0 | 255 | 114.0 | 24.79 | 83 | 107 |\n",
       "| 0 | 43 | 1 |  0 | 0 | 229 | 124.0 | 30.28 | 72 |  77 |\n",
       "\n"
      ],
      "text/plain": [
       "  sex age education cigsPerDay diabetes totChol sysBP BMI   heartRate glucose\n",
       "1 1   46  3          0         0        305     150.0 26.82 75         75    \n",
       "2 0   53  3         20         0        221     131.0 24.09 90         95    \n",
       "3 0   59  3          0         0        240     149.0 27.48 80         82    \n",
       "4 0   40  4          3         0        230     107.5 26.38 75         76    \n",
       "5 0   61  2          0         0        255     114.0 24.79 83        107    \n",
       "6 0   43  1          0         0        229     124.0 30.28 72         77    "
      ]
     },
     "metadata": {},
     "output_type": "display_data"
    },
    {
     "data": {
      "text/html": [
       "<table class=\"dataframe\">\n",
       "<caption>A tibble: 6 × 10</caption>\n",
       "<thead>\n",
       "\t<tr><th scope=col>sex</th><th scope=col>age</th><th scope=col>education</th><th scope=col>cigsPerDay</th><th scope=col>diabetes</th><th scope=col>totChol</th><th scope=col>sysBP</th><th scope=col>BMI</th><th scope=col>heartRate</th><th scope=col>glucose</th></tr>\n",
       "\t<tr><th scope=col>&lt;fct&gt;</th><th scope=col>&lt;dbl&gt;</th><th scope=col>&lt;fct&gt;</th><th scope=col>&lt;dbl&gt;</th><th scope=col>&lt;fct&gt;</th><th scope=col>&lt;dbl&gt;</th><th scope=col>&lt;dbl&gt;</th><th scope=col>&lt;dbl&gt;</th><th scope=col>&lt;dbl&gt;</th><th scope=col>&lt;dbl&gt;</th></tr>\n",
       "</thead>\n",
       "<tbody>\n",
       "\t<tr><td>0</td><td>63</td><td>1</td><td> 0</td><td>0</td><td>205</td><td>138</td><td>33.11</td><td>60</td><td> 85</td></tr>\n",
       "\t<tr><td>0</td><td>45</td><td>2</td><td>20</td><td>0</td><td>313</td><td>100</td><td>21.68</td><td>79</td><td> 78</td></tr>\n",
       "\t<tr><td>1</td><td>43</td><td>1</td><td>30</td><td>0</td><td>225</td><td>162</td><td>23.61</td><td>93</td><td> 88</td></tr>\n",
       "\t<tr><td>1</td><td>41</td><td>2</td><td> 0</td><td>0</td><td>195</td><td>139</td><td>26.88</td><td>85</td><td> 65</td></tr>\n",
       "\t<tr><td>0</td><td>52</td><td>1</td><td> 0</td><td>0</td><td>234</td><td>148</td><td>34.17</td><td>70</td><td>113</td></tr>\n",
       "\t<tr><td>1</td><td>35</td><td>2</td><td>20</td><td>0</td><td>225</td><td>132</td><td>26.09</td><td>73</td><td> 83</td></tr>\n",
       "</tbody>\n",
       "</table>\n"
      ],
      "text/latex": [
       "A tibble: 6 × 10\n",
       "\\begin{tabular}{llllllllll}\n",
       " sex & age & education & cigsPerDay & diabetes & totChol & sysBP & BMI & heartRate & glucose\\\\\n",
       " <fct> & <dbl> & <fct> & <dbl> & <fct> & <dbl> & <dbl> & <dbl> & <dbl> & <dbl>\\\\\n",
       "\\hline\n",
       "\t 0 & 63 & 1 &  0 & 0 & 205 & 138 & 33.11 & 60 &  85\\\\\n",
       "\t 0 & 45 & 2 & 20 & 0 & 313 & 100 & 21.68 & 79 &  78\\\\\n",
       "\t 1 & 43 & 1 & 30 & 0 & 225 & 162 & 23.61 & 93 &  88\\\\\n",
       "\t 1 & 41 & 2 &  0 & 0 & 195 & 139 & 26.88 & 85 &  65\\\\\n",
       "\t 0 & 52 & 1 &  0 & 0 & 234 & 148 & 34.17 & 70 & 113\\\\\n",
       "\t 1 & 35 & 2 & 20 & 0 & 225 & 132 & 26.09 & 73 &  83\\\\\n",
       "\\end{tabular}\n"
      ],
      "text/markdown": [
       "\n",
       "A tibble: 6 × 10\n",
       "\n",
       "| sex &lt;fct&gt; | age &lt;dbl&gt; | education &lt;fct&gt; | cigsPerDay &lt;dbl&gt; | diabetes &lt;fct&gt; | totChol &lt;dbl&gt; | sysBP &lt;dbl&gt; | BMI &lt;dbl&gt; | heartRate &lt;dbl&gt; | glucose &lt;dbl&gt; |\n",
       "|---|---|---|---|---|---|---|---|---|---|\n",
       "| 0 | 63 | 1 |  0 | 0 | 205 | 138 | 33.11 | 60 |  85 |\n",
       "| 0 | 45 | 2 | 20 | 0 | 313 | 100 | 21.68 | 79 |  78 |\n",
       "| 1 | 43 | 1 | 30 | 0 | 225 | 162 | 23.61 | 93 |  88 |\n",
       "| 1 | 41 | 2 |  0 | 0 | 195 | 139 | 26.88 | 85 |  65 |\n",
       "| 0 | 52 | 1 |  0 | 0 | 234 | 148 | 34.17 | 70 | 113 |\n",
       "| 1 | 35 | 2 | 20 | 0 | 225 | 132 | 26.09 | 73 |  83 |\n",
       "\n"
      ],
      "text/plain": [
       "  sex age education cigsPerDay diabetes totChol sysBP BMI   heartRate glucose\n",
       "1 0   63  1          0         0        205     138   33.11 60         85    \n",
       "2 0   45  2         20         0        313     100   21.68 79         78    \n",
       "3 1   43  1         30         0        225     162   23.61 93         88    \n",
       "4 1   41  2          0         0        195     139   26.88 85         65    \n",
       "5 0   52  1          0         0        234     148   34.17 70        113    \n",
       "6 1   35  2         20         0        225     132   26.09 73         83    "
      ]
     },
     "metadata": {},
     "output_type": "display_data"
    }
   ],
   "source": [
    "library(tidymodels)\n",
    "\n",
    "set.seed(246) # for reproducibility\n",
    "\n",
    "data_subset_split <- initial_split(data_subset, prop = 3/4) # 3/4 training data\n",
    "data_subset_train <- training(data_subset_split)\n",
    "data_subset_test <- testing(data_subset_split)\n",
    "\n",
    "head(data_subset_train)\n",
    "head(data_subset_test)"
   ]
  },
  {
   "cell_type": "markdown",
   "metadata": {},
   "source": [
    "We will build different models with combinations of covariates on the training dataset `data_subset_train`. Note that the `.` notation is a short form for all covariates"
   ]
  },
  {
   "cell_type": "code",
   "execution_count": 4,
   "metadata": {},
   "outputs": [],
   "source": [
    "model1 <- lm(sysBP ~ age, data_subset_train)\n",
    "model2 <- lm(sysBP ~ age + sex, data_subset_train)\n",
    "model3 <- lm(sysBP ~ age + sex + education, data_subset_train)\n",
    "model4 <- lm(sysBP ~ age + sex + education + glucose, data_subset_train)\n",
    "model5 <- lm(sysBP ~ age + sex + glucose, data_subset_train)\n",
    "model6 <- lm(sysBP ~ age + sex + glucose + BMI, data_subset_train)\n",
    "model7 <- lm(sysBP ~ age + sex + totChol + BMI + heartRate + glucose, data_subset_train)\n",
    "model8 <- lm(sysBP ~ ., data_subset_train)"
   ]
  },
  {
   "cell_type": "markdown",
   "metadata": {},
   "source": [
    "We can look at the $R^2$ fit for the models by extracting it from the fitted model\n",
    "- `summary(model)$r.squared`"
   ]
  },
  {
   "cell_type": "code",
   "execution_count": 5,
   "metadata": {
    "jupyter": {
     "source_hidden": true
    },
    "tags": []
   },
   "outputs": [
    {
     "data": {
      "text/html": [
       "<table class=\"dataframe\">\n",
       "<caption>A tibble: 8 × 3</caption>\n",
       "<thead>\n",
       "\t<tr><th scope=col>model</th><th scope=col>formula</th><th scope=col>r2</th></tr>\n",
       "\t<tr><th scope=col>&lt;fct&gt;</th><th scope=col>&lt;chr&gt;</th><th scope=col>&lt;dbl&gt;</th></tr>\n",
       "</thead>\n",
       "<tbody>\n",
       "\t<tr><td>1</td><td>sysBP ~ age                                            </td><td>0.1413048</td></tr>\n",
       "\t<tr><td>2</td><td>sysBP ~ age + sex                                      </td><td>0.1414696</td></tr>\n",
       "\t<tr><td>3</td><td>sysBP ~ age + sex + education                          </td><td>0.1448863</td></tr>\n",
       "\t<tr><td>4</td><td>sysBP ~ age + sex + education + glucose                </td><td>0.1520279</td></tr>\n",
       "\t<tr><td>5</td><td>sysBP ~ age + sex + glucose                            </td><td>0.1487736</td></tr>\n",
       "\t<tr><td>6</td><td>sysBP ~ age + sex + glucose + BMI                      </td><td>0.2274826</td></tr>\n",
       "\t<tr><td>7</td><td>sysBP ~ age + sex + totChol + BMI + heartRate + glucose</td><td>0.2593385</td></tr>\n",
       "\t<tr><td>8</td><td>sysBP ~ .                                              </td><td>0.2611845</td></tr>\n",
       "</tbody>\n",
       "</table>\n"
      ],
      "text/latex": [
       "A tibble: 8 × 3\n",
       "\\begin{tabular}{lll}\n",
       " model & formula & r2\\\\\n",
       " <fct> & <chr> & <dbl>\\\\\n",
       "\\hline\n",
       "\t 1 & sysBP \\textasciitilde{} age                                             & 0.1413048\\\\\n",
       "\t 2 & sysBP \\textasciitilde{} age + sex                                       & 0.1414696\\\\\n",
       "\t 3 & sysBP \\textasciitilde{} age + sex + education                           & 0.1448863\\\\\n",
       "\t 4 & sysBP \\textasciitilde{} age + sex + education + glucose                 & 0.1520279\\\\\n",
       "\t 5 & sysBP \\textasciitilde{} age + sex + glucose                             & 0.1487736\\\\\n",
       "\t 6 & sysBP \\textasciitilde{} age + sex + glucose + BMI                       & 0.2274826\\\\\n",
       "\t 7 & sysBP \\textasciitilde{} age + sex + totChol + BMI + heartRate + glucose & 0.2593385\\\\\n",
       "\t 8 & sysBP \\textasciitilde{} .                                               & 0.2611845\\\\\n",
       "\\end{tabular}\n"
      ],
      "text/markdown": [
       "\n",
       "A tibble: 8 × 3\n",
       "\n",
       "| model &lt;fct&gt; | formula &lt;chr&gt; | r2 &lt;dbl&gt; |\n",
       "|---|---|---|\n",
       "| 1 | sysBP ~ age                                             | 0.1413048 |\n",
       "| 2 | sysBP ~ age + sex                                       | 0.1414696 |\n",
       "| 3 | sysBP ~ age + sex + education                           | 0.1448863 |\n",
       "| 4 | sysBP ~ age + sex + education + glucose                 | 0.1520279 |\n",
       "| 5 | sysBP ~ age + sex + glucose                             | 0.1487736 |\n",
       "| 6 | sysBP ~ age + sex + glucose + BMI                       | 0.2274826 |\n",
       "| 7 | sysBP ~ age + sex + totChol + BMI + heartRate + glucose | 0.2593385 |\n",
       "| 8 | sysBP ~ .                                               | 0.2611845 |\n",
       "\n"
      ],
      "text/plain": [
       "  model formula                                                 r2       \n",
       "1 1     sysBP ~ age                                             0.1413048\n",
       "2 2     sysBP ~ age + sex                                       0.1414696\n",
       "3 3     sysBP ~ age + sex + education                           0.1448863\n",
       "4 4     sysBP ~ age + sex + education + glucose                 0.1520279\n",
       "5 5     sysBP ~ age + sex + glucose                             0.1487736\n",
       "6 6     sysBP ~ age + sex + glucose + BMI                       0.2274826\n",
       "7 7     sysBP ~ age + sex + totChol + BMI + heartRate + glucose 0.2593385\n",
       "8 8     sysBP ~ .                                               0.2611845"
      ]
     },
     "metadata": {},
     "output_type": "display_data"
    }
   ],
   "source": [
    "# collect r2 values for all 8 models\n",
    "\n",
    "r2_fit <- tibble(\n",
    "            model=1:8,\n",
    "            formula=c(model1$call$formula, # extract formula\n",
    "                      model2$call$formula,\n",
    "                      model3$call$formula,\n",
    "                      model4$call$formula,\n",
    "                      model5$call$formula,\n",
    "                      model6$call$formula,\n",
    "                      model7$call$formula,\n",
    "                      model8$call$formula),\n",
    "            r2=c(summary(model1)$r.squared, # extract r2\n",
    "                 summary(model2)$r.squared,\n",
    "                 summary(model3)$r.squared,\n",
    "                 summary(model4)$r.squared,\n",
    "                 summary(model5)$r.squared,\n",
    "                 summary(model6)$r.squared,\n",
    "                 summary(model7)$r.squared,\n",
    "                 summary(model8)$r.squared)\n",
    "             ) %>%\n",
    "           mutate(model=as.factor(model),\n",
    "                  formula=as.character(formula))\n",
    "\n",
    "r2_fit"
   ]
  },
  {
   "cell_type": "code",
   "execution_count": 6,
   "metadata": {
    "jupyter": {
     "source_hidden": true
    },
    "tags": []
   },
   "outputs": [
    {
     "data": {
      "image/png": "[encoded data removed]",
      "text/plain": [
       "plot without title"
      ]
     },
     "metadata": {
      "image/png": {
       "height": 300,
       "width": 300
      }
     },
     "output_type": "display_data"
    }
   ],
   "source": [
    "# adjust size of the image output\n",
    "options(repr.plot.width=5, repr.plot.height=5)\n",
    "\n",
    "r2_fit %>% ggplot(aes(x=model, y=r2, group=1)) +\n",
    "           geom_line() +\n",
    "           geom_point() +\n",
    "           theme_grey(base_size=16)"
   ]
  },
  {
   "cell_type": "markdown",
   "metadata": {},
   "source": [
    "It appears that the model with all the covariates `(sysBP ~ .)` would give the best fit based on the highest $R^2$ value. \n",
    "- The $R^2$ shows that the model explains at best ~20% of the variation in the dataset\n",
    "- The highest $R^2$ does not mean that the model has the best ability to predict on  out-of-sample data"
   ]
  },
  {
   "cell_type": "markdown",
   "metadata": {},
   "source": [
    "---\n",
    "### Predicting on hold-out test dataset\n",
    "\n",
    "To evaluate whether the model is able to predict using out-of-sample data, we will use the test dataset `data_subset_test` and use the `predict` function to calculate the predicted `sysBP` values from the covariates in the test data\n",
    "- `predict(<model>, <test dataset>)`"
   ]
  },
  {
   "cell_type": "code",
   "execution_count": 7,
   "metadata": {},
   "outputs": [],
   "source": [
    "predict1 <- predict(model1, data_subset_test)\n",
    "predict2 <- predict(model2, data_subset_test)\n",
    "predict3 <- predict(model3, data_subset_test)\n",
    "predict4 <- predict(model4, data_subset_test)\n",
    "predict5 <- predict(model5, data_subset_test)\n",
    "predict6 <- predict(model6, data_subset_test)\n",
    "predict7 <- predict(model7, data_subset_test)\n",
    "predict8 <- predict(model8, data_subset_test)"
   ]
  },
  {
   "cell_type": "markdown",
   "metadata": {},
   "source": [
    "We will look at a sample of one of the prediction sets `predict1`"
   ]
  },
  {
   "cell_type": "code",
   "execution_count": 8,
   "metadata": {
    "jupyter": {
     "source_hidden": true
    },
    "tags": []
   },
   "outputs": [
    {
     "data": {
      "text/html": [
       "<table class=\"dataframe\">\n",
       "<caption>A tibble: 6 × 11</caption>\n",
       "<thead>\n",
       "\t<tr><th scope=col>sex</th><th scope=col>age</th><th scope=col>education</th><th scope=col>cigsPerDay</th><th scope=col>diabetes</th><th scope=col>totChol</th><th scope=col>sysBP</th><th scope=col>BMI</th><th scope=col>heartRate</th><th scope=col>glucose</th><th scope=col>predict</th></tr>\n",
       "\t<tr><th scope=col>&lt;fct&gt;</th><th scope=col>&lt;dbl&gt;</th><th scope=col>&lt;fct&gt;</th><th scope=col>&lt;dbl&gt;</th><th scope=col>&lt;fct&gt;</th><th scope=col>&lt;dbl&gt;</th><th scope=col>&lt;dbl&gt;</th><th scope=col>&lt;dbl&gt;</th><th scope=col>&lt;dbl&gt;</th><th scope=col>&lt;dbl&gt;</th><th scope=col>&lt;dbl&gt;</th></tr>\n",
       "</thead>\n",
       "<tbody>\n",
       "\t<tr><td>0</td><td>63</td><td>1</td><td> 0</td><td>0</td><td>205</td><td>138</td><td>33.11</td><td>60</td><td> 85</td><td>144.0469</td></tr>\n",
       "\t<tr><td>0</td><td>45</td><td>2</td><td>20</td><td>0</td><td>313</td><td>100</td><td>21.68</td><td>79</td><td> 78</td><td>127.3206</td></tr>\n",
       "\t<tr><td>1</td><td>43</td><td>1</td><td>30</td><td>0</td><td>225</td><td>162</td><td>23.61</td><td>93</td><td> 88</td><td>125.4621</td></tr>\n",
       "\t<tr><td>1</td><td>41</td><td>2</td><td> 0</td><td>0</td><td>195</td><td>139</td><td>26.88</td><td>85</td><td> 65</td><td>123.6037</td></tr>\n",
       "\t<tr><td>0</td><td>52</td><td>1</td><td> 0</td><td>0</td><td>234</td><td>148</td><td>34.17</td><td>70</td><td>113</td><td>133.8253</td></tr>\n",
       "\t<tr><td>1</td><td>35</td><td>2</td><td>20</td><td>0</td><td>225</td><td>132</td><td>26.09</td><td>73</td><td> 83</td><td>118.0282</td></tr>\n",
       "</tbody>\n",
       "</table>\n"
      ],
      "text/latex": [
       "A tibble: 6 × 11\n",
       "\\begin{tabular}{lllllllllll}\n",
       " sex & age & education & cigsPerDay & diabetes & totChol & sysBP & BMI & heartRate & glucose & predict\\\\\n",
       " <fct> & <dbl> & <fct> & <dbl> & <fct> & <dbl> & <dbl> & <dbl> & <dbl> & <dbl> & <dbl>\\\\\n",
       "\\hline\n",
       "\t 0 & 63 & 1 &  0 & 0 & 205 & 138 & 33.11 & 60 &  85 & 144.0469\\\\\n",
       "\t 0 & 45 & 2 & 20 & 0 & 313 & 100 & 21.68 & 79 &  78 & 127.3206\\\\\n",
       "\t 1 & 43 & 1 & 30 & 0 & 225 & 162 & 23.61 & 93 &  88 & 125.4621\\\\\n",
       "\t 1 & 41 & 2 &  0 & 0 & 195 & 139 & 26.88 & 85 &  65 & 123.6037\\\\\n",
       "\t 0 & 52 & 1 &  0 & 0 & 234 & 148 & 34.17 & 70 & 113 & 133.8253\\\\\n",
       "\t 1 & 35 & 2 & 20 & 0 & 225 & 132 & 26.09 & 73 &  83 & 118.0282\\\\\n",
       "\\end{tabular}\n"
      ],
      "text/markdown": [
       "\n",
       "A tibble: 6 × 11\n",
       "\n",
       "| sex &lt;fct&gt; | age &lt;dbl&gt; | education &lt;fct&gt; | cigsPerDay &lt;dbl&gt; | diabetes &lt;fct&gt; | totChol &lt;dbl&gt; | sysBP &lt;dbl&gt; | BMI &lt;dbl&gt; | heartRate &lt;dbl&gt; | glucose &lt;dbl&gt; | predict &lt;dbl&gt; |\n",
       "|---|---|---|---|---|---|---|---|---|---|---|\n",
       "| 0 | 63 | 1 |  0 | 0 | 205 | 138 | 33.11 | 60 |  85 | 144.0469 |\n",
       "| 0 | 45 | 2 | 20 | 0 | 313 | 100 | 21.68 | 79 |  78 | 127.3206 |\n",
       "| 1 | 43 | 1 | 30 | 0 | 225 | 162 | 23.61 | 93 |  88 | 125.4621 |\n",
       "| 1 | 41 | 2 |  0 | 0 | 195 | 139 | 26.88 | 85 |  65 | 123.6037 |\n",
       "| 0 | 52 | 1 |  0 | 0 | 234 | 148 | 34.17 | 70 | 113 | 133.8253 |\n",
       "| 1 | 35 | 2 | 20 | 0 | 225 | 132 | 26.09 | 73 |  83 | 118.0282 |\n",
       "\n"
      ],
      "text/plain": [
       "  sex age education cigsPerDay diabetes totChol sysBP BMI   heartRate glucose\n",
       "1 0   63  1          0         0        205     138   33.11 60         85    \n",
       "2 0   45  2         20         0        313     100   21.68 79         78    \n",
       "3 1   43  1         30         0        225     162   23.61 93         88    \n",
       "4 1   41  2          0         0        195     139   26.88 85         65    \n",
       "5 0   52  1          0         0        234     148   34.17 70        113    \n",
       "6 1   35  2         20         0        225     132   26.09 73         83    \n",
       "  predict \n",
       "1 144.0469\n",
       "2 127.3206\n",
       "3 125.4621\n",
       "4 123.6037\n",
       "5 133.8253\n",
       "6 118.0282"
      ]
     },
     "metadata": {},
     "output_type": "display_data"
    }
   ],
   "source": [
    "tibble(data_subset_test, predict=predict1) %>% head()"
   ]
  },
  {
   "cell_type": "markdown",
   "metadata": {},
   "source": [
    "To gauge how close the predictions are to the actual values in the test dataset, we can calculate the root mean squared error (RMSE)\n",
    "\n",
    "$$\n",
    "\\mathit{RMSE} = \\sqrt{(\\mathit{predicted}-\\mathit{observed})^2}\n",
    "$$\n",
    "\n",
    "We can use the `RMSE` function from the `caret` library\n",
    "- `RMSE(<predict data>, <observed data>` where the observed data is the `sysBP` variable in `data_subset_test`"
   ]
  },
  {
   "cell_type": "code",
   "execution_count": 9,
   "metadata": {
    "jupyter": {
     "source_hidden": true
    },
    "tags": []
   },
   "outputs": [
    {
     "name": "stderr",
     "output_type": "stream",
     "text": [
      "Loading required package: lattice\n",
      "\n",
      "\n",
      "Attaching package: ‘caret’\n",
      "\n",
      "\n",
      "The following objects are masked from ‘package:yardstick’:\n",
      "\n",
      "    precision, recall, sensitivity, specificity\n",
      "\n",
      "\n",
      "The following object is masked from ‘package:purrr’:\n",
      "\n",
      "    lift\n",
      "\n",
      "\n"
     ]
    },
    {
     "data": {
      "text/html": [
       "<table class=\"dataframe\">\n",
       "<caption>A tibble: 8 × 3</caption>\n",
       "<thead>\n",
       "\t<tr><th scope=col>model</th><th scope=col>formula</th><th scope=col>RMSE</th></tr>\n",
       "\t<tr><th scope=col>&lt;fct&gt;</th><th scope=col>&lt;chr&gt;</th><th scope=col>&lt;dbl&gt;</th></tr>\n",
       "</thead>\n",
       "<tbody>\n",
       "\t<tr><td>1</td><td>sysBP ~ age                                            </td><td>19.92564</td></tr>\n",
       "\t<tr><td>2</td><td>sysBP ~ age + sex                                      </td><td>19.90763</td></tr>\n",
       "\t<tr><td>3</td><td>sysBP ~ age + sex + education                          </td><td>19.83316</td></tr>\n",
       "\t<tr><td>4</td><td>sysBP ~ age + sex + education + glucose                </td><td>19.85367</td></tr>\n",
       "\t<tr><td>5</td><td>sysBP ~ age + sex + glucose                            </td><td>19.92666</td></tr>\n",
       "\t<tr><td>6</td><td>sysBP ~ age + sex + glucose + BMI                      </td><td>18.96923</td></tr>\n",
       "\t<tr><td>7</td><td>sysBP ~ age + sex + totChol + BMI + heartRate + glucose</td><td>18.72770</td></tr>\n",
       "\t<tr><td>8</td><td>sysBP ~ .                                              </td><td>18.74517</td></tr>\n",
       "</tbody>\n",
       "</table>\n"
      ],
      "text/latex": [
       "A tibble: 8 × 3\n",
       "\\begin{tabular}{lll}\n",
       " model & formula & RMSE\\\\\n",
       " <fct> & <chr> & <dbl>\\\\\n",
       "\\hline\n",
       "\t 1 & sysBP \\textasciitilde{} age                                             & 19.92564\\\\\n",
       "\t 2 & sysBP \\textasciitilde{} age + sex                                       & 19.90763\\\\\n",
       "\t 3 & sysBP \\textasciitilde{} age + sex + education                           & 19.83316\\\\\n",
       "\t 4 & sysBP \\textasciitilde{} age + sex + education + glucose                 & 19.85367\\\\\n",
       "\t 5 & sysBP \\textasciitilde{} age + sex + glucose                             & 19.92666\\\\\n",
       "\t 6 & sysBP \\textasciitilde{} age + sex + glucose + BMI                       & 18.96923\\\\\n",
       "\t 7 & sysBP \\textasciitilde{} age + sex + totChol + BMI + heartRate + glucose & 18.72770\\\\\n",
       "\t 8 & sysBP \\textasciitilde{} .                                               & 18.74517\\\\\n",
       "\\end{tabular}\n"
      ],
      "text/markdown": [
       "\n",
       "A tibble: 8 × 3\n",
       "\n",
       "| model &lt;fct&gt; | formula &lt;chr&gt; | RMSE &lt;dbl&gt; |\n",
       "|---|---|---|\n",
       "| 1 | sysBP ~ age                                             | 19.92564 |\n",
       "| 2 | sysBP ~ age + sex                                       | 19.90763 |\n",
       "| 3 | sysBP ~ age + sex + education                           | 19.83316 |\n",
       "| 4 | sysBP ~ age + sex + education + glucose                 | 19.85367 |\n",
       "| 5 | sysBP ~ age + sex + glucose                             | 19.92666 |\n",
       "| 6 | sysBP ~ age + sex + glucose + BMI                       | 18.96923 |\n",
       "| 7 | sysBP ~ age + sex + totChol + BMI + heartRate + glucose | 18.72770 |\n",
       "| 8 | sysBP ~ .                                               | 18.74517 |\n",
       "\n"
      ],
      "text/plain": [
       "  model formula                                                 RMSE    \n",
       "1 1     sysBP ~ age                                             19.92564\n",
       "2 2     sysBP ~ age + sex                                       19.90763\n",
       "3 3     sysBP ~ age + sex + education                           19.83316\n",
       "4 4     sysBP ~ age + sex + education + glucose                 19.85367\n",
       "5 5     sysBP ~ age + sex + glucose                             19.92666\n",
       "6 6     sysBP ~ age + sex + glucose + BMI                       18.96923\n",
       "7 7     sysBP ~ age + sex + totChol + BMI + heartRate + glucose 18.72770\n",
       "8 8     sysBP ~ .                                               18.74517"
      ]
     },
     "metadata": {},
     "output_type": "display_data"
    }
   ],
   "source": [
    "library(caret)\n",
    "\n",
    "# collect RMSE results for all 8 models from test dataset\n",
    "\n",
    "test_fit <- tibble(model=1:8,\n",
    "                  formula=c(model1$call$formula, # extract formula\n",
    "                            model2$call$formula,\n",
    "                            model3$call$formula,\n",
    "                            model4$call$formula,\n",
    "                            model5$call$formula,\n",
    "                            model6$call$formula,\n",
    "                            model7$call$formula,\n",
    "                            model8$call$formula),\n",
    "                   RMSE=c(RMSE(predict1, data_subset_test$sysBP), # extract RMSE\n",
    "                          RMSE(predict2, data_subset_test$sysBP),\n",
    "                          RMSE(predict3, data_subset_test$sysBP),\n",
    "                          RMSE(predict4, data_subset_test$sysBP),\n",
    "                          RMSE(predict5, data_subset_test$sysBP),\n",
    "                          RMSE(predict6, data_subset_test$sysBP),\n",
    "                          RMSE(predict7, data_subset_test$sysBP),\n",
    "                          RMSE(predict8, data_subset_test$sysBP))) %>%\n",
    "           mutate(model=as.factor(model),\n",
    "                  formula=as.character(formula))\n",
    "\n",
    "test_fit"
   ]
  },
  {
   "cell_type": "code",
   "execution_count": 10,
   "metadata": {
    "jupyter": {
     "source_hidden": true
    },
    "tags": []
   },
   "outputs": [
    {
     "data": {
      "image/png": "[encoded data removed]",
      "text/plain": [
       "plot without title"
      ]
     },
     "metadata": {
      "image/png": {
       "height": 300,
       "width": 300
      }
     },
     "output_type": "display_data"
    }
   ],
   "source": [
    "# adjust size of the image output\n",
    "options(repr.plot.width=5, repr.plot.height=5)\n",
    "\n",
    "test_fit %>% ggplot(aes(x=model, y=RMSE, group=1)) +\n",
    "               geom_line() +\n",
    "               geom_point() +\n",
    "               theme_grey(base_size=16)"
   ]
  },
  {
   "cell_type": "markdown",
   "metadata": {},
   "source": [
    "We can see that `model7` gives the lowest RMSE, indicating that it has the lowest error when predicting the sysBP on the hold-out test dataset that was not used for building the model. \n",
    "- It suggests that `model7` has higher generalizability on other unseen datasets\n",
    "- The model with the best fit $R^2$ (`model8`) is not necessarily the one with the lowest prediction error"
   ]
  },
  {
   "cell_type": "markdown",
   "metadata": {},
   "source": [
    "#### Problem of overfitting\n",
    "\n",
    "As you can see, adding more covariates may not necessarily give the best prediction accuracy for out-of-sample data\n",
    "- The addition of covariates will increase the model fit for the training data\n",
    "- However, the model may overfit (i.e. learn patterns that are specific for the training data)\n",
    "- Overfitting will reduce the ability for the model to predict well on new unseen samples\n",
    "\n",
    "![predict_overfitting.png](images/predict_overfitting.png)"
   ]
  },
  {
   "cell_type": "markdown",
   "metadata": {},
   "source": [
    "---\n",
    "### Gauging out-of-sample performance with data at hand\n",
    "\n",
    "#### 1. K-fold cross validation\n",
    "\n",
    "In some cases, we may not have enough data at hand to be able to split them into training and test datasets in order to evaluate which model would have the best predictive performance\n",
    "\n",
    "We can gauge out-of-sample prediction performance by using **all** the data at hand `data_subset` by using a cross-validation approach\n",
    "- The dataset is shuffled randomly and split into $k$ groups\n",
    "- For each of the $k^\\mathit{th}$ group\n",
    "  - Use the $k^\\mathit{th}$ group as the hold-out test dataset\n",
    "  - Use the remaining data of $k - 1$ groups as the training dataset\n",
    "  - Fit the model and use it to predict the $k^\\mathit{th}$ test dataset\n",
    "  - Evaluate the prediction error \n",
    "- Evaluate the average prediction error for the $k$ groups for the model\n",
    "\n",
    "![predict_kfold.png](images/predict_kfold.png)\n",
    "\n",
    "To do this, we will use the `trainControl` and `train` functions fro the `caret` library\n",
    "- We specify the cross validation and number of $k$ folds: `trainControl(method = \"cv\", number = <k-folds>)`\n",
    "- We train the cross validation dataset: `train(<formula>, dataset, method=\"lm\", trControl = <trainControl specification>)`"
   ]
  },
  {
   "cell_type": "code",
   "execution_count": 11,
   "metadata": {
    "tags": []
   },
   "outputs": [],
   "source": [
    "set.seed(246) # for reproducibility\n",
    "\n",
    "# set the cross validation (10-fold)\n",
    "\n",
    "train.control <- trainControl(method = \"cv\", number = 10)\n",
    "\n",
    "# train the different models\n",
    "\n",
    "model1_cv <- train(sysBP ~ age, \n",
    "                   data = data_subset, \n",
    "                   method = \"lm\",\n",
    "                   trControl = train.control)\n",
    "model2_cv <- train(sysBP ~ age + sex, \n",
    "                   data = data_subset, \n",
    "                   method = \"lm\",\n",
    "                   trControl = train.control)\n",
    "model3_cv <- train(sysBP ~ age + sex + education, \n",
    "                   data = data_subset, \n",
    "                   method = \"lm\",\n",
    "                   trControl = train.control)\n",
    "model4_cv <- train(sysBP ~ age + sex + education + glucose, \n",
    "                   data = data_subset, \n",
    "                   method = \"lm\",\n",
    "                   trControl = train.control)\n",
    "model5_cv <- train(sysBP ~ age + sex + glucose, \n",
    "                   data = data_subset, \n",
    "                   method = \"lm\",\n",
    "                   trControl = train.control)\n",
    "model6_cv <- train(sysBP ~ age + sex + glucose + BMI, \n",
    "                   data = data_subset, \n",
    "                   method = \"lm\",\n",
    "                   trControl = train.control)\n",
    "model7_cv <- train(sysBP ~ age + sex + totChol + BMI + heartRate + glucose, \n",
    "                   data = data_subset, \n",
    "                   method = \"lm\",\n",
    "                   trControl = train.control)\n",
    "model8_cv <- train(sysBP ~ ., \n",
    "                   data = data_subset, \n",
    "                   method = \"lm\",\n",
    "                   trControl = train.control)"
   ]
  },
  {
   "cell_type": "markdown",
   "metadata": {},
   "source": [
    "We can check the prediction error by looking at the `RMSE`"
   ]
  },
  {
   "cell_type": "code",
   "execution_count": 12,
   "metadata": {
    "jupyter": {
     "source_hidden": true
    },
    "tags": []
   },
   "outputs": [
    {
     "data": {
      "text/html": [
       "<table class=\"dataframe\">\n",
       "<caption>A tibble: 8 × 3</caption>\n",
       "<thead>\n",
       "\t<tr><th scope=col>model</th><th scope=col>formula</th><th scope=col>RMSE</th></tr>\n",
       "\t<tr><th scope=col>&lt;fct&gt;</th><th scope=col>&lt;chr&gt;</th><th scope=col>&lt;dbl&gt;</th></tr>\n",
       "</thead>\n",
       "<tbody>\n",
       "\t<tr><td>1</td><td>sysBP ~ age                                            </td><td>19.57238</td></tr>\n",
       "\t<tr><td>2</td><td>sysBP ~ age + sex                                      </td><td>19.55591</td></tr>\n",
       "\t<tr><td>3</td><td>sysBP ~ age + sex + education                          </td><td>19.52496</td></tr>\n",
       "\t<tr><td>4</td><td>sysBP ~ age + sex + education + glucose                </td><td>19.48790</td></tr>\n",
       "\t<tr><td>5</td><td>sysBP ~ age + sex + glucose                            </td><td>19.51754</td></tr>\n",
       "\t<tr><td>6</td><td>sysBP ~ age + sex + glucose + BMI                      </td><td>18.60048</td></tr>\n",
       "\t<tr><td>7</td><td>sysBP ~ age + sex + totChol + BMI + heartRate + glucose</td><td>18.24255</td></tr>\n",
       "\t<tr><td>8</td><td>sysBP ~ .                                              </td><td>18.25071</td></tr>\n",
       "</tbody>\n",
       "</table>\n"
      ],
      "text/latex": [
       "A tibble: 8 × 3\n",
       "\\begin{tabular}{lll}\n",
       " model & formula & RMSE\\\\\n",
       " <fct> & <chr> & <dbl>\\\\\n",
       "\\hline\n",
       "\t 1 & sysBP \\textasciitilde{} age                                             & 19.57238\\\\\n",
       "\t 2 & sysBP \\textasciitilde{} age + sex                                       & 19.55591\\\\\n",
       "\t 3 & sysBP \\textasciitilde{} age + sex + education                           & 19.52496\\\\\n",
       "\t 4 & sysBP \\textasciitilde{} age + sex + education + glucose                 & 19.48790\\\\\n",
       "\t 5 & sysBP \\textasciitilde{} age + sex + glucose                             & 19.51754\\\\\n",
       "\t 6 & sysBP \\textasciitilde{} age + sex + glucose + BMI                       & 18.60048\\\\\n",
       "\t 7 & sysBP \\textasciitilde{} age + sex + totChol + BMI + heartRate + glucose & 18.24255\\\\\n",
       "\t 8 & sysBP \\textasciitilde{} .                                               & 18.25071\\\\\n",
       "\\end{tabular}\n"
      ],
      "text/markdown": [
       "\n",
       "A tibble: 8 × 3\n",
       "\n",
       "| model &lt;fct&gt; | formula &lt;chr&gt; | RMSE &lt;dbl&gt; |\n",
       "|---|---|---|\n",
       "| 1 | sysBP ~ age                                             | 19.57238 |\n",
       "| 2 | sysBP ~ age + sex                                       | 19.55591 |\n",
       "| 3 | sysBP ~ age + sex + education                           | 19.52496 |\n",
       "| 4 | sysBP ~ age + sex + education + glucose                 | 19.48790 |\n",
       "| 5 | sysBP ~ age + sex + glucose                             | 19.51754 |\n",
       "| 6 | sysBP ~ age + sex + glucose + BMI                       | 18.60048 |\n",
       "| 7 | sysBP ~ age + sex + totChol + BMI + heartRate + glucose | 18.24255 |\n",
       "| 8 | sysBP ~ .                                               | 18.25071 |\n",
       "\n"
      ],
      "text/plain": [
       "  model formula                                                 RMSE    \n",
       "1 1     sysBP ~ age                                             19.57238\n",
       "2 2     sysBP ~ age + sex                                       19.55591\n",
       "3 3     sysBP ~ age + sex + education                           19.52496\n",
       "4 4     sysBP ~ age + sex + education + glucose                 19.48790\n",
       "5 5     sysBP ~ age + sex + glucose                             19.51754\n",
       "6 6     sysBP ~ age + sex + glucose + BMI                       18.60048\n",
       "7 7     sysBP ~ age + sex + totChol + BMI + heartRate + glucose 18.24255\n",
       "8 8     sysBP ~ .                                               18.25071"
      ]
     },
     "metadata": {},
     "output_type": "display_data"
    }
   ],
   "source": [
    "# collect RMSE results for all 8 models from 10-fold CV of full dataset\n",
    "\n",
    "cv_fit <- tibble(\n",
    "            model=1:8,\n",
    "            formula=c(model1_cv$call$form, # extract formula\n",
    "                      model2_cv$call$form,\n",
    "                      model3_cv$call$form,\n",
    "                      model4_cv$call$form,\n",
    "                      model5_cv$call$form,\n",
    "                      model6_cv$call$form,\n",
    "                      model7_cv$call$form,\n",
    "                      model8_cv$call$form),\n",
    "             RMSE=c(model1_cv$results$RMSE, # extract RMSE\n",
    "                    model2_cv$results$RMSE,\n",
    "                    model3_cv$results$RMSE,\n",
    "                    model4_cv$results$RMSE,\n",
    "                    model5_cv$results$RMSE,\n",
    "                    model6_cv$results$RMSE,\n",
    "                    model7_cv$results$RMSE,\n",
    "                    model8_cv$results$RMSE)\n",
    "           ) %>%\n",
    "           mutate(model=as.factor(model),\n",
    "                  formula=as.character(formula))\n",
    "\n",
    "cv_fit"
   ]
  },
  {
   "cell_type": "code",
   "execution_count": 13,
   "metadata": {
    "jupyter": {
     "source_hidden": true
    },
    "tags": []
   },
   "outputs": [
    {
     "data": {
      "image/png": "[encoded data removed]",
      "text/plain": [
       "plot without title"
      ]
     },
     "metadata": {
      "image/png": {
       "height": 300,
       "width": 300
      }
     },
     "output_type": "display_data"
    }
   ],
   "source": [
    "# adjust size of the image output\n",
    "options(repr.plot.width=5, repr.plot.height=5)\n",
    "\n",
    "cv_fit %>% ggplot(aes(x=model, y=RMSE, group=1)) +\n",
    "             geom_line() +\n",
    "             geom_point() +\n",
    "             theme_grey(base_size=16)"
   ]
  },
  {
   "cell_type": "markdown",
   "metadata": {},
   "source": [
    "We can see that `model7` has the lowest RMSE, consistent with our previous conclusion using the one-time training/test split dataset"
   ]
  },
  {
   "cell_type": "markdown",
   "metadata": {},
   "source": [
    "#### 2. AIC criterion\n",
    "\n",
    "The cross validation can be done for different number of groups and if the number of folds is maximum $k = n - 1$, where $n$ is the number of samples, this is known as leave-one-out cross validation (LOOCV)\n",
    "\n",
    "![predict_loocv.png](images/predict_loocv.png)\n",
    "\n",
    "As $n \\to \\infty$, the estimate of the LOOCV prediction error is given by the Akaike information criterion (AIC)\n",
    "\n",
    "$$\n",
    "\\mathit{AIC} \\approx n\\log\\left(\\frac{RSS}{n}\\right) + 2p\n",
    "$$\n",
    "\n",
    "$$\n",
    "\\begin{align}\n",
    "\\text{where } n &= \\text{number of samples}\\\\\n",
    "p &= \\text{number of parameters}\\\\\n",
    "RSS &= \\text{residual sum of squares}\n",
    "\\end{align}\n",
    "$$\n",
    "\n",
    "We can obtain the AIC score using the `AIC` function\n",
    "- `AIC(model)`"
   ]
  },
  {
   "cell_type": "code",
   "execution_count": 14,
   "metadata": {
    "jupyter": {
     "source_hidden": true
    },
    "tags": []
   },
   "outputs": [
    {
     "data": {
      "text/html": [
       "<table class=\"dataframe\">\n",
       "<caption>A tibble: 8 × 3</caption>\n",
       "<thead>\n",
       "\t<tr><th scope=col>model</th><th scope=col>formula</th><th scope=col>AIC</th></tr>\n",
       "\t<tr><th scope=col>&lt;fct&gt;</th><th scope=col>&lt;chr&gt;</th><th scope=col>&lt;dbl&gt;</th></tr>\n",
       "</thead>\n",
       "<tbody>\n",
       "\t<tr><td>1</td><td>sysBP ~ age                                            </td><td>23345.72</td></tr>\n",
       "\t<tr><td>2</td><td>sysBP ~ age + sex                                      </td><td>23347.21</td></tr>\n",
       "\t<tr><td>3</td><td>sysBP ~ age + sex + education                          </td><td>23342.60</td></tr>\n",
       "\t<tr><td>4</td><td>sysBP ~ age + sex + education + glucose                </td><td>23322.29</td></tr>\n",
       "\t<tr><td>5</td><td>sysBP ~ age + sex + glucose                            </td><td>23326.48</td></tr>\n",
       "\t<tr><td>6</td><td>sysBP ~ age + sex + glucose + BMI                      </td><td>23070.40</td></tr>\n",
       "\t<tr><td>7</td><td>sysBP ~ age + sex + totChol + BMI + heartRate + glucose</td><td>22962.39</td></tr>\n",
       "\t<tr><td>8</td><td>sysBP ~ .                                              </td><td>22965.75</td></tr>\n",
       "</tbody>\n",
       "</table>\n"
      ],
      "text/latex": [
       "A tibble: 8 × 3\n",
       "\\begin{tabular}{lll}\n",
       " model & formula & AIC\\\\\n",
       " <fct> & <chr> & <dbl>\\\\\n",
       "\\hline\n",
       "\t 1 & sysBP \\textasciitilde{} age                                             & 23345.72\\\\\n",
       "\t 2 & sysBP \\textasciitilde{} age + sex                                       & 23347.21\\\\\n",
       "\t 3 & sysBP \\textasciitilde{} age + sex + education                           & 23342.60\\\\\n",
       "\t 4 & sysBP \\textasciitilde{} age + sex + education + glucose                 & 23322.29\\\\\n",
       "\t 5 & sysBP \\textasciitilde{} age + sex + glucose                             & 23326.48\\\\\n",
       "\t 6 & sysBP \\textasciitilde{} age + sex + glucose + BMI                       & 23070.40\\\\\n",
       "\t 7 & sysBP \\textasciitilde{} age + sex + totChol + BMI + heartRate + glucose & 22962.39\\\\\n",
       "\t 8 & sysBP \\textasciitilde{} .                                               & 22965.75\\\\\n",
       "\\end{tabular}\n"
      ],
      "text/markdown": [
       "\n",
       "A tibble: 8 × 3\n",
       "\n",
       "| model &lt;fct&gt; | formula &lt;chr&gt; | AIC &lt;dbl&gt; |\n",
       "|---|---|---|\n",
       "| 1 | sysBP ~ age                                             | 23345.72 |\n",
       "| 2 | sysBP ~ age + sex                                       | 23347.21 |\n",
       "| 3 | sysBP ~ age + sex + education                           | 23342.60 |\n",
       "| 4 | sysBP ~ age + sex + education + glucose                 | 23322.29 |\n",
       "| 5 | sysBP ~ age + sex + glucose                             | 23326.48 |\n",
       "| 6 | sysBP ~ age + sex + glucose + BMI                       | 23070.40 |\n",
       "| 7 | sysBP ~ age + sex + totChol + BMI + heartRate + glucose | 22962.39 |\n",
       "| 8 | sysBP ~ .                                               | 22965.75 |\n",
       "\n"
      ],
      "text/plain": [
       "  model formula                                                 AIC     \n",
       "1 1     sysBP ~ age                                             23345.72\n",
       "2 2     sysBP ~ age + sex                                       23347.21\n",
       "3 3     sysBP ~ age + sex + education                           23342.60\n",
       "4 4     sysBP ~ age + sex + education + glucose                 23322.29\n",
       "5 5     sysBP ~ age + sex + glucose                             23326.48\n",
       "6 6     sysBP ~ age + sex + glucose + BMI                       23070.40\n",
       "7 7     sysBP ~ age + sex + totChol + BMI + heartRate + glucose 22962.39\n",
       "8 8     sysBP ~ .                                               22965.75"
      ]
     },
     "metadata": {},
     "output_type": "display_data"
    }
   ],
   "source": [
    "# collect AIC values from all 8 models for full dataset\n",
    "\n",
    "AIC_fit <- tibble(\n",
    "             model=1:8,\n",
    "             formula=c(model1$call$formula,\n",
    "                       model2$call$formula,\n",
    "                       model3$call$formula,\n",
    "                       model4$call$formula,\n",
    "                       model5$call$formula,\n",
    "                       model6$call$formula,\n",
    "                       model7$call$formula,\n",
    "                       model8$call$formula),\n",
    "              AIC=c(AIC(model1),\n",
    "                    AIC(model2),\n",
    "                    AIC(model3),\n",
    "                    AIC(model4),\n",
    "                    AIC(model5),\n",
    "                    AIC(model6),\n",
    "                    AIC(model7),\n",
    "                    AIC(model8))\n",
    "                 ) %>%\n",
    "            mutate(model=as.factor(model),\n",
    "                  formula=as.character(formula))\n",
    "\n",
    "AIC_fit"
   ]
  },
  {
   "cell_type": "code",
   "execution_count": 15,
   "metadata": {
    "jupyter": {
     "source_hidden": true
    },
    "tags": []
   },
   "outputs": [
    {
     "data": {
      "image/png": "[encoded data removed]",
      "text/plain": [
       "plot without title"
      ]
     },
     "metadata": {
      "image/png": {
       "height": 300,
       "width": 300
      }
     },
     "output_type": "display_data"
    }
   ],
   "source": [
    "# adjust size of the image output\n",
    "options(repr.plot.width=5, repr.plot.height=5)\n",
    "\n",
    "AIC_fit %>% ggplot(aes(x=model, y=AIC, group=1)) +\n",
    "              geom_line() +\n",
    "              geom_point() +\n",
    "              theme_grey(base_size=16)"
   ]
  },
  {
   "cell_type": "markdown",
   "metadata": {},
   "source": [
    "We can see that `model7` has the lowest AIC, indicating that it is likely to have lower out-of-sample predictive error that the other models. This is consistent with the 10-fold cross validation result as well as the prediction error from the one-time train/test dataset split"
   ]
  },
  {
   "cell_type": "markdown",
   "metadata": {},
   "source": [
    "---\n",
    "## Application: Building a predictive model and plotting\n",
    "\n",
    "Now that we have an idea how we can evaluate the predictive out-of-sample error for a model, we will consider how we search for the set of covariates for prediction. There are several strategies\n",
    "- Forward stepwise selection\n",
    "- Backward stepwise selection\n",
    "- Best subset selection\n",
    "\n",
    "For stepwise selections, covariates are added or removed one at a time based on a criteria (e.g. only covariates with significant p-values are retained). However, this is not recommended as the resultant model often has poor predictive performance\n",
    "\n",
    "### 1. Selection of covariates based on AIC\n",
    "\n",
    "Here, we will demonstrate best subset selection, whereby combinations of covariates are evaluated (in this case, using AIC). To do this we will use the `glmulti` function from the `glmulti` library\n",
    "- `level = 1` to consider only independent covariates\n",
    "- `method`: `h` for exhaustive search, `g` for genetic search\n",
    "- `report`: set to FALSE to suppress reports for each step\n",
    "- `plotty`: set to FALSE to suppress plots for each step\n",
    "\n",
    "Note that the search can be computationally intensive\n",
    "- use exhaustive search `h` if number of covariates is small\n",
    "- use genetic search `g` if number of covariates is large"
   ]
  },
  {
   "cell_type": "code",
   "execution_count": 16,
   "metadata": {
    "jupyter": {
     "source_hidden": true
    },
    "tags": []
   },
   "outputs": [
    {
     "name": "stderr",
     "output_type": "stream",
     "text": [
      "\u001b[1mRows: \u001b[22m\u001b[34m4240\u001b[39m \u001b[1mColumns: \u001b[22m\u001b[34m16\u001b[39m\n",
      "\u001b[36m──\u001b[39m \u001b[1mColumn specification\u001b[22m \u001b[36m────────────────────────────────────────────────────────\u001b[39m\n",
      "\u001b[1mDelimiter:\u001b[22m \",\"\n",
      "\u001b[32mdbl\u001b[39m (16): male, age, education, currentSmoker, cigsPerDay, BPMeds, prevalent...\n",
      "\n",
      "\u001b[36mℹ\u001b[39m Use `spec()` to retrieve the full column specification for this data.\n",
      "\u001b[36mℹ\u001b[39m Specify the column types or set `show_col_types = FALSE` to quiet this message.\n"
     ]
    }
   ],
   "source": [
    "library(tidyverse)\n",
    "\n",
    "# read data\n",
    "data<- read_csv(\"https://raw.githubusercontent.com/kennethban/dataset/main/framingham.csv\")\n",
    "\n",
    "# rename and change data types\n",
    "data <- data %>%\n",
    "        rename(sex = male) %>%\n",
    "        mutate(sex = as.factor(sex)) %>%\n",
    "        mutate(education = as.factor(education)) %>%\n",
    "        mutate(currentSmoker = as.factor(currentSmoker)) %>%\n",
    "        mutate(BPMeds = as.factor(BPMeds)) %>%\n",
    "        mutate(prevalentStroke = as.factor(prevalentStroke)) %>%\n",
    "        mutate(prevalentHyp = as.factor(prevalentHyp)) %>%\n",
    "        mutate(diabetes = as.factor(diabetes)) %>%\n",
    "        mutate(TenYearCHD = as.factor(TenYearCHD))\n",
    "\n",
    "# drop missing values\n",
    "data <- data %>% drop_na\n",
    "\n",
    "data_subset <- data %>%\n",
    "               filter(BPMeds==0) %>%\n",
    "               select(-TenYearCHD, -prevalentStroke, -prevalentHyp, -diaBP, -currentSmoker, -BPMeds)\n"
   ]
  },
  {
   "cell_type": "code",
   "execution_count": 17,
   "metadata": {},
   "outputs": [
    {
     "name": "stderr",
     "output_type": "stream",
     "text": [
      "Loading required package: rJava\n",
      "\n",
      "Loading required package: leaps\n",
      "\n"
     ]
    }
   ],
   "source": [
    "library(glmulti)\n",
    "\n",
    "models <- glmulti(sysBP ~ .,              # . = consider all covariates\n",
    "                  data=data_subset, \n",
    "                  level=1,                # consider only independent covariates\n",
    "                  method=\"h\",             # exhaustive search\n",
    "                  report=FALSE,           # suppress messages\n",
    "                  plotty=FALSE)           # suppress messages"
   ]
  },
  {
   "cell_type": "markdown",
   "metadata": {},
   "source": [
    "We can look at the models evaluated with their AIC scores using the `weightable` function"
   ]
  },
  {
   "cell_type": "code",
   "execution_count": 18,
   "metadata": {},
   "outputs": [
    {
     "data": {
      "text/html": [
       "<table class=\"dataframe\">\n",
       "<caption>A data.frame: 10 × 3</caption>\n",
       "<thead>\n",
       "\t<tr><th></th><th scope=col>model</th><th scope=col>aic</th><th scope=col>weights</th></tr>\n",
       "\t<tr><th></th><th scope=col>&lt;chr&gt;</th><th scope=col>&lt;dbl&gt;</th><th scope=col>&lt;dbl&gt;</th></tr>\n",
       "</thead>\n",
       "<tbody>\n",
       "\t<tr><th scope=row>1</th><td>sysBP ~ 1 + sex + age + totChol + BMI + heartRate + glucose                         </td><td>30677.29</td><td>0.17761325</td></tr>\n",
       "\t<tr><th scope=row>2</th><td>sysBP ~ 1 + sex + education + age + totChol + BMI + heartRate + glucose             </td><td>30678.11</td><td>0.11802975</td></tr>\n",
       "\t<tr><th scope=row>3</th><td>sysBP ~ 1 + sex + diabetes + age + totChol + BMI + heartRate + glucose              </td><td>30678.69</td><td>0.08842642</td></tr>\n",
       "\t<tr><th scope=row>4</th><td>sysBP ~ 1 + sex + age + cigsPerDay + totChol + BMI + heartRate + glucose            </td><td>30679.14</td><td>0.07059790</td></tr>\n",
       "\t<tr><th scope=row>5</th><td>sysBP ~ 1 + age + totChol + BMI + heartRate + glucose                               </td><td>30679.19</td><td>0.06884899</td></tr>\n",
       "\t<tr><th scope=row>6</th><td>sysBP ~ 1 + sex + education + diabetes + age + totChol + BMI + heartRate + glucose  </td><td>30679.48</td><td>0.05941903</td></tr>\n",
       "\t<tr><th scope=row>7</th><td>sysBP ~ 1 + education + age + totChol + BMI + heartRate + glucose                   </td><td>30679.65</td><td>0.05456322</td></tr>\n",
       "\t<tr><th scope=row>8</th><td>sysBP ~ 1 + sex + education + age + cigsPerDay + totChol + BMI + heartRate + glucose</td><td>30679.89</td><td>0.04835294</td></tr>\n",
       "\t<tr><th scope=row>9</th><td>sysBP ~ 1 + age + cigsPerDay + totChol + BMI + heartRate + glucose                  </td><td>30680.04</td><td>0.04497316</td></tr>\n",
       "\t<tr><th scope=row>10</th><td>sysBP ~ 1 + education + age + cigsPerDay + totChol + BMI + heartRate + glucose      </td><td>30680.44</td><td>0.03686890</td></tr>\n",
       "</tbody>\n",
       "</table>\n"
      ],
      "text/latex": [
       "A data.frame: 10 × 3\n",
       "\\begin{tabular}{r|lll}\n",
       "  & model & aic & weights\\\\\n",
       "  & <chr> & <dbl> & <dbl>\\\\\n",
       "\\hline\n",
       "\t1 & sysBP \\textasciitilde{} 1 + sex + age + totChol + BMI + heartRate + glucose                          & 30677.29 & 0.17761325\\\\\n",
       "\t2 & sysBP \\textasciitilde{} 1 + sex + education + age + totChol + BMI + heartRate + glucose              & 30678.11 & 0.11802975\\\\\n",
       "\t3 & sysBP \\textasciitilde{} 1 + sex + diabetes + age + totChol + BMI + heartRate + glucose               & 30678.69 & 0.08842642\\\\\n",
       "\t4 & sysBP \\textasciitilde{} 1 + sex + age + cigsPerDay + totChol + BMI + heartRate + glucose             & 30679.14 & 0.07059790\\\\\n",
       "\t5 & sysBP \\textasciitilde{} 1 + age + totChol + BMI + heartRate + glucose                                & 30679.19 & 0.06884899\\\\\n",
       "\t6 & sysBP \\textasciitilde{} 1 + sex + education + diabetes + age + totChol + BMI + heartRate + glucose   & 30679.48 & 0.05941903\\\\\n",
       "\t7 & sysBP \\textasciitilde{} 1 + education + age + totChol + BMI + heartRate + glucose                    & 30679.65 & 0.05456322\\\\\n",
       "\t8 & sysBP \\textasciitilde{} 1 + sex + education + age + cigsPerDay + totChol + BMI + heartRate + glucose & 30679.89 & 0.04835294\\\\\n",
       "\t9 & sysBP \\textasciitilde{} 1 + age + cigsPerDay + totChol + BMI + heartRate + glucose                   & 30680.04 & 0.04497316\\\\\n",
       "\t10 & sysBP \\textasciitilde{} 1 + education + age + cigsPerDay + totChol + BMI + heartRate + glucose       & 30680.44 & 0.03686890\\\\\n",
       "\\end{tabular}\n"
      ],
      "text/markdown": [
       "\n",
       "A data.frame: 10 × 3\n",
       "\n",
       "| <!--/--> | model &lt;chr&gt; | aic &lt;dbl&gt; | weights &lt;dbl&gt; |\n",
       "|---|---|---|---|\n",
       "| 1 | sysBP ~ 1 + sex + age + totChol + BMI + heartRate + glucose                          | 30677.29 | 0.17761325 |\n",
       "| 2 | sysBP ~ 1 + sex + education + age + totChol + BMI + heartRate + glucose              | 30678.11 | 0.11802975 |\n",
       "| 3 | sysBP ~ 1 + sex + diabetes + age + totChol + BMI + heartRate + glucose               | 30678.69 | 0.08842642 |\n",
       "| 4 | sysBP ~ 1 + sex + age + cigsPerDay + totChol + BMI + heartRate + glucose             | 30679.14 | 0.07059790 |\n",
       "| 5 | sysBP ~ 1 + age + totChol + BMI + heartRate + glucose                                | 30679.19 | 0.06884899 |\n",
       "| 6 | sysBP ~ 1 + sex + education + diabetes + age + totChol + BMI + heartRate + glucose   | 30679.48 | 0.05941903 |\n",
       "| 7 | sysBP ~ 1 + education + age + totChol + BMI + heartRate + glucose                    | 30679.65 | 0.05456322 |\n",
       "| 8 | sysBP ~ 1 + sex + education + age + cigsPerDay + totChol + BMI + heartRate + glucose | 30679.89 | 0.04835294 |\n",
       "| 9 | sysBP ~ 1 + age + cigsPerDay + totChol + BMI + heartRate + glucose                   | 30680.04 | 0.04497316 |\n",
       "| 10 | sysBP ~ 1 + education + age + cigsPerDay + totChol + BMI + heartRate + glucose       | 30680.44 | 0.03686890 |\n",
       "\n"
      ],
      "text/plain": [
       "   model                                                                               \n",
       "1  sysBP ~ 1 + sex + age + totChol + BMI + heartRate + glucose                         \n",
       "2  sysBP ~ 1 + sex + education + age + totChol + BMI + heartRate + glucose             \n",
       "3  sysBP ~ 1 + sex + diabetes + age + totChol + BMI + heartRate + glucose              \n",
       "4  sysBP ~ 1 + sex + age + cigsPerDay + totChol + BMI + heartRate + glucose            \n",
       "5  sysBP ~ 1 + age + totChol + BMI + heartRate + glucose                               \n",
       "6  sysBP ~ 1 + sex + education + diabetes + age + totChol + BMI + heartRate + glucose  \n",
       "7  sysBP ~ 1 + education + age + totChol + BMI + heartRate + glucose                   \n",
       "8  sysBP ~ 1 + sex + education + age + cigsPerDay + totChol + BMI + heartRate + glucose\n",
       "9  sysBP ~ 1 + age + cigsPerDay + totChol + BMI + heartRate + glucose                  \n",
       "10 sysBP ~ 1 + education + age + cigsPerDay + totChol + BMI + heartRate + glucose      \n",
       "   aic      weights   \n",
       "1  30677.29 0.17761325\n",
       "2  30678.11 0.11802975\n",
       "3  30678.69 0.08842642\n",
       "4  30679.14 0.07059790\n",
       "5  30679.19 0.06884899\n",
       "6  30679.48 0.05941903\n",
       "7  30679.65 0.05456322\n",
       "8  30679.89 0.04835294\n",
       "9  30680.04 0.04497316\n",
       "10 30680.44 0.03686890"
      ]
     },
     "metadata": {},
     "output_type": "display_data"
    }
   ],
   "source": [
    "weightable(models) %>% head(10)"
   ]
  },
  {
   "cell_type": "markdown",
   "metadata": {},
   "source": [
    "We can pick the model with the lowest AIC by selecting `objects[[1]]` from the `glmulti` object"
   ]
  },
  {
   "cell_type": "code",
   "execution_count": 19,
   "metadata": {},
   "outputs": [
    {
     "data": {
      "text/html": [
       "<table class=\"dataframe\">\n",
       "<caption>A tibble: 7 × 5</caption>\n",
       "<thead>\n",
       "\t<tr><th scope=col>term</th><th scope=col>estimate</th><th scope=col>std.error</th><th scope=col>statistic</th><th scope=col>p.value</th></tr>\n",
       "\t<tr><th scope=col>&lt;chr&gt;</th><th scope=col>&lt;dbl&gt;</th><th scope=col>&lt;dbl&gt;</th><th scope=col>&lt;dbl&gt;</th><th scope=col>&lt;dbl&gt;</th></tr>\n",
       "</thead>\n",
       "<tbody>\n",
       "\t<tr><td>(Intercept)</td><td>25.29907956</td><td>3.341256428</td><td> 7.571726</td><td>4.670821e-14</td></tr>\n",
       "\t<tr><td>sex1       </td><td>-1.23306570</td><td>0.625202482</td><td>-1.972266</td><td>4.865695e-02</td></tr>\n",
       "\t<tr><td>age        </td><td> 0.78236573</td><td>0.037771790</td><td>20.712964</td><td>4.726352e-90</td></tr>\n",
       "\t<tr><td>totChol    </td><td> 0.03521470</td><td>0.007323071</td><td> 4.808734</td><td>1.582146e-06</td></tr>\n",
       "\t<tr><td>BMI        </td><td> 1.40539355</td><td>0.078236370</td><td>17.963430</td><td>4.044733e-69</td></tr>\n",
       "\t<tr><td>heartRate  </td><td> 0.27045117</td><td>0.026326424</td><td>10.272993</td><td>2.046549e-24</td></tr>\n",
       "\t<tr><td>glucose    </td><td> 0.03723685</td><td>0.013644571</td><td> 2.729060</td><td>6.382910e-03</td></tr>\n",
       "</tbody>\n",
       "</table>\n"
      ],
      "text/latex": [
       "A tibble: 7 × 5\n",
       "\\begin{tabular}{lllll}\n",
       " term & estimate & std.error & statistic & p.value\\\\\n",
       " <chr> & <dbl> & <dbl> & <dbl> & <dbl>\\\\\n",
       "\\hline\n",
       "\t (Intercept) & 25.29907956 & 3.341256428 &  7.571726 & 4.670821e-14\\\\\n",
       "\t sex1        & -1.23306570 & 0.625202482 & -1.972266 & 4.865695e-02\\\\\n",
       "\t age         &  0.78236573 & 0.037771790 & 20.712964 & 4.726352e-90\\\\\n",
       "\t totChol     &  0.03521470 & 0.007323071 &  4.808734 & 1.582146e-06\\\\\n",
       "\t BMI         &  1.40539355 & 0.078236370 & 17.963430 & 4.044733e-69\\\\\n",
       "\t heartRate   &  0.27045117 & 0.026326424 & 10.272993 & 2.046549e-24\\\\\n",
       "\t glucose     &  0.03723685 & 0.013644571 &  2.729060 & 6.382910e-03\\\\\n",
       "\\end{tabular}\n"
      ],
      "text/markdown": [
       "\n",
       "A tibble: 7 × 5\n",
       "\n",
       "| term &lt;chr&gt; | estimate &lt;dbl&gt; | std.error &lt;dbl&gt; | statistic &lt;dbl&gt; | p.value &lt;dbl&gt; |\n",
       "|---|---|---|---|---|\n",
       "| (Intercept) | 25.29907956 | 3.341256428 |  7.571726 | 4.670821e-14 |\n",
       "| sex1        | -1.23306570 | 0.625202482 | -1.972266 | 4.865695e-02 |\n",
       "| age         |  0.78236573 | 0.037771790 | 20.712964 | 4.726352e-90 |\n",
       "| totChol     |  0.03521470 | 0.007323071 |  4.808734 | 1.582146e-06 |\n",
       "| BMI         |  1.40539355 | 0.078236370 | 17.963430 | 4.044733e-69 |\n",
       "| heartRate   |  0.27045117 | 0.026326424 | 10.272993 | 2.046549e-24 |\n",
       "| glucose     |  0.03723685 | 0.013644571 |  2.729060 | 6.382910e-03 |\n",
       "\n"
      ],
      "text/plain": [
       "  term        estimate    std.error   statistic p.value     \n",
       "1 (Intercept) 25.29907956 3.341256428  7.571726 4.670821e-14\n",
       "2 sex1        -1.23306570 0.625202482 -1.972266 4.865695e-02\n",
       "3 age          0.78236573 0.037771790 20.712964 4.726352e-90\n",
       "4 totChol      0.03521470 0.007323071  4.808734 1.582146e-06\n",
       "5 BMI          1.40539355 0.078236370 17.963430 4.044733e-69\n",
       "6 heartRate    0.27045117 0.026326424 10.272993 2.046549e-24\n",
       "7 glucose      0.03723685 0.013644571  2.729060 6.382910e-03"
      ]
     },
     "metadata": {},
     "output_type": "display_data"
    }
   ],
   "source": [
    "top_model <- models@objects[[1]] # top model with lowest AIC\n",
    "\n",
    "top_model %>% broom::tidy()"
   ]
  },
  {
   "cell_type": "markdown",
   "metadata": {},
   "source": [
    "The formula for predicting the systolic BP can be expressed as\n",
    "\n",
    "$$\n",
    "\\mathit{sysBP} = 25.3 +\\mathit{sex_{(0/1)}} \\times -1.23 + \\mathit{age} \\times 0.78 + \\mathit{totChol} \\times 0.04 + \\mathit{BMI} \\times 1.41 + \\mathit{heartRate} \\times 0.27 + \\mathit{glucose} \\times 0.04\n",
    "$$\n",
    "\n",
    "Note that in a predictive model, not all coefficients will have significant p-values (p < 0.05)"
   ]
  },
  {
   "cell_type": "markdown",
   "metadata": {},
   "source": [
    "### 2. Statistical plotting of coefficients\n",
    "\n",
    "We can plot the coefficients to show the relative weights of the coefficients that contribute to the predictive model using `ggcoefstats` from `ggstatsplot`\n",
    "- `sort`: set to `ascending` to sort by effect size\n",
    "- `exclude.intercept`: set to TRUE to omit intercept"
   ]
  },
  {
   "cell_type": "code",
   "execution_count": 20,
   "metadata": {},
   "outputs": [
    {
     "name": "stderr",
     "output_type": "stream",
     "text": [
      "You can cite this package as:\n",
      "     Patil, I. (2021). Visualizations with statistical details: The 'ggstatsplot' approach.\n",
      "     Journal of Open Source Software, 6(61), 3167, doi:10.21105/joss.03167\n",
      "\n"
     ]
    },
    {
     "data": {
      "image/png": "[encoded data removed]",
      "text/plain": [
       "plot without title"
      ]
     },
     "metadata": {
      "image/png": {
       "height": 600,
       "width": 600
      }
     },
     "output_type": "display_data"
    }
   ],
   "source": [
    "library(ggstatsplot)\n",
    "\n",
    "# adjust size of the image output\n",
    "options(repr.plot.width=10, repr.plot.height=10)\n",
    "\n",
    "top_model %>% ggcoefstats(sort=\"ascending\", \n",
    "                          exclude.intercept = TRUE) +\n",
    "              theme_grey(base_size = 20)"
   ]
  },
  {
   "cell_type": "markdown",
   "metadata": {},
   "source": [
    "The best subset selection approach may not be feasible with increasing number of parameters, as the total number of models to be evaluated is $2^p$. For example\n",
    "- for 9 parameters in the dataset = $2^9 = 512$\n",
    "- for 20 parameters = $2^{20} = 1048576$\n",
    "- for 50 parameters = $2^{50} = 1125899906842624$\n",
    "\n",
    "There are alternative regression methods that can be used fo variable selection (e.g. Ridge, LASSO, Elastic Net) but they are outside the scope of this course"
   ]
  },
  {
   "cell_type": "markdown",
   "metadata": {},
   "source": [
    "---\n",
    "# Exercise - Modeling for prediction\n",
    "\n",
    "For this exercise, we will use the subset of the Framingham data `data_subset` and find the model that predicts `totChol` with the lowest AIC"
   ]
  },
  {
   "cell_type": "code",
   "execution_count": 21,
   "metadata": {},
   "outputs": [
    {
     "name": "stderr",
     "output_type": "stream",
     "text": [
      "\u001b[1mRows: \u001b[22m\u001b[34m4240\u001b[39m \u001b[1mColumns: \u001b[22m\u001b[34m16\u001b[39m\n",
      "\u001b[36m──\u001b[39m \u001b[1mColumn specification\u001b[22m \u001b[36m────────────────────────────────────────────────────────\u001b[39m\n",
      "\u001b[1mDelimiter:\u001b[22m \",\"\n",
      "\u001b[32mdbl\u001b[39m (16): male, age, education, currentSmoker, cigsPerDay, BPMeds, prevalent...\n",
      "\n",
      "\u001b[36mℹ\u001b[39m Use `spec()` to retrieve the full column specification for this data.\n",
      "\u001b[36mℹ\u001b[39m Specify the column types or set `show_col_types = FALSE` to quiet this message.\n"
     ]
    },
    {
     "data": {
      "text/html": [
       "<table class=\"dataframe\">\n",
       "<caption>A tibble: 6 × 10</caption>\n",
       "<thead>\n",
       "\t<tr><th scope=col>sex</th><th scope=col>age</th><th scope=col>education</th><th scope=col>cigsPerDay</th><th scope=col>diabetes</th><th scope=col>totChol</th><th scope=col>sysBP</th><th scope=col>BMI</th><th scope=col>heartRate</th><th scope=col>glucose</th></tr>\n",
       "\t<tr><th scope=col>&lt;fct&gt;</th><th scope=col>&lt;dbl&gt;</th><th scope=col>&lt;fct&gt;</th><th scope=col>&lt;dbl&gt;</th><th scope=col>&lt;fct&gt;</th><th scope=col>&lt;dbl&gt;</th><th scope=col>&lt;dbl&gt;</th><th scope=col>&lt;dbl&gt;</th><th scope=col>&lt;dbl&gt;</th><th scope=col>&lt;dbl&gt;</th></tr>\n",
       "</thead>\n",
       "<tbody>\n",
       "\t<tr><td>1</td><td>39</td><td>4</td><td> 0</td><td>0</td><td>195</td><td>106.0</td><td>26.97</td><td>80</td><td> 77</td></tr>\n",
       "\t<tr><td>0</td><td>46</td><td>2</td><td> 0</td><td>0</td><td>250</td><td>121.0</td><td>28.73</td><td>95</td><td> 76</td></tr>\n",
       "\t<tr><td>1</td><td>48</td><td>1</td><td>20</td><td>0</td><td>245</td><td>127.5</td><td>25.34</td><td>75</td><td> 70</td></tr>\n",
       "\t<tr><td>0</td><td>61</td><td>3</td><td>30</td><td>0</td><td>225</td><td>150.0</td><td>28.58</td><td>65</td><td>103</td></tr>\n",
       "\t<tr><td>0</td><td>46</td><td>3</td><td>23</td><td>0</td><td>285</td><td>130.0</td><td>23.10</td><td>85</td><td> 85</td></tr>\n",
       "\t<tr><td>0</td><td>43</td><td>2</td><td> 0</td><td>0</td><td>228</td><td>180.0</td><td>30.30</td><td>77</td><td> 99</td></tr>\n",
       "</tbody>\n",
       "</table>\n"
      ],
      "text/latex": [
       "A tibble: 6 × 10\n",
       "\\begin{tabular}{llllllllll}\n",
       " sex & age & education & cigsPerDay & diabetes & totChol & sysBP & BMI & heartRate & glucose\\\\\n",
       " <fct> & <dbl> & <fct> & <dbl> & <fct> & <dbl> & <dbl> & <dbl> & <dbl> & <dbl>\\\\\n",
       "\\hline\n",
       "\t 1 & 39 & 4 &  0 & 0 & 195 & 106.0 & 26.97 & 80 &  77\\\\\n",
       "\t 0 & 46 & 2 &  0 & 0 & 250 & 121.0 & 28.73 & 95 &  76\\\\\n",
       "\t 1 & 48 & 1 & 20 & 0 & 245 & 127.5 & 25.34 & 75 &  70\\\\\n",
       "\t 0 & 61 & 3 & 30 & 0 & 225 & 150.0 & 28.58 & 65 & 103\\\\\n",
       "\t 0 & 46 & 3 & 23 & 0 & 285 & 130.0 & 23.10 & 85 &  85\\\\\n",
       "\t 0 & 43 & 2 &  0 & 0 & 228 & 180.0 & 30.30 & 77 &  99\\\\\n",
       "\\end{tabular}\n"
      ],
      "text/markdown": [
       "\n",
       "A tibble: 6 × 10\n",
       "\n",
       "| sex &lt;fct&gt; | age &lt;dbl&gt; | education &lt;fct&gt; | cigsPerDay &lt;dbl&gt; | diabetes &lt;fct&gt; | totChol &lt;dbl&gt; | sysBP &lt;dbl&gt; | BMI &lt;dbl&gt; | heartRate &lt;dbl&gt; | glucose &lt;dbl&gt; |\n",
       "|---|---|---|---|---|---|---|---|---|---|\n",
       "| 1 | 39 | 4 |  0 | 0 | 195 | 106.0 | 26.97 | 80 |  77 |\n",
       "| 0 | 46 | 2 |  0 | 0 | 250 | 121.0 | 28.73 | 95 |  76 |\n",
       "| 1 | 48 | 1 | 20 | 0 | 245 | 127.5 | 25.34 | 75 |  70 |\n",
       "| 0 | 61 | 3 | 30 | 0 | 225 | 150.0 | 28.58 | 65 | 103 |\n",
       "| 0 | 46 | 3 | 23 | 0 | 285 | 130.0 | 23.10 | 85 |  85 |\n",
       "| 0 | 43 | 2 |  0 | 0 | 228 | 180.0 | 30.30 | 77 |  99 |\n",
       "\n"
      ],
      "text/plain": [
       "  sex age education cigsPerDay diabetes totChol sysBP BMI   heartRate glucose\n",
       "1 1   39  4          0         0        195     106.0 26.97 80         77    \n",
       "2 0   46  2          0         0        250     121.0 28.73 95         76    \n",
       "3 1   48  1         20         0        245     127.5 25.34 75         70    \n",
       "4 0   61  3         30         0        225     150.0 28.58 65        103    \n",
       "5 0   46  3         23         0        285     130.0 23.10 85         85    \n",
       "6 0   43  2          0         0        228     180.0 30.30 77         99    "
      ]
     },
     "metadata": {},
     "output_type": "display_data"
    }
   ],
   "source": [
    "library(tidyverse)\n",
    "\n",
    "# read data\n",
    "data<- read_csv(\"https://raw.githubusercontent.com/kennethban/dataset/main/framingham.csv\")\n",
    "\n",
    "# rename and change data types\n",
    "data <- data %>%\n",
    "        rename(sex = male) %>%\n",
    "        mutate(sex = as.factor(sex)) %>%\n",
    "        mutate(education = as.factor(education)) %>%\n",
    "        mutate(currentSmoker = as.factor(currentSmoker)) %>%\n",
    "        mutate(BPMeds = as.factor(BPMeds)) %>%\n",
    "        mutate(prevalentStroke = as.factor(prevalentStroke)) %>%\n",
    "        mutate(prevalentHyp = as.factor(prevalentHyp)) %>%\n",
    "        mutate(diabetes = as.factor(diabetes)) %>%\n",
    "        mutate(TenYearCHD = as.factor(TenYearCHD))\n",
    "\n",
    "# drop missing values\n",
    "data <- data %>% drop_na\n",
    "\n",
    "# prepare subset of data\n",
    "data_subset <- data %>%\n",
    "               filter(BPMeds==0) %>%\n",
    "               select(-TenYearCHD, -prevalentStroke, -prevalentHyp, -diaBP, -currentSmoker, -BPMeds)\n",
    "\n",
    "head(data_subset)"
   ]
  },
  {
   "cell_type": "markdown",
   "metadata": {},
   "source": [
    "### Part 1\n",
    "\n",
    "Use `glmulti` to do a best subset selection of covariates and find the top model with the lowest AIC that predicts `totChol`\n",
    "- Store the results of the `glmulti` best subsets selection in `my_models`\n",
    "- Inspect the top 10 models using `weightable`\n",
    "- Store the model with the lowest AIC in `my_top_model`\n",
    "- Print the top model with `broom::tidy`"
   ]
  },
  {
   "cell_type": "code",
   "execution_count": 22,
   "metadata": {},
   "outputs": [],
   "source": [
    "library(glmulti)\n",
    "\n",
    "# start here"
   ]
  },
  {
   "cell_type": "code",
   "execution_count": 23,
   "metadata": {
    "jupyter": {
     "source_hidden": true
    },
    "tags": [
     "hide-cell"
    ]
   },
   "outputs": [
    {
     "data": {
      "text/html": [
       "<table class=\"dataframe\">\n",
       "<caption>A data.frame: 10 × 3</caption>\n",
       "<thead>\n",
       "\t<tr><th></th><th scope=col>model</th><th scope=col>aic</th><th scope=col>weights</th></tr>\n",
       "\t<tr><th></th><th scope=col>&lt;chr&gt;</th><th scope=col>&lt;dbl&gt;</th><th scope=col>&lt;dbl&gt;</th></tr>\n",
       "</thead>\n",
       "<tbody>\n",
       "\t<tr><th scope=row>1</th><td>totChol ~ 1 + sex + education + age + cigsPerDay + sysBP + BMI + heartRate                     </td><td>36535.41</td><td>0.448623015</td></tr>\n",
       "\t<tr><th scope=row>2</th><td>totChol ~ 1 + sex + education + age + cigsPerDay + sysBP + BMI + heartRate + glucose           </td><td>36537.25</td><td>0.178791795</td></tr>\n",
       "\t<tr><th scope=row>3</th><td>totChol ~ 1 + sex + education + diabetes + age + cigsPerDay + sysBP + BMI + heartRate          </td><td>36537.40</td><td>0.165098241</td></tr>\n",
       "\t<tr><th scope=row>4</th><td>totChol ~ 1 + sex + education + diabetes + age + cigsPerDay + sysBP + BMI + heartRate + glucose</td><td>36539.18</td><td>0.068054519</td></tr>\n",
       "\t<tr><th scope=row>5</th><td>totChol ~ 1 + sex + age + cigsPerDay + sysBP + BMI + heartRate                                 </td><td>36539.95</td><td>0.046128611</td></tr>\n",
       "\t<tr><th scope=row>6</th><td>totChol ~ 1 + sex + age + cigsPerDay + sysBP + BMI + heartRate + glucose                       </td><td>36541.78</td><td>0.018559577</td></tr>\n",
       "\t<tr><th scope=row>7</th><td>totChol ~ 1 + sex + diabetes + age + cigsPerDay + sysBP + BMI + heartRate                      </td><td>36541.95</td><td>0.017023842</td></tr>\n",
       "\t<tr><th scope=row>8</th><td>totChol ~ 1 + sex + education + age + sysBP + BMI + heartRate                                  </td><td>36541.98</td><td>0.016755020</td></tr>\n",
       "\t<tr><th scope=row>9</th><td>totChol ~ 1 + sex + education + age + sysBP + BMI + heartRate + glucose                        </td><td>36543.69</td><td>0.007133634</td></tr>\n",
       "\t<tr><th scope=row>10</th><td>totChol ~ 1 + sex + diabetes + age + cigsPerDay + sysBP + BMI + heartRate + glucose            </td><td>36543.73</td><td>0.006983164</td></tr>\n",
       "</tbody>\n",
       "</table>\n"
      ],
      "text/latex": [
       "A data.frame: 10 × 3\n",
       "\\begin{tabular}{r|lll}\n",
       "  & model & aic & weights\\\\\n",
       "  & <chr> & <dbl> & <dbl>\\\\\n",
       "\\hline\n",
       "\t1 & totChol \\textasciitilde{} 1 + sex + education + age + cigsPerDay + sysBP + BMI + heartRate                      & 36535.41 & 0.448623015\\\\\n",
       "\t2 & totChol \\textasciitilde{} 1 + sex + education + age + cigsPerDay + sysBP + BMI + heartRate + glucose            & 36537.25 & 0.178791795\\\\\n",
       "\t3 & totChol \\textasciitilde{} 1 + sex + education + diabetes + age + cigsPerDay + sysBP + BMI + heartRate           & 36537.40 & 0.165098241\\\\\n",
       "\t4 & totChol \\textasciitilde{} 1 + sex + education + diabetes + age + cigsPerDay + sysBP + BMI + heartRate + glucose & 36539.18 & 0.068054519\\\\\n",
       "\t5 & totChol \\textasciitilde{} 1 + sex + age + cigsPerDay + sysBP + BMI + heartRate                                  & 36539.95 & 0.046128611\\\\\n",
       "\t6 & totChol \\textasciitilde{} 1 + sex + age + cigsPerDay + sysBP + BMI + heartRate + glucose                        & 36541.78 & 0.018559577\\\\\n",
       "\t7 & totChol \\textasciitilde{} 1 + sex + diabetes + age + cigsPerDay + sysBP + BMI + heartRate                       & 36541.95 & 0.017023842\\\\\n",
       "\t8 & totChol \\textasciitilde{} 1 + sex + education + age + sysBP + BMI + heartRate                                   & 36541.98 & 0.016755020\\\\\n",
       "\t9 & totChol \\textasciitilde{} 1 + sex + education + age + sysBP + BMI + heartRate + glucose                         & 36543.69 & 0.007133634\\\\\n",
       "\t10 & totChol \\textasciitilde{} 1 + sex + diabetes + age + cigsPerDay + sysBP + BMI + heartRate + glucose             & 36543.73 & 0.006983164\\\\\n",
       "\\end{tabular}\n"
      ],
      "text/markdown": [
       "\n",
       "A data.frame: 10 × 3\n",
       "\n",
       "| <!--/--> | model &lt;chr&gt; | aic &lt;dbl&gt; | weights &lt;dbl&gt; |\n",
       "|---|---|---|---|\n",
       "| 1 | totChol ~ 1 + sex + education + age + cigsPerDay + sysBP + BMI + heartRate                      | 36535.41 | 0.448623015 |\n",
       "| 2 | totChol ~ 1 + sex + education + age + cigsPerDay + sysBP + BMI + heartRate + glucose            | 36537.25 | 0.178791795 |\n",
       "| 3 | totChol ~ 1 + sex + education + diabetes + age + cigsPerDay + sysBP + BMI + heartRate           | 36537.40 | 0.165098241 |\n",
       "| 4 | totChol ~ 1 + sex + education + diabetes + age + cigsPerDay + sysBP + BMI + heartRate + glucose | 36539.18 | 0.068054519 |\n",
       "| 5 | totChol ~ 1 + sex + age + cigsPerDay + sysBP + BMI + heartRate                                  | 36539.95 | 0.046128611 |\n",
       "| 6 | totChol ~ 1 + sex + age + cigsPerDay + sysBP + BMI + heartRate + glucose                        | 36541.78 | 0.018559577 |\n",
       "| 7 | totChol ~ 1 + sex + diabetes + age + cigsPerDay + sysBP + BMI + heartRate                       | 36541.95 | 0.017023842 |\n",
       "| 8 | totChol ~ 1 + sex + education + age + sysBP + BMI + heartRate                                   | 36541.98 | 0.016755020 |\n",
       "| 9 | totChol ~ 1 + sex + education + age + sysBP + BMI + heartRate + glucose                         | 36543.69 | 0.007133634 |\n",
       "| 10 | totChol ~ 1 + sex + diabetes + age + cigsPerDay + sysBP + BMI + heartRate + glucose             | 36543.73 | 0.006983164 |\n",
       "\n"
      ],
      "text/plain": [
       "   model                                                                                          \n",
       "1  totChol ~ 1 + sex + education + age + cigsPerDay + sysBP + BMI + heartRate                     \n",
       "2  totChol ~ 1 + sex + education + age + cigsPerDay + sysBP + BMI + heartRate + glucose           \n",
       "3  totChol ~ 1 + sex + education + diabetes + age + cigsPerDay + sysBP + BMI + heartRate          \n",
       "4  totChol ~ 1 + sex + education + diabetes + age + cigsPerDay + sysBP + BMI + heartRate + glucose\n",
       "5  totChol ~ 1 + sex + age + cigsPerDay + sysBP + BMI + heartRate                                 \n",
       "6  totChol ~ 1 + sex + age + cigsPerDay + sysBP + BMI + heartRate + glucose                       \n",
       "7  totChol ~ 1 + sex + diabetes + age + cigsPerDay + sysBP + BMI + heartRate                      \n",
       "8  totChol ~ 1 + sex + education + age + sysBP + BMI + heartRate                                  \n",
       "9  totChol ~ 1 + sex + education + age + sysBP + BMI + heartRate + glucose                        \n",
       "10 totChol ~ 1 + sex + diabetes + age + cigsPerDay + sysBP + BMI + heartRate + glucose            \n",
       "   aic      weights    \n",
       "1  36535.41 0.448623015\n",
       "2  36537.25 0.178791795\n",
       "3  36537.40 0.165098241\n",
       "4  36539.18 0.068054519\n",
       "5  36539.95 0.046128611\n",
       "6  36541.78 0.018559577\n",
       "7  36541.95 0.017023842\n",
       "8  36541.98 0.016755020\n",
       "9  36543.69 0.007133634\n",
       "10 36543.73 0.006983164"
      ]
     },
     "metadata": {},
     "output_type": "display_data"
    },
    {
     "data": {
      "text/html": [
       "<table class=\"dataframe\">\n",
       "<caption>A tibble: 10 × 5</caption>\n",
       "<thead>\n",
       "\t<tr><th scope=col>term</th><th scope=col>estimate</th><th scope=col>std.error</th><th scope=col>statistic</th><th scope=col>p.value</th></tr>\n",
       "\t<tr><th scope=col>&lt;chr&gt;</th><th scope=col>&lt;dbl&gt;</th><th scope=col>&lt;dbl&gt;</th><th scope=col>&lt;dbl&gt;</th><th scope=col>&lt;dbl&gt;</th></tr>\n",
       "</thead>\n",
       "<tbody>\n",
       "\t<tr><td>(Intercept)</td><td>113.8290528</td><td>7.75899885</td><td>14.670585</td><td>2.384013e-47</td></tr>\n",
       "\t<tr><td>sex1       </td><td> -6.0739199</td><td>1.53543384</td><td>-3.955833</td><td>7.776392e-05</td></tr>\n",
       "\t<tr><td>education2 </td><td>  3.7887521</td><td>1.73243683</td><td> 2.186950</td><td>2.881148e-02</td></tr>\n",
       "\t<tr><td>education3 </td><td>  5.2297499</td><td>2.06161340</td><td> 2.536727</td><td>1.123206e-02</td></tr>\n",
       "\t<tr><td>education4 </td><td>  5.6922220</td><td>2.36553669</td><td> 2.406313</td><td>1.616542e-02</td></tr>\n",
       "\t<tr><td>age        </td><td>  1.2585000</td><td>0.09213703</td><td>13.659004</td><td>1.971854e-41</td></tr>\n",
       "\t<tr><td>cigsPerDay </td><td>  0.1869214</td><td>0.06388416</td><td> 2.925942</td><td>3.456008e-03</td></tr>\n",
       "\t<tr><td>sysBP      </td><td>  0.1854999</td><td>0.03822853</td><td> 4.852394</td><td>1.272473e-06</td></tr>\n",
       "\t<tr><td>BMI        </td><td>  0.7246850</td><td>0.18871204</td><td> 3.840163</td><td>1.251061e-04</td></tr>\n",
       "\t<tr><td>heartRate  </td><td>  0.2052317</td><td>0.06121968</td><td> 3.352382</td><td>8.096151e-04</td></tr>\n",
       "</tbody>\n",
       "</table>\n"
      ],
      "text/latex": [
       "A tibble: 10 × 5\n",
       "\\begin{tabular}{lllll}\n",
       " term & estimate & std.error & statistic & p.value\\\\\n",
       " <chr> & <dbl> & <dbl> & <dbl> & <dbl>\\\\\n",
       "\\hline\n",
       "\t (Intercept) & 113.8290528 & 7.75899885 & 14.670585 & 2.384013e-47\\\\\n",
       "\t sex1        &  -6.0739199 & 1.53543384 & -3.955833 & 7.776392e-05\\\\\n",
       "\t education2  &   3.7887521 & 1.73243683 &  2.186950 & 2.881148e-02\\\\\n",
       "\t education3  &   5.2297499 & 2.06161340 &  2.536727 & 1.123206e-02\\\\\n",
       "\t education4  &   5.6922220 & 2.36553669 &  2.406313 & 1.616542e-02\\\\\n",
       "\t age         &   1.2585000 & 0.09213703 & 13.659004 & 1.971854e-41\\\\\n",
       "\t cigsPerDay  &   0.1869214 & 0.06388416 &  2.925942 & 3.456008e-03\\\\\n",
       "\t sysBP       &   0.1854999 & 0.03822853 &  4.852394 & 1.272473e-06\\\\\n",
       "\t BMI         &   0.7246850 & 0.18871204 &  3.840163 & 1.251061e-04\\\\\n",
       "\t heartRate   &   0.2052317 & 0.06121968 &  3.352382 & 8.096151e-04\\\\\n",
       "\\end{tabular}\n"
      ],
      "text/markdown": [
       "\n",
       "A tibble: 10 × 5\n",
       "\n",
       "| term &lt;chr&gt; | estimate &lt;dbl&gt; | std.error &lt;dbl&gt; | statistic &lt;dbl&gt; | p.value &lt;dbl&gt; |\n",
       "|---|---|---|---|---|\n",
       "| (Intercept) | 113.8290528 | 7.75899885 | 14.670585 | 2.384013e-47 |\n",
       "| sex1        |  -6.0739199 | 1.53543384 | -3.955833 | 7.776392e-05 |\n",
       "| education2  |   3.7887521 | 1.73243683 |  2.186950 | 2.881148e-02 |\n",
       "| education3  |   5.2297499 | 2.06161340 |  2.536727 | 1.123206e-02 |\n",
       "| education4  |   5.6922220 | 2.36553669 |  2.406313 | 1.616542e-02 |\n",
       "| age         |   1.2585000 | 0.09213703 | 13.659004 | 1.971854e-41 |\n",
       "| cigsPerDay  |   0.1869214 | 0.06388416 |  2.925942 | 3.456008e-03 |\n",
       "| sysBP       |   0.1854999 | 0.03822853 |  4.852394 | 1.272473e-06 |\n",
       "| BMI         |   0.7246850 | 0.18871204 |  3.840163 | 1.251061e-04 |\n",
       "| heartRate   |   0.2052317 | 0.06121968 |  3.352382 | 8.096151e-04 |\n",
       "\n"
      ],
      "text/plain": [
       "   term        estimate    std.error  statistic p.value     \n",
       "1  (Intercept) 113.8290528 7.75899885 14.670585 2.384013e-47\n",
       "2  sex1         -6.0739199 1.53543384 -3.955833 7.776392e-05\n",
       "3  education2    3.7887521 1.73243683  2.186950 2.881148e-02\n",
       "4  education3    5.2297499 2.06161340  2.536727 1.123206e-02\n",
       "5  education4    5.6922220 2.36553669  2.406313 1.616542e-02\n",
       "6  age           1.2585000 0.09213703 13.659004 1.971854e-41\n",
       "7  cigsPerDay    0.1869214 0.06388416  2.925942 3.456008e-03\n",
       "8  sysBP         0.1854999 0.03822853  4.852394 1.272473e-06\n",
       "9  BMI           0.7246850 0.18871204  3.840163 1.251061e-04\n",
       "10 heartRate     0.2052317 0.06121968  3.352382 8.096151e-04"
      ]
     },
     "metadata": {},
     "output_type": "display_data"
    }
   ],
   "source": [
    "# solution\n",
    "\n",
    "library(glmulti)\n",
    "\n",
    "my_models <- glmulti(totChol ~ .,              # . = consider all covariates\n",
    "                  data=data_subset, \n",
    "                  level=1,                # consider only independent covariates\n",
    "                  method=\"h\",             # exhaustive search\n",
    "                  report=FALSE,           # suppress messages\n",
    "                  plotty=FALSE)           # suppress messages\n",
    "\n",
    "weightable(my_models) %>% head(10)\n",
    "\n",
    "my_top_model <- my_models@objects[[1]]\n",
    "\n",
    "my_top_model %>% broom::tidy()"
   ]
  },
  {
   "cell_type": "markdown",
   "metadata": {
    "tags": []
   },
   "source": [
    "### Part 2\n",
    "\n",
    "Plot the coefficients using `ggcoeftstats`. You may exclude the intercept\n",
    "- Comment on the covariates that have the largest contribution to the prediction model"
   ]
  },
  {
   "cell_type": "code",
   "execution_count": 24,
   "metadata": {},
   "outputs": [],
   "source": [
    "library(ggstatsplot)\n",
    "\n",
    "# start here"
   ]
  },
  {
   "cell_type": "code",
   "execution_count": 25,
   "metadata": {
    "jupyter": {
     "source_hidden": true
    },
    "tags": [
     "hide-cell"
    ]
   },
   "outputs": [
    {
     "name": "stderr",
     "output_type": "stream",
     "text": [
      "Number of labels is greater than default palette color count.\n",
      "\u001b[36m•\u001b[39m Select another color `palette` (and/or `package`).\n"
     ]
    },
    {
     "data": {
      "image/png": "[encoded data removed]",
      "text/plain": [
       "plot without title"
      ]
     },
     "metadata": {
      "image/png": {
       "height": 600,
       "width": 600
      }
     },
     "output_type": "display_data"
    }
   ],
   "source": [
    "# solution\n",
    "\n",
    "library(ggstatsplot)\n",
    "\n",
    "my_top_model %>% ggcoefstats(sort=\"ascending\",\n",
    "                             exclude.intercept=TRUE)"
   ]
  }
 ],
 "metadata": {
  "kernelspec": {
   "display_name": "R",
   "language": "R",
   "name": "ir"
  },
  "language_info": {
   "codemirror_mode": "r",
   "file_extension": ".r",
   "mimetype": "text/x-r-source",
   "name": "R",
   "pygments_lexer": "r",
   "version": "4.1.3"
  }
 },
 "nbformat": 4,
 "nbformat_minor": 4
}
