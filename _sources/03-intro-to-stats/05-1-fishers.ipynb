{
 "cells": [
  {
   "cell_type": "markdown",
   "metadata": {},
   "source": [
    "# Comparing counts between 2x2 categories (unrelated subjects)\n",
    "\n",
    "We will explore how we can compare counts for categories from unrelated subjects to see if the categories are independent or if there is an association between them\n",
    "\n",
    "There are 2 approaches for comparing counts\n",
    "- `Fisher's test`: exact calculation of permutations (usually for small counts)\n",
    "- `Chi-squared test`: approximation using the chi-squared distribution (larger counts)\n",
    "\n",
    "We will cover the first approach (`Fisher's test`) that uses the exact calculation of permutations for 2 categories in a 2x2 table\n",
    "\n",
    "![test_count_fisher_death.png](images/test_count_fisher_death.png)"
   ]
  },
  {
   "cell_type": "markdown",
   "metadata": {},
   "source": [
    "---\n",
    "## Data preparation"
   ]
  },
  {
   "cell_type": "markdown",
   "metadata": {},
   "source": [
    "We will be using the dataset from https://vincentarelbundock.github.io/Rdatasets/doc/Stat2Data/ICU.html\n",
    "\n",
    "The dataset includes 200 observations from ICU patients with the following variables\n",
    "- `Age`\n",
    "- `AgeGroup`: 1= young (under 50), 2= middle (50-69), 3 = old (70+)\n",
    "- `Sex`: 1=female or 0=male\n",
    "- `Emergency`: 1=emergency admission or 0=elective admission\n",
    "- `SysBP`: Systolic blood pressure (mmHg)\n",
    "- `PulseRate`: Heart rate (beats per minute)\n",
    "- `Infection`: 1=infection suspected or 0=no infection\n",
    "- `Death`: 1=patient died or 0=patient survived to discharge\n"
   ]
  },
  {
   "cell_type": "code",
   "execution_count": 1,
   "metadata": {
    "tags": [
     "hide-input"
    ]
   },
   "outputs": [],
   "source": [
    "library(tidyverse)\n",
    "\n",
    "data <- read_csv(\"https://raw.githubusercontent.com/kennethban/dataset/main/icu.csv\")\n",
    "\n",
    "data <- data %>% mutate(...1 = NULL,\n",
    "                        Survive=as.factor(Survive),\n",
    "                        Sex=as.factor(Sex),\n",
    "                        Infection=as.factor(Infection),\n",
    "                        Emergency=as.factor(Emergency)) %>%\n",
    "                 mutate(Death = case_when(Survive == \"0\" ~ \"1\",\n",
    "                                          Survive == \"1\" ~ \"0\"),\n",
    "                        Death = as.factor(Death),\n",
    "                        Survive = NULL) %>%\n",
    "\n",
    "                 # change order of levels to format table\n",
    "                 mutate(Infection=fct_relevel(Infection, \"1\", \"0\"),\n",
    "                        Death=fct_relevel(Death, \"1\", \"0\"))\n",
    "\n",
    "head(data)"
   ]
  },
  {
   "cell_type": "markdown",
   "metadata": {},
   "source": [
    "As an example, we would like to see if the infection status is associated with the death of ICU patients\n",
    "\n",
    "We start by selecting the 2 variables of interest(`Infection`, `Death`) and generate a table using the `table` function. We will define a `print_table` function to print a nicer table"
   ]
  },
  {
   "cell_type": "code",
   "execution_count": 2,
   "metadata": {
    "jupyter": {
     "source_hidden": true
    },
    "tags": [
     "hide-cell"
    ]
   },
   "outputs": [],
   "source": [
    "# cross-table convenience function\n",
    "print_table <- function(input, margin=F) {\n",
    "    \n",
    "    if (margin == T) { input <- addmargins(input)}\n",
    "    \n",
    "    input <- htmlTable::txtRound(input,1)\n",
    "\n",
    "    input %>% \n",
    "    htmlTable::htmlTable(css.rgroup = \"font-weight: 900; text-align: left;\") %>%\n",
    "    IRdisplay::display_html() \n",
    "    \n",
    "}"
   ]
  },
  {
   "cell_type": "markdown",
   "metadata": {},
   "source": [
    "We can use the `table` function to create a 2x2 table\n",
    "- Note that the order of the levels was changed using `fct_relevel` to ensure the association of interest (presence of `Infection` and `Death`) are in the upper left cell of the table"
   ]
  },
  {
   "cell_type": "code",
   "execution_count": 3,
   "metadata": {
    "tags": [
     "hide-input"
    ]
   },
   "outputs": [],
   "source": [
    "# print 2 x 2 contingency table for Infection and Survive categories\n",
    "data_table <- data %>% \n",
    "              select(Infection, Death) %>%\n",
    "              table\n",
    "\n",
    "data_table %>% print_table"
   ]
  },
  {
   "cell_type": "markdown",
   "metadata": {},
   "source": [
    "We can plot it as a barchart to look at the proportions of ICU patients who survived/died in the 2 groups (with suspected infection and without)\n",
    "- `geom_bar`: use `position=\"fill\"` option"
   ]
  },
  {
   "cell_type": "code",
   "execution_count": 4,
   "metadata": {
    "tags": [
     "hide-input"
    ]
   },
   "outputs": [],
   "source": [
    "# set plot dimensions\n",
    "options(repr.plot.width=6, repr.plot.height=8)\n",
    "\n",
    "# stacked proportional chart for Infection and Death categories\n",
    "data %>% \n",
    "ggplot(aes(x=Infection,fill=Death)) +\n",
    "  geom_bar(position=\"fill\") +\n",
    "  theme_grey(base_size=20)"
   ]
  },
  {
   "cell_type": "markdown",
   "metadata": {},
   "source": [
    "We notice that the number of patients who die are higher in the group of patients with suspected infection. However, we do not know if this observation could have occurred by chance"
   ]
  },
  {
   "cell_type": "markdown",
   "metadata": {},
   "source": [
    "---\n",
    "## Exact permutation approach\n",
    "\n",
    "In this approach, we will \n",
    "- examine all the possible permutations of values in the table that can occur by chance (i.e. no association between 2 categories) and calculate the probabilities of each permutation\n",
    "- calculate the probability of observing values in permuted data (null distribution with no association) that are equal or more extreme than those observed in the data\n",
    "\n",
    "A small probability value would suggest that the observed data is less likely to have arisen from the null distribution "
   ]
  },
  {
   "cell_type": "code",
   "execution_count": 5,
   "metadata": {
    "jupyter": {
     "source_hidden": true
    },
    "tags": [
     "hide-input"
    ]
   },
   "outputs": [],
   "source": [
    "data_table %>% \n",
    "print_table"
   ]
  },
  {
   "cell_type": "markdown",
   "metadata": {},
   "source": [
    "In a contingency table, the counts of 2 different variables are presented in a 2 x 2 table. \n",
    "\n",
    "![test_count_fisher_table_small_label.png](images/test_count_fisher_table_small_label.png)\n",
    "\n",
    "By convention:\n",
    "- The independent variable (_exposure_) is specified _row-wise_, with the baseline values (no exposure) in the 2nd row (```c,d```)\n",
    "- The dependent variable (_outcome_) is specified _column-wise_, the outcome values that may be associated with the exposure in the 1st column (```a,c```)"
   ]
  },
  {
   "cell_type": "markdown",
   "metadata": {},
   "source": [
    "### 1. Calculate the probability of observing the exposure/outcome\n",
    "\n",
    "![test_count_fisher_prob.png](images/test_count_fisher_prob.png)"
   ]
  },
  {
   "cell_type": "markdown",
   "metadata": {},
   "source": [
    "The counts in the 2x2 table follow a hypergeometic distribution and we can use the `dhyper` function to calculate the probability of observing counts in the table\n",
    "- In this case, we are interested in `a` for a potential association between exposure and outcome"
   ]
  },
  {
   "cell_type": "code",
   "execution_count": 6,
   "metadata": {
    "jupyter": {
     "source_hidden": true
    },
    "tags": [
     "hide-input"
    ]
   },
   "outputs": [],
   "source": [
    "data_table %>% \n",
    "print_table(margin = T)"
   ]
  },
  {
   "cell_type": "code",
   "execution_count": 7,
   "metadata": {
    "jupyter": {
     "source_hidden": true
    },
    "tags": [
     "hide-input"
    ]
   },
   "outputs": [],
   "source": [
    "# probability of observing count in cell a (association between exposure/outcome)\n",
    "a <- data_table[1,1]\n",
    "b <- data_table[1,2]\n",
    "c <- data_table[2,1]\n",
    "d <- data_table[2,2]\n",
    "\n",
    "dhyper(a,a+b,c+d,a+c)"
   ]
  },
  {
   "cell_type": "markdown",
   "metadata": {},
   "source": [
    "Here, we find that the probability of observing 24 patients who died in the group that had a suspected infection"
   ]
  },
  {
   "cell_type": "markdown",
   "metadata": {},
   "source": [
    "### 2. Generate a null distribution by permutation and calculate the p-value\n",
    "\n",
    "We have to consider all the cases where the counts vary within the constraints that the number of cases per group where both the _row_ and _column_ margins are fixed\n",
    "- To do this, we calculate the probabilities of the possible counts\n",
    "- We then sum up the probabilities of scenarios that the probability of counts are equal or smaller than the one we observe, and this is the _p-value_"
   ]
  },
  {
   "cell_type": "markdown",
   "metadata": {},
   "source": [
    "![test_count_fisher_sum.png](images/test_count_fisher_sum.png)"
   ]
  },
  {
   "cell_type": "markdown",
   "metadata": {},
   "source": [
    "First, we generate the null distribution of probabilities of patients that died by calculating the probabilities of observing cell `a` i.e. patients who are exposed (Infection) and died, across a range of possible values\n",
    "- The minimum number who died with infection is 0\n",
    "- The maximum number who died with infection is a+c"
   ]
  },
  {
   "cell_type": "code",
   "execution_count": 8,
   "metadata": {
    "jupyter": {
     "source_hidden": true
    },
    "tags": [
     "hide-input"
    ]
   },
   "outputs": [],
   "source": [
    "# we will choose to vary the count for infected patients in the death group\n",
    "a <- data_table[1,1]\n",
    "b <- data_table[1,2]\n",
    "c <- data_table[2,1]\n",
    "d <- data_table[2,2]\n",
    "\n",
    "range_a <- seq(0,a+c) # range of a from 0 to a+c\n",
    "\n",
    "prob_df <- tibble(count_a = range_a,\n",
    "                  prob_a = dhyper(range_a, a+b, c+d, a+c))\n",
    "\n",
    "head(prob_df)\n",
    "tail(prob_df)"
   ]
  },
  {
   "cell_type": "markdown",
   "metadata": {},
   "source": [
    "We can check if any of these probability values in the null distribution are equal more extreme (equal or smaller) than the observed data"
   ]
  },
  {
   "cell_type": "code",
   "execution_count": 9,
   "metadata": {
    "jupyter": {
     "source_hidden": true
    },
    "tags": [
     "hide-input"
    ]
   },
   "outputs": [],
   "source": [
    "prob_obs_a <- dhyper(a, a+b, c+d, a+c)\n",
    "\n",
    "prob_df <- prob_df %>%\n",
    "           mutate(smaller = ifelse(prob_a <= prob_obs_a,\"Y\",\"N\") %>%\n",
    "                            fct_relevel(\"Y\",\"N\"))\n",
    "\n",
    "head(prob_df)"
   ]
  },
  {
   "cell_type": "markdown",
   "metadata": {},
   "source": [
    "We can visualize the null distribution and indicate those values that are more extreme than observed in our table"
   ]
  },
  {
   "cell_type": "code",
   "execution_count": 10,
   "metadata": {
    "jupyter": {
     "source_hidden": true
    },
    "tags": [
     "hide-input"
    ]
   },
   "outputs": [],
   "source": [
    "# set plot dimension\n",
    "options(repr.plot.width=8, repr.plot.height=8)\n",
    "\n",
    "# plot distribution and highlight regions with extreme probabilities\n",
    "prob_df %>% \n",
    "ggplot(aes(x=count_a,y=prob_a, fill=smaller)) + \n",
    "  geom_bar(stat = \"identity\") +\n",
    "  labs(fill=\"Prob <= Observed\") +\n",
    "  theme_grey(base_size=16) +\n",
    "  theme(legend.position=\"top\")"
   ]
  },
  {
   "cell_type": "markdown",
   "metadata": {},
   "source": [
    "Finally, we can calculate the p-value by summing up all the probabilities of observing the counts that are more extreme than observed in `a`"
   ]
  },
  {
   "cell_type": "code",
   "execution_count": 11,
   "metadata": {
    "jupyter": {
     "source_hidden": true
    },
    "tags": [
     "hide-input"
    ]
   },
   "outputs": [],
   "source": [
    "# calculate sum of probabilities (p-value) of values that are equal or smaller than observed\n",
    "\n",
    "prob_df %>% \n",
    "filter(smaller == \"Y\") %>%\n",
    "pull(prob_a) %>%\n",
    "sum"
   ]
  },
  {
   "cell_type": "markdown",
   "metadata": {},
   "source": [
    "The p-value is small, which suggests that the observed data is unlikely to be consistent with the null hypothesis. Thus, the association between the exposure and the outcome may not be due to random chance"
   ]
  },
  {
   "cell_type": "markdown",
   "metadata": {},
   "source": [
    "**Using a function**\n",
    "\n",
    "We can also use the ```fisher_test``` function from ```rstatix```"
   ]
  },
  {
   "cell_type": "code",
   "execution_count": 12,
   "metadata": {
    "tags": [
     "hide-input"
    ]
   },
   "outputs": [],
   "source": [
    "data_table %>% \n",
    "rstatix::fisher_test(detailed = T)"
   ]
  },
  {
   "cell_type": "markdown",
   "metadata": {},
   "source": [
    "---\n",
    "## Effect size\n",
    "\n",
    "We can calculate the effect size of the association between the exposure and  outcome using 2 related measures\n",
    "- Odds ratio (OR)\n",
    "- Relative risk (RR)"
   ]
  },
  {
   "cell_type": "code",
   "execution_count": 13,
   "metadata": {
    "jupyter": {
     "source_hidden": true
    },
    "tags": [
     "hide-input"
    ]
   },
   "outputs": [],
   "source": [
    "data_table %>% \n",
    "print_table"
   ]
  },
  {
   "cell_type": "markdown",
   "metadata": {},
   "source": [
    "Here, we identify ```Infection``` as the ```independent``` variable, which may alter the ```dependent``` outcome variable ```Death```. By convention:\n",
    "- The independent variable ```Infection``` is specified _row-wise_ and the baseline (no infection) is in the second row\n",
    "- The dependent variable ```Death``` is specified _column-wise_ and the possible associated outcome (death) is in the first column\n",
    "\n",
    "![test_count_fisher_table_small_label.png](images/test_count_fisher_table_small_label.png)"
   ]
  },
  {
   "cell_type": "markdown",
   "metadata": {},
   "source": [
    "### 1. Odds ratio\n",
    "\n",
    "In this case, we are interested in calculating the odds ratio for death in patients who are infected (```numerator```) vs non-infected (```denominator```). To do this, we\n",
    "- calculate the odds for death in infected patients (```numerator```)\n",
    "- calculate the odds for death in non-infected patients (```denominator```)\n",
    "- calculate the odds ratio (```numerator/denominator```)\n",
    "\n",
    "![test_count_odds_death.png](images/test_count_odds_death.png)\n",
    "\n",
    "The odds ratio can be interpreted in the following way:\n",
    "\n",
    "<table align=\"left\">\n",
    "<thead>\n",
    "<tr><th>Odds ratio</th><th>Interpretation</th></tr>\n",
    "</thead>\n",
    "<tbody>\n",
    "<tr><td>1</td><td>Equal odds of either outcome in dependent variable</td>\n",
    "<tr><td>&lt 1</td><td>Decreased odds of the outcome observed (numerator)</td>\n",
    "<tr><td>&gt 1</td><td>Increased odds of the outcome observed (numerator)</td>\n",
    "</tbody>\n",
    "</table>\n"
   ]
  },
  {
   "cell_type": "code",
   "execution_count": 14,
   "metadata": {
    "jupyter": {
     "source_hidden": true
    },
    "tags": [
     "hide-input"
    ]
   },
   "outputs": [],
   "source": [
    "data_table %>% \n",
    "print_table"
   ]
  },
  {
   "cell_type": "code",
   "execution_count": 15,
   "metadata": {
    "jupyter": {
     "source_hidden": true
    },
    "tags": [
     "hide-input"
    ]
   },
   "outputs": [],
   "source": [
    "# calculate odds of death in non-infected patients (baseline)\n",
    "c <- data_table[2,1]\n",
    "d <- data_table[2,2]\n",
    "\n",
    "odds_death_in_noninfected <- c/d\n",
    "\n",
    "# calculate odds of death in infected patients (exposed)\n",
    "a <- data_table[1,1]\n",
    "b <- data_table[1,2]\n",
    "\n",
    "odds_death_in_infected <- a/b\n",
    "\n",
    "# calculate odd ratio of death in infected vs non-infected patients\n",
    "OR <- odds_death_in_infected/odds_death_in_noninfected\n",
    "\n",
    "OR"
   ]
  },
  {
   "cell_type": "markdown",
   "metadata": {},
   "source": [
    "**Using a function**\n",
    "\n",
    "We can use the `oddsratio` function from the `epitools` library and specify the `rev=\"both\"` option to keep to the contingency table conventions for exposure/outcome\n",
    "- To get the output, we use the `$` selector for `measure`"
   ]
  },
  {
   "cell_type": "code",
   "execution_count": 16,
   "metadata": {
    "tags": [
     "hide-input"
    ]
   },
   "outputs": [],
   "source": [
    "epitools::oddsratio(data_table, rev=\"both\")$measure"
   ]
  },
  {
   "cell_type": "markdown",
   "metadata": {},
   "source": [
    "We can see that the odds ratio is >1, indicating that patients with infection have higher odds of death\n",
    "- The magnitude of the effect may not be intuitive\n",
    "- Here, the odds of death in infected patients is 2.5:1 = 5:2\n",
    "- In other words, for every 5 patients who died with infection, there were 2 who died without infection"
   ]
  },
  {
   "cell_type": "markdown",
   "metadata": {},
   "source": [
    "### 2. Relative risk\n",
    "\n",
    "The odds ratio may not be intuitive as it refers to the chance in favor of an event over the chance against it. \n",
    "- For example, the odds of  of getting an even number in the roll of dice = 3/3 = 1\n",
    "\n",
    "In contrast, a risk or probability refers to the likelihood of an event over the total number of events\n",
    "- Using the example of the roll of a dice, the probability of getting an even number = 3/6 = 0.5\n",
    "\n",
    "Similarly, we can calculate the risk of an event by considering the probabilities instead of odds\n",
    "\n",
    "![test_count_risk_death.png](images/test_count_risk_death.png)\n",
    "\n",
    "The relative risk can be interpreted in the following way:\n",
    "\n",
    "<table align=\"left\">\n",
    "<thead>\n",
    "<tr><th>Relative risk</th><th>Interpretation</th></tr>\n",
    "</thead>\n",
    "<tbody>\n",
    "<tr><td>1</td><td>Equal risk of either outcome in dependent variable</td>\n",
    "<tr><td>&lt 1</td><td>Decreased risk of the outcome observed (numerator)</td>\n",
    "<tr><td>&gt 1</td><td>Increased risk of the outcome observed (numerator)</td>\n",
    "</tbody>\n",
    "</table>"
   ]
  },
  {
   "cell_type": "code",
   "execution_count": 17,
   "metadata": {
    "jupyter": {
     "source_hidden": true
    },
    "tags": [
     "hide-input"
    ]
   },
   "outputs": [],
   "source": [
    "data_table %>% \n",
    "print_table"
   ]
  },
  {
   "cell_type": "code",
   "execution_count": 18,
   "metadata": {
    "jupyter": {
     "source_hidden": true
    },
    "tags": [
     "hide-input"
    ]
   },
   "outputs": [],
   "source": [
    "# calculate probability of death in non-infected patients (baseline)\n",
    "c <- data_table[2,1]\n",
    "d <- data_table[2,2]\n",
    "\n",
    "prob_death_in_not_infected <- c/(c+d)\n",
    "\n",
    "# calculate probability of death in infected patients (exposed)\n",
    "\n",
    "a <- data_table[1,1]\n",
    "b <- data_table[1,2]\n",
    "\n",
    "prob_death_in_infected <- a/(a+b)\n",
    "\n",
    "# calculate relative \"risk\" of survival in infected vs non-infected patients\n",
    "RR <- prob_death_in_infected/prob_death_in_not_infected\n",
    "\n",
    "RR"
   ]
  },
  {
   "cell_type": "markdown",
   "metadata": {},
   "source": [
    "The relative risk indicates that the relative risk of death in patients with infection is\n",
    "- ~2 x compared to those without infection\n",
    "- ~100% more likely compared to those without infection"
   ]
  },
  {
   "cell_type": "markdown",
   "metadata": {},
   "source": [
    "**Using a function**\n",
    "\n",
    "We can use the `riskratio` function from the `epitools` library and specify the `rev=\"both\"` option to keep to the contingency table conventions for exposure/outcome \n",
    "- To get the output, we use the `$` selector for `measure`"
   ]
  },
  {
   "cell_type": "code",
   "execution_count": 19,
   "metadata": {
    "tags": [
     "hide-input"
    ]
   },
   "outputs": [],
   "source": [
    "epitools::riskratio(data_table, rev = \"both\")$measure"
   ]
  },
  {
   "cell_type": "markdown",
   "metadata": {},
   "source": [
    "### Caution\n",
    "\n",
    "Note that the use of relative risk is suited when the population at risk is _known_\n",
    "- For example, the probability of death in infected patients can be calculated as  we know the number of patients have infection and are at risk of dying\n",
    "- It is best suited for prospective cohort data where all patients are enrolled and tracked, hence the population at risk is **known**\n",
    "- In retrospective studies, we often do not know the population at risk, as the exposure is usually **not** known\n",
    "\n",
    "For details see: https://www.ncbi.nlm.nih.gov/pmc/articles/PMC4640017/"
   ]
  },
  {
   "cell_type": "markdown",
   "metadata": {
    "tags": []
   },
   "source": [
    "---\n",
    "## Exercise - Comparing counts 2x2 categories\n",
    "\n",
    "For this exercise, we will use the same ICU dataset. The dataset includes 200 observations from ICU patients with the following variables\n",
    "- `Age`\n",
    "- `AgeGroup`: 1= young (under 50), 2= middle (50-69), 3 = old (70+)\n",
    "- `Sex`: 1=female or 0=male\n",
    "- `Emergency`: 1=emergency admission or 0=elective admission\n",
    "- `SysBP`: Systolic blood pressure (mmHg)\n",
    "- `PulseRate`: Heart rate (beats per minute)\n",
    "- `Infection`: 1=infection suspected or 0=no infection\n",
    "- `Death`: 1=patient died or 0=patient survived to discharge"
   ]
  },
  {
   "cell_type": "code",
   "execution_count": null,
   "metadata": {},
   "outputs": [],
   "source": [
    "library(tidyverse)\n",
    "\n",
    "data <- read_csv(\"https://raw.githubusercontent.com/kennethban/dataset/main/icu.csv\")\n",
    "\n",
    "data <- data %>% mutate(...1 = NULL,\n",
    "                        Survive=as.factor(Survive),\n",
    "                        Sex=as.factor(Sex),\n",
    "                        Infection=as.factor(Infection),\n",
    "                        Emergency=as.factor(Emergency)) %>%\n",
    "                 mutate(Death = case_when(Survive == \"0\" ~ \"1\",\n",
    "                                          Survive == \"1\" ~ \"0\"),\n",
    "                        Death = as.factor(Death),\n",
    "                        Survive = NULL)\n",
    " \n",
    "head(data)"
   ]
  },
  {
   "cell_type": "markdown",
   "metadata": {},
   "source": [
    "We will create a local `print_table` function to format the crosstables"
   ]
  },
  {
   "cell_type": "code",
   "execution_count": null,
   "metadata": {
    "tags": []
   },
   "outputs": [],
   "source": [
    "# cross-table convenience function\n",
    "print_table <- function(input, margin=F) {\n",
    "    \n",
    "    input <- htmlTable::txtRound(input,1)\n",
    "    if (margin == T) { input <- addmargins(input)}\n",
    "\n",
    "    input %>% \n",
    "    htmlTable::htmlTable(css.rgroup = \"font-weight: 900; text-align: left;\") %>%\n",
    "    IRdisplay::display_html() \n",
    "    \n",
    "}"
   ]
  },
  {
   "cell_type": "markdown",
   "metadata": {},
   "source": [
    "### Part 1\n",
    "\n",
    "Create a contingency table of counts with the `Emergency` and `Death` variables using the `table` function and store it in `table_ex`\n",
    "- Ensure the exposure and outcome are ordered in the conventional manner (Hint: use `fct_relevel` if necessary)\n",
    "\n",
    "![test_count_fisher_table_small_label.png](images/test_count_fisher_table_small_label.png)\n",
    "\n",
    "Print out the table using the local `print_table` function"
   ]
  },
  {
   "cell_type": "code",
   "execution_count": null,
   "metadata": {},
   "outputs": [],
   "source": [
    "# start here"
   ]
  },
  {
   "cell_type": "code",
   "execution_count": null,
   "metadata": {
    "jupyter": {
     "source_hidden": true
    },
    "tags": [
     "hide-cell"
    ]
   },
   "outputs": [],
   "source": [
    "# solution\n",
    "\n",
    "table_ex <- data %>% \n",
    "            select(Emergency, Death) %>%\n",
    "            mutate(Emergency=fct_relevel(Emergency, \"1\", \"0\"))  %>%\n",
    "            mutate(Death=fct_relevel(Death, \"1\", \"0\"))  %>%\n",
    "            table\n",
    "\n",
    "table_ex %>% print_table"
   ]
  },
  {
   "cell_type": "markdown",
   "metadata": {},
   "source": [
    "### Part 2\n",
    "\n",
    "Plot a proportional barchart with `Emergency` and `Death` variables using `ggplot` from `tidyverse`\n",
    "- `x`: Independent variable (exposure)\n",
    "- `y`: Dependent variable (outcome)"
   ]
  },
  {
   "cell_type": "code",
   "execution_count": null,
   "metadata": {},
   "outputs": [],
   "source": [
    "library(tidyverse)\n",
    "\n",
    "# start here"
   ]
  },
  {
   "cell_type": "code",
   "execution_count": null,
   "metadata": {
    "jupyter": {
     "source_hidden": true
    },
    "tags": [
     "hide-cell"
    ]
   },
   "outputs": [],
   "source": [
    "# solution\n",
    "\n",
    "# set plot dimension\n",
    "options(repr.plot.width=8, repr.plot.height=8)\n",
    "\n",
    "data %>% \n",
    "ggplot(aes(x=Emergency,fill=Death)) +\n",
    "  geom_bar(position=\"fill\") +\n",
    "  theme_grey(base_size=20)"
   ]
  },
  {
   "cell_type": "markdown",
   "metadata": {},
   "source": [
    "### Part 3\n",
    "\n",
    "Use `table_ex` to calculate the p-value using the `fisher_test` function from the `rstatix` library"
   ]
  },
  {
   "cell_type": "code",
   "execution_count": null,
   "metadata": {},
   "outputs": [],
   "source": [
    "# start here"
   ]
  },
  {
   "cell_type": "code",
   "execution_count": null,
   "metadata": {
    "jupyter": {
     "source_hidden": true
    },
    "tags": [
     "hide-cell"
    ]
   },
   "outputs": [],
   "source": [
    "# solution\n",
    "\n",
    "table_ex %>% \n",
    "rstatix::fisher_test(detailed=T)"
   ]
  },
  {
   "cell_type": "markdown",
   "metadata": {},
   "source": [
    "### Part 4\n",
    "\n",
    "Use `table_ex` to calculate the odds ratio of death if the patient had an emergency admission using the `oddsratio` function from the `epitools` library\n",
    "- Note the order of the values in the table, which determines the reference"
   ]
  },
  {
   "cell_type": "code",
   "execution_count": null,
   "metadata": {
    "tags": []
   },
   "outputs": [],
   "source": [
    "# start here"
   ]
  },
  {
   "cell_type": "code",
   "execution_count": null,
   "metadata": {
    "collapsed": true,
    "jupyter": {
     "outputs_hidden": true,
     "source_hidden": true
    },
    "tags": [
     "hide-cell"
    ]
   },
   "outputs": [],
   "source": [
    "# solution\n",
    "\n",
    "epitools::oddsratio(table_ex, rev = \"both\")$measure"
   ]
  }
 ],
 "metadata": {
  "kernelspec": {
   "display_name": "R",
   "language": "R",
   "name": "ir"
  },
  "language_info": {
   "codemirror_mode": "r",
   "file_extension": ".r",
   "mimetype": "text/x-r-source",
   "name": "R",
   "pygments_lexer": "r",
   "version": "4.2.3"
  }
 },
 "nbformat": 4,
 "nbformat_minor": 4
}
