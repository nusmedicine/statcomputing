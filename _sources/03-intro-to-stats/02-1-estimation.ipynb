{
 "cells": [
  {
   "cell_type": "markdown",
   "metadata": {
    "tags": []
   },
   "source": [
    "# Estimating Mean/Variance of a Population\n",
    "\n",
    "We would like to infer the measures of centrality and spread of a population based on a representative/random sample\n",
    "\n",
    "![estimation_point.png](images/estimation_point.png)"
   ]
  },
  {
   "cell_type": "markdown",
   "metadata": {
    "tags": []
   },
   "source": [
    "## Data preparation\n",
    "\n",
    "Let's simulate a population and see how we can estimate its mean/variance through a random sample\n",
    "\n",
    "We'll simulate a population of 100,000 residents with their height (cm) measurements"
   ]
  },
  {
   "cell_type": "code",
   "execution_count": null,
   "metadata": {
    "jupyter": {
     "source_hidden": true
    },
    "slideshow": {
     "slide_type": "slide"
    },
    "tags": [
     "hide-input"
    ]
   },
   "outputs": [
    {
     "name": "stderr",
     "output_type": "stream",
     "text": [
      "── \u001b[1mAttaching packages\u001b[22m ─────────────────────────────────────── tidyverse 1.3.1 ──\n",
      "\n",
      "\u001b[32m✔\u001b[39m \u001b[34mggplot2\u001b[39m 3.3.5     \u001b[32m✔\u001b[39m \u001b[34mpurrr  \u001b[39m 0.3.4\n",
      "\u001b[32m✔\u001b[39m \u001b[34mtibble \u001b[39m 3.1.6     \u001b[32m✔\u001b[39m \u001b[34mdplyr  \u001b[39m 1.0.8\n",
      "\u001b[32m✔\u001b[39m \u001b[34mtidyr  \u001b[39m 1.2.0     \u001b[32m✔\u001b[39m \u001b[34mstringr\u001b[39m 1.4.0\n",
      "\u001b[32m✔\u001b[39m \u001b[34mreadr  \u001b[39m 2.1.2     \u001b[32m✔\u001b[39m \u001b[34mforcats\u001b[39m 0.5.1\n",
      "\n",
      "── \u001b[1mConflicts\u001b[22m ────────────────────────────────────────── tidyverse_conflicts() ──\n",
      "\u001b[31m✖\u001b[39m \u001b[34mdplyr\u001b[39m::\u001b[32mfilter()\u001b[39m masks \u001b[34mstats\u001b[39m::filter()\n",
      "\u001b[31m✖\u001b[39m \u001b[34mdplyr\u001b[39m::\u001b[32mlag()\u001b[39m    masks \u001b[34mstats\u001b[39m::lag()\n",
      "\n"
     ]
    },
    {
     "data": {
      "image/png": "[encoded data removed]",
      "text/plain": [
       "plot without title"
      ]
     },
     "metadata": {
      "image/png": {
       "height": 480,
       "width": 480
      }
     },
     "output_type": "display_data"
    }
   ],
   "source": [
    "library(tidyverse)\n",
    "\n",
    "# Imagine a town with 100,000 residents and measure everyone's height (cm)\n",
    "population <- rnorm(100000,160,25)\n",
    "\n",
    "# set plot dimensions\n",
    "options(repr.plot.width=8, repr.plot.height=8)\n",
    "\n",
    "population %>% \n",
    "tibble(height=.) %>% \n",
    "ggplot(aes(x=height)) + \n",
    "  geom_histogram(fill=\"salmon\", binwidth=1) +\n",
    "  theme_grey(base_size=16)"
   ]
  },
  {
   "cell_type": "markdown",
   "metadata": {},
   "source": [
    "Here, we can calculate the population mean and variance that we will try and estimate through sampling\n",
    "\n",
    "$$\n",
    "\\mu=\\frac{\\sum{x}}{n}\n",
    "$$\n",
    "\n",
    "\n",
    "$$\n",
    "\\mathit{var}=\\frac{\\sum(x-\\bar{x})^{2}}{n}\n",
    "$$"
   ]
  },
  {
   "cell_type": "code",
   "execution_count": null,
   "metadata": {
    "jupyter": {
     "source_hidden": true
    },
    "tags": [
     "hide-input"
    ]
   },
   "outputs": [
    {
     "data": {
      "text/html": [
       "<table class=\"dataframe\">\n",
       "<caption>A tibble: 2 × 2</caption>\n",
       "<thead>\n",
       "\t<tr><th scope=col>stat</th><th scope=col>value</th></tr>\n",
       "\t<tr><th scope=col>&lt;chr&gt;</th><th scope=col>&lt;dbl&gt;</th></tr>\n",
       "</thead>\n",
       "<tbody>\n",
       "\t<tr><td>Population mean    </td><td>159.9228</td></tr>\n",
       "\t<tr><td>Population variance</td><td>622.2319</td></tr>\n",
       "</tbody>\n",
       "</table>\n"
      ],
      "text/latex": [
       "A tibble: 2 × 2\n",
       "\\begin{tabular}{ll}\n",
       " stat & value\\\\\n",
       " <chr> & <dbl>\\\\\n",
       "\\hline\n",
       "\t Population mean     & 159.9228\\\\\n",
       "\t Population variance & 622.2319\\\\\n",
       "\\end{tabular}\n"
      ],
      "text/markdown": [
       "\n",
       "A tibble: 2 × 2\n",
       "\n",
       "| stat &lt;chr&gt; | value &lt;dbl&gt; |\n",
       "|---|---|\n",
       "| Population mean     | 159.9228 |\n",
       "| Population variance | 622.2319 |\n",
       "\n"
      ],
      "text/plain": [
       "  stat                value   \n",
       "1 Population mean     159.9228\n",
       "2 Population variance 622.2319"
      ]
     },
     "metadata": {},
     "output_type": "display_data"
    }
   ],
   "source": [
    "variance <- function(data) {\n",
    "    \n",
    "    input_mean <- mean(data)\n",
    "    sum_squares <- sum((data-input_mean)^2)\n",
    "    num_input <- length(data)\n",
    "    variance <- sum_squares/num_input\n",
    "    \n",
    "    return(variance)\n",
    "    \n",
    "}\n",
    "\n",
    "population_mean <- mean(population)\n",
    "population_var <- variance(population)\n",
    "\n",
    "tibble(stat=c(\"Population mean\",\"Population variance\"),\n",
    "       value=c(population_mean, population_var))"
   ]
  },
  {
   "cell_type": "markdown",
   "metadata": {
    "tags": []
   },
   "source": [
    "## What are the estimates of mean and variance in one sample?\n",
    "\n",
    "Let's try and take one sample (n=10) and calculate the mean and variance of the sample and see if it resembles the population parameters"
   ]
  },
  {
   "cell_type": "code",
   "execution_count": null,
   "metadata": {
    "jupyter": {
     "source_hidden": true
    },
    "tags": [
     "hide-input"
    ]
   },
   "outputs": [
    {
     "data": {
      "text/html": [
       "<table class=\"dataframe\">\n",
       "<caption>A tibble: 4 × 2</caption>\n",
       "<thead>\n",
       "\t<tr><th scope=col>stat</th><th scope=col>value</th></tr>\n",
       "\t<tr><th scope=col>&lt;chr&gt;</th><th scope=col>&lt;dbl&gt;</th></tr>\n",
       "</thead>\n",
       "<tbody>\n",
       "\t<tr><td>Population mean    </td><td>159.9228</td></tr>\n",
       "\t<tr><td>Population variance</td><td>622.2319</td></tr>\n",
       "\t<tr><td>Sample mean        </td><td>164.0804</td></tr>\n",
       "\t<tr><td>Sample variance    </td><td>342.2688</td></tr>\n",
       "</tbody>\n",
       "</table>\n"
      ],
      "text/latex": [
       "A tibble: 4 × 2\n",
       "\\begin{tabular}{ll}\n",
       " stat & value\\\\\n",
       " <chr> & <dbl>\\\\\n",
       "\\hline\n",
       "\t Population mean     & 159.9228\\\\\n",
       "\t Population variance & 622.2319\\\\\n",
       "\t Sample mean         & 164.0804\\\\\n",
       "\t Sample variance     & 342.2688\\\\\n",
       "\\end{tabular}\n"
      ],
      "text/markdown": [
       "\n",
       "A tibble: 4 × 2\n",
       "\n",
       "| stat &lt;chr&gt; | value &lt;dbl&gt; |\n",
       "|---|---|\n",
       "| Population mean     | 159.9228 |\n",
       "| Population variance | 622.2319 |\n",
       "| Sample mean         | 164.0804 |\n",
       "| Sample variance     | 342.2688 |\n",
       "\n"
      ],
      "text/plain": [
       "  stat                value   \n",
       "1 Population mean     159.9228\n",
       "2 Population variance 622.2319\n",
       "3 Sample mean         164.0804\n",
       "4 Sample variance     342.2688"
      ]
     },
     "metadata": {},
     "output_type": "display_data"
    }
   ],
   "source": [
    "# sample once and report the mean and variance\n",
    "# you can rerun this cell to see how it changes with each sample\n",
    "sample_data <- sample(population, size=10, replace=F)\n",
    "\n",
    "sample_mean <- mean(sample_data)\n",
    "sample_var <- variance(sample_data)\n",
    "\n",
    "tibble(stat=c(\"Population mean\",\"Population variance\",\n",
    "              \"Sample mean\",\"Sample variance\"),\n",
    "       value=c(population_mean, population_var, \n",
    "               sample_mean,sample_var))"
   ]
  },
  {
   "cell_type": "markdown",
   "metadata": {},
   "source": [
    "## How are the sample estimates over a long run?\n",
    "\n",
    "Let us repeat the samples multiple times to see how these sample estimates change over the long run. We can also determine the average of these sample estimates and to see if they approximate the population estimates\n",
    "\n",
    "We define a function `sample_multiple` that repeats the sampling and calculates the sample mean and variance for each replicate\n",
    "\n",
    "```\n",
    "sample_multiple(num_replicate = number of replicates,\n",
    "                num_sample = sample size per replicate\n",
    "                pop = population)\n",
    "```"
   ]
  },
  {
   "cell_type": "code",
   "execution_count": null,
   "metadata": {
    "jupyter": {
     "source_hidden": true
    },
    "tags": [
     "hide-cell"
    ]
   },
   "outputs": [],
   "source": [
    "# function to generate replicates by calling sample_once function\n",
    "sample_multiple <- function(num_replicate, num_sample, pop) {\n",
    "    \n",
    "    replicate(num_replicate, \n",
    "              tibble(value=sample(pop, num_sample, replace=F)), \n",
    "              simplify = FALSE) %>%\n",
    "    bind_rows %>% \n",
    "    mutate(replicate=rep(1:num_replicate, each=num_sample), n=num_sample) %>% # add replicate and sample numbers\n",
    "    return\n",
    "    \n",
    "}"
   ]
  },
  {
   "cell_type": "code",
   "execution_count": null,
   "metadata": {
    "tags": []
   },
   "outputs": [
    {
     "data": {
      "text/html": [
       "<table class=\"dataframe\">\n",
       "<caption>A tibble: 6 × 3</caption>\n",
       "<thead>\n",
       "\t<tr><th scope=col>value</th><th scope=col>replicate</th><th scope=col>n</th></tr>\n",
       "\t<tr><th scope=col>&lt;dbl&gt;</th><th scope=col>&lt;int&gt;</th><th scope=col>&lt;dbl&gt;</th></tr>\n",
       "</thead>\n",
       "<tbody>\n",
       "\t<tr><td>141.71346</td><td>1</td><td>10</td></tr>\n",
       "\t<tr><td>103.32544</td><td>1</td><td>10</td></tr>\n",
       "\t<tr><td>173.17304</td><td>1</td><td>10</td></tr>\n",
       "\t<tr><td> 97.96835</td><td>1</td><td>10</td></tr>\n",
       "\t<tr><td>150.16176</td><td>1</td><td>10</td></tr>\n",
       "\t<tr><td>147.55589</td><td>1</td><td>10</td></tr>\n",
       "</tbody>\n",
       "</table>\n"
      ],
      "text/latex": [
       "A tibble: 6 × 3\n",
       "\\begin{tabular}{lll}\n",
       " value & replicate & n\\\\\n",
       " <dbl> & <int> & <dbl>\\\\\n",
       "\\hline\n",
       "\t 141.71346 & 1 & 10\\\\\n",
       "\t 103.32544 & 1 & 10\\\\\n",
       "\t 173.17304 & 1 & 10\\\\\n",
       "\t  97.96835 & 1 & 10\\\\\n",
       "\t 150.16176 & 1 & 10\\\\\n",
       "\t 147.55589 & 1 & 10\\\\\n",
       "\\end{tabular}\n"
      ],
      "text/markdown": [
       "\n",
       "A tibble: 6 × 3\n",
       "\n",
       "| value &lt;dbl&gt; | replicate &lt;int&gt; | n &lt;dbl&gt; |\n",
       "|---|---|---|\n",
       "| 141.71346 | 1 | 10 |\n",
       "| 103.32544 | 1 | 10 |\n",
       "| 173.17304 | 1 | 10 |\n",
       "|  97.96835 | 1 | 10 |\n",
       "| 150.16176 | 1 | 10 |\n",
       "| 147.55589 | 1 | 10 |\n",
       "\n"
      ],
      "text/plain": [
       "  value     replicate n \n",
       "1 141.71346 1         10\n",
       "2 103.32544 1         10\n",
       "3 173.17304 1         10\n",
       "4  97.96835 1         10\n",
       "5 150.16176 1         10\n",
       "6 147.55589 1         10"
      ]
     },
     "metadata": {},
     "output_type": "display_data"
    },
    {
     "data": {
      "text/html": [
       "<table class=\"dataframe\">\n",
       "<caption>A tibble: 6 × 3</caption>\n",
       "<thead>\n",
       "\t<tr><th scope=col>value</th><th scope=col>replicate</th><th scope=col>n</th></tr>\n",
       "\t<tr><th scope=col>&lt;dbl&gt;</th><th scope=col>&lt;int&gt;</th><th scope=col>&lt;dbl&gt;</th></tr>\n",
       "</thead>\n",
       "<tbody>\n",
       "\t<tr><td>176.4706</td><td>1000</td><td>10</td></tr>\n",
       "\t<tr><td>116.2507</td><td>1000</td><td>10</td></tr>\n",
       "\t<tr><td>141.1083</td><td>1000</td><td>10</td></tr>\n",
       "\t<tr><td>161.2064</td><td>1000</td><td>10</td></tr>\n",
       "\t<tr><td>106.4631</td><td>1000</td><td>10</td></tr>\n",
       "\t<tr><td>170.9804</td><td>1000</td><td>10</td></tr>\n",
       "</tbody>\n",
       "</table>\n"
      ],
      "text/latex": [
       "A tibble: 6 × 3\n",
       "\\begin{tabular}{lll}\n",
       " value & replicate & n\\\\\n",
       " <dbl> & <int> & <dbl>\\\\\n",
       "\\hline\n",
       "\t 176.4706 & 1000 & 10\\\\\n",
       "\t 116.2507 & 1000 & 10\\\\\n",
       "\t 141.1083 & 1000 & 10\\\\\n",
       "\t 161.2064 & 1000 & 10\\\\\n",
       "\t 106.4631 & 1000 & 10\\\\\n",
       "\t 170.9804 & 1000 & 10\\\\\n",
       "\\end{tabular}\n"
      ],
      "text/markdown": [
       "\n",
       "A tibble: 6 × 3\n",
       "\n",
       "| value &lt;dbl&gt; | replicate &lt;int&gt; | n &lt;dbl&gt; |\n",
       "|---|---|---|\n",
       "| 176.4706 | 1000 | 10 |\n",
       "| 116.2507 | 1000 | 10 |\n",
       "| 141.1083 | 1000 | 10 |\n",
       "| 161.2064 | 1000 | 10 |\n",
       "| 106.4631 | 1000 | 10 |\n",
       "| 170.9804 | 1000 | 10 |\n",
       "\n"
      ],
      "text/plain": [
       "  value    replicate n \n",
       "1 176.4706 1000      10\n",
       "2 116.2507 1000      10\n",
       "3 141.1083 1000      10\n",
       "4 161.2064 1000      10\n",
       "5 106.4631 1000      10\n",
       "6 170.9804 1000      10"
      ]
     },
     "metadata": {},
     "output_type": "display_data"
    }
   ],
   "source": [
    "# for reproducibility\n",
    "set.seed(101)\n",
    "\n",
    "# sample 10 at a time, and repeat 1000 times for each sample\n",
    "sample_1000 <- sample_multiple(num_replicate=1000,\n",
    "                               num_sample=10,\n",
    "                               pop=population)\n",
    "\n",
    "head(sample_1000)\n",
    "tail(sample_1000)"
   ]
  },
  {
   "cell_type": "markdown",
   "metadata": {
    "tags": []
   },
   "source": [
    "We will visualize the distribution of the sample mean and variance estimates over 1000 replicates. We will then calculate the average of these sample estimates and compare them to the population estimates\n",
    "- `red` line indicates the population estimate\n",
    "- `blue` line indicates the average of the sample estimate over 1000 replicates"
   ]
  },
  {
   "cell_type": "code",
   "execution_count": null,
   "metadata": {
    "jupyter": {
     "source_hidden": true
    },
    "tags": [
     "hide-input",
     "hide-cell"
    ]
   },
   "outputs": [],
   "source": [
    "estimate_mean_var <- sample_1000 %>% \n",
    "                     group_by(replicate) %>%\n",
    "                     summarize(mean = mean(value), \n",
    "                               var = variance(value))\n",
    "\n",
    "# find average estimates of mean and variance over multiple runs\n",
    "estimate_mean <- estimate_mean_var %>% \n",
    "                 pull(mean) %>% \n",
    "                 mean\n",
    "estimate_var <- estimate_mean_var %>% \n",
    "                pull(var) %>% \n",
    "                mean"
   ]
  },
  {
   "cell_type": "code",
   "execution_count": null,
   "metadata": {
    "jupyter": {
     "source_hidden": true
    },
    "tags": [
     "hide-input"
    ]
   },
   "outputs": [
    {
     "name": "stderr",
     "output_type": "stream",
     "text": [
      "`stat_bin()` using `bins = 30`. Pick better value with `binwidth`.\n",
      "\n",
      "`stat_bin()` using `bins = 30`. Pick better value with `binwidth`.\n",
      "\n"
     ]
    },
    {
     "data": {
      "image/png": "[encoded data removed]",
      "text/plain": [
       "plot without title"
      ]
     },
     "metadata": {
      "image/png": {
       "height": 480,
       "width": 480
      }
     },
     "output_type": "display_data"
    },
    {
     "data": {
      "image/png": "[encoded data removed]",
      "text/plain": [
       "plot without title"
      ]
     },
     "metadata": {
      "image/png": {
       "height": 480,
       "width": 480
      }
     },
     "output_type": "display_data"
    }
   ],
   "source": [
    "# set plot dimensions\n",
    "options(repr.plot.width=8, repr.plot.height=8)\n",
    "\n",
    "estimate_mean_var %>% \n",
    "ggplot(aes(x=mean)) + \n",
    "  geom_histogram(alpha=0.5) +\n",
    "  geom_vline(xintercept = population_mean, color=\"red\", size=1) +\n",
    "  geom_vline(xintercept = estimate_mean, color=\"blue\", size=1) +\n",
    "  theme_grey(base_size=16)\n",
    "\n",
    "estimate_mean_var %>% \n",
    "ggplot(aes(x=var)) + \n",
    "  geom_histogram(alpha=0.5) +\n",
    "  geom_vline(xintercept = population_var, color=\"red\", size=1) +\n",
    "  geom_vline(xintercept = estimate_var, color=\"blue\", size=1) +\n",
    "  theme_grey(base_size=16)"
   ]
  },
  {
   "cell_type": "code",
   "execution_count": null,
   "metadata": {
    "jupyter": {
     "source_hidden": true
    },
    "tags": [
     "hide-input"
    ]
   },
   "outputs": [
    {
     "data": {
      "text/html": [
       "<table class=\"dataframe\">\n",
       "<caption>A tibble: 4 × 2</caption>\n",
       "<thead>\n",
       "\t<tr><th scope=col>stat</th><th scope=col>value</th></tr>\n",
       "\t<tr><th scope=col>&lt;chr&gt;</th><th scope=col>&lt;dbl&gt;</th></tr>\n",
       "</thead>\n",
       "<tbody>\n",
       "\t<tr><td>Population mean    </td><td>159.9228</td></tr>\n",
       "\t<tr><td>Population variance</td><td>622.2319</td></tr>\n",
       "\t<tr><td>Sample mean        </td><td>160.2225</td></tr>\n",
       "\t<tr><td>Sample variance    </td><td>566.1102</td></tr>\n",
       "</tbody>\n",
       "</table>\n"
      ],
      "text/latex": [
       "A tibble: 4 × 2\n",
       "\\begin{tabular}{ll}\n",
       " stat & value\\\\\n",
       " <chr> & <dbl>\\\\\n",
       "\\hline\n",
       "\t Population mean     & 159.9228\\\\\n",
       "\t Population variance & 622.2319\\\\\n",
       "\t Sample mean         & 160.2225\\\\\n",
       "\t Sample variance     & 566.1102\\\\\n",
       "\\end{tabular}\n"
      ],
      "text/markdown": [
       "\n",
       "A tibble: 4 × 2\n",
       "\n",
       "| stat &lt;chr&gt; | value &lt;dbl&gt; |\n",
       "|---|---|\n",
       "| Population mean     | 159.9228 |\n",
       "| Population variance | 622.2319 |\n",
       "| Sample mean         | 160.2225 |\n",
       "| Sample variance     | 566.1102 |\n",
       "\n"
      ],
      "text/plain": [
       "  stat                value   \n",
       "1 Population mean     159.9228\n",
       "2 Population variance 622.2319\n",
       "3 Sample mean         160.2225\n",
       "4 Sample variance     566.1102"
      ]
     },
     "metadata": {},
     "output_type": "display_data"
    }
   ],
   "source": [
    "tibble(stat=c(\"Population mean\",\"Population variance\",\n",
    "              \"Sample mean\",\"Sample variance\"),\n",
    "       value=c(population_mean, population_var, \n",
    "               estimate_mean,estimate_var))"
   ]
  },
  {
   "cell_type": "markdown",
   "metadata": {},
   "source": [
    "It appears that in multiple samples over a long run:\n",
    "- The sample mean is a good estimate of the population mean\n",
    "- The sample variance is _underestimating_ the population variance\n",
    "\n",
    "To address the underestimation of the population variance, we will define another function ```variance_unbiased``` that includes a correction factor\n",
    "\n",
    "$$\n",
    "\\mathit{var}=\\frac{\\sum(x-\\bar{x})^{2}}{n-1}\n",
    "$$\n",
    "\n",
    "\n",
    "- Instead of dividing the sum of squares by the number of samples, we divide it by the `number of samples minus 1`"
   ]
  },
  {
   "cell_type": "code",
   "execution_count": null,
   "metadata": {
    "jupyter": {
     "source_hidden": true
    },
    "tags": [
     "hide-cell"
    ]
   },
   "outputs": [],
   "source": [
    "variance_unbiased <- function(data) {\n",
    "    \n",
    "    input_mean <- mean(data)\n",
    "    sum_squares <- sum((data-input_mean)^2)\n",
    "    num_input <- length(data) - 1          # correction factor\n",
    "    variance_unbiased <- sum_squares/num_input\n",
    "    \n",
    "    return(variance_unbiased)\n",
    "}"
   ]
  },
  {
   "cell_type": "markdown",
   "metadata": {},
   "source": [
    "We will take 1000 replicates of samples (n=10) from the population and find the average of the sample mean and unbiased variance estimators"
   ]
  },
  {
   "cell_type": "code",
   "execution_count": null,
   "metadata": {
    "jupyter": {
     "source_hidden": true
    },
    "tags": [
     "hide-cell"
    ]
   },
   "outputs": [],
   "source": [
    "estimate_mean_var_unbiased <- sample_1000 %>% \n",
    "                              group_by(replicate) %>%\n",
    "                              summarize(mean=mean(value), \n",
    "                                        var=variance_unbiased(value))\n",
    "\n",
    "estimate_var_unbiased <- estimate_mean_var_unbiased %>% \n",
    "                         pull(var) %>% \n",
    "                         mean"
   ]
  },
  {
   "cell_type": "markdown",
   "metadata": {},
   "source": [
    "We can plot the distribution and compare the average of the sample estimates with the population estimates\n",
    "- `red` line indicates the population estimate\n",
    "- `blue` line indicates the average of sample estimate over 1000 replicates"
   ]
  },
  {
   "cell_type": "code",
   "execution_count": null,
   "metadata": {
    "jupyter": {
     "source_hidden": true
    },
    "tags": [
     "hide-input"
    ]
   },
   "outputs": [
    {
     "name": "stderr",
     "output_type": "stream",
     "text": [
      "`stat_bin()` using `bins = 30`. Pick better value with `binwidth`.\n",
      "\n",
      "`stat_bin()` using `bins = 30`. Pick better value with `binwidth`.\n",
      "\n"
     ]
    },
    {
     "data": {
      "image/png": "[encoded data removed]",
      "text/plain": [
       "plot without title"
      ]
     },
     "metadata": {
      "image/png": {
       "height": 480,
       "width": 480
      }
     },
     "output_type": "display_data"
    },
    {
     "data": {
      "image/png": "[encoded data removed]",
      "text/plain": [
       "plot without title"
      ]
     },
     "metadata": {
      "image/png": {
       "height": 480,
       "width": 480
      }
     },
     "output_type": "display_data"
    }
   ],
   "source": [
    "# set plot dimensions\n",
    "options(repr.plot.width=8, repr.plot.height=8)\n",
    "\n",
    "estimate_mean_var_unbiased %>% \n",
    "ggplot(aes(x=mean)) + \n",
    "  geom_histogram(alpha=0.5) +\n",
    "  geom_vline(xintercept = population_mean, color=\"red\", size=1) +\n",
    "  geom_vline(xintercept = estimate_mean, color=\"blue\", size=1) +\n",
    "  theme_grey(base_size=16)\n",
    "\n",
    "estimate_mean_var_unbiased %>% \n",
    "ggplot(aes(x=var)) + \n",
    "  geom_histogram(alpha=0.5) +\n",
    "  geom_vline(xintercept = population_var, color=\"red\", size=1) +\n",
    "  geom_vline(xintercept = estimate_var_unbiased, color=\"blue\", size=1) +\n",
    "  theme_grey(base_size=16)"
   ]
  },
  {
   "cell_type": "code",
   "execution_count": null,
   "metadata": {
    "jupyter": {
     "source_hidden": true
    },
    "tags": [
     "hide-input"
    ]
   },
   "outputs": [
    {
     "data": {
      "text/html": [
       "<table class=\"dataframe\">\n",
       "<caption>A tibble: 5 × 2</caption>\n",
       "<thead>\n",
       "\t<tr><th scope=col>stat</th><th scope=col>value</th></tr>\n",
       "\t<tr><th scope=col>&lt;chr&gt;</th><th scope=col>&lt;dbl&gt;</th></tr>\n",
       "</thead>\n",
       "<tbody>\n",
       "\t<tr><td>Population mean           </td><td>159.9228</td></tr>\n",
       "\t<tr><td>Population variance       </td><td>622.2319</td></tr>\n",
       "\t<tr><td>Sample mean               </td><td>160.2225</td></tr>\n",
       "\t<tr><td>Sample variance           </td><td>566.1102</td></tr>\n",
       "\t<tr><td>Sample variance (unbiased)</td><td>629.0114</td></tr>\n",
       "</tbody>\n",
       "</table>\n"
      ],
      "text/latex": [
       "A tibble: 5 × 2\n",
       "\\begin{tabular}{ll}\n",
       " stat & value\\\\\n",
       " <chr> & <dbl>\\\\\n",
       "\\hline\n",
       "\t Population mean            & 159.9228\\\\\n",
       "\t Population variance        & 622.2319\\\\\n",
       "\t Sample mean                & 160.2225\\\\\n",
       "\t Sample variance            & 566.1102\\\\\n",
       "\t Sample variance (unbiased) & 629.0114\\\\\n",
       "\\end{tabular}\n"
      ],
      "text/markdown": [
       "\n",
       "A tibble: 5 × 2\n",
       "\n",
       "| stat &lt;chr&gt; | value &lt;dbl&gt; |\n",
       "|---|---|\n",
       "| Population mean            | 159.9228 |\n",
       "| Population variance        | 622.2319 |\n",
       "| Sample mean                | 160.2225 |\n",
       "| Sample variance            | 566.1102 |\n",
       "| Sample variance (unbiased) | 629.0114 |\n",
       "\n"
      ],
      "text/plain": [
       "  stat                       value   \n",
       "1 Population mean            159.9228\n",
       "2 Population variance        622.2319\n",
       "3 Sample mean                160.2225\n",
       "4 Sample variance            566.1102\n",
       "5 Sample variance (unbiased) 629.0114"
      ]
     },
     "metadata": {},
     "output_type": "display_data"
    }
   ],
   "source": [
    "tibble(stat=c(\"Population mean\",\"Population variance\",\n",
    "              \"Sample mean\",\"Sample variance\",\n",
    "              \"Sample variance (unbiased)\"),\n",
    "       value=c(population_mean, population_var, \n",
    "               estimate_mean,estimate_var, estimate_var_unbiased))"
   ]
  },
  {
   "cell_type": "markdown",
   "metadata": {},
   "source": [
    "We see that the unbiased estimate of the variance with the correction factor is closer to the true population variance"
   ]
  },
  {
   "cell_type": "markdown",
   "metadata": {},
   "source": [
    "## Why is n-1 used as a correction in the sample variance estimation?\n",
    "- Intuitively:\n",
    "\n",
    "![sample_var.png](images/sample_var.png)\n",
    "\n",
    "- for a technical explanation see: http://mathcenter.oxford.emory.edu/site/math117/besselCorrection/\n"
   ]
  },
  {
   "cell_type": "markdown",
   "metadata": {},
   "source": [
    "## Why are unbiased sample estimators important?\n",
    "- The unbiased sample estimates of the mean and variance can be used as parameters to calculate the distribution of the population analytically using a theoretical distribution\n",
    "- In other words, the sample can be used to infer the population, provided we have an idea of the underlying distribution"
   ]
  },
  {
   "cell_type": "markdown",
   "metadata": {},
   "source": [
    "Let's take a sample of 100 people and calculate the sample mean and variance"
   ]
  },
  {
   "cell_type": "code",
   "execution_count": null,
   "metadata": {
    "jupyter": {
     "source_hidden": true
    },
    "tags": [
     "hide-input"
    ]
   },
   "outputs": [
    {
     "data": {
      "text/html": [
       "<table class=\"dataframe\">\n",
       "<caption>A tibble: 2 × 2</caption>\n",
       "<thead>\n",
       "\t<tr><th scope=col>stat</th><th scope=col>value</th></tr>\n",
       "\t<tr><th scope=col>&lt;chr&gt;</th><th scope=col>&lt;dbl&gt;</th></tr>\n",
       "</thead>\n",
       "<tbody>\n",
       "\t<tr><td>Sample mean    </td><td>159.2264</td></tr>\n",
       "\t<tr><td>Sample variance</td><td>605.9751</td></tr>\n",
       "</tbody>\n",
       "</table>\n"
      ],
      "text/latex": [
       "A tibble: 2 × 2\n",
       "\\begin{tabular}{ll}\n",
       " stat & value\\\\\n",
       " <chr> & <dbl>\\\\\n",
       "\\hline\n",
       "\t Sample mean     & 159.2264\\\\\n",
       "\t Sample variance & 605.9751\\\\\n",
       "\\end{tabular}\n"
      ],
      "text/markdown": [
       "\n",
       "A tibble: 2 × 2\n",
       "\n",
       "| stat &lt;chr&gt; | value &lt;dbl&gt; |\n",
       "|---|---|\n",
       "| Sample mean     | 159.2264 |\n",
       "| Sample variance | 605.9751 |\n",
       "\n"
      ],
      "text/plain": [
       "  stat            value   \n",
       "1 Sample mean     159.2264\n",
       "2 Sample variance 605.9751"
      ]
     },
     "metadata": {},
     "output_type": "display_data"
    }
   ],
   "source": [
    "num_samples <- 100\n",
    "\n",
    "# sample without replacement\n",
    "sample_fraction <- sample(population, size=num_samples, replace=F)\n",
    "\n",
    "# calculate sample mean and variance (unbiased)\n",
    "sample_mean <- mean(sample_fraction)\n",
    "sample_var <- sum((sample_fraction - sample_mean)^2)/(num_samples-1) # correction\n",
    "\n",
    "tibble(stat=c(\"Sample mean\",\"Sample variance\"),\n",
    "       value=c(sample_mean, sample_var))"
   ]
  },
  {
   "cell_type": "markdown",
   "metadata": {},
   "source": [
    "We can now use these sample estimates to recreate the population using a theoretical distribution \n",
    "- a normal distribution of heights is assumed\n",
    "- the shape of a normal distribution is determined by 2 parameters, the mean and the standard deviation (the square root of the variance)\n",
    "\n",
    "We generate values of heights from a theoretical normal distribution using the `rnorm` function\n",
    "\n",
    "```\n",
    "rnorm(number of values, mean, standard deviation)\n",
    "```\n",
    "\n"
   ]
  },
  {
   "cell_type": "code",
   "execution_count": null,
   "metadata": {
    "jupyter": {
     "source_hidden": true
    },
    "tags": [
     "hide-input"
    ]
   },
   "outputs": [
    {
     "data": {
      "text/html": [
       "<table class=\"dataframe\">\n",
       "<caption>A tibble: 6 × 2</caption>\n",
       "<thead>\n",
       "\t<tr><th scope=col>type</th><th scope=col>height</th></tr>\n",
       "\t<tr><th scope=col>&lt;chr&gt;</th><th scope=col>&lt;dbl&gt;</th></tr>\n",
       "</thead>\n",
       "<tbody>\n",
       "\t<tr><td>population</td><td>137.6731</td></tr>\n",
       "\t<tr><td>population</td><td>165.8582</td></tr>\n",
       "\t<tr><td>population</td><td> 95.4576</td></tr>\n",
       "\t<tr><td>population</td><td>151.9225</td></tr>\n",
       "\t<tr><td>population</td><td>190.6606</td></tr>\n",
       "\t<tr><td>population</td><td>156.6854</td></tr>\n",
       "</tbody>\n",
       "</table>\n"
      ],
      "text/latex": [
       "A tibble: 6 × 2\n",
       "\\begin{tabular}{ll}\n",
       " type & height\\\\\n",
       " <chr> & <dbl>\\\\\n",
       "\\hline\n",
       "\t population & 137.6731\\\\\n",
       "\t population & 165.8582\\\\\n",
       "\t population &  95.4576\\\\\n",
       "\t population & 151.9225\\\\\n",
       "\t population & 190.6606\\\\\n",
       "\t population & 156.6854\\\\\n",
       "\\end{tabular}\n"
      ],
      "text/markdown": [
       "\n",
       "A tibble: 6 × 2\n",
       "\n",
       "| type &lt;chr&gt; | height &lt;dbl&gt; |\n",
       "|---|---|\n",
       "| population | 137.6731 |\n",
       "| population | 165.8582 |\n",
       "| population |  95.4576 |\n",
       "| population | 151.9225 |\n",
       "| population | 190.6606 |\n",
       "| population | 156.6854 |\n",
       "\n"
      ],
      "text/plain": [
       "  type       height  \n",
       "1 population 137.6731\n",
       "2 population 165.8582\n",
       "3 population  95.4576\n",
       "4 population 151.9225\n",
       "5 population 190.6606\n",
       "6 population 156.6854"
      ]
     },
     "metadata": {},
     "output_type": "display_data"
    },
    {
     "data": {
      "text/html": [
       "<table class=\"dataframe\">\n",
       "<caption>A tibble: 6 × 2</caption>\n",
       "<thead>\n",
       "\t<tr><th scope=col>type</th><th scope=col>height</th></tr>\n",
       "\t<tr><th scope=col>&lt;chr&gt;</th><th scope=col>&lt;dbl&gt;</th></tr>\n",
       "</thead>\n",
       "<tbody>\n",
       "\t<tr><td>theoretical</td><td>158.5571</td></tr>\n",
       "\t<tr><td>theoretical</td><td>157.1428</td></tr>\n",
       "\t<tr><td>theoretical</td><td>173.7631</td></tr>\n",
       "\t<tr><td>theoretical</td><td>194.1477</td></tr>\n",
       "\t<tr><td>theoretical</td><td>202.3675</td></tr>\n",
       "\t<tr><td>theoretical</td><td>162.6785</td></tr>\n",
       "</tbody>\n",
       "</table>\n"
      ],
      "text/latex": [
       "A tibble: 6 × 2\n",
       "\\begin{tabular}{ll}\n",
       " type & height\\\\\n",
       " <chr> & <dbl>\\\\\n",
       "\\hline\n",
       "\t theoretical & 158.5571\\\\\n",
       "\t theoretical & 157.1428\\\\\n",
       "\t theoretical & 173.7631\\\\\n",
       "\t theoretical & 194.1477\\\\\n",
       "\t theoretical & 202.3675\\\\\n",
       "\t theoretical & 162.6785\\\\\n",
       "\\end{tabular}\n"
      ],
      "text/markdown": [
       "\n",
       "A tibble: 6 × 2\n",
       "\n",
       "| type &lt;chr&gt; | height &lt;dbl&gt; |\n",
       "|---|---|\n",
       "| theoretical | 158.5571 |\n",
       "| theoretical | 157.1428 |\n",
       "| theoretical | 173.7631 |\n",
       "| theoretical | 194.1477 |\n",
       "| theoretical | 202.3675 |\n",
       "| theoretical | 162.6785 |\n",
       "\n"
      ],
      "text/plain": [
       "  type        height  \n",
       "1 theoretical 158.5571\n",
       "2 theoretical 157.1428\n",
       "3 theoretical 173.7631\n",
       "4 theoretical 194.1477\n",
       "5 theoretical 202.3675\n",
       "6 theoretical 162.6785"
      ]
     },
     "metadata": {},
     "output_type": "display_data"
    }
   ],
   "source": [
    "population_values <- tibble(type = \"population\", \n",
    "                            height = population)\n",
    "\n",
    "sample_values <- tibble(type = \"theoretical\", \n",
    "                        height = rnorm(100000, \n",
    "                                      sample_mean, \n",
    "                                      sqrt(sample_var)))\n",
    "\n",
    "compare_dist <- bind_rows(population_values, \n",
    "                          sample_values)\n",
    "\n",
    "head(compare_dist)\n",
    "tail(compare_dist)"
   ]
  },
  {
   "cell_type": "markdown",
   "metadata": {},
   "source": [
    "We can see how the theoretical distribution of heights (based on the sample mean/variance) compares to the actual population"
   ]
  },
  {
   "cell_type": "code",
   "execution_count": null,
   "metadata": {
    "jupyter": {
     "source_hidden": true
    },
    "tags": [
     "hide-input"
    ]
   },
   "outputs": [
    {
     "data": {
      "image/png": "[encoded data removed]",
      "text/plain": [
       "plot without title"
      ]
     },
     "metadata": {
      "image/png": {
       "height": 480,
       "width": 600
      }
     },
     "output_type": "display_data"
    }
   ],
   "source": [
    "# set plot dimensions\n",
    "options(repr.plot.width=10, repr.plot.height=8)\n",
    "\n",
    "compare_dist %>% \n",
    "ggplot(aes(x=height, fill=type)) + \n",
    "  geom_histogram(position=\"identity\", binwidth=1, alpha=0.1) + \n",
    "  theme_grey(base_size=16) "
   ]
  },
  {
   "cell_type": "markdown",
   "metadata": {},
   "source": [
    "The distributions look pretty similar, which means that we can infer the characteristics of the population based on the sample estimates and underlying theoretical distribution"
   ]
  },
  {
   "cell_type": "markdown",
   "metadata": {},
   "source": [
    "## Does the sample size (n) matter?\n",
    "\n",
    "It appears that we can get a pretty good approximation of the population characteristics based on a sample of 100. \n",
    "\n",
    "Let's see how taking different sample sizes (10, 100, 1000) affects our ability to infer the mean of the population. We will generate 1000 replicates of samples for each of the sample sizes"
   ]
  },
  {
   "cell_type": "code",
   "execution_count": null,
   "metadata": {
    "jupyter": {
     "source_hidden": true
    },
    "tags": [
     "hide-input"
    ]
   },
   "outputs": [
    {
     "data": {
      "text/html": [
       "<table class=\"dataframe\">\n",
       "<caption>A tibble: 6 × 3</caption>\n",
       "<thead>\n",
       "\t<tr><th scope=col>value</th><th scope=col>replicate</th><th scope=col>n</th></tr>\n",
       "\t<tr><th scope=col>&lt;dbl&gt;</th><th scope=col>&lt;int&gt;</th><th scope=col>&lt;fct&gt;</th></tr>\n",
       "</thead>\n",
       "<tbody>\n",
       "\t<tr><td>166.9609</td><td>1</td><td>10</td></tr>\n",
       "\t<tr><td>159.8656</td><td>1</td><td>10</td></tr>\n",
       "\t<tr><td>180.4839</td><td>1</td><td>10</td></tr>\n",
       "\t<tr><td>117.8701</td><td>1</td><td>10</td></tr>\n",
       "\t<tr><td>143.2552</td><td>1</td><td>10</td></tr>\n",
       "\t<tr><td>192.5538</td><td>1</td><td>10</td></tr>\n",
       "</tbody>\n",
       "</table>\n"
      ],
      "text/latex": [
       "A tibble: 6 × 3\n",
       "\\begin{tabular}{lll}\n",
       " value & replicate & n\\\\\n",
       " <dbl> & <int> & <fct>\\\\\n",
       "\\hline\n",
       "\t 166.9609 & 1 & 10\\\\\n",
       "\t 159.8656 & 1 & 10\\\\\n",
       "\t 180.4839 & 1 & 10\\\\\n",
       "\t 117.8701 & 1 & 10\\\\\n",
       "\t 143.2552 & 1 & 10\\\\\n",
       "\t 192.5538 & 1 & 10\\\\\n",
       "\\end{tabular}\n"
      ],
      "text/markdown": [
       "\n",
       "A tibble: 6 × 3\n",
       "\n",
       "| value &lt;dbl&gt; | replicate &lt;int&gt; | n &lt;fct&gt; |\n",
       "|---|---|---|\n",
       "| 166.9609 | 1 | 10 |\n",
       "| 159.8656 | 1 | 10 |\n",
       "| 180.4839 | 1 | 10 |\n",
       "| 117.8701 | 1 | 10 |\n",
       "| 143.2552 | 1 | 10 |\n",
       "| 192.5538 | 1 | 10 |\n",
       "\n"
      ],
      "text/plain": [
       "  value    replicate n \n",
       "1 166.9609 1         10\n",
       "2 159.8656 1         10\n",
       "3 180.4839 1         10\n",
       "4 117.8701 1         10\n",
       "5 143.2552 1         10\n",
       "6 192.5538 1         10"
      ]
     },
     "metadata": {},
     "output_type": "display_data"
    },
    {
     "data": {
      "text/html": [
       "<table class=\"dataframe\">\n",
       "<caption>A tibble: 6 × 3</caption>\n",
       "<thead>\n",
       "\t<tr><th scope=col>value</th><th scope=col>replicate</th><th scope=col>n</th></tr>\n",
       "\t<tr><th scope=col>&lt;dbl&gt;</th><th scope=col>&lt;int&gt;</th><th scope=col>&lt;fct&gt;</th></tr>\n",
       "</thead>\n",
       "<tbody>\n",
       "\t<tr><td>158.6212</td><td>1</td><td>100</td></tr>\n",
       "\t<tr><td>171.8050</td><td>1</td><td>100</td></tr>\n",
       "\t<tr><td>124.4861</td><td>1</td><td>100</td></tr>\n",
       "\t<tr><td>132.5249</td><td>1</td><td>100</td></tr>\n",
       "\t<tr><td>133.4938</td><td>1</td><td>100</td></tr>\n",
       "\t<tr><td>166.6239</td><td>1</td><td>100</td></tr>\n",
       "</tbody>\n",
       "</table>\n"
      ],
      "text/latex": [
       "A tibble: 6 × 3\n",
       "\\begin{tabular}{lll}\n",
       " value & replicate & n\\\\\n",
       " <dbl> & <int> & <fct>\\\\\n",
       "\\hline\n",
       "\t 158.6212 & 1 & 100\\\\\n",
       "\t 171.8050 & 1 & 100\\\\\n",
       "\t 124.4861 & 1 & 100\\\\\n",
       "\t 132.5249 & 1 & 100\\\\\n",
       "\t 133.4938 & 1 & 100\\\\\n",
       "\t 166.6239 & 1 & 100\\\\\n",
       "\\end{tabular}\n"
      ],
      "text/markdown": [
       "\n",
       "A tibble: 6 × 3\n",
       "\n",
       "| value &lt;dbl&gt; | replicate &lt;int&gt; | n &lt;fct&gt; |\n",
       "|---|---|---|\n",
       "| 158.6212 | 1 | 100 |\n",
       "| 171.8050 | 1 | 100 |\n",
       "| 124.4861 | 1 | 100 |\n",
       "| 132.5249 | 1 | 100 |\n",
       "| 133.4938 | 1 | 100 |\n",
       "| 166.6239 | 1 | 100 |\n",
       "\n"
      ],
      "text/plain": [
       "  value    replicate n  \n",
       "1 158.6212 1         100\n",
       "2 171.8050 1         100\n",
       "3 124.4861 1         100\n",
       "4 132.5249 1         100\n",
       "5 133.4938 1         100\n",
       "6 166.6239 1         100"
      ]
     },
     "metadata": {},
     "output_type": "display_data"
    },
    {
     "data": {
      "text/html": [
       "<table class=\"dataframe\">\n",
       "<caption>A tibble: 6 × 3</caption>\n",
       "<thead>\n",
       "\t<tr><th scope=col>value</th><th scope=col>replicate</th><th scope=col>n</th></tr>\n",
       "\t<tr><th scope=col>&lt;dbl&gt;</th><th scope=col>&lt;int&gt;</th><th scope=col>&lt;fct&gt;</th></tr>\n",
       "</thead>\n",
       "<tbody>\n",
       "\t<tr><td>147.9273</td><td>1</td><td>1000</td></tr>\n",
       "\t<tr><td>144.3842</td><td>1</td><td>1000</td></tr>\n",
       "\t<tr><td>153.7885</td><td>1</td><td>1000</td></tr>\n",
       "\t<tr><td>178.7998</td><td>1</td><td>1000</td></tr>\n",
       "\t<tr><td>172.6537</td><td>1</td><td>1000</td></tr>\n",
       "\t<tr><td>162.9285</td><td>1</td><td>1000</td></tr>\n",
       "</tbody>\n",
       "</table>\n"
      ],
      "text/latex": [
       "A tibble: 6 × 3\n",
       "\\begin{tabular}{lll}\n",
       " value & replicate & n\\\\\n",
       " <dbl> & <int> & <fct>\\\\\n",
       "\\hline\n",
       "\t 147.9273 & 1 & 1000\\\\\n",
       "\t 144.3842 & 1 & 1000\\\\\n",
       "\t 153.7885 & 1 & 1000\\\\\n",
       "\t 178.7998 & 1 & 1000\\\\\n",
       "\t 172.6537 & 1 & 1000\\\\\n",
       "\t 162.9285 & 1 & 1000\\\\\n",
       "\\end{tabular}\n"
      ],
      "text/markdown": [
       "\n",
       "A tibble: 6 × 3\n",
       "\n",
       "| value &lt;dbl&gt; | replicate &lt;int&gt; | n &lt;fct&gt; |\n",
       "|---|---|---|\n",
       "| 147.9273 | 1 | 1000 |\n",
       "| 144.3842 | 1 | 1000 |\n",
       "| 153.7885 | 1 | 1000 |\n",
       "| 178.7998 | 1 | 1000 |\n",
       "| 172.6537 | 1 | 1000 |\n",
       "| 162.9285 | 1 | 1000 |\n",
       "\n"
      ],
      "text/plain": [
       "  value    replicate n   \n",
       "1 147.9273 1         1000\n",
       "2 144.3842 1         1000\n",
       "3 153.7885 1         1000\n",
       "4 178.7998 1         1000\n",
       "5 172.6537 1         1000\n",
       "6 162.9285 1         1000"
      ]
     },
     "metadata": {},
     "output_type": "display_data"
    }
   ],
   "source": [
    "# sample 10, 100, 1000 people\n",
    "sample_n_10 <- sample_multiple(1000,10,population)\n",
    "sample_n_100 <- sample_multiple(1000,100,population)\n",
    "sample_n_1000 <- sample_multiple(1000,1000,population)\n",
    "\n",
    "compare_sample_n <- bind_rows(sample_n_10, \n",
    "                              sample_n_100, \n",
    "                              sample_n_1000) %>%\n",
    "                    mutate(n=as.factor(n))\n",
    "\n",
    "head(compare_sample_n %>% filter(n==10))\n",
    "head(compare_sample_n %>% filter(n==100))\n",
    "head(compare_sample_n %>% filter(n==1000))"
   ]
  },
  {
   "cell_type": "markdown",
   "metadata": {},
   "source": [
    "We calculate the sample mean for each replicate with the different sample sizes (10, 100, 1000)"
   ]
  },
  {
   "cell_type": "code",
   "execution_count": null,
   "metadata": {
    "jupyter": {
     "source_hidden": true
    },
    "tags": [
     "hide-input"
    ]
   },
   "outputs": [
    {
     "name": "stderr",
     "output_type": "stream",
     "text": [
      "\u001b[1m\u001b[22m`summarise()` has grouped output by 'n'. You can override using the `.groups`\n",
      "argument.\n"
     ]
    },
    {
     "data": {
      "text/html": [
       "<table class=\"dataframe\">\n",
       "<caption>A grouped_df: 6 × 3</caption>\n",
       "<thead>\n",
       "\t<tr><th scope=col>n</th><th scope=col>replicate</th><th scope=col>mean</th></tr>\n",
       "\t<tr><th scope=col>&lt;fct&gt;</th><th scope=col>&lt;int&gt;</th><th scope=col>&lt;dbl&gt;</th></tr>\n",
       "</thead>\n",
       "<tbody>\n",
       "\t<tr><td>10</td><td>1</td><td>172.9598</td></tr>\n",
       "\t<tr><td>10</td><td>2</td><td>153.6261</td></tr>\n",
       "\t<tr><td>10</td><td>3</td><td>173.8171</td></tr>\n",
       "\t<tr><td>10</td><td>4</td><td>148.6974</td></tr>\n",
       "\t<tr><td>10</td><td>5</td><td>157.2204</td></tr>\n",
       "\t<tr><td>10</td><td>6</td><td>154.0154</td></tr>\n",
       "</tbody>\n",
       "</table>\n"
      ],
      "text/latex": [
       "A grouped\\_df: 6 × 3\n",
       "\\begin{tabular}{lll}\n",
       " n & replicate & mean\\\\\n",
       " <fct> & <int> & <dbl>\\\\\n",
       "\\hline\n",
       "\t 10 & 1 & 172.9598\\\\\n",
       "\t 10 & 2 & 153.6261\\\\\n",
       "\t 10 & 3 & 173.8171\\\\\n",
       "\t 10 & 4 & 148.6974\\\\\n",
       "\t 10 & 5 & 157.2204\\\\\n",
       "\t 10 & 6 & 154.0154\\\\\n",
       "\\end{tabular}\n"
      ],
      "text/markdown": [
       "\n",
       "A grouped_df: 6 × 3\n",
       "\n",
       "| n &lt;fct&gt; | replicate &lt;int&gt; | mean &lt;dbl&gt; |\n",
       "|---|---|---|\n",
       "| 10 | 1 | 172.9598 |\n",
       "| 10 | 2 | 153.6261 |\n",
       "| 10 | 3 | 173.8171 |\n",
       "| 10 | 4 | 148.6974 |\n",
       "| 10 | 5 | 157.2204 |\n",
       "| 10 | 6 | 154.0154 |\n",
       "\n"
      ],
      "text/plain": [
       "  n  replicate mean    \n",
       "1 10 1         172.9598\n",
       "2 10 2         153.6261\n",
       "3 10 3         173.8171\n",
       "4 10 4         148.6974\n",
       "5 10 5         157.2204\n",
       "6 10 6         154.0154"
      ]
     },
     "metadata": {},
     "output_type": "display_data"
    },
    {
     "data": {
      "text/html": [
       "<table class=\"dataframe\">\n",
       "<caption>A grouped_df: 6 × 3</caption>\n",
       "<thead>\n",
       "\t<tr><th scope=col>n</th><th scope=col>replicate</th><th scope=col>mean</th></tr>\n",
       "\t<tr><th scope=col>&lt;fct&gt;</th><th scope=col>&lt;int&gt;</th><th scope=col>&lt;dbl&gt;</th></tr>\n",
       "</thead>\n",
       "<tbody>\n",
       "\t<tr><td>100</td><td>1</td><td>159.0004</td></tr>\n",
       "\t<tr><td>100</td><td>2</td><td>159.4585</td></tr>\n",
       "\t<tr><td>100</td><td>3</td><td>161.8942</td></tr>\n",
       "\t<tr><td>100</td><td>4</td><td>157.3788</td></tr>\n",
       "\t<tr><td>100</td><td>5</td><td>158.2939</td></tr>\n",
       "\t<tr><td>100</td><td>6</td><td>159.1738</td></tr>\n",
       "</tbody>\n",
       "</table>\n"
      ],
      "text/latex": [
       "A grouped\\_df: 6 × 3\n",
       "\\begin{tabular}{lll}\n",
       " n & replicate & mean\\\\\n",
       " <fct> & <int> & <dbl>\\\\\n",
       "\\hline\n",
       "\t 100 & 1 & 159.0004\\\\\n",
       "\t 100 & 2 & 159.4585\\\\\n",
       "\t 100 & 3 & 161.8942\\\\\n",
       "\t 100 & 4 & 157.3788\\\\\n",
       "\t 100 & 5 & 158.2939\\\\\n",
       "\t 100 & 6 & 159.1738\\\\\n",
       "\\end{tabular}\n"
      ],
      "text/markdown": [
       "\n",
       "A grouped_df: 6 × 3\n",
       "\n",
       "| n &lt;fct&gt; | replicate &lt;int&gt; | mean &lt;dbl&gt; |\n",
       "|---|---|---|\n",
       "| 100 | 1 | 159.0004 |\n",
       "| 100 | 2 | 159.4585 |\n",
       "| 100 | 3 | 161.8942 |\n",
       "| 100 | 4 | 157.3788 |\n",
       "| 100 | 5 | 158.2939 |\n",
       "| 100 | 6 | 159.1738 |\n",
       "\n"
      ],
      "text/plain": [
       "  n   replicate mean    \n",
       "1 100 1         159.0004\n",
       "2 100 2         159.4585\n",
       "3 100 3         161.8942\n",
       "4 100 4         157.3788\n",
       "5 100 5         158.2939\n",
       "6 100 6         159.1738"
      ]
     },
     "metadata": {},
     "output_type": "display_data"
    },
    {
     "data": {
      "text/html": [
       "<table class=\"dataframe\">\n",
       "<caption>A grouped_df: 6 × 3</caption>\n",
       "<thead>\n",
       "\t<tr><th scope=col>n</th><th scope=col>replicate</th><th scope=col>mean</th></tr>\n",
       "\t<tr><th scope=col>&lt;fct&gt;</th><th scope=col>&lt;int&gt;</th><th scope=col>&lt;dbl&gt;</th></tr>\n",
       "</thead>\n",
       "<tbody>\n",
       "\t<tr><td>1000</td><td>1</td><td>161.3278</td></tr>\n",
       "\t<tr><td>1000</td><td>2</td><td>160.3521</td></tr>\n",
       "\t<tr><td>1000</td><td>3</td><td>159.6380</td></tr>\n",
       "\t<tr><td>1000</td><td>4</td><td>159.4898</td></tr>\n",
       "\t<tr><td>1000</td><td>5</td><td>159.4387</td></tr>\n",
       "\t<tr><td>1000</td><td>6</td><td>159.6882</td></tr>\n",
       "</tbody>\n",
       "</table>\n"
      ],
      "text/latex": [
       "A grouped\\_df: 6 × 3\n",
       "\\begin{tabular}{lll}\n",
       " n & replicate & mean\\\\\n",
       " <fct> & <int> & <dbl>\\\\\n",
       "\\hline\n",
       "\t 1000 & 1 & 161.3278\\\\\n",
       "\t 1000 & 2 & 160.3521\\\\\n",
       "\t 1000 & 3 & 159.6380\\\\\n",
       "\t 1000 & 4 & 159.4898\\\\\n",
       "\t 1000 & 5 & 159.4387\\\\\n",
       "\t 1000 & 6 & 159.6882\\\\\n",
       "\\end{tabular}\n"
      ],
      "text/markdown": [
       "\n",
       "A grouped_df: 6 × 3\n",
       "\n",
       "| n &lt;fct&gt; | replicate &lt;int&gt; | mean &lt;dbl&gt; |\n",
       "|---|---|---|\n",
       "| 1000 | 1 | 161.3278 |\n",
       "| 1000 | 2 | 160.3521 |\n",
       "| 1000 | 3 | 159.6380 |\n",
       "| 1000 | 4 | 159.4898 |\n",
       "| 1000 | 5 | 159.4387 |\n",
       "| 1000 | 6 | 159.6882 |\n",
       "\n"
      ],
      "text/plain": [
       "  n    replicate mean    \n",
       "1 1000 1         161.3278\n",
       "2 1000 2         160.3521\n",
       "3 1000 3         159.6380\n",
       "4 1000 4         159.4898\n",
       "5 1000 5         159.4387\n",
       "6 1000 6         159.6882"
      ]
     },
     "metadata": {},
     "output_type": "display_data"
    }
   ],
   "source": [
    "compare_sample_n_data <- compare_sample_n %>% \n",
    "                         group_by(n, replicate) %>%\n",
    "                         summarize(mean=mean(value))\n",
    "\n",
    "head(compare_sample_n_data %>% filter(n==10))\n",
    "head(compare_sample_n_data %>% filter(n==100))\n",
    "head(compare_sample_n_data %>% filter(n==1000))"
   ]
  },
  {
   "cell_type": "markdown",
   "metadata": {},
   "source": [
    "We can plot the distribution of the sample means (1000 replicates) for the different sample sizes (10, 100, 1000)"
   ]
  },
  {
   "cell_type": "code",
   "execution_count": null,
   "metadata": {
    "jupyter": {
     "source_hidden": true
    },
    "tags": [
     "hide-input"
    ]
   },
   "outputs": [
    {
     "data": {
      "image/png": "[encoded data removed]",
      "text/plain": [
       "plot without title"
      ]
     },
     "metadata": {
      "image/png": {
       "height": 900,
       "width": 480
      }
     },
     "output_type": "display_data"
    }
   ],
   "source": [
    "# set plot dimensions\n",
    "options(repr.plot.width=8, repr.plot.height=15)\n",
    "\n",
    "# split plots by the number of samples\n",
    "compare_sample_n_data %>% \n",
    "ggplot(aes(x=mean, fill=n)) + \n",
    "  geom_histogram(binwidth=0.5, alpha=0.5) +\n",
    "  facet_grid(n ~ ., scales=\"free_y\") +\n",
    "  theme_grey(base_size=16)"
   ]
  },
  {
   "cell_type": "markdown",
   "metadata": {},
   "source": [
    "We can see that the estimated population mean based on the sample varies depending on the sample size. The larger the sample size, the smaller the variation in the estimate of the mean"
   ]
  },
  {
   "cell_type": "code",
   "execution_count": null,
   "metadata": {
    "jupyter": {
     "source_hidden": true
    },
    "tags": [
     "hide-input"
    ]
   },
   "outputs": [
    {
     "data": {
      "text/html": [
       "<table class=\"dataframe\">\n",
       "<caption>A tibble: 3 × 2</caption>\n",
       "<thead>\n",
       "\t<tr><th scope=col>n</th><th scope=col>sd_means</th></tr>\n",
       "\t<tr><th scope=col>&lt;fct&gt;</th><th scope=col>&lt;dbl&gt;</th></tr>\n",
       "</thead>\n",
       "<tbody>\n",
       "\t<tr><td>10  </td><td>7.7984317</td></tr>\n",
       "\t<tr><td>100 </td><td>2.5902336</td></tr>\n",
       "\t<tr><td>1000</td><td>0.7948246</td></tr>\n",
       "</tbody>\n",
       "</table>\n"
      ],
      "text/latex": [
       "A tibble: 3 × 2\n",
       "\\begin{tabular}{ll}\n",
       " n & sd\\_means\\\\\n",
       " <fct> & <dbl>\\\\\n",
       "\\hline\n",
       "\t 10   & 7.7984317\\\\\n",
       "\t 100  & 2.5902336\\\\\n",
       "\t 1000 & 0.7948246\\\\\n",
       "\\end{tabular}\n"
      ],
      "text/markdown": [
       "\n",
       "A tibble: 3 × 2\n",
       "\n",
       "| n &lt;fct&gt; | sd_means &lt;dbl&gt; |\n",
       "|---|---|\n",
       "| 10   | 7.7984317 |\n",
       "| 100  | 2.5902336 |\n",
       "| 1000 | 0.7948246 |\n",
       "\n"
      ],
      "text/plain": [
       "  n    sd_means \n",
       "1 10   7.7984317\n",
       "2 100  2.5902336\n",
       "3 1000 0.7948246"
      ]
     },
     "metadata": {},
     "output_type": "display_data"
    }
   ],
   "source": [
    "compare_sample_n_data %>% \n",
    "group_by(n) %>%\n",
    "summarize(sd_means = sd(mean))"
   ]
  },
  {
   "cell_type": "markdown",
   "metadata": {},
   "source": [
    "The variation (standard deviation) in the sample means is known as the standard error of means (SEM)"
   ]
  },
  {
   "cell_type": "markdown",
   "metadata": {},
   "source": [
    "### Standard error of means (SEM)\n",
    "\n",
    "Instead of doing resampling, the standard error of means can be approximated analytically by dividing the standard deviation of measurements in **one sample** by the square root of the number of measurements\n",
    "\n",
    "$$SE=\\frac{\\sigma}{\\sqrt{n}}$$\n",
    "\n",
    "To illustrate this, let us take one random sample of 100 from the population"
   ]
  },
  {
   "cell_type": "code",
   "execution_count": null,
   "metadata": {
    "jupyter": {
     "source_hidden": true
    },
    "tags": [
     "hide-input"
    ]
   },
   "outputs": [
    {
     "data": {
      "text/html": [
       "<style>\n",
       ".list-inline {list-style: none; margin:0; padding: 0}\n",
       ".list-inline>li {display: inline-block}\n",
       ".list-inline>li:not(:last-child)::after {content: \"\\00b7\"; padding: 0 .5ex}\n",
       "</style>\n",
       "<ol class=list-inline><li>134.971250816945</li><li>162.567068595872</li><li>142.676749965546</li><li>148.547407123854</li><li>147.556173044898</li><li>167.99714608077</li></ol>\n"
      ],
      "text/latex": [
       "\\begin{enumerate*}\n",
       "\\item 134.971250816945\n",
       "\\item 162.567068595872\n",
       "\\item 142.676749965546\n",
       "\\item 148.547407123854\n",
       "\\item 147.556173044898\n",
       "\\item 167.99714608077\n",
       "\\end{enumerate*}\n"
      ],
      "text/markdown": [
       "1. 134.971250816945\n",
       "2. 162.567068595872\n",
       "3. 142.676749965546\n",
       "4. 148.547407123854\n",
       "5. 147.556173044898\n",
       "6. 167.99714608077\n",
       "\n",
       "\n"
      ],
      "text/plain": [
       "[1] 134.9713 162.5671 142.6767 148.5474 147.5562 167.9971"
      ]
     },
     "metadata": {},
     "output_type": "display_data"
    }
   ],
   "source": [
    "# Take 1 random sample\n",
    "sample <- sample(population, size=100, replace=F)\n",
    "\n",
    "head(sample)"
   ]
  },
  {
   "cell_type": "markdown",
   "metadata": {},
   "source": [
    "We can obtain the standard error by calculating the standard deviation from this one sample and dividing it by the square root of the number of measurements  (n=100)"
   ]
  },
  {
   "cell_type": "code",
   "execution_count": null,
   "metadata": {
    "jupyter": {
     "source_hidden": true
    },
    "tags": [
     "hide-input"
    ]
   },
   "outputs": [
    {
     "data": {
      "text/html": [
       "<table class=\"dataframe\">\n",
       "<caption>A tibble: 2 × 2</caption>\n",
       "<thead>\n",
       "\t<tr><th scope=col>stat</th><th scope=col>value</th></tr>\n",
       "\t<tr><th scope=col>&lt;chr&gt;</th><th scope=col>&lt;dbl&gt;</th></tr>\n",
       "</thead>\n",
       "<tbody>\n",
       "\t<tr><td>Standard deviation     </td><td>26.999079</td></tr>\n",
       "\t<tr><td>Standard error of means</td><td> 2.699908</td></tr>\n",
       "</tbody>\n",
       "</table>\n"
      ],
      "text/latex": [
       "A tibble: 2 × 2\n",
       "\\begin{tabular}{ll}\n",
       " stat & value\\\\\n",
       " <chr> & <dbl>\\\\\n",
       "\\hline\n",
       "\t Standard deviation      & 26.999079\\\\\n",
       "\t Standard error of means &  2.699908\\\\\n",
       "\\end{tabular}\n"
      ],
      "text/markdown": [
       "\n",
       "A tibble: 2 × 2\n",
       "\n",
       "| stat &lt;chr&gt; | value &lt;dbl&gt; |\n",
       "|---|---|\n",
       "| Standard deviation      | 26.999079 |\n",
       "| Standard error of means |  2.699908 |\n",
       "\n"
      ],
      "text/plain": [
       "  stat                    value    \n",
       "1 Standard deviation      26.999079\n",
       "2 Standard error of means  2.699908"
      ]
     },
     "metadata": {},
     "output_type": "display_data"
    }
   ],
   "source": [
    "# calculate the standard deviation of 1 sample\n",
    "sample_sd <- sd(sample)\n",
    "\n",
    "# calculate the standard error of means\n",
    "sample_sem <- sd(sample)/sqrt(100)\n",
    "\n",
    "tibble(stat=c(\"Standard deviation\", \"Standard error of means\"),\n",
    "       value=c(sample_sd, sample_sem))"
   ]
  },
  {
   "cell_type": "markdown",
   "metadata": {},
   "source": [
    "We can see that the standard error of means from the calculation is close to the value we obtained through repeated sampling\n",
    "\n",
    "Note that the standard deviation and standard error have different meanings\n",
    "- The standard deviation describes the variation of values around the mean in **1 sample**\n",
    "- The SEM shows the variation of means estimated from **multiple samples** (i.e. how closely the sample mean represents the population mean)\n",
    "\n",
    "Here is a great explanation: https://youtu.be/A82brFpdr9g"
   ]
  },
  {
   "cell_type": "markdown",
   "metadata": {},
   "source": [
    "## Does the population distribution matter when estimating the mean from a sample?\n",
    "\n",
    "It would appear that the estimation of the population mean from samples is restricted to a normal distribution. Surprisingly, it does not\n",
    "\n",
    "We can simulate a non-normal distribution of heights and see if we can estimate the population mean"
   ]
  },
  {
   "cell_type": "code",
   "execution_count": null,
   "metadata": {
    "jupyter": {
     "source_hidden": true
    },
    "tags": [
     "hide-input"
    ]
   },
   "outputs": [
    {
     "name": "stderr",
     "output_type": "stream",
     "text": [
      "`stat_bin()` using `bins = 30`. Pick better value with `binwidth`.\n",
      "\n"
     ]
    },
    {
     "data": {
      "image/png": "[encoded data removed]",
      "text/plain": [
       "plot without title"
      ]
     },
     "metadata": {
      "image/png": {
       "height": 480,
       "width": 480
      }
     },
     "output_type": "display_data"
    }
   ],
   "source": [
    "# generate non-normal population\n",
    "population_not_normal <- rbeta(1000000, 1,50)*400+130 # beta distribution\n",
    "\n",
    "population_not_normal_mean <- mean(population_not_normal)\n",
    "\n",
    "# set plot dimensions\n",
    "options(repr.plot.width=8, repr.plot.height=8)\n",
    "\n",
    "population_not_normal %>% \n",
    "tibble %>% # convert to tibble for ggplot\n",
    "ggplot(aes(.)) + \n",
    "  geom_histogram() +\n",
    "  geom_vline(xintercept = population_not_normal_mean, color=\"red\") +\n",
    "  theme_grey(base_size=16)"
   ]
  },
  {
   "cell_type": "code",
   "execution_count": null,
   "metadata": {
    "jupyter": {
     "source_hidden": true
    },
    "tags": [
     "hide-input"
    ]
   },
   "outputs": [
    {
     "data": {
      "text/html": [
       "<table class=\"dataframe\">\n",
       "<caption>A tibble: 1 × 2</caption>\n",
       "<thead>\n",
       "\t<tr><th scope=col>stat</th><th scope=col>value</th></tr>\n",
       "\t<tr><th scope=col>&lt;chr&gt;</th><th scope=col>&lt;dbl&gt;</th></tr>\n",
       "</thead>\n",
       "<tbody>\n",
       "\t<tr><td>Population mean</td><td>137.8368</td></tr>\n",
       "</tbody>\n",
       "</table>\n"
      ],
      "text/latex": [
       "A tibble: 1 × 2\n",
       "\\begin{tabular}{ll}\n",
       " stat & value\\\\\n",
       " <chr> & <dbl>\\\\\n",
       "\\hline\n",
       "\t Population mean & 137.8368\\\\\n",
       "\\end{tabular}\n"
      ],
      "text/markdown": [
       "\n",
       "A tibble: 1 × 2\n",
       "\n",
       "| stat &lt;chr&gt; | value &lt;dbl&gt; |\n",
       "|---|---|\n",
       "| Population mean | 137.8368 |\n",
       "\n"
      ],
      "text/plain": [
       "  stat            value   \n",
       "1 Population mean 137.8368"
      ]
     },
     "metadata": {},
     "output_type": "display_data"
    }
   ],
   "source": [
    "tibble(stat=c(\"Population mean\"),\n",
    "       value=c(population_not_normal_mean))"
   ]
  },
  {
   "cell_type": "markdown",
   "metadata": {},
   "source": [
    "As before, we will generate 1000 replicates of samples for each of the sample sizes (10, 100, 1000)"
   ]
  },
  {
   "cell_type": "code",
   "execution_count": null,
   "metadata": {
    "jupyter": {
     "source_hidden": true
    },
    "tags": [
     "hide-input"
    ]
   },
   "outputs": [
    {
     "data": {
      "text/html": [
       "<table class=\"dataframe\">\n",
       "<caption>A tibble: 6 × 3</caption>\n",
       "<thead>\n",
       "\t<tr><th scope=col>value</th><th scope=col>replicate</th><th scope=col>n</th></tr>\n",
       "\t<tr><th scope=col>&lt;dbl&gt;</th><th scope=col>&lt;int&gt;</th><th scope=col>&lt;fct&gt;</th></tr>\n",
       "</thead>\n",
       "<tbody>\n",
       "\t<tr><td>146.3613</td><td>1</td><td>10</td></tr>\n",
       "\t<tr><td>145.2027</td><td>1</td><td>10</td></tr>\n",
       "\t<tr><td>134.2406</td><td>1</td><td>10</td></tr>\n",
       "\t<tr><td>132.0991</td><td>1</td><td>10</td></tr>\n",
       "\t<tr><td>136.9949</td><td>1</td><td>10</td></tr>\n",
       "\t<tr><td>135.4612</td><td>1</td><td>10</td></tr>\n",
       "</tbody>\n",
       "</table>\n"
      ],
      "text/latex": [
       "A tibble: 6 × 3\n",
       "\\begin{tabular}{lll}\n",
       " value & replicate & n\\\\\n",
       " <dbl> & <int> & <fct>\\\\\n",
       "\\hline\n",
       "\t 146.3613 & 1 & 10\\\\\n",
       "\t 145.2027 & 1 & 10\\\\\n",
       "\t 134.2406 & 1 & 10\\\\\n",
       "\t 132.0991 & 1 & 10\\\\\n",
       "\t 136.9949 & 1 & 10\\\\\n",
       "\t 135.4612 & 1 & 10\\\\\n",
       "\\end{tabular}\n"
      ],
      "text/markdown": [
       "\n",
       "A tibble: 6 × 3\n",
       "\n",
       "| value &lt;dbl&gt; | replicate &lt;int&gt; | n &lt;fct&gt; |\n",
       "|---|---|---|\n",
       "| 146.3613 | 1 | 10 |\n",
       "| 145.2027 | 1 | 10 |\n",
       "| 134.2406 | 1 | 10 |\n",
       "| 132.0991 | 1 | 10 |\n",
       "| 136.9949 | 1 | 10 |\n",
       "| 135.4612 | 1 | 10 |\n",
       "\n"
      ],
      "text/plain": [
       "  value    replicate n \n",
       "1 146.3613 1         10\n",
       "2 145.2027 1         10\n",
       "3 134.2406 1         10\n",
       "4 132.0991 1         10\n",
       "5 136.9949 1         10\n",
       "6 135.4612 1         10"
      ]
     },
     "metadata": {},
     "output_type": "display_data"
    },
    {
     "data": {
      "text/html": [
       "<table class=\"dataframe\">\n",
       "<caption>A tibble: 6 × 3</caption>\n",
       "<thead>\n",
       "\t<tr><th scope=col>value</th><th scope=col>replicate</th><th scope=col>n</th></tr>\n",
       "\t<tr><th scope=col>&lt;dbl&gt;</th><th scope=col>&lt;int&gt;</th><th scope=col>&lt;fct&gt;</th></tr>\n",
       "</thead>\n",
       "<tbody>\n",
       "\t<tr><td>145.8748</td><td>1</td><td>100</td></tr>\n",
       "\t<tr><td>136.1459</td><td>1</td><td>100</td></tr>\n",
       "\t<tr><td>133.3942</td><td>1</td><td>100</td></tr>\n",
       "\t<tr><td>139.3956</td><td>1</td><td>100</td></tr>\n",
       "\t<tr><td>134.1010</td><td>1</td><td>100</td></tr>\n",
       "\t<tr><td>148.7314</td><td>1</td><td>100</td></tr>\n",
       "</tbody>\n",
       "</table>\n"
      ],
      "text/latex": [
       "A tibble: 6 × 3\n",
       "\\begin{tabular}{lll}\n",
       " value & replicate & n\\\\\n",
       " <dbl> & <int> & <fct>\\\\\n",
       "\\hline\n",
       "\t 145.8748 & 1 & 100\\\\\n",
       "\t 136.1459 & 1 & 100\\\\\n",
       "\t 133.3942 & 1 & 100\\\\\n",
       "\t 139.3956 & 1 & 100\\\\\n",
       "\t 134.1010 & 1 & 100\\\\\n",
       "\t 148.7314 & 1 & 100\\\\\n",
       "\\end{tabular}\n"
      ],
      "text/markdown": [
       "\n",
       "A tibble: 6 × 3\n",
       "\n",
       "| value &lt;dbl&gt; | replicate &lt;int&gt; | n &lt;fct&gt; |\n",
       "|---|---|---|\n",
       "| 145.8748 | 1 | 100 |\n",
       "| 136.1459 | 1 | 100 |\n",
       "| 133.3942 | 1 | 100 |\n",
       "| 139.3956 | 1 | 100 |\n",
       "| 134.1010 | 1 | 100 |\n",
       "| 148.7314 | 1 | 100 |\n",
       "\n"
      ],
      "text/plain": [
       "  value    replicate n  \n",
       "1 145.8748 1         100\n",
       "2 136.1459 1         100\n",
       "3 133.3942 1         100\n",
       "4 139.3956 1         100\n",
       "5 134.1010 1         100\n",
       "6 148.7314 1         100"
      ]
     },
     "metadata": {},
     "output_type": "display_data"
    },
    {
     "data": {
      "text/html": [
       "<table class=\"dataframe\">\n",
       "<caption>A tibble: 6 × 3</caption>\n",
       "<thead>\n",
       "\t<tr><th scope=col>value</th><th scope=col>replicate</th><th scope=col>n</th></tr>\n",
       "\t<tr><th scope=col>&lt;dbl&gt;</th><th scope=col>&lt;int&gt;</th><th scope=col>&lt;fct&gt;</th></tr>\n",
       "</thead>\n",
       "<tbody>\n",
       "\t<tr><td>130.9633</td><td>1</td><td>1000</td></tr>\n",
       "\t<tr><td>130.6383</td><td>1</td><td>1000</td></tr>\n",
       "\t<tr><td>141.6055</td><td>1</td><td>1000</td></tr>\n",
       "\t<tr><td>133.4666</td><td>1</td><td>1000</td></tr>\n",
       "\t<tr><td>143.8055</td><td>1</td><td>1000</td></tr>\n",
       "\t<tr><td>136.6778</td><td>1</td><td>1000</td></tr>\n",
       "</tbody>\n",
       "</table>\n"
      ],
      "text/latex": [
       "A tibble: 6 × 3\n",
       "\\begin{tabular}{lll}\n",
       " value & replicate & n\\\\\n",
       " <dbl> & <int> & <fct>\\\\\n",
       "\\hline\n",
       "\t 130.9633 & 1 & 1000\\\\\n",
       "\t 130.6383 & 1 & 1000\\\\\n",
       "\t 141.6055 & 1 & 1000\\\\\n",
       "\t 133.4666 & 1 & 1000\\\\\n",
       "\t 143.8055 & 1 & 1000\\\\\n",
       "\t 136.6778 & 1 & 1000\\\\\n",
       "\\end{tabular}\n"
      ],
      "text/markdown": [
       "\n",
       "A tibble: 6 × 3\n",
       "\n",
       "| value &lt;dbl&gt; | replicate &lt;int&gt; | n &lt;fct&gt; |\n",
       "|---|---|---|\n",
       "| 130.9633 | 1 | 1000 |\n",
       "| 130.6383 | 1 | 1000 |\n",
       "| 141.6055 | 1 | 1000 |\n",
       "| 133.4666 | 1 | 1000 |\n",
       "| 143.8055 | 1 | 1000 |\n",
       "| 136.6778 | 1 | 1000 |\n",
       "\n"
      ],
      "text/plain": [
       "  value    replicate n   \n",
       "1 130.9633 1         1000\n",
       "2 130.6383 1         1000\n",
       "3 141.6055 1         1000\n",
       "4 133.4666 1         1000\n",
       "5 143.8055 1         1000\n",
       "6 136.6778 1         1000"
      ]
     },
     "metadata": {},
     "output_type": "display_data"
    }
   ],
   "source": [
    "sample_n_10 <- sample_multiple(1000,10,population_not_normal)\n",
    "sample_n_100 <- sample_multiple(1000,100,population_not_normal)\n",
    "sample_n_1000 <- sample_multiple(1000,1000,population_not_normal)\n",
    "\n",
    "compare_sample_n <- bind_rows(sample_n_10, \n",
    "                              sample_n_100, \n",
    "                              sample_n_1000) %>%\n",
    "                    mutate(n=as.factor(n))\n",
    "head(compare_sample_n %>% filter(n==10))\n",
    "head(compare_sample_n %>% filter(n==100))\n",
    "head(compare_sample_n %>% filter(n==1000))"
   ]
  },
  {
   "cell_type": "markdown",
   "metadata": {},
   "source": [
    "We calculate the sample mean for each replicate with the different sample sizes (10, 100, 1000)"
   ]
  },
  {
   "cell_type": "code",
   "execution_count": null,
   "metadata": {
    "jupyter": {
     "source_hidden": true
    },
    "tags": [
     "hide-input"
    ]
   },
   "outputs": [
    {
     "name": "stderr",
     "output_type": "stream",
     "text": [
      "\u001b[1m\u001b[22m`summarise()` has grouped output by 'n'. You can override using the `.groups`\n",
      "argument.\n"
     ]
    },
    {
     "data": {
      "text/html": [
       "<table class=\"dataframe\">\n",
       "<caption>A grouped_df: 6 × 3</caption>\n",
       "<thead>\n",
       "\t<tr><th scope=col>n</th><th scope=col>replicate</th><th scope=col>mean</th></tr>\n",
       "\t<tr><th scope=col>&lt;fct&gt;</th><th scope=col>&lt;int&gt;</th><th scope=col>&lt;dbl&gt;</th></tr>\n",
       "</thead>\n",
       "<tbody>\n",
       "\t<tr><td>10</td><td>1</td><td>139.3060</td></tr>\n",
       "\t<tr><td>10</td><td>2</td><td>139.0266</td></tr>\n",
       "\t<tr><td>10</td><td>3</td><td>135.6733</td></tr>\n",
       "\t<tr><td>10</td><td>4</td><td>137.7051</td></tr>\n",
       "\t<tr><td>10</td><td>5</td><td>135.5555</td></tr>\n",
       "\t<tr><td>10</td><td>6</td><td>135.8469</td></tr>\n",
       "</tbody>\n",
       "</table>\n"
      ],
      "text/latex": [
       "A grouped\\_df: 6 × 3\n",
       "\\begin{tabular}{lll}\n",
       " n & replicate & mean\\\\\n",
       " <fct> & <int> & <dbl>\\\\\n",
       "\\hline\n",
       "\t 10 & 1 & 139.3060\\\\\n",
       "\t 10 & 2 & 139.0266\\\\\n",
       "\t 10 & 3 & 135.6733\\\\\n",
       "\t 10 & 4 & 137.7051\\\\\n",
       "\t 10 & 5 & 135.5555\\\\\n",
       "\t 10 & 6 & 135.8469\\\\\n",
       "\\end{tabular}\n"
      ],
      "text/markdown": [
       "\n",
       "A grouped_df: 6 × 3\n",
       "\n",
       "| n &lt;fct&gt; | replicate &lt;int&gt; | mean &lt;dbl&gt; |\n",
       "|---|---|---|\n",
       "| 10 | 1 | 139.3060 |\n",
       "| 10 | 2 | 139.0266 |\n",
       "| 10 | 3 | 135.6733 |\n",
       "| 10 | 4 | 137.7051 |\n",
       "| 10 | 5 | 135.5555 |\n",
       "| 10 | 6 | 135.8469 |\n",
       "\n"
      ],
      "text/plain": [
       "  n  replicate mean    \n",
       "1 10 1         139.3060\n",
       "2 10 2         139.0266\n",
       "3 10 3         135.6733\n",
       "4 10 4         137.7051\n",
       "5 10 5         135.5555\n",
       "6 10 6         135.8469"
      ]
     },
     "metadata": {},
     "output_type": "display_data"
    },
    {
     "data": {
      "text/html": [
       "<table class=\"dataframe\">\n",
       "<caption>A grouped_df: 6 × 3</caption>\n",
       "<thead>\n",
       "\t<tr><th scope=col>n</th><th scope=col>replicate</th><th scope=col>mean</th></tr>\n",
       "\t<tr><th scope=col>&lt;fct&gt;</th><th scope=col>&lt;int&gt;</th><th scope=col>&lt;dbl&gt;</th></tr>\n",
       "</thead>\n",
       "<tbody>\n",
       "\t<tr><td>100</td><td>1</td><td>138.9436</td></tr>\n",
       "\t<tr><td>100</td><td>2</td><td>138.4223</td></tr>\n",
       "\t<tr><td>100</td><td>3</td><td>137.8537</td></tr>\n",
       "\t<tr><td>100</td><td>4</td><td>138.8154</td></tr>\n",
       "\t<tr><td>100</td><td>5</td><td>138.7840</td></tr>\n",
       "\t<tr><td>100</td><td>6</td><td>137.5769</td></tr>\n",
       "</tbody>\n",
       "</table>\n"
      ],
      "text/latex": [
       "A grouped\\_df: 6 × 3\n",
       "\\begin{tabular}{lll}\n",
       " n & replicate & mean\\\\\n",
       " <fct> & <int> & <dbl>\\\\\n",
       "\\hline\n",
       "\t 100 & 1 & 138.9436\\\\\n",
       "\t 100 & 2 & 138.4223\\\\\n",
       "\t 100 & 3 & 137.8537\\\\\n",
       "\t 100 & 4 & 138.8154\\\\\n",
       "\t 100 & 5 & 138.7840\\\\\n",
       "\t 100 & 6 & 137.5769\\\\\n",
       "\\end{tabular}\n"
      ],
      "text/markdown": [
       "\n",
       "A grouped_df: 6 × 3\n",
       "\n",
       "| n &lt;fct&gt; | replicate &lt;int&gt; | mean &lt;dbl&gt; |\n",
       "|---|---|---|\n",
       "| 100 | 1 | 138.9436 |\n",
       "| 100 | 2 | 138.4223 |\n",
       "| 100 | 3 | 137.8537 |\n",
       "| 100 | 4 | 138.8154 |\n",
       "| 100 | 5 | 138.7840 |\n",
       "| 100 | 6 | 137.5769 |\n",
       "\n"
      ],
      "text/plain": [
       "  n   replicate mean    \n",
       "1 100 1         138.9436\n",
       "2 100 2         138.4223\n",
       "3 100 3         137.8537\n",
       "4 100 4         138.8154\n",
       "5 100 5         138.7840\n",
       "6 100 6         137.5769"
      ]
     },
     "metadata": {},
     "output_type": "display_data"
    },
    {
     "data": {
      "text/html": [
       "<table class=\"dataframe\">\n",
       "<caption>A grouped_df: 6 × 3</caption>\n",
       "<thead>\n",
       "\t<tr><th scope=col>n</th><th scope=col>replicate</th><th scope=col>mean</th></tr>\n",
       "\t<tr><th scope=col>&lt;fct&gt;</th><th scope=col>&lt;int&gt;</th><th scope=col>&lt;dbl&gt;</th></tr>\n",
       "</thead>\n",
       "<tbody>\n",
       "\t<tr><td>1000</td><td>1</td><td>138.2920</td></tr>\n",
       "\t<tr><td>1000</td><td>2</td><td>137.8108</td></tr>\n",
       "\t<tr><td>1000</td><td>3</td><td>137.8769</td></tr>\n",
       "\t<tr><td>1000</td><td>4</td><td>138.0471</td></tr>\n",
       "\t<tr><td>1000</td><td>5</td><td>137.9884</td></tr>\n",
       "\t<tr><td>1000</td><td>6</td><td>137.5843</td></tr>\n",
       "</tbody>\n",
       "</table>\n"
      ],
      "text/latex": [
       "A grouped\\_df: 6 × 3\n",
       "\\begin{tabular}{lll}\n",
       " n & replicate & mean\\\\\n",
       " <fct> & <int> & <dbl>\\\\\n",
       "\\hline\n",
       "\t 1000 & 1 & 138.2920\\\\\n",
       "\t 1000 & 2 & 137.8108\\\\\n",
       "\t 1000 & 3 & 137.8769\\\\\n",
       "\t 1000 & 4 & 138.0471\\\\\n",
       "\t 1000 & 5 & 137.9884\\\\\n",
       "\t 1000 & 6 & 137.5843\\\\\n",
       "\\end{tabular}\n"
      ],
      "text/markdown": [
       "\n",
       "A grouped_df: 6 × 3\n",
       "\n",
       "| n &lt;fct&gt; | replicate &lt;int&gt; | mean &lt;dbl&gt; |\n",
       "|---|---|---|\n",
       "| 1000 | 1 | 138.2920 |\n",
       "| 1000 | 2 | 137.8108 |\n",
       "| 1000 | 3 | 137.8769 |\n",
       "| 1000 | 4 | 138.0471 |\n",
       "| 1000 | 5 | 137.9884 |\n",
       "| 1000 | 6 | 137.5843 |\n",
       "\n"
      ],
      "text/plain": [
       "  n    replicate mean    \n",
       "1 1000 1         138.2920\n",
       "2 1000 2         137.8108\n",
       "3 1000 3         137.8769\n",
       "4 1000 4         138.0471\n",
       "5 1000 5         137.9884\n",
       "6 1000 6         137.5843"
      ]
     },
     "metadata": {},
     "output_type": "display_data"
    }
   ],
   "source": [
    "compare_sample_n_data <- compare_sample_n %>% \n",
    "                         group_by(n, replicate) %>%\n",
    "                         summarize(mean=mean(value))\n",
    "\n",
    "head(compare_sample_n_data %>% filter(n==10))\n",
    "head(compare_sample_n_data %>% filter(n==100))\n",
    "head(compare_sample_n_data %>% filter(n==1000))"
   ]
  },
  {
   "cell_type": "markdown",
   "metadata": {},
   "source": [
    "We can plot the distribution of the sample means (1000 replicates) for the different sample sizes (10, 100, 1000)"
   ]
  },
  {
   "cell_type": "code",
   "execution_count": null,
   "metadata": {
    "jupyter": {
     "source_hidden": true
    },
    "tags": [
     "hide-input"
    ]
   },
   "outputs": [
    {
     "data": {
      "image/png": "[encoded data removed]",
      "text/plain": [
       "plot without title"
      ]
     },
     "metadata": {
      "image/png": {
       "height": 900,
       "width": 480
      }
     },
     "output_type": "display_data"
    }
   ],
   "source": [
    "# set plot dimensions\n",
    "options(repr.plot.width=8, repr.plot.height=15)\n",
    "\n",
    "# split plots\n",
    "\n",
    "compare_sample_n_data %>% \n",
    "ggplot(aes(x=mean, fill=n)) + \n",
    "  geom_histogram(binwidth=0.1, alpha=0.5) +\n",
    "  facet_grid(n ~ ., scales=\"free_y\") +\n",
    "  theme_grey(base_size=16)"
   ]
  },
  {
   "cell_type": "markdown",
   "metadata": {},
   "source": [
    "From the distribution of mean estimates, we can look at the mean and standard deviation of the sample means for each of the sample sizes (10, 100, 1000)"
   ]
  },
  {
   "cell_type": "code",
   "execution_count": null,
   "metadata": {
    "jupyter": {
     "source_hidden": true
    },
    "tags": [
     "hide-input"
    ]
   },
   "outputs": [
    {
     "data": {
      "text/html": [
       "<table class=\"dataframe\">\n",
       "<caption>A tibble: 3 × 3</caption>\n",
       "<thead>\n",
       "\t<tr><th scope=col>n</th><th scope=col>mean_of_means</th><th scope=col>sd_means</th></tr>\n",
       "\t<tr><th scope=col>&lt;fct&gt;</th><th scope=col>&lt;dbl&gt;</th><th scope=col>&lt;dbl&gt;</th></tr>\n",
       "</thead>\n",
       "<tbody>\n",
       "\t<tr><td>10  </td><td>137.9444</td><td>2.5244495</td></tr>\n",
       "\t<tr><td>100 </td><td>137.8418</td><td>0.7950570</td></tr>\n",
       "\t<tr><td>1000</td><td>137.8504</td><td>0.2470804</td></tr>\n",
       "</tbody>\n",
       "</table>\n"
      ],
      "text/latex": [
       "A tibble: 3 × 3\n",
       "\\begin{tabular}{lll}\n",
       " n & mean\\_of\\_means & sd\\_means\\\\\n",
       " <fct> & <dbl> & <dbl>\\\\\n",
       "\\hline\n",
       "\t 10   & 137.9444 & 2.5244495\\\\\n",
       "\t 100  & 137.8418 & 0.7950570\\\\\n",
       "\t 1000 & 137.8504 & 0.2470804\\\\\n",
       "\\end{tabular}\n"
      ],
      "text/markdown": [
       "\n",
       "A tibble: 3 × 3\n",
       "\n",
       "| n &lt;fct&gt; | mean_of_means &lt;dbl&gt; | sd_means &lt;dbl&gt; |\n",
       "|---|---|---|\n",
       "| 10   | 137.9444 | 2.5244495 |\n",
       "| 100  | 137.8418 | 0.7950570 |\n",
       "| 1000 | 137.8504 | 0.2470804 |\n",
       "\n"
      ],
      "text/plain": [
       "  n    mean_of_means sd_means \n",
       "1 10   137.9444      2.5244495\n",
       "2 100  137.8418      0.7950570\n",
       "3 1000 137.8504      0.2470804"
      ]
     },
     "metadata": {},
     "output_type": "display_data"
    }
   ],
   "source": [
    "compare_sample_n_data %>% group_by(n) %>%\n",
    "                          summarise(mean_of_means=mean(mean), \n",
    "                                    sd_means=sd(mean))"
   ]
  },
  {
   "cell_type": "markdown",
   "metadata": {},
   "source": [
    "As the sample size (n) increases, the spread of the mean estimates decreases as previously demonstrated.\n",
    "\n",
    "Interestingly, the distribution of the sample **means** approaches a normal distribution as the sample size increases\n",
    "- This is known as the Central Limit Theorem (CLT)\n",
    "- The implication is that if the sample size is large enough, inferences about the **mean** can use theoretical normal distribution, regardless of the original distribution\n",
    "\n",
    "We can explore this through this interactive site:\n",
    "https://seeing-theory.brown.edu/probability-distributions/index.html#section3"
   ]
  },
  {
   "cell_type": "markdown",
   "metadata": {},
   "source": [
    "## The 'n's justify the means"
   ]
  }
 ],
 "metadata": {
  "kernelspec": {
   "display_name": "R",
   "language": "R",
   "name": "ir"
  },
  "language_info": {
   "codemirror_mode": "r",
   "file_extension": ".r",
   "mimetype": "text/x-r-source",
   "name": "R",
   "pygments_lexer": "r",
   "version": "4.2.3"
  }
 },
 "nbformat": 4,
 "nbformat_minor": 4
}
