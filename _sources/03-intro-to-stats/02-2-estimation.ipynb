{
 "cells": [
  {
   "cell_type": "markdown",
   "metadata": {},
   "source": [
    "# Estimating Uncertainty\n",
    "\n",
    "We saw previously that estimates of the mean can vary from sample to sample. This uncertainty can be expressed as a confidence interval, conventionally set at 95% \n",
    "\n",
    "![estimation_uncertainty.png](images/estimation_uncertainty.png)"
   ]
  },
  {
   "cell_type": "markdown",
   "metadata": {},
   "source": [
    "## Data preparation"
   ]
  },
  {
   "cell_type": "markdown",
   "metadata": {},
   "source": [
    "We start by simulating a population of 1000 from a non-normal distribution to illustrate the Central Limit Theorem when inferring the population mean and the uncertainty of the estimate"
   ]
  },
  {
   "cell_type": "code",
   "execution_count": null,
   "metadata": {
    "jupyter": {
     "source_hidden": true
    },
    "tags": [
     "hide-input"
    ]
   },
   "outputs": [
    {
     "name": "stderr",
     "output_type": "stream",
     "text": [
      "── \u001b[1mAttaching packages\u001b[22m ─────────────────────────────────────── tidyverse 1.3.1 ──\n",
      "\n",
      "\u001b[32m✔\u001b[39m \u001b[34mggplot2\u001b[39m 3.3.5     \u001b[32m✔\u001b[39m \u001b[34mpurrr  \u001b[39m 0.3.4\n",
      "\u001b[32m✔\u001b[39m \u001b[34mtibble \u001b[39m 3.1.6     \u001b[32m✔\u001b[39m \u001b[34mdplyr  \u001b[39m 1.0.8\n",
      "\u001b[32m✔\u001b[39m \u001b[34mtidyr  \u001b[39m 1.2.0     \u001b[32m✔\u001b[39m \u001b[34mstringr\u001b[39m 1.4.0\n",
      "\u001b[32m✔\u001b[39m \u001b[34mreadr  \u001b[39m 2.1.2     \u001b[32m✔\u001b[39m \u001b[34mforcats\u001b[39m 0.5.1\n",
      "\n",
      "── \u001b[1mConflicts\u001b[22m ────────────────────────────────────────── tidyverse_conflicts() ──\n",
      "\u001b[31m✖\u001b[39m \u001b[34mdplyr\u001b[39m::\u001b[32mfilter()\u001b[39m masks \u001b[34mstats\u001b[39m::filter()\n",
      "\u001b[31m✖\u001b[39m \u001b[34mdplyr\u001b[39m::\u001b[32mlag()\u001b[39m    masks \u001b[34mstats\u001b[39m::lag()\n",
      "\n"
     ]
    },
    {
     "data": {
      "image/png": "[encoded data removed]",
      "text/plain": [
       "plot without title"
      ]
     },
     "metadata": {
      "image/png": {
       "height": 480,
       "width": 480
      }
     },
     "output_type": "display_data"
    }
   ],
   "source": [
    "library(tidyverse)\n",
    "\n",
    "# set random seed for reproducibility\n",
    "set.seed(123)\n",
    "\n",
    "# generate non-normal population\n",
    "pop <- rbeta(1000, 0.6,0.6)*50+120 # beta distribution\n",
    "\n",
    "# set plot dimensions\n",
    "options(repr.plot.width=8, repr.plot.height=8)\n",
    "\n",
    "pop %>% \n",
    "tibble(value=.) %>% \n",
    "ggplot(aes(x=value)) + \n",
    "  geom_histogram(binwidth=1) +\n",
    "  geom_vline(aes(xintercept=mean(value)), color=\"red\") +\n",
    "  theme_grey(base_size=16)"
   ]
  },
  {
   "cell_type": "code",
   "execution_count": null,
   "metadata": {
    "jupyter": {
     "source_hidden": true
    },
    "tags": [
     "hide-input"
    ]
   },
   "outputs": [
    {
     "data": {
      "text/html": [
       "<table class=\"dataframe\">\n",
       "<caption>A tibble: 2 × 2</caption>\n",
       "<thead>\n",
       "\t<tr><th scope=col>stat</th><th scope=col>value</th></tr>\n",
       "\t<tr><th scope=col>&lt;chr&gt;</th><th scope=col>&lt;dbl&gt;</th></tr>\n",
       "</thead>\n",
       "<tbody>\n",
       "\t<tr><td>Population mean    </td><td>143.9593</td></tr>\n",
       "\t<tr><td>Population variance</td><td>278.0270</td></tr>\n",
       "</tbody>\n",
       "</table>\n"
      ],
      "text/latex": [
       "A tibble: 2 × 2\n",
       "\\begin{tabular}{ll}\n",
       " stat & value\\\\\n",
       " <chr> & <dbl>\\\\\n",
       "\\hline\n",
       "\t Population mean     & 143.9593\\\\\n",
       "\t Population variance & 278.0270\\\\\n",
       "\\end{tabular}\n"
      ],
      "text/markdown": [
       "\n",
       "A tibble: 2 × 2\n",
       "\n",
       "| stat &lt;chr&gt; | value &lt;dbl&gt; |\n",
       "|---|---|\n",
       "| Population mean     | 143.9593 |\n",
       "| Population variance | 278.0270 |\n",
       "\n"
      ],
      "text/plain": [
       "  stat                value   \n",
       "1 Population mean     143.9593\n",
       "2 Population variance 278.0270"
      ]
     },
     "metadata": {},
     "output_type": "display_data"
    }
   ],
   "source": [
    "tibble(stat=c(\"Population mean\",\n",
    "              \"Population variance\"),\n",
    "       value=c(mean(pop), \n",
    "               sum((pop-mean(pop))^2)/length(pop)))"
   ]
  },
  {
   "cell_type": "markdown",
   "metadata": {},
   "source": [
    "---\n",
    "## How does the estimate of the mean vary if we can sample the population repeatedly?\n",
    "\n",
    "To get an idea of the uncertainty behind our estimate of the mean, we can take repeated samples from the population `without replacement` and see the distribution of our estimates\n",
    "\n",
    "![sampling_population.jpg](images/sampling_population.jpg)\n",
    "\n",
    "Source: https://www.ncbi.nlm.nih.gov/pmc/articles/PMC4784504/"
   ]
  },
  {
   "cell_type": "markdown",
   "metadata": {},
   "source": [
    "We define a function `resample` to take multiple samples of a certain size from the population and return the means of the samples\n",
    "\n",
    "```\n",
    "resample(replicate = number of repetitions,\n",
    "         sample_size = size of sample,\n",
    "         input_pop = input population to sample)\n",
    "```"
   ]
  },
  {
   "cell_type": "code",
   "execution_count": null,
   "metadata": {
    "jupyter": {
     "source_hidden": true
    },
    "tags": [
     "hide-cell"
    ]
   },
   "outputs": [],
   "source": [
    "resample <- function(replicate, sample_size, input_pop) {\n",
    "    \n",
    "    sample_mean = vector()\n",
    "\n",
    "    for (i in 1:replicate) {\n",
    "\n",
    "        sample_pop <- sample(input_pop, sample_size, replace = FALSE)\n",
    "        sample_mean <- c(sample_mean, mean(sample_pop))  \n",
    "    \n",
    "        }\n",
    "    return(sample_mean)\n",
    "}"
   ]
  },
  {
   "cell_type": "markdown",
   "metadata": {},
   "source": [
    "Let us calculate the mean of a random sample of 10 and repeat it 10,000 times"
   ]
  },
  {
   "cell_type": "code",
   "execution_count": null,
   "metadata": {
    "tags": []
   },
   "outputs": [
    {
     "data": {
      "text/html": [
       "<style>\n",
       ".list-inline {list-style: none; margin:0; padding: 0}\n",
       ".list-inline>li {display: inline-block}\n",
       ".list-inline>li:not(:last-child)::after {content: \"\\00b7\"; padding: 0 .5ex}\n",
       "</style>\n",
       "<ol class=list-inline><li>152.946077410664</li><li>137.829555248304</li><li>153.276383236219</li><li>138.454804199443</li><li>147.190609744289</li><li>134.466083466662</li></ol>\n"
      ],
      "text/latex": [
       "\\begin{enumerate*}\n",
       "\\item 152.946077410664\n",
       "\\item 137.829555248304\n",
       "\\item 153.276383236219\n",
       "\\item 138.454804199443\n",
       "\\item 147.190609744289\n",
       "\\item 134.466083466662\n",
       "\\end{enumerate*}\n"
      ],
      "text/markdown": [
       "1. 152.946077410664\n",
       "2. 137.829555248304\n",
       "3. 153.276383236219\n",
       "4. 138.454804199443\n",
       "5. 147.190609744289\n",
       "6. 134.466083466662\n",
       "\n",
       "\n"
      ],
      "text/plain": [
       "[1] 152.9461 137.8296 153.2764 138.4548 147.1906 134.4661"
      ]
     },
     "metadata": {},
     "output_type": "display_data"
    }
   ],
   "source": [
    "# take a sample of 10 and repeat 10,000 times\n",
    "sample_mean <- resample(replicate = 10000, \n",
    "                        sample_size = 10, \n",
    "                        input_pop = pop)\n",
    "\n",
    "head(sample_mean)"
   ]
  },
  {
   "cell_type": "markdown",
   "metadata": {},
   "source": [
    "We can plot the distribution of the sample means and include the 2.5% and 97.5% percentiles using the `quantile` function. These percentiles represent the lower and upper limits of sample means within a 95% interval (97.5 - 2.5 = 95)"
   ]
  },
  {
   "cell_type": "code",
   "execution_count": null,
   "metadata": {
    "jupyter": {
     "source_hidden": true
    },
    "tags": [
     "hide-input"
    ]
   },
   "outputs": [
    {
     "data": {
      "image/png": "[encoded data removed]",
      "text/plain": [
       "plot without title"
      ]
     },
     "metadata": {
      "image/png": {
       "height": 480,
       "width": 480
      }
     },
     "output_type": "display_data"
    }
   ],
   "source": [
    "# set plot dimensions\n",
    "options(repr.plot.width=8, repr.plot.height=8)\n",
    "\n",
    "sample_mean %>% \n",
    "tibble(mean=.) %>% # convert to tibble for ggplot\n",
    "ggplot(aes(x=mean)) +\n",
    "  geom_histogram(binwidth=1) +\n",
    "  geom_vline(xintercept = (quantile(sample_mean, 0.025)), color=\"red\") +\n",
    "  geom_vline(xintercept = (quantile(sample_mean, 0.975)), color=\"red\") +\n",
    "  geom_vline(xintercept = mean(pop), color=\"blue\") +\n",
    "  theme_gray(base_size=16)"
   ]
  },
  {
   "cell_type": "markdown",
   "metadata": {},
   "source": [
    "We can see that the distribution of the sample means is indeed normally distributed, in accordance to the Central Limit Theorem. We can obtain the 2.5% and 97.5% percentile values which represent the limits of the 95% confidence interval (CI)"
   ]
  },
  {
   "cell_type": "code",
   "execution_count": null,
   "metadata": {
    "jupyter": {
     "source_hidden": true
    },
    "tags": [
     "hide-input"
    ]
   },
   "outputs": [
    {
     "data": {
      "text/html": [
       "<table class=\"dataframe\">\n",
       "<caption>A tibble: 4 × 2</caption>\n",
       "<thead>\n",
       "\t<tr><th scope=col>stat</th><th scope=col>value</th></tr>\n",
       "\t<tr><th scope=col>&lt;chr&gt;</th><th scope=col>&lt;dbl&gt;</th></tr>\n",
       "</thead>\n",
       "<tbody>\n",
       "\t<tr><td>Population mean </td><td>143.9593</td></tr>\n",
       "\t<tr><td>Sample mean     </td><td>143.8976</td></tr>\n",
       "\t<tr><td>2.5% percentile </td><td>133.8147</td></tr>\n",
       "\t<tr><td>97.5% percentile</td><td>154.1778</td></tr>\n",
       "</tbody>\n",
       "</table>\n"
      ],
      "text/latex": [
       "A tibble: 4 × 2\n",
       "\\begin{tabular}{ll}\n",
       " stat & value\\\\\n",
       " <chr> & <dbl>\\\\\n",
       "\\hline\n",
       "\t Population mean  & 143.9593\\\\\n",
       "\t Sample mean      & 143.8976\\\\\n",
       "\t 2.5\\% percentile  & 133.8147\\\\\n",
       "\t 97.5\\% percentile & 154.1778\\\\\n",
       "\\end{tabular}\n"
      ],
      "text/markdown": [
       "\n",
       "A tibble: 4 × 2\n",
       "\n",
       "| stat &lt;chr&gt; | value &lt;dbl&gt; |\n",
       "|---|---|\n",
       "| Population mean  | 143.9593 |\n",
       "| Sample mean      | 143.8976 |\n",
       "| 2.5% percentile  | 133.8147 |\n",
       "| 97.5% percentile | 154.1778 |\n",
       "\n"
      ],
      "text/plain": [
       "  stat             value   \n",
       "1 Population mean  143.9593\n",
       "2 Sample mean      143.8976\n",
       "3 2.5% percentile  133.8147\n",
       "4 97.5% percentile 154.1778"
      ]
     },
     "metadata": {},
     "output_type": "display_data"
    }
   ],
   "source": [
    "tibble(stat=c(\"Population mean\",\n",
    "              \"Sample mean\",\n",
    "              \"2.5% percentile\",\n",
    "              \"97.5% percentile\"),\n",
    "       value=c(mean(pop), \n",
    "               mean(sample_mean),\n",
    "               quantile(sample_mean,0.025), \n",
    "               quantile(sample_mean,0.975)))"
   ]
  },
  {
   "cell_type": "markdown",
   "metadata": {},
   "source": [
    "**What do the confidence intervals mean?**\n",
    "\n",
    "If we were to sample the population repeatedly\n",
    "- 95% of the time, we would obtain sample mean values between the 2.5% and 97.5% percentile values\n",
    "- 95% of the time, the population mean is contained within these intervals"
   ]
  },
  {
   "cell_type": "markdown",
   "metadata": {},
   "source": [
    "---\n",
    "## How can we get an estimate of a confidence interval if we can only have 1 sample?\n",
    "\n",
    "In most cases, we do not have the luxury of taking multiple samples from the population. It turns out that it is possible to get an estimate of the confidence interval from 1 sample through a procedure called bootstrapping. The term comes from the phrase \"pulling up by one's own bootstraps\", where something is achieved without external input.\n",
    "\n",
    "In this procedure, the 1 sample is resampled repeatedly `with replacement` and the distribution is used to estimate the uncertainty.\n",
    "\n",
    "![sampling_bootstrap.jpg](images/sampling_bootstrap.jpg)\n",
    "\n",
    "Source: https://www.ncbi.nlm.nih.gov/pmc/articles/PMC4784504/"
   ]
  },
  {
   "cell_type": "markdown",
   "metadata": {},
   "source": [
    "We start by taking a single sample of 10 (without replacement) that we will use to obtain the 95% confidence interval of the mean estimate"
   ]
  },
  {
   "cell_type": "code",
   "execution_count": null,
   "metadata": {
    "jupyter": {
     "source_hidden": true
    },
    "tags": [
     "hide-input"
    ]
   },
   "outputs": [
    {
     "data": {
      "text/html": [
       "<style>\n",
       ".list-inline {list-style: none; margin:0; padding: 0}\n",
       ".list-inline>li {display: inline-block}\n",
       ".list-inline>li:not(:last-child)::after {content: \"\\00b7\"; padding: 0 .5ex}\n",
       "</style>\n",
       "<ol class=list-inline><li>169.991625184768</li><li>125.205020493557</li><li>148.220464579187</li><li>128.095037880364</li><li>168.04609506491</li><li>163.487551202912</li></ol>\n"
      ],
      "text/latex": [
       "\\begin{enumerate*}\n",
       "\\item 169.991625184768\n",
       "\\item 125.205020493557\n",
       "\\item 148.220464579187\n",
       "\\item 128.095037880364\n",
       "\\item 168.04609506491\n",
       "\\item 163.487551202912\n",
       "\\end{enumerate*}\n"
      ],
      "text/markdown": [
       "1. 169.991625184768\n",
       "2. 125.205020493557\n",
       "3. 148.220464579187\n",
       "4. 128.095037880364\n",
       "5. 168.04609506491\n",
       "6. 163.487551202912\n",
       "\n",
       "\n"
      ],
      "text/plain": [
       "[1] 169.9916 125.2050 148.2205 128.0950 168.0461 163.4876"
      ]
     },
     "metadata": {},
     "output_type": "display_data"
    }
   ],
   "source": [
    "# For reproducibility\n",
    "set.seed(101)\n",
    "\n",
    "# Take sample of 100\n",
    "sample_pop <- sample(pop, size = 10, replace = FALSE)\n",
    "\n",
    "head(sample_pop)"
   ]
  },
  {
   "cell_type": "markdown",
   "metadata": {},
   "source": [
    "From this one initial sample of 10 measurements, we take multiple samples **with replacement** for 1000 times and calculate the sample mean for each replicate"
   ]
  },
  {
   "cell_type": "code",
   "execution_count": null,
   "metadata": {
    "jupyter": {
     "source_hidden": true
    },
    "tags": [
     "hide-input"
    ]
   },
   "outputs": [
    {
     "data": {
      "text/html": [
       "<style>\n",
       ".list-inline {list-style: none; margin:0; padding: 0}\n",
       ".list-inline>li {display: inline-block}\n",
       ".list-inline>li:not(:last-child)::after {content: \"\\00b7\"; padding: 0 .5ex}\n",
       "</style>\n",
       "<ol class=list-inline><li>148.348429780378</li><li>150.410445803552</li><li>143.979513077672</li><li>140.82603687653</li><li>146.704309561301</li><li>139.14756661149</li></ol>\n"
      ],
      "text/latex": [
       "\\begin{enumerate*}\n",
       "\\item 148.348429780378\n",
       "\\item 150.410445803552\n",
       "\\item 143.979513077672\n",
       "\\item 140.82603687653\n",
       "\\item 146.704309561301\n",
       "\\item 139.14756661149\n",
       "\\end{enumerate*}\n"
      ],
      "text/markdown": [
       "1. 148.348429780378\n",
       "2. 150.410445803552\n",
       "3. 143.979513077672\n",
       "4. 140.82603687653\n",
       "5. 146.704309561301\n",
       "6. 139.14756661149\n",
       "\n",
       "\n"
      ],
      "text/plain": [
       "[1] 148.3484 150.4104 143.9795 140.8260 146.7043 139.1476"
      ]
     },
     "metadata": {},
     "output_type": "display_data"
    }
   ],
   "source": [
    "boot_mean = vector()\n",
    "\n",
    "for (i in 1:1000) {\n",
    "    \n",
    "  boot_pop <- sample(sample_pop, replace = TRUE) # we replace the samples\n",
    "  boot_mean <- c(boot_mean, mean(boot_pop))\n",
    "    \n",
    "}\n",
    "\n",
    "head(boot_mean)"
   ]
  },
  {
   "cell_type": "markdown",
   "metadata": {},
   "source": [
    "We can plot the distribution of sample means and include the 2.5% and 97.5% percentiles"
   ]
  },
  {
   "cell_type": "code",
   "execution_count": null,
   "metadata": {
    "jupyter": {
     "source_hidden": true
    },
    "tags": [
     "hide-input"
    ]
   },
   "outputs": [
    {
     "data": {
      "image/png": "[encoded data removed]",
      "text/plain": [
       "plot without title"
      ]
     },
     "metadata": {
      "image/png": {
       "height": 480,
       "width": 480
      }
     },
     "output_type": "display_data"
    }
   ],
   "source": [
    "# set plot dimensions\n",
    "options(repr.plot.width=8, repr.plot.height=8)\n",
    "\n",
    "boot_mean %>% \n",
    "tibble %>%\n",
    "ggplot(aes(x=.)) +\n",
    " geom_histogram(binwidth=1) +\n",
    " geom_vline(xintercept = (quantile(boot_mean, 0.025)), color=\"red\") +\n",
    " geom_vline(xintercept = (quantile(boot_mean, 0.975)), color=\"red\") +\n",
    " geom_vline(xintercept = mean(pop), color=\"blue\") +\n",
    " theme_grey(base_size=16)"
   ]
  },
  {
   "cell_type": "markdown",
   "metadata": {},
   "source": [
    "With bootstrapping, we see that the distribution is approximately normal, and we can obtain the 2.5% and 97.5% percentile values which represent the limits of the 95% confidence interval (CI)"
   ]
  },
  {
   "cell_type": "code",
   "execution_count": null,
   "metadata": {
    "jupyter": {
     "source_hidden": true
    },
    "tags": [
     "hide-input"
    ]
   },
   "outputs": [
    {
     "data": {
      "text/html": [
       "<table class=\"dataframe\">\n",
       "<caption>A tibble: 4 × 2</caption>\n",
       "<thead>\n",
       "\t<tr><th scope=col>stat</th><th scope=col>value</th></tr>\n",
       "\t<tr><th scope=col>&lt;chr&gt;</th><th scope=col>&lt;dbl&gt;</th></tr>\n",
       "</thead>\n",
       "<tbody>\n",
       "\t<tr><td>Population mean </td><td>143.9593</td></tr>\n",
       "\t<tr><td>Sample mean     </td><td>146.1919</td></tr>\n",
       "\t<tr><td>2.5% percentile </td><td>135.5714</td></tr>\n",
       "\t<tr><td>97.5% percentile</td><td>157.8232</td></tr>\n",
       "</tbody>\n",
       "</table>\n"
      ],
      "text/latex": [
       "A tibble: 4 × 2\n",
       "\\begin{tabular}{ll}\n",
       " stat & value\\\\\n",
       " <chr> & <dbl>\\\\\n",
       "\\hline\n",
       "\t Population mean  & 143.9593\\\\\n",
       "\t Sample mean      & 146.1919\\\\\n",
       "\t 2.5\\% percentile  & 135.5714\\\\\n",
       "\t 97.5\\% percentile & 157.8232\\\\\n",
       "\\end{tabular}\n"
      ],
      "text/markdown": [
       "\n",
       "A tibble: 4 × 2\n",
       "\n",
       "| stat &lt;chr&gt; | value &lt;dbl&gt; |\n",
       "|---|---|\n",
       "| Population mean  | 143.9593 |\n",
       "| Sample mean      | 146.1919 |\n",
       "| 2.5% percentile  | 135.5714 |\n",
       "| 97.5% percentile | 157.8232 |\n",
       "\n"
      ],
      "text/plain": [
       "  stat             value   \n",
       "1 Population mean  143.9593\n",
       "2 Sample mean      146.1919\n",
       "3 2.5% percentile  135.5714\n",
       "4 97.5% percentile 157.8232"
      ]
     },
     "metadata": {},
     "output_type": "display_data"
    }
   ],
   "source": [
    "tibble(stat=c(\"Population mean\",\n",
    "              \"Sample mean\",\n",
    "              \"2.5% percentile\",\n",
    "              \"97.5% percentile\"),\n",
    "       value=c(mean(pop), \n",
    "               mean(boot_mean),\n",
    "               quantile(boot_mean,0.025), \n",
    "               quantile(boot_mean,0.975)))"
   ]
  },
  {
   "cell_type": "markdown",
   "metadata": {},
   "source": [
    "**What do the confidence intervals mean?**\n",
    "\n",
    "If we were to sample the population repeatedly\n",
    "- 95% of the time, we would obtain sample mean values between the 2.5% and 97.5% percentile values\n",
    "- 95% of the time, the population mean is contained within these intervals\n",
    "\n",
    "Note that the bootstrap procedure is very dependent on the **initial** sample taken\n",
    "- If the sample is representative, the bootstrap estimate is good and makes no assumptions except it should be a random sample that is independent\n",
    "- If the sample is biased, the estimate can be very inaccurate"
   ]
  },
  {
   "cell_type": "markdown",
   "metadata": {},
   "source": [
    "---\n",
    "## Analytical approach using theoretical distribution\n",
    "\n",
    "Given the **Central Limit Theorem (CLT)**, we assume that the distribution of means will be **approximately normal with a large sample size** and we can estimate the confidence interval without having to perform a resampling procedure such as bootstrapping\n",
    "\n",
    "To do this, we can use the analytical approach to estimate the 2.5% and 97.5% from a theoretical normal distribution\n",
    "\n",
    "- To allow comparison of normal distributions from different sources of data, the normal distribution can be **standardized** to a mean of 0 and a standard deviation of 1\n",
    "\n",
    "![normal.png](images/normal.png)\n",
    "\n",
    "We can transform the data using **Z-scores**, which approximates a standard normal distribution\n",
    "\n",
    "$$Z=\\frac{\\bar{X}-\\mu}{\\sigma / \\sqrt{n}} \\sim N(0,1)$$\n",
    "\n",
    "We can use the standard normal distribution to determine which Z-scores correspond to the 95% interval (0.025 and 0.975 quantiles)\n",
    "\n",
    "![normal_ci.png](images/normal_ci.png)\n",
    "\n",
    "The Z-scores corresponding to the upper and lower limits of 95% interval in the standard normal distribution can be used to calculate the upper and lower limits of the 95% confidence interval of the mean\n",
    "\n",
    "$$-Z_\\mathit{lower}\\leq \\frac{\\bar{X}-\\mu}{\\sigma / \\sqrt{n}} \\leq +Z_\\mathit{upper}$$\n",
    "$$-Z_\\mathit{lower}\\left(\\frac{\\sigma}{\\sqrt{n}}\\right) \\leq \\bar{X}-\\mu \\leq+Z_\\mathit{upper}\\left(\\frac{\\sigma}{\\sqrt{n}}\\right)$$\n",
    "$$-\\bar{X}-Z_\\mathit{lower}\\left(\\frac{\\sigma}{\\sqrt{n}}\\right) \\leq-\\mu \\leq-\\bar{X}+Z_\\mathit{upper}\\left(\\frac{\\sigma}{\\sqrt{n}}\\right)$$\n",
    "$$\\bar{X}-Z_\\mathit{lower}\\left(\\frac{\\sigma}{\\sqrt{n}}\\right) \\leq \\mu \\leq \\bar{X}+Z_\\mathit{upper}\\left(\\frac{\\sigma}{\\sqrt{n}}\\right)$$\n"
   ]
  },
  {
   "cell_type": "markdown",
   "metadata": {},
   "source": [
    "**Taking a sample from the population**\n",
    "\n",
    "We take a sample (n=100) from the population and get an estimate of the uncertainty of the population mean"
   ]
  },
  {
   "cell_type": "code",
   "execution_count": null,
   "metadata": {
    "jupyter": {
     "source_hidden": true
    },
    "tags": []
   },
   "outputs": [
    {
     "data": {
      "text/html": [
       "<style>\n",
       ".list-inline {list-style: none; margin:0; padding: 0}\n",
       ".list-inline>li {display: inline-block}\n",
       ".list-inline>li:not(:last-child)::after {content: \"\\00b7\"; padding: 0 .5ex}\n",
       "</style>\n",
       "<ol class=list-inline><li>125.302157366936</li><li>127.574242701395</li><li>168.622804018135</li><li>147.573818047363</li><li>136.11996129258</li><li>155.873305355918</li></ol>\n"
      ],
      "text/latex": [
       "\\begin{enumerate*}\n",
       "\\item 125.302157366936\n",
       "\\item 127.574242701395\n",
       "\\item 168.622804018135\n",
       "\\item 147.573818047363\n",
       "\\item 136.11996129258\n",
       "\\item 155.873305355918\n",
       "\\end{enumerate*}\n"
      ],
      "text/markdown": [
       "1. 125.302157366936\n",
       "2. 127.574242701395\n",
       "3. 168.622804018135\n",
       "4. 147.573818047363\n",
       "5. 136.11996129258\n",
       "6. 155.873305355918\n",
       "\n",
       "\n"
      ],
      "text/plain": [
       "[1] 125.3022 127.5742 168.6228 147.5738 136.1200 155.8733"
      ]
     },
     "metadata": {},
     "output_type": "display_data"
    }
   ],
   "source": [
    "n <- 100\n",
    "\n",
    "# take sample (100) from population\n",
    "sample_pop <- sample(pop, n, replace = FALSE)\n",
    "\n",
    "head(sample_pop)"
   ]
  },
  {
   "cell_type": "markdown",
   "metadata": {},
   "source": [
    "**Calculating the 95% confidence interval**\n",
    "\n",
    "First, we find the Z-score at the 2.5% and 97.5% limits using the ```qnorm``` function"
   ]
  },
  {
   "cell_type": "code",
   "execution_count": null,
   "metadata": {
    "tags": []
   },
   "outputs": [
    {
     "data": {
      "text/html": [
       "-1.95996398454005"
      ],
      "text/latex": [
       "-1.95996398454005"
      ],
      "text/markdown": [
       "-1.95996398454005"
      ],
      "text/plain": [
       "[1] -1.959964"
      ]
     },
     "metadata": {},
     "output_type": "display_data"
    },
    {
     "data": {
      "text/html": [
       "1.95996398454005"
      ],
      "text/latex": [
       "1.95996398454005"
      ],
      "text/markdown": [
       "1.95996398454005"
      ],
      "text/plain": [
       "[1] 1.959964"
      ]
     },
     "metadata": {},
     "output_type": "display_data"
    }
   ],
   "source": [
    "z_lower <- qnorm(0.025)\n",
    "z_upper <- qnorm(0.975)\n",
    "\n",
    "z_lower\n",
    "z_upper"
   ]
  },
  {
   "cell_type": "markdown",
   "metadata": {},
   "source": [
    "Next, we multiply it by the **standard error** $\\sigma / \\sqrt{n}$ to obtain the upper and lower error bounds of the 95% confidence interval\n",
    "- Note that the standard deviation of the population is _not_ known, so we are using the standard deviation of the sample population (n=100) as an estimate"
   ]
  },
  {
   "cell_type": "code",
   "execution_count": null,
   "metadata": {
    "tags": []
   },
   "outputs": [
    {
     "data": {
      "text/html": [
       "-3.1904848893968"
      ],
      "text/latex": [
       "-3.1904848893968"
      ],
      "text/markdown": [
       "-3.1904848893968"
      ],
      "text/plain": [
       "[1] -3.190485"
      ]
     },
     "metadata": {},
     "output_type": "display_data"
    },
    {
     "data": {
      "text/html": [
       "3.1904848893968"
      ],
      "text/latex": [
       "3.1904848893968"
      ],
      "text/markdown": [
       "3.1904848893968"
      ],
      "text/plain": [
       "[1] 3.190485"
      ]
     },
     "metadata": {},
     "output_type": "display_data"
    }
   ],
   "source": [
    "std_err <- sd(sample_pop)/sqrt(n)\n",
    "\n",
    "error_lower <- z_lower * std_err\n",
    "error_upper <- z_upper * std_err\n",
    "\n",
    "error_lower\n",
    "error_upper"
   ]
  },
  {
   "cell_type": "markdown",
   "metadata": {},
   "source": [
    "Finally, we add them to the observed mean to give us the upper and lower limits of the 95% confidence interval"
   ]
  },
  {
   "cell_type": "code",
   "execution_count": null,
   "metadata": {
    "tags": []
   },
   "outputs": [
    {
     "data": {
      "text/html": [
       "139.459707312916"
      ],
      "text/latex": [
       "139.459707312916"
      ],
      "text/markdown": [
       "139.459707312916"
      ],
      "text/plain": [
       "[1] 139.4597"
      ]
     },
     "metadata": {},
     "output_type": "display_data"
    },
    {
     "data": {
      "text/html": [
       "145.840677091709"
      ],
      "text/latex": [
       "145.840677091709"
      ],
      "text/markdown": [
       "145.840677091709"
      ],
      "text/plain": [
       "[1] 145.8407"
      ]
     },
     "metadata": {},
     "output_type": "display_data"
    }
   ],
   "source": [
    "mean(sample_pop) + error_lower\n",
    "mean(sample_pop) + error_upper"
   ]
  },
  {
   "cell_type": "markdown",
   "metadata": {},
   "source": [
    "**How good are the 95% CI estimates using the theoretical normal distribution?**\n",
    "\n",
    "\n",
    "To see how good the 95% CI estimates are, we first define a function `CI_norm` to calculate the confidence interval using the theoretical normal distribution for one sample\n",
    "\n",
    "```\n",
    "CI_norm(input_pop = input population to sample\n",
    "        sample_size = size of sample)\n",
    "```"
   ]
  },
  {
   "cell_type": "code",
   "execution_count": null,
   "metadata": {
    "jupyter": {
     "source_hidden": true
    },
    "tags": [
     "hide-input"
    ]
   },
   "outputs": [],
   "source": [
    "CI_norm <- function(input_pop, sample_size) {\n",
    "    \n",
    "    sample_pop <- sample(input_pop, sample_size, replace = FALSE)\n",
    "    error <- qnorm(0.975) * (sd(sample_pop)/sqrt(sample_size)) #  the error for 0.025 and 0.975 is the same\n",
    "\n",
    "    tibble(lower=mean(sample_pop) - error, \n",
    "           upper=mean(sample_pop) + error) %>%\n",
    "    return\n",
    "\n",
    "}"
   ]
  },
  {
   "cell_type": "markdown",
   "metadata": {},
   "source": [
    "For example, we can calculate the 95% CI for a sample of 100 from the population"
   ]
  },
  {
   "cell_type": "code",
   "execution_count": null,
   "metadata": {
    "tags": []
   },
   "outputs": [
    {
     "data": {
      "text/html": [
       "<table class=\"dataframe\">\n",
       "<caption>A tibble: 1 × 2</caption>\n",
       "<thead>\n",
       "\t<tr><th scope=col>lower</th><th scope=col>upper</th></tr>\n",
       "\t<tr><th scope=col>&lt;dbl&gt;</th><th scope=col>&lt;dbl&gt;</th></tr>\n",
       "</thead>\n",
       "<tbody>\n",
       "\t<tr><td>141.7727</td><td>147.8022</td></tr>\n",
       "</tbody>\n",
       "</table>\n"
      ],
      "text/latex": [
       "A tibble: 1 × 2\n",
       "\\begin{tabular}{ll}\n",
       " lower & upper\\\\\n",
       " <dbl> & <dbl>\\\\\n",
       "\\hline\n",
       "\t 141.7727 & 147.8022\\\\\n",
       "\\end{tabular}\n"
      ],
      "text/markdown": [
       "\n",
       "A tibble: 1 × 2\n",
       "\n",
       "| lower &lt;dbl&gt; | upper &lt;dbl&gt; |\n",
       "|---|---|\n",
       "| 141.7727 | 147.8022 |\n",
       "\n"
      ],
      "text/plain": [
       "  lower    upper   \n",
       "1 141.7727 147.8022"
      ]
     },
     "metadata": {},
     "output_type": "display_data"
    }
   ],
   "source": [
    "# 95% CI for sample size of 100\n",
    "\n",
    "CI_norm(input_pop = pop,\n",
    "        sample_size = 100)"
   ]
  },
  {
   "cell_type": "markdown",
   "metadata": {},
   "source": [
    "We can now use this `CI_norm` function and repeat CI estimates for the sample population (n=100) for 100 times and check how often the population mean is included within the limits"
   ]
  },
  {
   "cell_type": "code",
   "execution_count": null,
   "metadata": {
    "jupyter": {
     "source_hidden": true
    },
    "tags": [
     "hide-input"
    ]
   },
   "outputs": [
    {
     "data": {
      "text/html": [
       "<table class=\"dataframe\">\n",
       "<caption>A tibble: 6 × 4</caption>\n",
       "<thead>\n",
       "\t<tr><th scope=col>lower</th><th scope=col>upper</th><th scope=col>replicate</th><th scope=col>included</th></tr>\n",
       "\t<tr><th scope=col>&lt;dbl&gt;</th><th scope=col>&lt;dbl&gt;</th><th scope=col>&lt;int&gt;</th><th scope=col>&lt;chr&gt;</th></tr>\n",
       "</thead>\n",
       "<tbody>\n",
       "\t<tr><td>138.9957</td><td>145.1074</td><td>1</td><td>yes</td></tr>\n",
       "\t<tr><td>143.4989</td><td>149.9997</td><td>2</td><td>yes</td></tr>\n",
       "\t<tr><td>142.0400</td><td>148.7452</td><td>3</td><td>yes</td></tr>\n",
       "\t<tr><td>142.1885</td><td>148.9183</td><td>4</td><td>yes</td></tr>\n",
       "\t<tr><td>144.8537</td><td>151.0413</td><td>5</td><td>no </td></tr>\n",
       "\t<tr><td>141.8196</td><td>148.0449</td><td>6</td><td>yes</td></tr>\n",
       "</tbody>\n",
       "</table>\n"
      ],
      "text/latex": [
       "A tibble: 6 × 4\n",
       "\\begin{tabular}{llll}\n",
       " lower & upper & replicate & included\\\\\n",
       " <dbl> & <dbl> & <int> & <chr>\\\\\n",
       "\\hline\n",
       "\t 138.9957 & 145.1074 & 1 & yes\\\\\n",
       "\t 143.4989 & 149.9997 & 2 & yes\\\\\n",
       "\t 142.0400 & 148.7452 & 3 & yes\\\\\n",
       "\t 142.1885 & 148.9183 & 4 & yes\\\\\n",
       "\t 144.8537 & 151.0413 & 5 & no \\\\\n",
       "\t 141.8196 & 148.0449 & 6 & yes\\\\\n",
       "\\end{tabular}\n"
      ],
      "text/markdown": [
       "\n",
       "A tibble: 6 × 4\n",
       "\n",
       "| lower &lt;dbl&gt; | upper &lt;dbl&gt; | replicate &lt;int&gt; | included &lt;chr&gt; |\n",
       "|---|---|---|---|\n",
       "| 138.9957 | 145.1074 | 1 | yes |\n",
       "| 143.4989 | 149.9997 | 2 | yes |\n",
       "| 142.0400 | 148.7452 | 3 | yes |\n",
       "| 142.1885 | 148.9183 | 4 | yes |\n",
       "| 144.8537 | 151.0413 | 5 | no  |\n",
       "| 141.8196 | 148.0449 | 6 | yes |\n",
       "\n"
      ],
      "text/plain": [
       "  lower    upper    replicate included\n",
       "1 138.9957 145.1074 1         yes     \n",
       "2 143.4989 149.9997 2         yes     \n",
       "3 142.0400 148.7452 3         yes     \n",
       "4 142.1885 148.9183 4         yes     \n",
       "5 144.8537 151.0413 5         no      \n",
       "6 141.8196 148.0449 6         yes     "
      ]
     },
     "metadata": {},
     "output_type": "display_data"
    }
   ],
   "source": [
    "# For reproducibility\n",
    "set.seed(747)\n",
    "\n",
    "data_norm <- replicate(100, CI_norm(pop, sample_size=100), simplify=FALSE) %>% \n",
    "             bind_rows %>%\n",
    "             mutate(replicate=1:100,\n",
    "                    included = ifelse(mean(pop)<=upper & mean(pop)>=lower,\n",
    "                                      \"yes\",\n",
    "                                      \"no\"))\n",
    "\n",
    "head(data_norm)"
   ]
  },
  {
   "cell_type": "markdown",
   "metadata": {},
   "source": [
    "We can visualize the estimates in a plot and calculate the number of times each CI includes the true population mean "
   ]
  },
  {
   "cell_type": "code",
   "execution_count": null,
   "metadata": {
    "jupyter": {
     "source_hidden": true
    },
    "tags": [
     "hide-input"
    ]
   },
   "outputs": [
    {
     "data": {
      "image/png": "[encoded data removed]",
      "text/plain": [
       "plot without title"
      ]
     },
     "metadata": {
      "image/png": {
       "height": 600,
       "width": 600
      }
     },
     "output_type": "display_data"
    }
   ],
   "source": [
    "# adjust size of the image output\n",
    "options(repr.plot.width=10, repr.plot.height=10)\n",
    "\n",
    "data_norm %>% group_by(replicate) %>%\n",
    "              ggplot(aes(x=replicate, color=included)) + \n",
    "              geom_errorbar(aes(ymin=lower, ymax=upper)) +\n",
    "              geom_hline(yintercept=mean(pop)) +\n",
    "              coord_flip() +\n",
    "              theme_grey(base_size=16)"
   ]
  },
  {
   "cell_type": "code",
   "execution_count": null,
   "metadata": {
    "jupyter": {
     "source_hidden": true
    },
    "tags": []
   },
   "outputs": [
    {
     "data": {
      "text/html": [
       "<table class=\"dataframe\">\n",
       "<caption>A tibble: 2 × 2</caption>\n",
       "<thead>\n",
       "\t<tr><th scope=col>included</th><th scope=col>n</th></tr>\n",
       "\t<tr><th scope=col>&lt;chr&gt;</th><th scope=col>&lt;int&gt;</th></tr>\n",
       "</thead>\n",
       "<tbody>\n",
       "\t<tr><td>no </td><td> 6</td></tr>\n",
       "\t<tr><td>yes</td><td>94</td></tr>\n",
       "</tbody>\n",
       "</table>\n"
      ],
      "text/latex": [
       "A tibble: 2 × 2\n",
       "\\begin{tabular}{ll}\n",
       " included & n\\\\\n",
       " <chr> & <int>\\\\\n",
       "\\hline\n",
       "\t no  &  6\\\\\n",
       "\t yes & 94\\\\\n",
       "\\end{tabular}\n"
      ],
      "text/markdown": [
       "\n",
       "A tibble: 2 × 2\n",
       "\n",
       "| included &lt;chr&gt; | n &lt;int&gt; |\n",
       "|---|---|\n",
       "| no  |  6 |\n",
       "| yes | 94 |\n",
       "\n"
      ],
      "text/plain": [
       "  included n \n",
       "1 no        6\n",
       "2 yes      94"
      ]
     },
     "metadata": {},
     "output_type": "display_data"
    }
   ],
   "source": [
    "data_norm %>% count(included)"
   ]
  },
  {
   "cell_type": "markdown",
   "metadata": {},
   "source": [
    "We can see that the 95% CI estimate from one sample is consistent when we repeat the estimates multiple times \n",
    "- ~95% of the time, the true population mean is contained with the CI intervals"
   ]
  },
  {
   "cell_type": "markdown",
   "metadata": {},
   "source": [
    "**What if we reduce the sample size (n=5)?**"
   ]
  },
  {
   "cell_type": "code",
   "execution_count": null,
   "metadata": {
    "jupyter": {
     "source_hidden": true
    },
    "tags": [
     "hide-input"
    ]
   },
   "outputs": [
    {
     "data": {
      "image/png": "[encoded data removed]",
      "text/plain": [
       "plot without title"
      ]
     },
     "metadata": {
      "image/png": {
       "height": 600,
       "width": 600
      }
     },
     "output_type": "display_data"
    }
   ],
   "source": [
    "# For reproducibility\n",
    "set.seed(747)\n",
    "\n",
    "# generate CI replicates for a smaller sample size (n=5)\n",
    "data_norm <- replicate(100, CI_norm(pop, sample_size=5), simplify=FALSE) %>% \n",
    "             bind_rows %>%\n",
    "             mutate(replicate=1:100,\n",
    "                    included = ifelse(mean(pop)<=upper & mean(pop)>=lower,\n",
    "                                      \"yes\", \"no\"))\n",
    "# adjust size of the image output\n",
    "options(repr.plot.width=10, repr.plot.height=10)\n",
    "\n",
    "data_norm %>% group_by(replicate) %>%\n",
    "              ggplot(aes(x=replicate, color=included)) + \n",
    "                geom_errorbar(aes(ymin=lower, ymax=upper)) +\n",
    "                geom_hline(yintercept=mean(pop)) +\n",
    "                coord_flip() +\n",
    "                theme_grey(base_size=16)"
   ]
  },
  {
   "cell_type": "code",
   "execution_count": null,
   "metadata": {
    "jupyter": {
     "source_hidden": true
    },
    "tags": []
   },
   "outputs": [
    {
     "data": {
      "text/html": [
       "<table class=\"dataframe\">\n",
       "<caption>A tibble: 2 × 2</caption>\n",
       "<thead>\n",
       "\t<tr><th scope=col>included</th><th scope=col>n</th></tr>\n",
       "\t<tr><th scope=col>&lt;chr&gt;</th><th scope=col>&lt;int&gt;</th></tr>\n",
       "</thead>\n",
       "<tbody>\n",
       "\t<tr><td>no </td><td>12</td></tr>\n",
       "\t<tr><td>yes</td><td>88</td></tr>\n",
       "</tbody>\n",
       "</table>\n"
      ],
      "text/latex": [
       "A tibble: 2 × 2\n",
       "\\begin{tabular}{ll}\n",
       " included & n\\\\\n",
       " <chr> & <int>\\\\\n",
       "\\hline\n",
       "\t no  & 12\\\\\n",
       "\t yes & 88\\\\\n",
       "\\end{tabular}\n"
      ],
      "text/markdown": [
       "\n",
       "A tibble: 2 × 2\n",
       "\n",
       "| included &lt;chr&gt; | n &lt;int&gt; |\n",
       "|---|---|\n",
       "| no  | 12 |\n",
       "| yes | 88 |\n",
       "\n"
      ],
      "text/plain": [
       "  included n \n",
       "1 no       12\n",
       "2 yes      88"
      ]
     },
     "metadata": {},
     "output_type": "display_data"
    }
   ],
   "source": [
    "data_norm %>% count(included)"
   ]
  },
  {
   "cell_type": "markdown",
   "metadata": {},
   "source": [
    "Interestingly, the proportion of CI estimates that include the population mean is now lower than 95%, using the theoretical normal distribution. \n",
    "- This indicates that the normal distribution may not be a good theoretical distribution to use when the sample size is small\n",
    "- The 95% CI was based on the standard deviation of **sample** instead of the population (which is unknown when we just have the sample)"
   ]
  },
  {
   "cell_type": "markdown",
   "metadata": {},
   "source": [
    "---\n",
    "## Using a t-distribution to account for smaller sample sizes\n",
    "\n",
    "In the normal distribution, the data is standardized using Z-scores\n",
    "\n",
    "$$Z=\\frac{\\bar{X}-\\mu}{\\sigma / \\sqrt{n}} \\sim N(0,1)$$\n",
    "\n",
    "In the denominator, the $\\sigma$ is the **population variance** which is **unknown** most of the time. When the population variance is unknown, we will have to rely on the **sample standard deviation** $s$, which depends on the **sample size**\n",
    "\n",
    "$$s=\\sqrt{\\frac{\\sum(x-\\bar{x})^{2}}{n-1}}$$\n",
    "\n",
    "\n",
    "To account for sample size, we calculate the **t-score**\n",
    "\n",
    "$$t=\\frac{\\bar{x}-\\mu}{s / \\sqrt{n}} \\sim t(\\mathit{df} = n-1)$$\n",
    "\n",
    "- It uses the **sample standard deviation** $s$ instead of the population standard deviation $\\sigma$ (which is not known)\n",
    "- It standardizes the data to the **Student's t-distribution**, which depends on a parameter called the **degrees of freedom** ($\\mathit{df}=n-1$), where $n$ is the number of samples. \n",
    "\n",
    "![t-dist.png](images/t-dist.png)\n",
    "\n",
    "The degrees of freedom $\\mathit{df}$ depends on the sample size and determines the shape of the t-distribution\n",
    "- As the sample size and degrees of freedom decreases, the spread of uncertainty increases as seen in the heavier tails\n",
    "- As the sample size and degrees of freedom increases, it approximates the normal distribution\n",
    "\n",
    "The confidence interval is calculated in a similar way, with the following differences \n",
    "- The **t-scores** for the upper and lower limits of the 95% interval also depend in the the **degrees of freedom** $t(\\mathit{df})$\n",
    "- We use the standard deviation of the _sample_ $s$ which is known, instead of using the standard deviation of the population $\\sigma$\n",
    "\n",
    "$$-t(\\mathit{df})_\\mathit{lower}\\leq \\frac{\\bar{x}-\\mu}{ s / \\sqrt{n}} \\leq +t(\\mathit{df})_\\mathit{upper}$$\n",
    "$$-t(\\mathit{df})_\\mathit{lower}\\left(\\frac{s}{\\sqrt{n}}\\right) \\leq \\bar{x}-\\mu \\leq+t(\\mathit{df})_\\mathit{upper}\\left(\\frac{s}{\\sqrt{n}}\\right)$$\n",
    "$$-\\bar{x}-t(\\mathit{df})_\\mathit{lower}\\left(\\frac{s}{\\sqrt{n}}\\right) \\leq-\\mu \\leq-\\bar{x}+t(\\mathit{df})_\\mathit{upper}\\left(\\frac{s}{\\sqrt{n}}\\right)$$\n",
    "$$\\bar{x}-t(\\mathit{df})_\\mathit{lower}\\left(\\frac{s}{\\sqrt{n}}\\right) \\leq \\mu \\quad \\leq \\bar{x}+t(\\mathit{df})_\\mathit{upper}\\left(\\frac{s}{\\sqrt{n}}\\right)$$"
   ]
  },
  {
   "cell_type": "markdown",
   "metadata": {},
   "source": [
    "**Taking a sample from the population**\n",
    "\n",
    "We take a sample (n=10) from the population and get an estimate of the uncertainty"
   ]
  },
  {
   "cell_type": "code",
   "execution_count": null,
   "metadata": {
    "jupyter": {
     "source_hidden": true
    },
    "tags": []
   },
   "outputs": [
    {
     "data": {
      "text/html": [
       "<style>\n",
       ".list-inline {list-style: none; margin:0; padding: 0}\n",
       ".list-inline>li {display: inline-block}\n",
       ".list-inline>li:not(:last-child)::after {content: \"\\00b7\"; padding: 0 .5ex}\n",
       "</style>\n",
       "<ol class=list-inline><li>136.178122491728</li><li>137.610720743488</li><li>131.061181865294</li><li>127.574242701395</li><li>165.049621211291</li><li>167.207571752725</li></ol>\n"
      ],
      "text/latex": [
       "\\begin{enumerate*}\n",
       "\\item 136.178122491728\n",
       "\\item 137.610720743488\n",
       "\\item 131.061181865294\n",
       "\\item 127.574242701395\n",
       "\\item 165.049621211291\n",
       "\\item 167.207571752725\n",
       "\\end{enumerate*}\n"
      ],
      "text/markdown": [
       "1. 136.178122491728\n",
       "2. 137.610720743488\n",
       "3. 131.061181865294\n",
       "4. 127.574242701395\n",
       "5. 165.049621211291\n",
       "6. 167.207571752725\n",
       "\n",
       "\n"
      ],
      "text/plain": [
       "[1] 136.1781 137.6107 131.0612 127.5742 165.0496 167.2076"
      ]
     },
     "metadata": {},
     "output_type": "display_data"
    }
   ],
   "source": [
    "n <- 10\n",
    "\n",
    "# take sample (n=10) from population\n",
    "sample_pop <- sample(pop, n, replace = FALSE)\n",
    "\n",
    "head(sample_pop)"
   ]
  },
  {
   "cell_type": "markdown",
   "metadata": {},
   "source": [
    "**Calculating the 95% confidence interval**\n",
    "\n",
    "We can determine the t-score using the ```qt``` function that gives the t-score for the quantile (0.025 or 0.975) and the degree of freedom $\\mathit{df}=n-1$\n",
    "\n",
    "\n",
    "For example, we can determine the t-score of the 2.5% and 97.5% percentiles for a sample size of 10, where the degree of freedom = 10-1 = 9\n",
    "\n",
    "```\n",
    "qt(quantile, df = degrees of freedom)\n",
    "```"
   ]
  },
  {
   "cell_type": "code",
   "execution_count": null,
   "metadata": {
    "tags": []
   },
   "outputs": [
    {
     "data": {
      "text/html": [
       "-2.2621571627982"
      ],
      "text/latex": [
       "-2.2621571627982"
      ],
      "text/markdown": [
       "-2.2621571627982"
      ],
      "text/plain": [
       "[1] -2.262157"
      ]
     },
     "metadata": {},
     "output_type": "display_data"
    },
    {
     "data": {
      "text/html": [
       "2.2621571627982"
      ],
      "text/latex": [
       "2.2621571627982"
      ],
      "text/markdown": [
       "2.2621571627982"
      ],
      "text/plain": [
       "[1] 2.262157"
      ]
     },
     "metadata": {},
     "output_type": "display_data"
    }
   ],
   "source": [
    "t_lower <- qt(0.025, df=n-1)\n",
    "t_upper <- qt(0.975, df=n-1)\n",
    "\n",
    "t_lower\n",
    "t_upper"
   ]
  },
  {
   "cell_type": "markdown",
   "metadata": {},
   "source": [
    "Next, we multiply it by the standard error $s/\\sqrt{n}$ to obtain the upper and lower error bounds of the 95% confidence interval"
   ]
  },
  {
   "cell_type": "code",
   "execution_count": null,
   "metadata": {
    "tags": []
   },
   "outputs": [
    {
     "data": {
      "text/html": [
       "-10.6491439144337"
      ],
      "text/latex": [
       "-10.6491439144337"
      ],
      "text/markdown": [
       "-10.6491439144337"
      ],
      "text/plain": [
       "[1] -10.64914"
      ]
     },
     "metadata": {},
     "output_type": "display_data"
    },
    {
     "data": {
      "text/html": [
       "10.6491439144337"
      ],
      "text/latex": [
       "10.6491439144337"
      ],
      "text/markdown": [
       "10.6491439144337"
      ],
      "text/plain": [
       "[1] 10.64914"
      ]
     },
     "metadata": {},
     "output_type": "display_data"
    }
   ],
   "source": [
    "std_err <- sd(sample_pop)/sqrt(n)\n",
    "\n",
    "error_lower <- z_lower * std_err\n",
    "error_upper <- z_upper * std_err\n",
    "\n",
    "error_lower\n",
    "error_upper"
   ]
  },
  {
   "cell_type": "markdown",
   "metadata": {},
   "source": [
    "Finally, we add them to the observed mean to get the upper and lower limits of the 95% confidence interval"
   ]
  },
  {
   "cell_type": "code",
   "execution_count": null,
   "metadata": {
    "tags": []
   },
   "outputs": [
    {
     "data": {
      "text/html": [
       "135.522195490762"
      ],
      "text/latex": [
       "135.522195490762"
      ],
      "text/markdown": [
       "135.522195490762"
      ],
      "text/plain": [
       "[1] 135.5222"
      ]
     },
     "metadata": {},
     "output_type": "display_data"
    },
    {
     "data": {
      "text/html": [
       "156.820483319629"
      ],
      "text/latex": [
       "156.820483319629"
      ],
      "text/markdown": [
       "156.820483319629"
      ],
      "text/plain": [
       "[1] 156.8205"
      ]
     },
     "metadata": {},
     "output_type": "display_data"
    }
   ],
   "source": [
    "mean(sample_pop) + error_lower\n",
    "mean(sample_pop) + error_upper"
   ]
  },
  {
   "cell_type": "markdown",
   "metadata": {},
   "source": [
    "**How good are the 95% CI estimates using the  t-distribution?**\n",
    "\n",
    "To see how good the 95% CI estimates are, we first define a function `CI_t` to calculate the confidence interval using the theoretical t-distribution for one sample\n",
    "\n",
    "```\n",
    "CI_t(input_pop = input population to sample,\n",
    "     sample_size = size of sample)\n",
    "```"
   ]
  },
  {
   "cell_type": "code",
   "execution_count": null,
   "metadata": {
    "jupyter": {
     "source_hidden": true
    },
    "tags": [
     "hide-input"
    ]
   },
   "outputs": [],
   "source": [
    "# define function to calculate the confidence interval from the t-distribution\n",
    "\n",
    "CI_t <- function(input_pop, sample_size) {\n",
    "    \n",
    "    sample_pop <- sample(input_pop, sample_size, replace = FALSE)\n",
    "    error <- qt(0.975,df=sample_size-1) * sd(sample_pop)/sqrt(sample_size) # the error is the same for 0.025 or 0.975\n",
    "    \n",
    "    tibble(n=sample_size, \n",
    "           lower=mean(sample_pop) - error, \n",
    "           upper=mean(sample_pop) + error \n",
    "           ) %>%\n",
    "    return\n",
    "\n",
    "}"
   ]
  },
  {
   "cell_type": "markdown",
   "metadata": {},
   "source": [
    "For example, we can use this function to calculate the 95% CI for a random sample (n=10)"
   ]
  },
  {
   "cell_type": "code",
   "execution_count": null,
   "metadata": {
    "tags": []
   },
   "outputs": [
    {
     "data": {
      "text/html": [
       "<table class=\"dataframe\">\n",
       "<caption>A tibble: 1 × 3</caption>\n",
       "<thead>\n",
       "\t<tr><th scope=col>n</th><th scope=col>lower</th><th scope=col>upper</th></tr>\n",
       "\t<tr><th scope=col>&lt;dbl&gt;</th><th scope=col>&lt;dbl&gt;</th><th scope=col>&lt;dbl&gt;</th></tr>\n",
       "</thead>\n",
       "<tbody>\n",
       "\t<tr><td>10</td><td>138.5202</td><td>158.7039</td></tr>\n",
       "</tbody>\n",
       "</table>\n"
      ],
      "text/latex": [
       "A tibble: 1 × 3\n",
       "\\begin{tabular}{lll}\n",
       " n & lower & upper\\\\\n",
       " <dbl> & <dbl> & <dbl>\\\\\n",
       "\\hline\n",
       "\t 10 & 138.5202 & 158.7039\\\\\n",
       "\\end{tabular}\n"
      ],
      "text/markdown": [
       "\n",
       "A tibble: 1 × 3\n",
       "\n",
       "| n &lt;dbl&gt; | lower &lt;dbl&gt; | upper &lt;dbl&gt; |\n",
       "|---|---|---|\n",
       "| 10 | 138.5202 | 158.7039 |\n",
       "\n"
      ],
      "text/plain": [
       "  n  lower    upper   \n",
       "1 10 138.5202 158.7039"
      ]
     },
     "metadata": {},
     "output_type": "display_data"
    }
   ],
   "source": [
    "CI_t(input_pop = pop, sample_size = 10)"
   ]
  },
  {
   "cell_type": "markdown",
   "metadata": {},
   "source": [
    "We can now use this `CI_t` function and repeat CI estimates for the sample population (n=5) for 100 times and check how often the population mean is included within the limits\n",
    "\n",
    "We visualize the estimates in a plot and calculate the number of times each CI includes the true population mean "
   ]
  },
  {
   "cell_type": "markdown",
   "metadata": {},
   "source": [
    "**Student's t-distribution CI**"
   ]
  },
  {
   "cell_type": "code",
   "execution_count": null,
   "metadata": {
    "jupyter": {
     "source_hidden": true
    },
    "tags": [
     "hide-input"
    ]
   },
   "outputs": [
    {
     "data": {
      "image/png": "[encoded data removed]",
      "text/plain": [
       "plot without title"
      ]
     },
     "metadata": {
      "image/png": {
       "height": 600,
       "width": 600
      }
     },
     "output_type": "display_data"
    }
   ],
   "source": [
    "# For reproducibility\n",
    "set.seed(747)\n",
    "\n",
    "# generate 100 replicates of the confidence interval\n",
    "data_t <- replicate(100, CI_t(pop, sample_size=5), simplify=FALSE) %>% \n",
    "          bind_rows %>%\n",
    "          mutate(replicate=1:100,\n",
    "                 included = ifelse(mean(pop)<=upper & mean(pop)>=lower,\n",
    "                                   \"yes\",\"no\"))\n",
    "\n",
    "# set plot size\n",
    "options(repr.plot.width=10, repr.plot.height=10)\n",
    "\n",
    "# plot CI using t-distribution\n",
    "data_t %>% \n",
    "group_by(replicate) %>%\n",
    "  ggplot(aes(x=replicate, color=included)) + \n",
    "  geom_errorbar(aes(ymin=lower, ymax=upper)) +\n",
    "  geom_hline(yintercept=mean(pop)) +\n",
    "  coord_flip() +\n",
    "  theme_grey(base_size=16)"
   ]
  },
  {
   "cell_type": "code",
   "execution_count": null,
   "metadata": {
    "jupyter": {
     "source_hidden": true
    },
    "tags": []
   },
   "outputs": [
    {
     "data": {
      "text/html": [
       "<table class=\"dataframe\">\n",
       "<caption>A tibble: 2 × 2</caption>\n",
       "<thead>\n",
       "\t<tr><th scope=col>included</th><th scope=col>n</th></tr>\n",
       "\t<tr><th scope=col>&lt;chr&gt;</th><th scope=col>&lt;int&gt;</th></tr>\n",
       "</thead>\n",
       "<tbody>\n",
       "\t<tr><td>no </td><td> 3</td></tr>\n",
       "\t<tr><td>yes</td><td>97</td></tr>\n",
       "</tbody>\n",
       "</table>\n"
      ],
      "text/latex": [
       "A tibble: 2 × 2\n",
       "\\begin{tabular}{ll}\n",
       " included & n\\\\\n",
       " <chr> & <int>\\\\\n",
       "\\hline\n",
       "\t no  &  3\\\\\n",
       "\t yes & 97\\\\\n",
       "\\end{tabular}\n"
      ],
      "text/markdown": [
       "\n",
       "A tibble: 2 × 2\n",
       "\n",
       "| included &lt;chr&gt; | n &lt;int&gt; |\n",
       "|---|---|\n",
       "| no  |  3 |\n",
       "| yes | 97 |\n",
       "\n"
      ],
      "text/plain": [
       "  included n \n",
       "1 no        3\n",
       "2 yes      97"
      ]
     },
     "metadata": {},
     "output_type": "display_data"
    }
   ],
   "source": [
    "data_t %>% count(included)"
   ]
  },
  {
   "cell_type": "markdown",
   "metadata": {},
   "source": [
    "We can see that the t-distribution confidence interval has better estimate compared to the normal distribution for a small sample size."
   ]
  }
 ],
 "metadata": {
  "kernelspec": {
   "display_name": "R",
   "language": "R",
   "name": "ir"
  },
  "language_info": {
   "codemirror_mode": "r",
   "file_extension": ".r",
   "mimetype": "text/x-r-source",
   "name": "R",
   "pygments_lexer": "r",
   "version": "4.1.3"
  }
 },
 "nbformat": 4,
 "nbformat_minor": 4
}
