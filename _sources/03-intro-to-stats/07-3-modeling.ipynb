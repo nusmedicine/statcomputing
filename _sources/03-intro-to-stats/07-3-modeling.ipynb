{
 "cells": [
  {
   "cell_type": "markdown",
   "metadata": {
    "tags": []
   },
   "source": [
    "# Generalized Linear Model - Categorical outcome\n",
    "\n",
    "The linear model can be generalized to include a link function, which allows the modeling of different outcomes besides continuous variables\n",
    "\n",
    "![glm_overview.png](images/glm_overview.png)\n",
    "\n",
    "We will explore how we can model a **binary categorical outcome** (e.g. yes/no) using a generalized linear model with a link function log(odds Y)"
   ]
  },
  {
   "cell_type": "markdown",
   "metadata": {
    "tags": []
   },
   "source": [
    "---\n",
    "## Data preparation\n",
    "\n",
    "We will use the dataset from the Framingham study, which was a long term study of cardiovascular disease about subjsects in Framingham, USA. In this dataset ~4000 subjects were followed up and clinical data and chronic heart disease outcomes were examined longitudinally over > 10 years\n",
    "\n",
    "Variables include:\n",
    "- `male` : 0 = female, 1 = male\n",
    "- `age` : Age at the time of medical examination in years.\n",
    "- `education` : 1 = Some high school, 2 = high school/GED, 3 = some college/vocational school, 4 = college\n",
    "- `currentSmoker`: Current cigarette smoking at the time of examinations\n",
    "- `cigsPerDay`: Number of cigarettes smoked each day\n",
    "- `BPmeds`: Use of Anti-hypertensive medication at exam\n",
    "- `prevalentStroke`: Prevalent Stroke \n",
    "- `prevalentHyp`: Prevalent Hypertensive\n",
    "- `diabetes`: Diabetic according to criteria of first exam treated\n",
    "- `totChol`: Total cholesterol (mg/dL)\n",
    "- `sysBP`: Systolic Blood Pressure (mmHg)\n",
    "- `diaBP`: Diastolic blood pressure (mmHg)\n",
    "- `BMI`: Body Mass Index, weight (kg)/height (m)^2\n",
    "- `heartRate`: Heart rate (beats/minute)\n",
    "- `glucose`: Blood glucose level (mg/dL)\n",
    "- `TenYearCHD`: 0 = No Chronic heart disease, 1 = Chronic heart Disease"
   ]
  },
  {
   "cell_type": "code",
   "execution_count": 1,
   "metadata": {},
   "outputs": [
    {
     "name": "stderr",
     "output_type": "stream",
     "text": [
      "── \u001b[1mAttaching packages\u001b[22m ─────────────────────────────────────── tidyverse 1.3.1 ──\n",
      "\n",
      "\u001b[32m✔\u001b[39m \u001b[34mggplot2\u001b[39m 3.3.5     \u001b[32m✔\u001b[39m \u001b[34mpurrr  \u001b[39m 0.3.4\n",
      "\u001b[32m✔\u001b[39m \u001b[34mtibble \u001b[39m 3.1.6     \u001b[32m✔\u001b[39m \u001b[34mdplyr  \u001b[39m 1.0.8\n",
      "\u001b[32m✔\u001b[39m \u001b[34mtidyr  \u001b[39m 1.2.0     \u001b[32m✔\u001b[39m \u001b[34mstringr\u001b[39m 1.4.0\n",
      "\u001b[32m✔\u001b[39m \u001b[34mreadr  \u001b[39m 2.1.2     \u001b[32m✔\u001b[39m \u001b[34mforcats\u001b[39m 0.5.1\n",
      "\n",
      "── \u001b[1mConflicts\u001b[22m ────────────────────────────────────────── tidyverse_conflicts() ──\n",
      "\u001b[31m✖\u001b[39m \u001b[34mdplyr\u001b[39m::\u001b[32mfilter()\u001b[39m masks \u001b[34mstats\u001b[39m::filter()\n",
      "\u001b[31m✖\u001b[39m \u001b[34mdplyr\u001b[39m::\u001b[32mlag()\u001b[39m    masks \u001b[34mstats\u001b[39m::lag()\n",
      "\n",
      "\u001b[1mRows: \u001b[22m\u001b[34m4240\u001b[39m \u001b[1mColumns: \u001b[22m\u001b[34m16\u001b[39m\n",
      "\u001b[36m──\u001b[39m \u001b[1mColumn specification\u001b[22m \u001b[36m────────────────────────────────────────────────────────\u001b[39m\n",
      "\u001b[1mDelimiter:\u001b[22m \",\"\n",
      "\u001b[32mdbl\u001b[39m (16): male, age, education, currentSmoker, cigsPerDay, BPMeds, prevalent...\n",
      "\n",
      "\u001b[36mℹ\u001b[39m Use `spec()` to retrieve the full column specification for this data.\n",
      "\u001b[36mℹ\u001b[39m Specify the column types or set `show_col_types = FALSE` to quiet this message.\n"
     ]
    },
    {
     "data": {
      "text/html": [
       "<table class=\"dataframe\">\n",
       "<caption>A tibble: 6 × 16</caption>\n",
       "<thead>\n",
       "\t<tr><th scope=col>sex</th><th scope=col>age</th><th scope=col>education</th><th scope=col>currentSmoker</th><th scope=col>cigsPerDay</th><th scope=col>BPMeds</th><th scope=col>prevalentStroke</th><th scope=col>prevalentHyp</th><th scope=col>diabetes</th><th scope=col>totChol</th><th scope=col>sysBP</th><th scope=col>diaBP</th><th scope=col>BMI</th><th scope=col>heartRate</th><th scope=col>glucose</th><th scope=col>TenYearCHD</th></tr>\n",
       "\t<tr><th scope=col>&lt;fct&gt;</th><th scope=col>&lt;dbl&gt;</th><th scope=col>&lt;fct&gt;</th><th scope=col>&lt;fct&gt;</th><th scope=col>&lt;dbl&gt;</th><th scope=col>&lt;fct&gt;</th><th scope=col>&lt;fct&gt;</th><th scope=col>&lt;fct&gt;</th><th scope=col>&lt;fct&gt;</th><th scope=col>&lt;dbl&gt;</th><th scope=col>&lt;dbl&gt;</th><th scope=col>&lt;dbl&gt;</th><th scope=col>&lt;dbl&gt;</th><th scope=col>&lt;dbl&gt;</th><th scope=col>&lt;dbl&gt;</th><th scope=col>&lt;fct&gt;</th></tr>\n",
       "</thead>\n",
       "<tbody>\n",
       "\t<tr><td>1</td><td>39</td><td>4</td><td>0</td><td> 0</td><td>0</td><td>0</td><td>0</td><td>0</td><td>195</td><td>106.0</td><td> 70</td><td>26.97</td><td>80</td><td> 77</td><td>0</td></tr>\n",
       "\t<tr><td>0</td><td>46</td><td>2</td><td>0</td><td> 0</td><td>0</td><td>0</td><td>0</td><td>0</td><td>250</td><td>121.0</td><td> 81</td><td>28.73</td><td>95</td><td> 76</td><td>0</td></tr>\n",
       "\t<tr><td>1</td><td>48</td><td>1</td><td>1</td><td>20</td><td>0</td><td>0</td><td>0</td><td>0</td><td>245</td><td>127.5</td><td> 80</td><td>25.34</td><td>75</td><td> 70</td><td>0</td></tr>\n",
       "\t<tr><td>0</td><td>61</td><td>3</td><td>1</td><td>30</td><td>0</td><td>0</td><td>1</td><td>0</td><td>225</td><td>150.0</td><td> 95</td><td>28.58</td><td>65</td><td>103</td><td>1</td></tr>\n",
       "\t<tr><td>0</td><td>46</td><td>3</td><td>1</td><td>23</td><td>0</td><td>0</td><td>0</td><td>0</td><td>285</td><td>130.0</td><td> 84</td><td>23.10</td><td>85</td><td> 85</td><td>0</td></tr>\n",
       "\t<tr><td>0</td><td>43</td><td>2</td><td>0</td><td> 0</td><td>0</td><td>0</td><td>1</td><td>0</td><td>228</td><td>180.0</td><td>110</td><td>30.30</td><td>77</td><td> 99</td><td>0</td></tr>\n",
       "</tbody>\n",
       "</table>\n"
      ],
      "text/latex": [
       "A tibble: 6 × 16\n",
       "\\begin{tabular}{llllllllllllllll}\n",
       " sex & age & education & currentSmoker & cigsPerDay & BPMeds & prevalentStroke & prevalentHyp & diabetes & totChol & sysBP & diaBP & BMI & heartRate & glucose & TenYearCHD\\\\\n",
       " <fct> & <dbl> & <fct> & <fct> & <dbl> & <fct> & <fct> & <fct> & <fct> & <dbl> & <dbl> & <dbl> & <dbl> & <dbl> & <dbl> & <fct>\\\\\n",
       "\\hline\n",
       "\t 1 & 39 & 4 & 0 &  0 & 0 & 0 & 0 & 0 & 195 & 106.0 &  70 & 26.97 & 80 &  77 & 0\\\\\n",
       "\t 0 & 46 & 2 & 0 &  0 & 0 & 0 & 0 & 0 & 250 & 121.0 &  81 & 28.73 & 95 &  76 & 0\\\\\n",
       "\t 1 & 48 & 1 & 1 & 20 & 0 & 0 & 0 & 0 & 245 & 127.5 &  80 & 25.34 & 75 &  70 & 0\\\\\n",
       "\t 0 & 61 & 3 & 1 & 30 & 0 & 0 & 1 & 0 & 225 & 150.0 &  95 & 28.58 & 65 & 103 & 1\\\\\n",
       "\t 0 & 46 & 3 & 1 & 23 & 0 & 0 & 0 & 0 & 285 & 130.0 &  84 & 23.10 & 85 &  85 & 0\\\\\n",
       "\t 0 & 43 & 2 & 0 &  0 & 0 & 0 & 1 & 0 & 228 & 180.0 & 110 & 30.30 & 77 &  99 & 0\\\\\n",
       "\\end{tabular}\n"
      ],
      "text/markdown": [
       "\n",
       "A tibble: 6 × 16\n",
       "\n",
       "| sex &lt;fct&gt; | age &lt;dbl&gt; | education &lt;fct&gt; | currentSmoker &lt;fct&gt; | cigsPerDay &lt;dbl&gt; | BPMeds &lt;fct&gt; | prevalentStroke &lt;fct&gt; | prevalentHyp &lt;fct&gt; | diabetes &lt;fct&gt; | totChol &lt;dbl&gt; | sysBP &lt;dbl&gt; | diaBP &lt;dbl&gt; | BMI &lt;dbl&gt; | heartRate &lt;dbl&gt; | glucose &lt;dbl&gt; | TenYearCHD &lt;fct&gt; |\n",
       "|---|---|---|---|---|---|---|---|---|---|---|---|---|---|---|---|\n",
       "| 1 | 39 | 4 | 0 |  0 | 0 | 0 | 0 | 0 | 195 | 106.0 |  70 | 26.97 | 80 |  77 | 0 |\n",
       "| 0 | 46 | 2 | 0 |  0 | 0 | 0 | 0 | 0 | 250 | 121.0 |  81 | 28.73 | 95 |  76 | 0 |\n",
       "| 1 | 48 | 1 | 1 | 20 | 0 | 0 | 0 | 0 | 245 | 127.5 |  80 | 25.34 | 75 |  70 | 0 |\n",
       "| 0 | 61 | 3 | 1 | 30 | 0 | 0 | 1 | 0 | 225 | 150.0 |  95 | 28.58 | 65 | 103 | 1 |\n",
       "| 0 | 46 | 3 | 1 | 23 | 0 | 0 | 0 | 0 | 285 | 130.0 |  84 | 23.10 | 85 |  85 | 0 |\n",
       "| 0 | 43 | 2 | 0 |  0 | 0 | 0 | 1 | 0 | 228 | 180.0 | 110 | 30.30 | 77 |  99 | 0 |\n",
       "\n"
      ],
      "text/plain": [
       "  sex age education currentSmoker cigsPerDay BPMeds prevalentStroke\n",
       "1 1   39  4         0              0         0      0              \n",
       "2 0   46  2         0              0         0      0              \n",
       "3 1   48  1         1             20         0      0              \n",
       "4 0   61  3         1             30         0      0              \n",
       "5 0   46  3         1             23         0      0              \n",
       "6 0   43  2         0              0         0      0              \n",
       "  prevalentHyp diabetes totChol sysBP diaBP BMI   heartRate glucose TenYearCHD\n",
       "1 0            0        195     106.0  70   26.97 80         77     0         \n",
       "2 0            0        250     121.0  81   28.73 95         76     0         \n",
       "3 0            0        245     127.5  80   25.34 75         70     0         \n",
       "4 1            0        225     150.0  95   28.58 65        103     1         \n",
       "5 0            0        285     130.0  84   23.10 85         85     0         \n",
       "6 1            0        228     180.0 110   30.30 77         99     0         "
      ]
     },
     "metadata": {},
     "output_type": "display_data"
    }
   ],
   "source": [
    "library(tidyverse)\n",
    "\n",
    "# load data\n",
    "data<- read_csv(\"https://raw.githubusercontent.com/kennethban/dataset/main/framingham.csv\")\n",
    "\n",
    "# rename and change data types\n",
    "data <- data %>%\n",
    "        rename(sex = male) %>%\n",
    "        mutate(sex = as.factor(sex)) %>%\n",
    "        mutate(education = as.factor(education)) %>%\n",
    "        mutate(currentSmoker = as.factor(currentSmoker)) %>%\n",
    "        mutate(BPMeds = as.factor(BPMeds)) %>%\n",
    "        mutate(prevalentStroke = as.factor(prevalentStroke)) %>%\n",
    "        mutate(prevalentHyp = as.factor(prevalentHyp)) %>%\n",
    "        mutate(diabetes = as.factor(diabetes)) %>%\n",
    "        mutate(TenYearCHD = as.factor(TenYearCHD))\n",
    "\n",
    "# drop missing values\n",
    "data <- data %>% drop_na\n",
    "\n",
    "head(data)"
   ]
  },
  {
   "cell_type": "markdown",
   "metadata": {},
   "source": [
    "We will build a model with the categorical variable `TenYearCHD` as an outcome response and explore its relationship with covariate(s) `BMI` and `age`"
   ]
  },
  {
   "cell_type": "markdown",
   "metadata": {},
   "source": [
    "---\n",
    "## Modeling categorical outcomes\n",
    "\n",
    "Recall in linear regression, we have\n",
    "\n",
    "$$Y_{i}=\\beta_{0}+\\beta_{1} X+\\varepsilon_{i}$$\n",
    "\n",
    "In a generalized linear model, we can use a link function\n",
    "\n",
    "$$f\\left(\\mu_{Y \\mid X}\\right)=\\beta_{0}+\\beta_{1} X$$\n",
    "\n",
    "For a categorical binary outcome $Y$, we can define\n",
    "\n",
    "$$\n",
    "\\begin{align}\n",
    "p(Y) &= \\text{probability of }Y\\text{ occurring}\\\\\n",
    "1-p(Y) &= \\text{probability of }Y\\text{ not occurring}\n",
    "\\end{align}\n",
    "$$\n",
    "\n",
    "Thus,\n",
    "\n",
    "$$\\frac{p(Y)}{1-p(Y)} = \\text{odds of }Y\\text{ occurring}\n",
    "$$\n",
    "\n",
    "We can define a generalized linear equation for a categorical binary outcome $Y$ using a logit function\n",
    "\n",
    "$$\n",
    "\\log \\left(\\frac{p(Y)}{1-p(Y)}\\right)=\\beta_{0}+\\beta_{1} X\n",
    "$$\n",
    "\n",
    "\n",
    "This is known as logistic regression"
   ]
  },
  {
   "cell_type": "markdown",
   "metadata": {},
   "source": [
    "## Performing logistic regression with `glm` function\n",
    "\n",
    "We can perform logistic regression by using the `glm` function\n",
    "- `outcome variable` ~ `covariate(s)`\n",
    "- `family = \"binomial\"` for binary categorical outcomes"
   ]
  },
  {
   "cell_type": "code",
   "execution_count": 2,
   "metadata": {},
   "outputs": [
    {
     "data": {
      "text/html": [
       "<table class=\"dataframe\">\n",
       "<caption>A tibble: 3 × 5</caption>\n",
       "<thead>\n",
       "\t<tr><th scope=col>term</th><th scope=col>estimate</th><th scope=col>std.error</th><th scope=col>statistic</th><th scope=col>p.value</th></tr>\n",
       "\t<tr><th scope=col>&lt;chr&gt;</th><th scope=col>&lt;dbl&gt;</th><th scope=col>&lt;dbl&gt;</th><th scope=col>&lt;dbl&gt;</th><th scope=col>&lt;dbl&gt;</th></tr>\n",
       "</thead>\n",
       "<tbody>\n",
       "\t<tr><td>(Intercept)</td><td>-6.54292372</td><td>0.407430778</td><td>-16.058982</td><td>4.945986e-58</td></tr>\n",
       "\t<tr><td>BMI        </td><td> 0.03532089</td><td>0.011176590</td><td>  3.160256</td><td>1.576305e-03</td></tr>\n",
       "\t<tr><td>age        </td><td> 0.07581313</td><td>0.005744181</td><td> 13.198250</td><td>8.979749e-40</td></tr>\n",
       "</tbody>\n",
       "</table>\n"
      ],
      "text/latex": [
       "A tibble: 3 × 5\n",
       "\\begin{tabular}{lllll}\n",
       " term & estimate & std.error & statistic & p.value\\\\\n",
       " <chr> & <dbl> & <dbl> & <dbl> & <dbl>\\\\\n",
       "\\hline\n",
       "\t (Intercept) & -6.54292372 & 0.407430778 & -16.058982 & 4.945986e-58\\\\\n",
       "\t BMI         &  0.03532089 & 0.011176590 &   3.160256 & 1.576305e-03\\\\\n",
       "\t age         &  0.07581313 & 0.005744181 &  13.198250 & 8.979749e-40\\\\\n",
       "\\end{tabular}\n"
      ],
      "text/markdown": [
       "\n",
       "A tibble: 3 × 5\n",
       "\n",
       "| term &lt;chr&gt; | estimate &lt;dbl&gt; | std.error &lt;dbl&gt; | statistic &lt;dbl&gt; | p.value &lt;dbl&gt; |\n",
       "|---|---|---|---|---|\n",
       "| (Intercept) | -6.54292372 | 0.407430778 | -16.058982 | 4.945986e-58 |\n",
       "| BMI         |  0.03532089 | 0.011176590 |   3.160256 | 1.576305e-03 |\n",
       "| age         |  0.07581313 | 0.005744181 |  13.198250 | 8.979749e-40 |\n",
       "\n"
      ],
      "text/plain": [
       "  term        estimate    std.error   statistic  p.value     \n",
       "1 (Intercept) -6.54292372 0.407430778 -16.058982 4.945986e-58\n",
       "2 BMI          0.03532089 0.011176590   3.160256 1.576305e-03\n",
       "3 age          0.07581313 0.005744181  13.198250 8.979749e-40"
      ]
     },
     "metadata": {},
     "output_type": "display_data"
    }
   ],
   "source": [
    "model <- glm(TenYearCHD ~ BMI + age, \n",
    "              data=data, \n",
    "              family=\"binomial\")\n",
    "\n",
    "model %>% broom::tidy() # tidy output"
   ]
  },
  {
   "cell_type": "markdown",
   "metadata": {},
   "source": [
    "## How do we interpret the coefficients?\n",
    "\n",
    "The equation describing the relation can be written as\n",
    "\n",
    "$$\n",
    "\\log \\left(\\frac{p(Y)}{1-p(Y)}\\right)=-6.54_\\text{intercept} + \\text{BMI} \\times 0.035_\\text{BMI} + \\text{age} \\times 0.076_\\text{age} \n",
    "$$\n",
    "\n",
    "\n",
    "Note that the coefficients **do not** have the same linear interpretation as in the linear regression model"
   ]
  },
  {
   "cell_type": "markdown",
   "metadata": {},
   "source": [
    "We can interpret the coefficients in terms of the link function \n",
    "\n",
    "$$\\log \\left(\\frac{p(Y)}{1-p(Y)}\\right) = \\log(\\text{odds})$$\n",
    "\n",
    "We can consider a covariate at the $n$th term ($b_nx_n$)\n",
    "\n",
    "Let $x_n = c$\n",
    "\n",
    "$$\n",
    "\\begin{align}\n",
    "\\log(\\text{odds}_{x_n=c}) &= b_0 + \\ldots + b_nc\\\\\n",
    "\\text{odds}_{x_n=c} &= \\exp(b_0 + \\ldots + b_nc)\\\\\n",
    "\\end{align}\n",
    "$$\n",
    "\n",
    "If we increase $x_n$ by 1, then $x_n = c+1$\n",
    "\n",
    "$$\n",
    "\\begin{align}\n",
    "\\log(\\text{odds}_{x_n=c+1}) &= b_0 + \\ldots + b_n(c+1)\\\\\n",
    "\\text{odds}_{x_n=c+1} &= \\exp(b_0 + \\ldots + b_n(c+1)\\\\\n",
    "\\end{align}\n",
    "$$\n",
    "\n",
    "We can then find the odds ratio when $x_n$ increases by 1 unit\n",
    "\n",
    "$$\n",
    "\\begin{align}\n",
    "\\mathit{OR} = \\frac{\\text{odds}_{x_n=c+1}}{\\text{odds}_{x_n=c}} &= \\frac{\\exp(b_0 + \\ldots + b_n(c+1))}{\\exp(b_0 + \\ldots + b_nc)}\\\\\n",
    "&= \\exp(b_n)\n",
    "\\end{align}\n",
    "$$"
   ]
  },
  {
   "cell_type": "markdown",
   "metadata": {},
   "source": [
    "## Calculating the odds ratio from the coefficients\n",
    "In this example\n",
    "- BMI coefficient = 0.035\n",
    "\n",
    "$$\\mathit{OR}_\\text{BMI} = \\exp(0.035) = 1.036$$\n",
    "\n",
    "- age coefficient = 0.076\n",
    "\n",
    "$$\\mathit{OR}_\\text{age} = \\exp(0.076) = 1.079$$\n",
    "\n",
    "We can see that the $\\mathit{OR}$ for both coefficients are >1, indicating that they are associated with a higher odds of developing chronic heart disease after a 10 year follow-up"
   ]
  },
  {
   "cell_type": "markdown",
   "metadata": {},
   "source": [
    "---\n",
    "## Application: Statistical table and plotting"
   ]
  },
  {
   "cell_type": "code",
   "execution_count": null,
   "metadata": {
    "tags": [
     "remove-cell"
    ]
   },
   "outputs": [],
   "source": [
    "library(tidyverse)\n",
    "\n",
    "# load data\n",
    "data<- read_csv(\"https://raw.githubusercontent.com/kennethban/dataset/main/framingham.csv\")\n",
    "\n",
    "# rename and change data types\n",
    "data <- data %>%\n",
    "        rename(sex = male) %>%\n",
    "        mutate(sex = as.factor(sex)) %>%\n",
    "        mutate(education = as.factor(education)) %>%\n",
    "        mutate(currentSmoker = as.factor(currentSmoker)) %>%\n",
    "        mutate(BPMeds = as.factor(BPMeds)) %>%\n",
    "        mutate(prevalentStroke = as.factor(prevalentStroke)) %>%\n",
    "        mutate(prevalentHyp = as.factor(prevalentHyp)) %>%\n",
    "        mutate(diabetes = as.factor(diabetes)) %>%\n",
    "        mutate(TenYearCHD = as.factor(TenYearCHD))\n",
    "\n",
    "# drop missing values\n",
    "data <- data %>% drop_na\n",
    "\n",
    "# fit logistic model\n",
    "model <- glm(TenYearCHD ~ BMI + age, \n",
    "              data=data, \n",
    "              family=\"binomial\")"
   ]
  },
  {
   "cell_type": "markdown",
   "metadata": {},
   "source": [
    "### 1. Statistical table\n",
    "\n",
    "We will use the `stargazer` function from the `stargazer` library to generate a statistical table from the model. The function can take one or more models as its input and we can specify the following options\n",
    "- `ci`: set to TRUE to print the confidence intervals\n",
    "- `type`: set to HTML to print the table in the notebook\n",
    "\n",
    "We will define a local function `print_html` to print the HTML output from `stargazer` in the notebook"
   ]
  },
  {
   "cell_type": "code",
   "execution_count": null,
   "metadata": {
    "tags": []
   },
   "outputs": [],
   "source": [
    "print_html <- function(func) {\n",
    "    \n",
    "    capture.output(func) %>% paste(collapse=\"\") %>% IRdisplay::display_html()\n",
    "    \n",
    "}"
   ]
  },
  {
   "cell_type": "code",
   "execution_count": null,
   "metadata": {},
   "outputs": [],
   "source": [
    "library(stargazer)\n",
    "\n",
    "stargazer(model, ci = T, type=\"html\") %>% print_html"
   ]
  },
  {
   "cell_type": "markdown",
   "metadata": {},
   "source": [
    "Note that the coefficients are reported as log values, so they need to be exponentiated to get the odds ratio $\\mathit{OR}$"
   ]
  },
  {
   "cell_type": "markdown",
   "metadata": {},
   "source": [
    "### 2. Statistical plot\n",
    "\n",
    "We will use the `ggcoefstats` function from `ggstatsplot` to generate a plot of the coefficients with the confidence intervals and the associate p-values. We can specify the following options\n",
    "- `exclude.intercept`: set to TRUE to omit the intercept\n",
    "- `stats.label.args`: provide a list of options for the labels if desired"
   ]
  },
  {
   "cell_type": "code",
   "execution_count": null,
   "metadata": {},
   "outputs": [],
   "source": [
    "library(ggstatsplot)\n",
    "\n",
    "# adjust size of the image output\n",
    "options(repr.plot.width=10, repr.plot.height=10)\n",
    "\n",
    "model %>% ggcoefstats(exclude.intercept = T,\n",
    "                      stats.label.args=list(nudge_y=0.2, \n",
    "                                label.size=NA)) +\n",
    "          theme_grey(base_size=16)"
   ]
  }
 ],
 "metadata": {
  "kernelspec": {
   "display_name": "R",
   "language": "R",
   "name": "ir"
  },
  "language_info": {
   "codemirror_mode": "r",
   "file_extension": ".r",
   "mimetype": "text/x-r-source",
   "name": "R",
   "pygments_lexer": "r",
   "version": "4.1.3"
  }
 },
 "nbformat": 4,
 "nbformat_minor": 4
}
