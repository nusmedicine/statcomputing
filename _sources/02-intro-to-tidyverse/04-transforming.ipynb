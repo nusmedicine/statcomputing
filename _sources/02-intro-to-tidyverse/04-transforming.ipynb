{
 "cells": [
  {
   "cell_type": "markdown",
   "metadata": {
    "deletable": false,
    "editable": false,
    "tags": []
   },
   "source": [
    "# Transforming Data\n",
    "Data can be changed/transformed in several ways\n",
    "- Changing the `names` of columns/variables\n",
    "- Changing the `values` and/or `attributes (data types`) of columns \n",
    "- Creating `new` columns/variables"
   ]
  },
  {
   "cell_type": "markdown",
   "metadata": {
    "deletable": false,
    "editable": false,
    "tags": []
   },
   "source": [
    "---\n",
    "## Data Preparation"
   ]
  },
  {
   "cell_type": "markdown",
   "metadata": {
    "deletable": false,
    "editable": false,
    "tags": []
   },
   "source": [
    "We will import a dataset from the Framingham study, which was a long term study of cardiovascular disease about subjects in Framingham, USA. In this dataset\n",
    "- ~4000 subjects followed up and clinical data and chronic heart disease outcomes were examined longitudinally over > 10 years\n",
    "\n",
    "The variables include\n",
    "\n",
    "- `male` : 0 = female, 1 = male\n",
    "- `age` : Age at the time of medical examination in years.\n",
    "- `education` : 1 = Some high school, 2 = high school/GED, 3 = some college/vocational school, 4 = college\n",
    "- `currentSmoker`: Current cigarette smoking at the time of examinations\n",
    "- `cigsPerDay`: Number of cigarettes smoked each day\n",
    "- `BPmeds`: Use of Anti-hypertensive medication at exam\n",
    "- `prevalentStroke`: Prevalent Stroke \n",
    "- `prevalentHyp`: Prevalent Hypertensive\n",
    "- `diabetes`: Diabetic according to criteria of first exam treated\n",
    "- `totChol`: Total cholesterol (mg/dL)\n",
    "- `sysBP`: Systolic Blood Pressure (mmHg)\n",
    "- `diaBP`: Diastolic blood pressure (mmHg)\n",
    "- `BMI`: Body Mass Index, weight (kg)/height (m)^2\n",
    "- `heartRate`: Heart rate (beats/minute)\n",
    "- `glucose`: Blood glucose level (mg/dL)"
   ]
  },
  {
   "cell_type": "code",
   "execution_count": null,
   "metadata": {},
   "outputs": [],
   "source": [
    "library(tidyverse)\n",
    "\n",
    "# import data\n",
    "data <- read_csv(\"https://raw.githubusercontent.com/kennethban/dataset/main/framingham.csv\")\n",
    "\n",
    "head(data)"
   ]
  },
  {
   "attachments": {
    "tidy_rename.png": {
     "image/png": "[encoded data removed]"
    }
   },
   "cell_type": "markdown",
   "metadata": {
    "deletable": false,
    "editable": false,
    "tags": []
   },
   "source": [
    "---\n",
    "## Renaming columns\n",
    "\n",
    "In some cases, we would like to rename columns for consistency/readability. \n",
    "\n",
    "We can do this using the `rename` verb(function)\n",
    "- `rename(new_name = original_name)`\n",
    "\n",
    "![tidy_rename.png](images/tidy_rename.png)"
   ]
  },
  {
   "cell_type": "code",
   "execution_count": null,
   "metadata": {},
   "outputs": [],
   "source": [
    "# renaming male column to sex\n",
    "\n",
    "data %>% \n",
    "rename(sex = male) %>% \n",
    "head()"
   ]
  },
  {
   "cell_type": "markdown",
   "metadata": {
    "deletable": false,
    "editable": false,
    "tags": []
   },
   "source": [
    "Let us inspect the data again"
   ]
  },
  {
   "cell_type": "code",
   "execution_count": null,
   "metadata": {},
   "outputs": [],
   "source": [
    "head(data)"
   ]
  },
  {
   "cell_type": "markdown",
   "metadata": {
    "deletable": false,
    "editable": false,
    "tags": []
   },
   "source": [
    "Wait a minute, what happened?\n",
    "- The original data remains the same because the change by `rename` was not saved as a variable\n",
    "- To save results from pipe operations, we assign it to a variable using the assignment operator ```<-```\n",
    "- We can choose to save it to a different variable, or in this case, we will overwrite the original ```data``` variable"
   ]
  },
  {
   "cell_type": "code",
   "execution_count": null,
   "metadata": {},
   "outputs": [],
   "source": [
    "# overwrite data variable after change of name\n",
    "\n",
    "data <- data %>% rename(sex = male)"
   ]
  },
  {
   "cell_type": "markdown",
   "metadata": {
    "deletable": false,
    "editable": false,
    "tags": []
   },
   "source": [
    "There is no printout because it is saved into the ```data``` variable, overwriting its original content\n",
    "\n",
    "We can inspect `data` again to confirm that the change was saved"
   ]
  },
  {
   "cell_type": "code",
   "execution_count": null,
   "metadata": {},
   "outputs": [],
   "source": [
    "head(data)"
   ]
  },
  {
   "attachments": {
    "tidy_mutate_existing.png": {
     "image/png": "[encoded data removed]"
    }
   },
   "cell_type": "markdown",
   "metadata": {
    "deletable": false,
    "editable": false,
    "tags": []
   },
   "source": [
    "## Changing values/attributes of a column\n",
    "\n",
    "![tidy_mutate_existing.png](images/tidy_mutate_existing.png)\n",
    "\n",
    "- We can change the values of a column using the ```mutate``` verb(function) in combination with operations and/or functions\n",
    "  - `mutate(column1 = operation/function, column2 = operation/function,..)`\n",
    "- The `mutate` function can be used to \n",
    "  - change data types\n",
    "  - perform calculations\n",
    "  - recode categorical variables"
   ]
  },
  {
   "cell_type": "markdown",
   "metadata": {
    "deletable": false,
    "editable": false,
    "tags": []
   },
   "source": [
    "### 1. Data type\n",
    "\n",
    "Inspecting and changing the data type of columns is an important step after importing data\n",
    "- When data is imported, the data type is inferred from the values\n",
    "- The inferred data type may not be what we want\n",
    "\n",
    "We will take a look at the `data` variable that contains the data imported by the `read_csv` function"
   ]
  },
  {
   "cell_type": "code",
   "execution_count": null,
   "metadata": {},
   "outputs": [],
   "source": [
    "head(data)"
   ]
  },
  {
   "cell_type": "markdown",
   "metadata": {
    "deletable": false,
    "editable": false,
    "tags": []
   },
   "source": [
    "As the values in the columns are numbers, the `read_csv` function inferred that the values should be assigned a `numeric` data type (also known as `dbl` for double precision floating point)\n",
    "- Some of the columns are `categorical` (e.g. male, education, currentSmoker) and will need to be converted to a `factor` type\n",
    "- Some of the columns contain whole numbers (e.g. cigsPerDay, heartRate) and would more appropriately assigned an `integer` type\n",
    "\n",
    "The data type have implications for analysis, in particular how **categories** are treated. If they are not converted to a `factor` type,  frequencies of the categories cannot be calculated during analysis\n",
    "\n",
    "We can illustrate this by using the function `summary` that prints out summary statistics for quantitative and categorical variables"
   ]
  },
  {
   "cell_type": "code",
   "execution_count": null,
   "metadata": {},
   "outputs": [],
   "source": [
    "summary(data)"
   ]
  },
  {
   "cell_type": "markdown",
   "metadata": {
    "deletable": false,
    "editable": false,
    "tags": []
   },
   "source": [
    "Note that categories (eg. `sex`, `education`, `TenYearCHD`) are not reported properly as frequencies as they were assigned `numeric` data type"
   ]
  },
  {
   "cell_type": "markdown",
   "metadata": {
    "deletable": false,
    "editable": false,
    "tags": []
   },
   "source": [
    "To do the data type conversions we can use data type coercion functions with `mutate`\n",
    "- `mutate(column_name = as.numeric(column_name)`\n",
    "- `mutate(column_name = as.integer(column_name)`\n",
    "- `mutate(column_name = as.character(column_name)`\n",
    "- `mutate(column_name = as.factor(column_name)`\n",
    "- `mutate(column_name = as.logical(column_name)`"
   ]
  },
  {
   "cell_type": "code",
   "execution_count": null,
   "metadata": {},
   "outputs": [],
   "source": [
    "# converting sex column to a factor\n",
    "\n",
    "data <- data %>% mutate(sex = as.factor(sex))\n",
    "\n",
    "head(data)"
   ]
  },
  {
   "cell_type": "markdown",
   "metadata": {
    "deletable": false,
    "editable": false,
    "tags": []
   },
   "source": [
    "We can also perform multiple conversions with `mutate`"
   ]
  },
  {
   "cell_type": "code",
   "execution_count": null,
   "metadata": {},
   "outputs": [],
   "source": [
    "# changing data type of multiple columns\n",
    "\n",
    "data <- data %>% mutate(age = as.integer(age),\n",
    "                        education = as.factor(education),\n",
    "                        currentSmoker = as.factor(currentSmoker),\n",
    "                        cigsPerDay = as.integer(cigsPerDay),\n",
    "                        BPMeds = as.factor(BPMeds),\n",
    "                        prevalentStroke = as.factor(prevalentStroke),\n",
    "                        prevalentHyp = as.factor(prevalentHyp),\n",
    "                        diabetes = as.factor(diabetes),\n",
    "                        totChol = as.integer(totChol),\n",
    "                        heartRate = as.integer(heartRate),\n",
    "                        TenYearCHD = as.factor(TenYearCHD)\n",
    "                        )\n",
    "\n",
    "head(data)"
   ]
  },
  {
   "cell_type": "markdown",
   "metadata": {
    "deletable": false,
    "editable": false,
    "tags": []
   },
   "source": [
    "We can run `summary` again to see how categorical data are treated"
   ]
  },
  {
   "cell_type": "code",
   "execution_count": null,
   "metadata": {},
   "outputs": [],
   "source": [
    "summary(data)"
   ]
  },
  {
   "cell_type": "markdown",
   "metadata": {
    "deletable": false,
    "editable": false,
    "tags": []
   },
   "source": [
    "### 2. Calculations\n",
    "\n",
    "We can use `mutate` with mathematical operations and functions to perform calculations on column values\n",
    "\n",
    "- A common use case is to convert values in a column to a different units"
   ]
  },
  {
   "cell_type": "code",
   "execution_count": null,
   "metadata": {},
   "outputs": [],
   "source": [
    "# convert mg/dL to mmol/L then round to 1 decimal place\n",
    "\n",
    "data <- data %>% \n",
    "        mutate(glucose = round(glucose/18, digits=1)) \n",
    "\n",
    "head(data)"
   ]
  },
  {
   "cell_type": "markdown",
   "metadata": {
    "deletable": false,
    "editable": false,
    "tags": []
   },
   "source": [
    "### 3. Recoding\n",
    "\n",
    "**Recoding one-to-one replacement**\n",
    "\n",
    "If we have categories/levels in `factors` that we want to recode with a one-to-one replacement, we can use the `recode` function together with `mutate`\n",
    "```\n",
    "mutate(column_name = recode(column name, \n",
    "                            old_code1 = new_code1,\n",
    "                            old_code2 = new_code2,\n",
    "                            ...)\n",
    "```"
   ]
  },
  {
   "cell_type": "code",
   "execution_count": null,
   "metadata": {},
   "outputs": [],
   "source": [
    "# recoding 0/1 to F/M in sex column\n",
    "\n",
    "data <- data %>% \n",
    "        mutate(sex = recode(sex, \"0\" = \"F\", \n",
    "                                 \"1\" = \"M\" ))\n",
    "\n",
    "head(data)"
   ]
  },
  {
   "cell_type": "markdown",
   "metadata": {
    "deletable": false,
    "editable": false,
    "tags": []
   },
   "source": [
    "**Recoding based on conditions**\n",
    "\n",
    "In cases where we need to include conditions for recoding, we use the `case_when` function with `mutate`. \n",
    "- For each condition, we specify the conditional statement on the left hand side (`LHS`) and the recoded value on the right hand side (`RHS`) as `LHS ~ RHS`\n",
    "\n",
    "```\n",
    "mutate(column_name = case_when(condition1 ~ code1,\n",
    "                               condition2 ~ code2,\n",
    "                               ...)\n",
    "```"
   ]
  },
  {
   "cell_type": "code",
   "execution_count": null,
   "metadata": {},
   "outputs": [],
   "source": [
    "# using case_when to recode numeric values to categories in new column\n",
    "\n",
    "data <- data %>% \n",
    "        mutate(ageCat = case_when(\n",
    "                         age < 65 ~ \"adult\",\n",
    "                         age >= 65 ~ \"senior\"))\n",
    "\n",
    "data %>% sample_n(10)"
   ]
  },
  {
   "cell_type": "markdown",
   "metadata": {
    "deletable": false,
    "editable": false,
    "tags": []
   },
   "source": [
    "Note that by default, `case_when` treats labels as `character` data types, hence the `ageCat` column type reflects this\n",
    "- If we run `summary` on the data, we can see that the frequencies of the categories are not reported"
   ]
  },
  {
   "cell_type": "code",
   "execution_count": null,
   "metadata": {},
   "outputs": [],
   "source": [
    "summary(data)"
   ]
  },
  {
   "cell_type": "markdown",
   "metadata": {
    "deletable": false,
    "editable": false,
    "tags": []
   },
   "source": [
    "We would need to explicitly `mutate` the recoded column as a `factor` after recoding to a categorial label\n",
    "- After doing this, the `summary` function reports the frequencies of the categories correctly"
   ]
  },
  {
   "cell_type": "code",
   "execution_count": null,
   "metadata": {},
   "outputs": [],
   "source": [
    "data <- data %>% mutate(ageCat = as.factor(ageCat))\n",
    "\n",
    "summary(data)"
   ]
  },
  {
   "cell_type": "markdown",
   "metadata": {
    "deletable": false,
    "editable": false,
    "tags": []
   },
   "source": [
    "Note that the factors are listed in alphabetical order. If this is not what we want, we can use the `fct_relevel` function with `mutate` to specify the order of the factors\n",
    "```\n",
    "mutate(column_name = fct_relevel(column_name, level1, level2,..))\n",
    "```"
   ]
  },
  {
   "cell_type": "code",
   "execution_count": null,
   "metadata": {},
   "outputs": [],
   "source": [
    "# overriding the alphabetical ordering of factor levels (F,M to M,F)\n",
    "\n",
    "data <- data %>% \n",
    "        mutate(sex = fct_relevel(sex, \"M\",\"F\"))\n",
    "\n",
    "summary(data)"
   ]
  },
  {
   "cell_type": "markdown",
   "metadata": {
    "deletable": false,
    "editable": false,
    "tags": []
   },
   "source": [
    "Now we see that the levels for `sex` are listed as `M`,`F` instead of the default alphabetical order `F`, `M`"
   ]
  },
  {
   "cell_type": "markdown",
   "metadata": {
    "deletable": false,
    "editable": false,
    "tags": []
   },
   "source": [
    "#### Recommendation for recoding to factor variables\n",
    "\n",
    "- Check that the recoded column is a `factor` data type and not `character`\n",
    "- Convert to `factor` if necessary\n",
    "- Perform `fct_relevel` if you wish to change the order\n",
    "\n",
    "These steps can be chained together with pipes\n",
    "```\n",
    "mutate(column_name = case_when(\n",
    "                         condition1 ~ \"label1\",\n",
    "                         condition2 ~ \"label2\",\n",
    "                         ...)) %>%\n",
    "mutate(column_name = as.factor(column_name)) %>%\n",
    "mutate(column_name = fct_relevel(column_name, \"label1\",\"label2\",..))                         \n",
    "```"
   ]
  },
  {
   "attachments": {
    "tidy_mutate_new.png": {
     "image/png": "[encoded data removed]"
    }
   },
   "cell_type": "markdown",
   "metadata": {
    "deletable": false,
    "editable": false,
    "tags": []
   },
   "source": [
    "## Creating a new column from different variables\n",
    "\n",
    "In some cases, we would like to create a new column that incorporates a calculation using values from other columns. \n",
    "\n",
    "An example would be the calculation of `BMI` from `weight` and `height`\n",
    "- `mutate(BMI = weight/height^2)`\n",
    "\n",
    "![tidy_mutate_new.png](images/tidy_mutate_new.png)"
   ]
  },
  {
   "cell_type": "code",
   "execution_count": null,
   "metadata": {},
   "outputs": [],
   "source": [
    "# create new column called pulsePre\n",
    "# calculate difference between systolic and diastolic BP\n",
    "\n",
    "data <- data %>% \n",
    "        mutate(pulsePres = sysBP - diaBP)\n",
    "\n",
    "head(data)"
   ]
  },
  {
   "attachments": {
    "tidy_summarize.png": {
     "image/png": "[encoded data removed]"
    }
   },
   "cell_type": "markdown",
   "metadata": {
    "deletable": false,
    "editable": false,
    "tags": []
   },
   "source": [
    "---\n",
    "## Summarizing data\n",
    "\n",
    "![tidy_summarize.png](images/tidy_summarize.png)\n",
    "\n",
    "The ```summarize``` function can be applied to a column, using any function that can return a summary value from a vector\n",
    "\n",
    "```\n",
    "summarize(summary_name1 = function1(column_to_summarize),\n",
    "          summary_name2 = function2(column_to_summarize),\n",
    "          ...)\n",
    ")\n",
    "```\n",
    "\n",
    "The `summarize` function returns a tibble with the summary names as the column names"
   ]
  },
  {
   "cell_type": "code",
   "execution_count": null,
   "metadata": {},
   "outputs": [],
   "source": [
    "# summarize using functions that take a vector from a column and return a value\n",
    "\n",
    "data %>% summarise(n = n(),               # number of rows/cases\n",
    "                   min_age = min(age),    # minimum\n",
    "                   max_age = max(age),    # maximum\n",
    "                   mean_age = mean(age))  # average"
   ]
  },
  {
   "attachments": {
    "tidy_summarize_group.png": {
     "image/png": "[encoded data removed]"
    }
   },
   "cell_type": "markdown",
   "metadata": {
    "deletable": false,
    "editable": false,
    "tags": []
   },
   "source": [
    "## Data can be grouped before summarizing\n",
    "\n",
    "![tidy_summarize_group.png](images/tidy_summarize_group.png)\n",
    "\n",
    "We use the ```group_by``` function to specify how the data should be grouped by a category before ```summarize``` is applied to each group\n",
    "- This is useful for showing summary statistics for each group"
   ]
  },
  {
   "cell_type": "code",
   "execution_count": null,
   "metadata": {},
   "outputs": [],
   "source": [
    "# summary can be be grouped by any column that is categorical\n",
    "\n",
    "data %>% \n",
    "group_by(ageCat) %>%\n",
    "summarise(mean_age = mean(age)) # the mean age is calculate for each ageCat category"
   ]
  },
  {
   "cell_type": "code",
   "execution_count": null,
   "metadata": {},
   "outputs": [],
   "source": [
    "# multiple summary variables can be included using functions that accept vectors\n",
    "\n",
    "data %>% \n",
    "group_by(ageCat) %>%\n",
    "summarise(num = n(),             # number of rows/cases\n",
    "          mean_age = mean(age))"
   ]
  },
  {
   "cell_type": "code",
   "execution_count": null,
   "metadata": {},
   "outputs": [],
   "source": [
    "# data can be grouped by multiple columns\n",
    "\n",
    "data %>% \n",
    "group_by(ageCat, diabetes) %>%\n",
    "summarise(num = n(),\n",
    "          mean_age = mean(age), \n",
    "          median_age = median(age))"
   ]
  },
  {
   "cell_type": "code",
   "execution_count": null,
   "metadata": {},
   "outputs": [],
   "source": [
    "# factors can be re-ordered to change the output as desired \n",
    "\n",
    "data %>% \n",
    "mutate(diabetes = fct_relevel(diabetes, c(\"1\",\"0\"))) %>%\n",
    "group_by(ageCat, diabetes) %>%\n",
    "summarise(num = n(),\n",
    "          mean_age = mean(age), \n",
    "          median_age = median(age))"
   ]
  },
  {
   "cell_type": "markdown",
   "metadata": {
    "deletable": false,
    "editable": false,
    "tags": []
   },
   "source": [
    "--- \n",
    "## Exercise - Transforming Data\n",
    "\n",
    "We will use the same Framingham heart study dataset"
   ]
  },
  {
   "cell_type": "code",
   "execution_count": null,
   "metadata": {},
   "outputs": [],
   "source": [
    "library(tidyverse)\n",
    "\n",
    "# import data\n",
    "data <- read_csv(\"https://raw.githubusercontent.com/kennethban/dataset/main/framingham.csv\")\n",
    "\n",
    "# A recap of what we did\n",
    "data <- data %>%\n",
    "        rename(sex = male) %>%                             # renaming\n",
    "        mutate(glucose = round(glucose/18, digits=1)) %>%  # calculating\n",
    "        mutate(age = as.integer(age),                      # change data type\n",
    "               sex = as.factor(sex),\n",
    "               education = as.factor(education),\n",
    "               currentSmoker = as.factor(currentSmoker),\n",
    "               cigsPerDay = as.integer(cigsPerDay),\n",
    "               BPMeds = as.factor(BPMeds),\n",
    "               prevalentStroke = as.factor(prevalentStroke),\n",
    "               prevalentHyp = as.factor(prevalentHyp),\n",
    "               diabetes = as.factor(diabetes),\n",
    "               totChol = as.integer(totChol),\n",
    "               heartRate = as.integer(heartRate),\n",
    "               TenYearCHD = as.factor(TenYearCHD)\n",
    "               ) %>%\n",
    "         mutate(sex = recode(sex, \"0\" = \"F\",         # recoding\n",
    "                                  \"1\" = \"M\" )) %>%\n",
    "         mutate(ageCat = case_when(                  # recoding new column with conditions\n",
    "                         age < 65 ~ \"adult\",\n",
    "                         age >= 65 ~ \"senior\")) %>%\n",
    "         mutate(ageCat = as.factor(ageCat)) %>%      # change data type\n",
    "         mutate(sex = fct_relevel(sex, \"M\",\"F\")) %>% # order of levels\n",
    "         mutate(pulsePres = sysBP - diaBP)           # create new column from other variables\n",
    "\n",
    "head(data)"
   ]
  },
  {
   "cell_type": "markdown",
   "metadata": {
    "deletable": false,
    "editable": false,
    "tags": []
   },
   "source": [
    "### Part 1\n",
    "\n",
    "Recode the ```BMI``` to these categories as ```weightCat```\n",
    "- less than 18 : underweight\n",
    "- greater/equal to 18 and lesser/equal to 25: normal\n",
    "- greater than 25 and lesser/equal to 30: overweight\n",
    "- greater than 30: obese\n",
    "\n",
    "Convert them to factors and store them in ```data2```"
   ]
  },
  {
   "cell_type": "code",
   "execution_count": null,
   "metadata": {},
   "outputs": [],
   "source": [
    "# start here"
   ]
  },
  {
   "cell_type": "code",
   "execution_count": null,
   "metadata": {
    "jupyter": {
     "source_hidden": true
    },
    "scrolled": true,
    "tags": [
     "hide-cell"
    ]
   },
   "outputs": [],
   "source": [
    "# solution\n",
    "\n",
    "data2 <- data %>% \n",
    "         mutate(weightCat = case_when(BMI < 18 ~ \"underweight\",\n",
    "                                      BMI >= 18 & BMI <= 25 ~ \"normal\",\n",
    "                                      BMI > 25 & BMI <= 30 ~ \"overweight\",\n",
    "                                      BMI > 30 ~ \"obese\"\n",
    "                                       )) %>%\n",
    "        mutate(weightCat = as.factor(weightCat))\n"
   ]
  },
  {
   "cell_type": "code",
   "execution_count": null,
   "metadata": {
    "tags": [
     "hide-cell"
    ]
   },
   "outputs": [],
   "source": [
    "# check here\n",
    "\n",
    "head(data2)"
   ]
  },
  {
   "cell_type": "markdown",
   "metadata": {
    "deletable": false,
    "editable": false,
    "tags": []
   },
   "source": [
    "### Part 2\n",
    "\n",
    "Using ```data2``` convert totChol to mmol/L (rounded to 1 digit) and update ```data2```"
   ]
  },
  {
   "cell_type": "code",
   "execution_count": null,
   "metadata": {},
   "outputs": [],
   "source": [
    "# start here"
   ]
  },
  {
   "cell_type": "code",
   "execution_count": null,
   "metadata": {
    "jupyter": {
     "source_hidden": true
    },
    "scrolled": true,
    "tags": [
     "hide-cell"
    ]
   },
   "outputs": [],
   "source": [
    "# solution\n",
    "\n",
    "data2 <- data2 %>% \n",
    "         mutate(totChol = round(totChol/38, digits = 1))"
   ]
  },
  {
   "cell_type": "code",
   "execution_count": null,
   "metadata": {
    "tags": [
     "hide-cell"
    ]
   },
   "outputs": [],
   "source": [
    "# check here\n",
    "\n",
    "head(data2)"
   ]
  },
  {
   "cell_type": "markdown",
   "metadata": {
    "deletable": false,
    "editable": false,
    "tags": []
   },
   "source": [
    "### Part 3\n",
    "\n",
    "Using ```data2```\n",
    "- Remove rows with NA values in ```weightCat``` and ```totChol``` \n",
    "- Summarize the number of patients and the mean ```totChol``` levels by ```weightCat```"
   ]
  },
  {
   "cell_type": "code",
   "execution_count": null,
   "metadata": {},
   "outputs": [],
   "source": [
    "# start here"
   ]
  },
  {
   "cell_type": "code",
   "execution_count": null,
   "metadata": {
    "jupyter": {
     "source_hidden": true
    },
    "scrolled": true,
    "tags": [
     "hide-cell"
    ]
   },
   "outputs": [],
   "source": [
    "# solution\n",
    "\n",
    "data2 %>% \n",
    "drop_na(weightCat, totChol) %>%\n",
    "group_by(weightCat) %>%\n",
    "summarize(n = n(), \n",
    "          mean_chol = mean(totChol))"
   ]
  },
  {
   "cell_type": "markdown",
   "metadata": {
    "deletable": false,
    "editable": false,
    "tags": []
   },
   "source": [
    "### Part 4\n",
    "\n",
    "Using ```data2```\n",
    "- Change the order of the weightCat to correspond to the increase in BMI, \n",
    "- Remove rows with NA values in ```weightCat```, ```glucose```,  ```totChol```\n",
    "- Summarize by weightCat\n",
    "  - number of patients\n",
    "  - mean glucose\n",
    "  - mean totChol"
   ]
  },
  {
   "cell_type": "code",
   "execution_count": null,
   "metadata": {},
   "outputs": [],
   "source": [
    "# start here"
   ]
  },
  {
   "cell_type": "code",
   "execution_count": null,
   "metadata": {
    "jupyter": {
     "source_hidden": true
    },
    "scrolled": true,
    "tags": [
     "hide-cell"
    ]
   },
   "outputs": [],
   "source": [
    "# solution\n",
    "\n",
    "data2 %>% \n",
    "mutate(weightCat = fct_relevel(weightCat, \n",
    "                               \"underweight\",\n",
    "                               \"normal\",\n",
    "                               \"overweight\",\n",
    "                               \"obese\")) %>%\n",
    "drop_na(weightCat, glucose, totChol) %>%\n",
    "group_by(weightCat) %>%\n",
    "summarize(n = n(), \n",
    "        mean_glucose = mean(glucose),\n",
    "        mean_chol = mean(totChol))"
   ]
  }
 ],
 "metadata": {
  "kernelspec": {
   "display_name": "R",
   "language": "R",
   "name": "ir"
  },
  "language_info": {
   "codemirror_mode": "r",
   "file_extension": ".r",
   "mimetype": "text/x-r-source",
   "name": "R",
   "pygments_lexer": "r",
   "version": "4.1.3"
  }
 },
 "nbformat": 4,
 "nbformat_minor": 4
}
