{
 "cells": [
  {
   "cell_type": "markdown",
   "metadata": {
    "deletable": false,
    "editable": false,
    "tags": []
   },
   "source": [
    "# Variables, Data Types and Structures\n",
    "\n",
    "We will first explore the concept of variables that are used to label and store values (and other things) in a program. \n",
    "\n",
    "Using the recipe below as an analogy, `n` label for a `variable` that stores a value (e.g. the number of  IWC scoops). This `variable` can be referenced in other parts/steps of the recipe that we will explore later\n",
    "\n",
    "![programming_2.png](images/programming_2.png)\n",
    "\n",
    "Each `variable` can contain specific `data types` and they can be organized into different `data structures`\n",
    "- Data types describe the data (e.g. numbers or characters)\n",
    "- Data structures organize data (e.g. lists)"
   ]
  },
  {
   "cell_type": "markdown",
   "metadata": {
    "deletable": false,
    "editable": false,
    "tags": []
   },
   "source": [
    "---\n",
    "## Variables\n",
    "- Variables are used to store ```data``` (as well as objects and functions)\n",
    "- We use the ```assignment operator``` to link a variable to a data/object/function"
   ]
  },
  {
   "cell_type": "markdown",
   "metadata": {
    "deletable": false,
    "editable": false,
    "tags": []
   },
   "source": [
    "### Assignment operator\n",
    "\n",
    "In R, we conventionally use the leftward operator ```<-```\n",
    "- variable `name` on the `left`\n",
    "- `value` on the `right`"
   ]
  },
  {
   "cell_type": "code",
   "execution_count": null,
   "metadata": {},
   "outputs": [],
   "source": [
    "variable <- 30"
   ]
  },
  {
   "cell_type": "code",
   "execution_count": null,
   "metadata": {},
   "outputs": [],
   "source": [
    "variable"
   ]
  },
  {
   "cell_type": "markdown",
   "metadata": {
    "deletable": false,
    "editable": false,
    "tags": []
   },
   "source": [
    "When we assign a new value to the same variable, it will override any previous value"
   ]
  },
  {
   "cell_type": "code",
   "execution_count": null,
   "metadata": {},
   "outputs": [],
   "source": [
    "variable <- 20"
   ]
  },
  {
   "cell_type": "code",
   "execution_count": null,
   "metadata": {},
   "outputs": [],
   "source": [
    "variable"
   ]
  },
  {
   "cell_type": "markdown",
   "metadata": {
    "deletable": false,
    "editable": false,
    "tags": []
   },
   "source": [
    "A variable can also be used as part of calculation or function and assigned to itself to update the contents"
   ]
  },
  {
   "cell_type": "code",
   "execution_count": null,
   "metadata": {
    "tags": []
   },
   "outputs": [],
   "source": [
    "# Incrementing the value by 1\n",
    "variable <- variable + 1"
   ]
  },
  {
   "cell_type": "code",
   "execution_count": null,
   "metadata": {
    "deletable": false,
    "editable": false,
    "tags": []
   },
   "outputs": [],
   "source": [
    "variable"
   ]
  },
  {
   "cell_type": "markdown",
   "metadata": {
    "deletable": false,
    "editable": false,
    "tags": []
   },
   "source": [
    "### Picking variable names\n",
    "\n",
    "The variable name needs to follow rules in order for it to be valid\n",
    "\n",
    "1. Identifiers can be a combination of letters, digits, period (.) and underscore (_).\n",
    "2. It must start with a letter or a period. If it starts with a period, it cannot be followed by a digit.\n",
    "3. Reserved words in R cannot be used as identifiers.\n",
    "\n",
    "**Examples of valid names**\n",
    "\n",
    "```patientID``` ```Patient_ID``` ```.patientid``` ```patientcat1```\n",
    "\n",
    "**Examples of invalid names**\n",
    "\n",
    "```patient@ID``` ```1patient``` ```_patient``` ```NA``` ```.1patient```"
   ]
  },
  {
   "cell_type": "markdown",
   "metadata": {
    "deletable": false,
    "editable": false,
    "tags": []
   },
   "source": [
    "If we use an invalid variable name, R will throw an error"
   ]
  },
  {
   "cell_type": "code",
   "execution_count": null,
   "metadata": {},
   "outputs": [],
   "source": [
    "NA <- 10 # reserved word in R"
   ]
  },
  {
   "cell_type": "markdown",
   "metadata": {
    "deletable": false,
    "editable": false,
    "tags": []
   },
   "source": [
    "### Listing and deleting variables\n",
    "\n",
    "We can list and delete variables using reusable recipes (called functions) that hide away the details of how it is implemented. There are 2 built-in functions\n",
    "\n",
    "- `ls` function to list the current variables. \n",
    "- `rm` function for deleting a variable\n",
    "\n",
    "Each function follows the format of `function_name(parameter)`. The parameter specifies additional information if required"
   ]
  },
  {
   "cell_type": "code",
   "execution_count": null,
   "metadata": {},
   "outputs": [],
   "source": [
    "ls() # no parameter needed"
   ]
  },
  {
   "cell_type": "markdown",
   "metadata": {
    "deletable": false,
    "editable": false,
    "tags": []
   },
   "source": [
    "Note that we need to put the ```()``` brackets after a function. If this is omitted, R will list the contents of the function"
   ]
  },
  {
   "cell_type": "code",
   "execution_count": null,
   "metadata": {},
   "outputs": [],
   "source": [
    "ls"
   ]
  },
  {
   "cell_type": "markdown",
   "metadata": {},
   "source": [
    "To remove/delete a variable, we use the `rm` function and specify the `name` of the variable that we want to delete within the brackets as a `parameter`"
   ]
  },
  {
   "cell_type": "code",
   "execution_count": null,
   "metadata": {},
   "outputs": [],
   "source": [
    "# removing variable from the environment\n",
    "\n",
    "rm(variable)"
   ]
  },
  {
   "cell_type": "markdown",
   "metadata": {
    "deletable": false,
    "editable": false,
    "tags": []
   },
   "source": [
    "If we reference a non-existent variable, R will report an error"
   ]
  },
  {
   "cell_type": "code",
   "execution_count": null,
   "metadata": {},
   "outputs": [],
   "source": [
    "variable"
   ]
  },
  {
   "cell_type": "markdown",
   "metadata": {
    "deletable": false,
    "editable": false,
    "tags": []
   },
   "source": [
    "---\n",
    "## Basic Data Types\n",
    "\n",
    "Data can be quantitative or qualitative and in R, we will be using 4 basic data types\n",
    "\n",
    "![data_types_table.png](images/data_types_table.png)"
   ]
  },
  {
   "cell_type": "markdown",
   "metadata": {
    "deletable": false,
    "editable": false,
    "tags": []
   },
   "source": [
    "How do we specify the data type to be stored in a variable? When we assign values to variables, R infers the data type based on context of the value\n",
    " - `numeric`: digits (including decimal)\n",
    " - `integer`: digits with `L` suffix\n",
    " - `character`: enclosed in quotes\n",
    " - `logical`: `TRUE/FALSE`, `T/F` (capitalized)\n"
   ]
  },
  {
   "cell_type": "code",
   "execution_count": null,
   "metadata": {},
   "outputs": [],
   "source": [
    "# Let's assign some values to variables\n",
    "\n",
    "age <- 10          # number\n",
    "name <- \"Alice\"    # string (enclosed in quotes)\n",
    "asthma <- FALSE    # logical\n",
    "visits <- 2L       # number (integer)"
   ]
  },
  {
   "cell_type": "code",
   "execution_count": null,
   "metadata": {},
   "outputs": [],
   "source": [
    "# We can examine the contents of the variables\n",
    "\n",
    "age\n",
    "name\n",
    "asthma\n",
    "visits"
   ]
  },
  {
   "cell_type": "markdown",
   "metadata": {
    "deletable": false,
    "editable": false,
    "tags": []
   },
   "source": [
    "### Checking and testing the data type of a variable\n",
    "\n",
    "We can check the data type by using the built-in `class` function"
   ]
  },
  {
   "cell_type": "code",
   "execution_count": null,
   "metadata": {},
   "outputs": [],
   "source": [
    "# We can check the data type of the variables\n",
    "\n",
    "class(age)\n",
    "class(name)\n",
    "class(asthma)\n",
    "class(visits)"
   ]
  },
  {
   "cell_type": "markdown",
   "metadata": {
    "deletable": false,
    "editable": false,
    "tags": []
   },
   "source": [
    "Note that although we assigned numbers to both ```age``` and ```visits```, the data type of the ```visit``` variable is an ```integer```\n",
    "- This is because the suffix ```L```indicates that the number should be an ```integer``` "
   ]
  },
  {
   "cell_type": "markdown",
   "metadata": {
    "deletable": false,
    "editable": false,
    "tags": []
   },
   "source": [
    "We can also test whether a variable is of a certain data type with following functions with the prefix `is`. These functions return `TRUE/FALSE`\n",
    "- `is.numeric`\n",
    "- `is.character`\n",
    "- `is.logical`\n",
    "- `is.integer`"
   ]
  },
  {
   "cell_type": "code",
   "execution_count": null,
   "metadata": {},
   "outputs": [],
   "source": [
    "is.numeric(age)\n",
    "is.character(name)\n",
    "is.logical(asthma)\n",
    "is.integer(visits)"
   ]
  },
  {
   "cell_type": "markdown",
   "metadata": {
    "deletable": false,
    "editable": false,
    "tags": []
   },
   "source": [
    "### Indicating a variable is empty/null\n",
    "\n",
    "Sometimes, we need to indicate that a variable is empty or null. This is useful to indicate `missing` or `not applicable` values \n",
    "\n",
    "To do this, we assign the `NA` keyword as a value to the variable. This value is treated as a `logical` data type"
   ]
  },
  {
   "cell_type": "code",
   "execution_count": null,
   "metadata": {},
   "outputs": [],
   "source": [
    "# what if you want to indicate that a variable is empty/null?\n",
    "\n",
    "occupation <- NA # for example, this data\n",
    "                 # is not applicable for a child\n",
    "\n",
    "class(occupation)"
   ]
  },
  {
   "cell_type": "markdown",
   "metadata": {
    "deletable": false,
    "editable": false,
    "tags": []
   },
   "source": [
    "We can test if the variable is empty/null using the `is.na` function\n",
    "- `TRUE` indicates that the variable is empty/null\n",
    "- `FALSE` indicates that the variable contains data\n",
    "\n",
    "This will be useful when checking for missing values in a dataset"
   ]
  },
  {
   "cell_type": "code",
   "execution_count": null,
   "metadata": {},
   "outputs": [],
   "source": [
    "is.na(occupation)  # checking if a variable is NA"
   ]
  },
  {
   "cell_type": "markdown",
   "metadata": {
    "deletable": false,
    "editable": false,
    "tags": []
   },
   "source": [
    "### Changing one data type to another\n",
    "\n",
    "Sometimes, we need to change one data type to another because  operations that use >1 variable need them to be of the same data type\n",
    "\n",
    "- An example of this would be the addition of 2 variables containing numbers. This requires both variables to be of the same data type (numeric or integer)\n",
    "\n",
    "This diagram shows the different ways that data types can be changed (coerced) into another\n",
    "\n",
    "- a `logical` data type (TRUE/FALSE) can be changed \n",
    "  - to a `character` type \"TRUE\" or \"FALSE\"\n",
    "  - to a `numeric` type where TRUE = 1, FALSE = 0\n",
    "- a `numeric` data type can be changed to a `character` type e.g. 1 becomes \"1\"\n",
    "- a `character` data type (containing numbers only) can be changed to a `numeric` type e.g. \"1\" becomes 1\n",
    "\n",
    "![coercion.png](images/coercion.png)\n",
    "\n",
    "From: https://rstudio-education.github.io/hopr/r-objects.html"
   ]
  },
  {
   "cell_type": "markdown",
   "metadata": {
    "deletable": false,
    "editable": false,
    "tags": []
   },
   "source": [
    "These conversions can be performed using the following functions with the `as` prefix\n",
    "- `as.numeric`\n",
    "- `as.character`\n",
    "- `as.logical`\n",
    "- `as.integer`"
   ]
  },
  {
   "cell_type": "markdown",
   "metadata": {
    "deletable": false,
    "editable": false,
    "tags": []
   },
   "source": [
    "Let us try converting age (numeric) to a character type using  the `as.character` function"
   ]
  },
  {
   "cell_type": "code",
   "execution_count": null,
   "metadata": {},
   "outputs": [],
   "source": [
    "age # print age variable (numeric)\n",
    "\n",
    "age <- as.character(age)\n",
    "class(age)\n",
    "\n",
    "age # print age variable (character)"
   ]
  },
  {
   "cell_type": "markdown",
   "metadata": {
    "deletable": false,
    "editable": false,
    "tags": []
   },
   "source": [
    "As the `age` variable contains a number in a character form, we can convert it back into the `numeric` type using the `as.numeric` function"
   ]
  },
  {
   "cell_type": "code",
   "execution_count": null,
   "metadata": {},
   "outputs": [],
   "source": [
    "age # print age variable (character)\n",
    "\n",
    "age <- as.numeric(age)\n",
    "class(age)\n",
    "\n",
    "age # print age variable (numeric)"
   ]
  },
  {
   "cell_type": "markdown",
   "metadata": {
    "deletable": false,
    "editable": false,
    "tags": []
   },
   "source": [
    "**When is conversion/coercion useful?**\n",
    "\n",
    "It is useful if we need to perform an operation/calculation that requires the _same_ data type\n",
    "\n",
    "Let us take an example where we have a variable `increment` that contains a number as a `character` type (using enclosed quotes)"
   ]
  },
  {
   "cell_type": "code",
   "execution_count": null,
   "metadata": {},
   "outputs": [],
   "source": [
    "increment <- \"1\"\n",
    "increment"
   ]
  },
  {
   "cell_type": "markdown",
   "metadata": {
    "deletable": false,
    "editable": false,
    "tags": []
   },
   "source": [
    "Now, let us trying adding this `increment` to the `age` variable. Both contain numbers but they are different data types\n",
    "- `age`: numeric\n",
    "- `increment`: character"
   ]
  },
  {
   "cell_type": "code",
   "execution_count": null,
   "metadata": {},
   "outputs": [],
   "source": [
    "age + increment"
   ]
  },
  {
   "cell_type": "markdown",
   "metadata": {
    "deletable": false,
    "editable": false,
    "tags": []
   },
   "source": [
    "As you can see, R gives an error as it expects both data types to be numeric when we are adding.\n",
    "\n",
    "To fix this, we coerce the `increment` variable to the `numeric` data type before adding it to the `age` variable"
   ]
  },
  {
   "cell_type": "code",
   "execution_count": null,
   "metadata": {},
   "outputs": [],
   "source": [
    "age + as.numeric(increment)"
   ]
  },
  {
   "cell_type": "markdown",
   "metadata": {
    "deletable": false,
    "editable": false,
    "tags": []
   },
   "source": [
    "### Conversion of numeric/integer data types\n",
    "\n",
    "When dealing with numbers, they can be `numeric` or `integer` types\n",
    "\n",
    "- ```numeric``` for decimal values (e.g. 11.5, 3.14)\n",
    "- ```integer``` for whole numbers\n",
    "\n",
    "An important point to note is that if we coerce a ```numeric``` value to an```integer``` value, the decimal representation is lost and we lose information\n",
    "\n",
    "As an example, let us create a variable with a `numeric` data type"
   ]
  },
  {
   "cell_type": "code",
   "execution_count": null,
   "metadata": {},
   "outputs": [],
   "source": [
    "glucose <- 12.5\n",
    "class(glucose)"
   ]
  },
  {
   "cell_type": "markdown",
   "metadata": {
    "deletable": false,
    "editable": false,
    "tags": []
   },
   "source": [
    "We coerce the variable to an `integer` data type using the `as.integer` function"
   ]
  },
  {
   "cell_type": "code",
   "execution_count": null,
   "metadata": {},
   "outputs": [],
   "source": [
    "glucose\n",
    "glucose <- as.integer(glucose)\n",
    "class(glucose)\n",
    "glucose"
   ]
  },
  {
   "cell_type": "markdown",
   "metadata": {
    "deletable": false,
    "editable": false,
    "tags": []
   },
   "source": [
    "As we can see, this results in a loss of information as the decimal portion is lost during the coercion\n",
    "\n",
    "What happens when we try and convert it back to a `numeric` type?"
   ]
  },
  {
   "cell_type": "code",
   "execution_count": null,
   "metadata": {},
   "outputs": [],
   "source": [
    "glucose <- as.numeric(glucose)\n",
    "class(glucose)\n",
    "glucose"
   ]
  },
  {
   "cell_type": "markdown",
   "metadata": {
    "deletable": false,
    "editable": false,
    "tags": []
   },
   "source": [
    "When we try and convert the `integer` data type back to `numeric`, it does **not** restore the lost information"
   ]
  },
  {
   "cell_type": "markdown",
   "metadata": {
    "deletable": false,
    "editable": false,
    "tags": []
   },
   "source": [
    "---\n",
    "### Summary of variables and basic data types\n",
    "\n",
    "- Assignment of a variable is done using the `<-` operator\n",
    "  - e.g. `x <- 10`\n",
    "- Variables can be listed using `ls()` and deleted using `rm()`\n",
    "- Basic data types for values include\n",
    "  - `numeric` for decimal numbers\n",
    "  - `integer` for integers\n",
    "  - `character` for strings\n",
    "  - `logical` for boolean (`TRUE/FALSE`) and `NA`\n",
    "- `NA` can be assigned to a variable to indicate missing or not applicable data\n",
    "- Functions for checking and testing data types\n",
    "  - Checking data type: `class()`\n",
    "  - Testing specific data types (returns `TRUE/FALSE`)\n",
    "    - `is.numeric()`\n",
    "    - `is.integer()`\n",
    "    - `is.character()`\n",
    "    - `is.logical()`\n",
    "  - Testing if variable is empty/null: `is.na()`\n",
    "- Data types can be converted/coerced to another data type for operations where variables need to be of the same type\n",
    "  - a `logical` data type (`TRUE/FALSE`) can be changed \n",
    "    - to a `character` type \"TRUE\" or \"FALSE\"\n",
    "    - to a `numeric` type where TRUE = 1, FALSE = 0\n",
    "  - a `numeric` data type can be changed to a `character` type e.g. 1 becomes \"1\"\n",
    "  - a `character` data type (containing numbers only) can be changed to a `numeric` type e.g. \"1\" becomes 1\n",
    "- Functions for coercion of data types\n",
    "  - `as.numeric()`\n",
    "  - `as.integer()`\n",
    "  - `as.character()`\n",
    "  - `as.logical()`\n",
    "- Example of coercion to numeric type on same variable `x`\n",
    "  - `x <- as.numeric(x)`"
   ]
  },
  {
   "cell_type": "markdown",
   "metadata": {
    "deletable": false,
    "editable": false,
    "tags": []
   },
   "source": [
    "---\n",
    "### Exercise - Variables/Data Types\n",
    "\n",
    "Write code to perform the following steps\n",
    "\n",
    "- Assign an ```integer``` 10 to variable ```x```\n",
    "- Determine the the data type of variable `x`\n",
    "- Convert it to a ```character type```\n",
    "- test whether the variable `x` is a `character` type"
   ]
  },
  {
   "cell_type": "code",
   "execution_count": null,
   "metadata": {
    "tags": []
   },
   "outputs": [],
   "source": [
    "# start here"
   ]
  },
  {
   "cell_type": "code",
   "execution_count": null,
   "metadata": {
    "jupyter": {
     "source_hidden": true
    },
    "tags": [
     "hide-cell"
    ]
   },
   "outputs": [],
   "source": [
    "# solution\n",
    "\n",
    "x <- 10L\n",
    "class(x)\n",
    "x <- as.character(x)\n",
    "is.character(x)"
   ]
  },
  {
   "cell_type": "markdown",
   "metadata": {
    "deletable": false,
    "editable": false,
    "tags": []
   },
   "source": [
    "---\n",
    "## Data Structures\n",
    "\n",
    "From these basic data types, we can use data structures that organize them. We will be covering these 3 types\n",
    "- `Vectors`: collection of values with the **same** data type\n",
    "- `Lists`: collection of values with **different** data types\n",
    "- `Data Frames`: vectors organized as columns (analogous to Excel sheet)\n",
    "\n",
    "There is another data structure for matrices but we will not covering them\n",
    "\n",
    "![data_structure.png](images/data_structure.png)\n",
    "\n",
    "---\n",
    "### 1. Vectors\n",
    "\n",
    "![vector.png](images/vector.png)\n",
    "\n",
    "A vector is a data structure that is a collection of elements with the _same_ data type, including _another vector_\n",
    "\n",
    "It is defined using the function `c`, which takes `elements` as its parameters\n",
    "\n",
    "- `c( element_1, element_2, element_3, .... )`\n"
   ]
  },
  {
   "cell_type": "markdown",
   "metadata": {
    "deletable": false,
    "editable": false,
    "tags": []
   },
   "source": [
    "**Example of vectors**\n",
    "\n",
    "Let us define different vectors representing collection of data representing patients\n",
    "- `age`: numeric\n",
    "- `name`: character\n",
    "- `asthma`: logical TRUE/FALSE\n",
    "- `risk`: character"
   ]
  },
  {
   "cell_type": "code",
   "execution_count": null,
   "metadata": {},
   "outputs": [],
   "source": [
    "# vector \n",
    "\n",
    "vector_age <- c(10,20,30,40)\n",
    "vector_name <- c(\"Alice\", \"Bob\", \"Charlie\", \"David\")\n",
    "vector_asthma <- c(F,T,F,F)\n",
    "vector_risk <- c(\"low\", \"med\", \"high\", \"high\")"
   ]
  },
  {
   "cell_type": "code",
   "execution_count": null,
   "metadata": {},
   "outputs": [],
   "source": [
    "# print vectors\n",
    "\n",
    "vector_age\n",
    "vector_name\n",
    "vector_asthma\n",
    "vector_risk"
   ]
  },
  {
   "cell_type": "markdown",
   "metadata": {
    "deletable": false,
    "editable": false,
    "tags": []
   },
   "source": [
    "We can use the `class` function to check the data types contained in each vector"
   ]
  },
  {
   "cell_type": "code",
   "execution_count": null,
   "metadata": {},
   "outputs": [],
   "source": [
    "# we can check the data type contained in the vector\n",
    "\n",
    "class(vector_age)\n",
    "class(vector_name)\n",
    "class(vector_asthma)\n",
    "class(vector_risk)"
   ]
  },
  {
   "cell_type": "markdown",
   "metadata": {
    "deletable": false,
    "editable": false,
    "tags": []
   },
   "source": [
    "**Adding elements to an existing vector**\n",
    "\n",
    "Besides the basic data types, vectors can also include other vectors of the same data type. This is useful when we want to add elements to an existing vector"
   ]
  },
  {
   "cell_type": "code",
   "execution_count": null,
   "metadata": {},
   "outputs": [],
   "source": [
    "# vectors can also include vectors\n",
    "\n",
    "vector_base <- c(1,2,3,4,5)\n",
    "vector_base <- c(vector_base,6) # idiom for appending values\n",
    "vector_base"
   ]
  },
  {
   "cell_type": "markdown",
   "metadata": {
    "deletable": false,
    "editable": false,
    "tags": []
   },
   "source": [
    "We can also create an empty vector using the function `vector` and add elements to it"
   ]
  },
  {
   "cell_type": "code",
   "execution_count": null,
   "metadata": {},
   "outputs": [],
   "source": [
    "# adding values to an empty vector\n",
    "\n",
    "vector_initial <- vector() # empty vector\n",
    "vector_initial <- c(vector_initial,1) # append 1\n",
    "vector_initial <- c(vector_initial,2) # append 2\n",
    "vector_initial <- c(vector_initial,3) # append 3\n",
    "\n",
    "vector_initial"
   ]
  },
  {
   "cell_type": "markdown",
   "metadata": {
    "deletable": false,
    "editable": false,
    "tags": []
   },
   "source": [
    "**Finding out the number of elements in a vector**\n",
    "\n",
    "We can find out the length of the vector (i.e number of elements) by using the function `length`"
   ]
  },
  {
   "cell_type": "code",
   "execution_count": null,
   "metadata": {},
   "outputs": [],
   "source": [
    "# we can check the length of each vector\n",
    "\n",
    "length(vector_age)\n",
    "length(vector_name)\n",
    "length(vector_asthma)\n",
    "length(vector_risk)"
   ]
  },
  {
   "cell_type": "markdown",
   "metadata": {
    "deletable": false,
    "editable": false,
    "tags": []
   },
   "source": [
    "**Be careful of mixing data types in a vector**\n",
    "\n",
    "Vectors contain data of the same type. However, if we inadvertently include different data types, there may not be any warning of an unintended effect"
   ]
  },
  {
   "cell_type": "code",
   "execution_count": null,
   "metadata": {},
   "outputs": [],
   "source": [
    "# what do you think will happen?\n",
    "\n",
    "vector_mixed <- c(10, \"ten\", 30, \"forty\", TRUE, NA)"
   ]
  },
  {
   "cell_type": "markdown",
   "metadata": {
    "deletable": false,
    "editable": false,
    "tags": []
   },
   "source": [
    "No error occurred although the elements were of different data types\n",
    "- R coerces the different data types to a `character` type\n",
    "- As all elements are of the same `character` type, they are included in the vector"
   ]
  },
  {
   "cell_type": "code",
   "execution_count": null,
   "metadata": {},
   "outputs": [],
   "source": [
    "# print vector\n",
    "\n",
    "vector_mixed"
   ]
  },
  {
   "cell_type": "code",
   "execution_count": null,
   "metadata": {},
   "outputs": [],
   "source": [
    "# check the data type of the vector\n",
    "\n",
    "class(vector_mixed)"
   ]
  },
  {
   "cell_type": "markdown",
   "metadata": {
    "deletable": false,
    "editable": false,
    "tags": []
   },
   "source": [
    "#### Factors/levels for categorical data\n",
    "\n",
    "For vectors that have the ```character``` data type, we may consider converting it into a ```factor``` class for **categorical** data\n",
    "- A ```factor``` class consists of different ```levels```, representing different categories:\n",
    "  - levels can be used for _grouping_ during analysis\n",
    "  - levels can be _arranged_ if the categorical data is ordered (e.g. low < med < high risk)\n",
    "\n",
    "To do this, we use the `factor` function"
   ]
  },
  {
   "cell_type": "code",
   "execution_count": null,
   "metadata": {},
   "outputs": [],
   "source": [
    "vector_risk <- factor(vector_risk)\n",
    "vector_risk"
   ]
  },
  {
   "cell_type": "code",
   "execution_count": null,
   "metadata": {},
   "outputs": [],
   "source": [
    "class(vector_risk)"
   ]
  },
  {
   "cell_type": "markdown",
   "metadata": {
    "deletable": false,
    "editable": false,
    "tags": []
   },
   "source": [
    "We can use the ```levels``` function to list the levels and ```nlevels``` function to show the number of levels (categories)"
   ]
  },
  {
   "cell_type": "code",
   "execution_count": null,
   "metadata": {},
   "outputs": [],
   "source": [
    "levels(vector_risk)\n",
    "nlevels(vector_risk)"
   ]
  },
  {
   "cell_type": "markdown",
   "metadata": {
    "deletable": false,
    "editable": false,
    "tags": []
   },
   "source": [
    "Having levels allows levels (categories) to be used as a **grouping** variable. Using the ```table```, we can tabulate the counts for each level"
   ]
  },
  {
   "cell_type": "code",
   "execution_count": null,
   "metadata": {},
   "outputs": [],
   "source": [
    "table(vector_risk)"
   ]
  },
  {
   "cell_type": "markdown",
   "metadata": {
    "deletable": false,
    "editable": false,
    "tags": []
   },
   "source": [
    "**Specifying the order of categories**\n",
    "\n",
    "Note that by default, the order of levels is **alphabetical**. Here, it is ordered as ```high```, ```low``` and ```med```. \n",
    "- This may not be what we want and we can explicitly specify the order of levels using the ```levels``` option in the ```factor``` function\n",
    "- The `levels` option takes in a `vector` of the categories in the order that you want"
   ]
  },
  {
   "cell_type": "code",
   "execution_count": null,
   "metadata": {},
   "outputs": [],
   "source": [
    "vector_risk <- factor(vector_risk, levels = c(\"low\", \"med\", \"high\"))\n",
    "vector_risk"
   ]
  },
  {
   "cell_type": "code",
   "execution_count": null,
   "metadata": {},
   "outputs": [],
   "source": [
    "levels(vector_risk)\n",
    "nlevels(vector_risk)"
   ]
  },
  {
   "cell_type": "markdown",
   "metadata": {
    "deletable": false,
    "editable": false,
    "tags": []
   },
   "source": [
    "The order of levels has changed "
   ]
  },
  {
   "cell_type": "code",
   "execution_count": null,
   "metadata": {},
   "outputs": [],
   "source": [
    "table(vector_risk)"
   ]
  },
  {
   "cell_type": "markdown",
   "metadata": {
    "deletable": false,
    "editable": false,
    "tags": []
   },
   "source": [
    "This is also reflected in the count data using the ```table``` function"
   ]
  },
  {
   "cell_type": "markdown",
   "metadata": {
    "deletable": false,
    "editable": false,
    "tags": []
   },
   "source": [
    "#### Selecting data in a vector by index\n",
    "\n",
    "It can be useful to select the data in a vector and we can do it by referring to the position/index of the element. \n",
    "\n",
    "- The data is selected using square brackets `[]`\n",
    "- Note that the index starts from **1** in R\n",
    "\n",
    "![vector_index.png](images/vector_index.png)"
   ]
  },
  {
   "cell_type": "markdown",
   "metadata": {
    "deletable": false,
    "editable": false,
    "tags": []
   },
   "source": [
    "Let us start by considering `vector_age`"
   ]
  },
  {
   "cell_type": "code",
   "execution_count": null,
   "metadata": {},
   "outputs": [],
   "source": [
    "vector_age"
   ]
  },
  {
   "cell_type": "markdown",
   "metadata": {
    "deletable": false,
    "editable": false,
    "tags": []
   },
   "source": [
    "To select a single element, we specify the index of the element we want within the square brackets `[]`"
   ]
  },
  {
   "cell_type": "code",
   "execution_count": null,
   "metadata": {},
   "outputs": [],
   "source": [
    "vector_age[1] # element at index 1"
   ]
  },
  {
   "cell_type": "markdown",
   "metadata": {
    "deletable": false,
    "editable": false,
    "tags": []
   },
   "source": [
    "To select a range of elements, we specify the range as `start_index:end_index` within the square brackets `[]`"
   ]
  },
  {
   "cell_type": "code",
   "execution_count": null,
   "metadata": {},
   "outputs": [],
   "source": [
    "vector_age[1:3] # elements at indexes 1 to 3"
   ]
  },
  {
   "cell_type": "markdown",
   "metadata": {
    "deletable": false,
    "editable": false,
    "tags": []
   },
   "source": [
    "To select specific elements, we specify the indexes we want in a `vector` within the square brackets `[]`"
   ]
  },
  {
   "cell_type": "code",
   "execution_count": null,
   "metadata": {},
   "outputs": [],
   "source": [
    "vector_age[c(1,3)] # elements at index 1 and 3"
   ]
  },
  {
   "cell_type": "markdown",
   "metadata": {
    "deletable": false,
    "editable": false,
    "tags": []
   },
   "source": [
    "We can also exclude elements by prefixing the selection with `-`"
   ]
  },
  {
   "cell_type": "code",
   "execution_count": null,
   "metadata": {},
   "outputs": [],
   "source": [
    "vector_age[-1] # exclude element at index 1"
   ]
  },
  {
   "cell_type": "code",
   "execution_count": null,
   "metadata": {},
   "outputs": [],
   "source": [
    "vector_age[-1:-3] # exclude elements from 1 to 3"
   ]
  },
  {
   "cell_type": "code",
   "execution_count": null,
   "metadata": {},
   "outputs": [],
   "source": [
    "vector_age[-c(1,3)]  # exclude elements 1 and 3"
   ]
  },
  {
   "cell_type": "markdown",
   "metadata": {
    "deletable": false,
    "editable": false,
    "tags": []
   },
   "source": [
    "#### Selecting data in a vector by name/label\n",
    "\n",
    "Besides using indexes, we can select data from vectors using names if each element has a label\n",
    "\n",
    "![vector_name.png](images/vector_name.png)"
   ]
  },
  {
   "cell_type": "markdown",
   "metadata": {
    "deletable": false,
    "editable": false,
    "tags": []
   },
   "source": [
    "A vector with labeled elements is made by specifying the label for each element\n",
    "- `label`=`value`\n",
    "\n",
    "Let us consider an example of categories for grades"
   ]
  },
  {
   "cell_type": "code",
   "execution_count": null,
   "metadata": {},
   "outputs": [],
   "source": [
    "vector_grade <- c(A=\">85\", B=\"70-85\", C=\"60-70\", D=\"<60\")"
   ]
  },
  {
   "cell_type": "code",
   "execution_count": null,
   "metadata": {},
   "outputs": [],
   "source": [
    "vector_grade"
   ]
  },
  {
   "cell_type": "markdown",
   "metadata": {
    "deletable": false,
    "editable": false,
    "tags": []
   },
   "source": [
    "Note that each element now has a corresponding label"
   ]
  },
  {
   "cell_type": "markdown",
   "metadata": {
    "deletable": false,
    "editable": false,
    "tags": []
   },
   "source": [
    "To list the labels for a vector, we can use the `names` function"
   ]
  },
  {
   "cell_type": "code",
   "execution_count": null,
   "metadata": {},
   "outputs": [],
   "source": [
    "# we use the names function to list the names in a vector\n",
    "names(vector_grade)"
   ]
  },
  {
   "cell_type": "markdown",
   "metadata": {
    "deletable": false,
    "editable": false,
    "tags": []
   },
   "source": [
    "To select a specific element, we specify the `label` (in quotes) within the square brackets `[]`"
   ]
  },
  {
   "cell_type": "code",
   "execution_count": null,
   "metadata": {},
   "outputs": [],
   "source": [
    "vector_grade[\"B\"]"
   ]
  },
  {
   "cell_type": "markdown",
   "metadata": {
    "deletable": false,
    "editable": false,
    "tags": []
   },
   "source": [
    "To select specific elements, we specify the labels (in quotes) we want in a `vector` within the square brackets `[]`"
   ]
  },
  {
   "cell_type": "code",
   "execution_count": null,
   "metadata": {},
   "outputs": [],
   "source": [
    "vector_grade[c(\"A\",\"D\")]"
   ]
  },
  {
   "cell_type": "markdown",
   "metadata": {
    "deletable": false,
    "editable": false,
    "tags": []
   },
   "source": [
    "#### Summary of vector data structure\n",
    "\n",
    "- Defined as `c(value1, value2,..)` or `vector(value1, value2,..)`\n",
    "- Values in a vector are the same data type\n",
    "- `length(vector)` gives the number of values in the vector\n",
    "- Data can be appended to an empty or existing vector\n",
    "  - `vector_data <- c(vector_data, value)`\n",
    "- A vector with categorical data can be converted to a factor type using `vector <- factor(vector)`\n",
    "  - By default, the categories(levels) are arranged alphabetically\n",
    "  - The arrangement of levels are specified as `factor(vector, levels=c(\"label1,\"label2\",..)`\n",
    "- Data can be selected using an index\n",
    "  - `vector[index]`: single index\n",
    "  - `vector[start:end]`: range indexes\n",
    "  - `vector[-index]`: exclude an index\n",
    "  - `vector[c(index1, index3,..)]`: specific indexes\n",
    "- Data can be selected by label if the vector is defined with labels `vector(label1=value1, label2=value2,..)`\n",
    "  - `labeled_vector[\"label\"]`: single label\n",
    "  - `labeled_vector[c(\"label1\",\"lable3\",..)]`: specific labels"
   ]
  },
  {
   "cell_type": "markdown",
   "metadata": {
    "deletable": false,
    "editable": false,
    "tags": []
   },
   "source": [
    "---\n",
    "#### Exercise - Vectors"
   ]
  },
  {
   "cell_type": "code",
   "execution_count": null,
   "metadata": {
    "deletable": false,
    "editable": false,
    "tags": []
   },
   "outputs": [],
   "source": [
    "# Data preparation \n",
    "\n",
    "age <- c(45,52,35,56)\n",
    "id <- c(\"132\", \"135\", \"155\", \"157\", \"332\")\n",
    "diabetes <- c(F,T,F,F)\n",
    "wt <- c(\"normal\", \"obese\", \"overweight\", \"obese\")\n",
    "gender <- c(\"M\", \"F\", \"F\", \"M\")"
   ]
  },
  {
   "cell_type": "markdown",
   "metadata": {
    "deletable": false,
    "editable": false,
    "tags": []
   },
   "source": [
    "##### Part 1\n",
    "\n",
    "Select everyone except ```155``` from ```id```"
   ]
  },
  {
   "cell_type": "code",
   "execution_count": null,
   "metadata": {},
   "outputs": [],
   "source": [
    "# start here"
   ]
  },
  {
   "cell_type": "code",
   "execution_count": null,
   "metadata": {
    "jupyter": {
     "source_hidden": true
    },
    "tags": [
     "hide-cell"
    ]
   },
   "outputs": [],
   "source": [
    "# solution\n",
    "\n",
    "id[-3]"
   ]
  },
  {
   "cell_type": "markdown",
   "metadata": {
    "deletable": false,
    "editable": false,
    "tags": []
   },
   "source": [
    "##### Part 2\n",
    "\n",
    "Show a table of counts for those with diabetes (T) and those without (F) from ```diabetes```"
   ]
  },
  {
   "cell_type": "code",
   "execution_count": null,
   "metadata": {},
   "outputs": [],
   "source": [
    "# start here"
   ]
  },
  {
   "cell_type": "code",
   "execution_count": null,
   "metadata": {
    "jupyter": {
     "source_hidden": true
    },
    "tags": [
     "hide-cell"
    ]
   },
   "outputs": [],
   "source": [
    "# solution\n",
    "\n",
    "table(diabetes)"
   ]
  },
  {
   "cell_type": "markdown",
   "metadata": {
    "deletable": false,
    "editable": false,
    "tags": []
   },
   "source": [
    "##### Part 3\n",
    "\n",
    "Check class of ```wt``` and if necessary, change it to a factor with order, then show a table of counts"
   ]
  },
  {
   "cell_type": "code",
   "execution_count": null,
   "metadata": {},
   "outputs": [],
   "source": [
    "# start here"
   ]
  },
  {
   "cell_type": "code",
   "execution_count": null,
   "metadata": {
    "jupyter": {
     "source_hidden": true
    },
    "tags": [
     "hide-cell"
    ]
   },
   "outputs": [],
   "source": [
    "# solution\n",
    "\n",
    "class(wt)\n",
    "wt <- factor(wt, levels=c(\"normal\", \n",
    "                          \"overweight\", \n",
    "                          \"obese\"))\n",
    "table(wt)"
   ]
  },
  {
   "cell_type": "markdown",
   "metadata": {
    "deletable": false,
    "editable": false,
    "tags": []
   },
   "source": [
    "---\n",
    "### 2. List\n",
    "\n",
    "![list.png](images/list.png)\n",
    "\n",
    "A ```list``` is a data structure that can contain different data types (_including other data structures like lists/vectors/data frames_), unlike a ```vector```\n",
    "\n",
    "It is defined using the function `list`, which takes `elements` as its parameters\n",
    "\n",
    "- `list(element_1, element_2, element_3, ...)`\n"
   ]
  },
  {
   "cell_type": "markdown",
   "metadata": {
    "deletable": false,
    "editable": false,
    "tags": []
   },
   "source": [
    "Let us consider an example of a list which contains different data types\n",
    "- `4`: numeric\n",
    "- `patients`: character\n",
    "- `vector_age`: vector of numeric data\n",
    "- `vector_name`: vector of character data\n",
    "- `vector_asthma`: vector of logical data\n"
   ]
  },
  {
   "cell_type": "code",
   "execution_count": null,
   "metadata": {},
   "outputs": [],
   "source": [
    "list_of_data <- list(4, \"patients\", vector_age, vector_name, vector_asthma)"
   ]
  },
  {
   "cell_type": "code",
   "execution_count": null,
   "metadata": {},
   "outputs": [],
   "source": [
    "list_of_data"
   ]
  },
  {
   "cell_type": "markdown",
   "metadata": {
    "deletable": false,
    "editable": false,
    "tags": []
   },
   "source": [
    "We can use the `length` function to get the number of elements in the `list`"
   ]
  },
  {
   "cell_type": "code",
   "execution_count": null,
   "metadata": {},
   "outputs": [],
   "source": [
    "length(list_of_data)"
   ]
  },
  {
   "cell_type": "markdown",
   "metadata": {
    "deletable": false,
    "editable": false,
    "tags": []
   },
   "source": [
    "#### Selecting data in a list using indexes\n",
    "\n",
    "It can be useful to select the data in a list and we can do it by referring to the position/index of the element\n",
    "\n",
    "- The data is selected using square brackets `[]`\n",
    "- Note that the index starts from **1** in R\n",
    "\n",
    "![list_index.png](images/list_index.png)"
   ]
  },
  {
   "cell_type": "markdown",
   "metadata": {
    "deletable": false,
    "editable": false,
    "tags": []
   },
   "source": [
    "To select an element, we specify the index within the square brackets `[]`\n",
    "- Unlike a vector, the `[]` selector returns a list and not the data type of the element"
   ]
  },
  {
   "cell_type": "code",
   "execution_count": null,
   "metadata": {},
   "outputs": [],
   "source": [
    "list_of_data[3]\n",
    "class(list_of_data[3])"
   ]
  },
  {
   "cell_type": "markdown",
   "metadata": {
    "deletable": false,
    "editable": false,
    "tags": []
   },
   "source": [
    "To return the data as intended, we will need to unlist the returned list from the `[]` selection by using the `unlist` function"
   ]
  },
  {
   "cell_type": "code",
   "execution_count": null,
   "metadata": {},
   "outputs": [],
   "source": [
    "unlist(list_of_data[3]) # unlisting returns the original vector (numeric)\n",
    "class(unlist(list_of_data[3]))"
   ]
  },
  {
   "cell_type": "markdown",
   "metadata": {
    "deletable": false,
    "editable": false,
    "tags": []
   },
   "source": [
    "As a **shorthand notation**, we can use the double square bracket `[[ ]]` syntax"
   ]
  },
  {
   "cell_type": "code",
   "execution_count": null,
   "metadata": {},
   "outputs": [],
   "source": [
    "list_of_data[[3]] # double bracket = unlisting and returning the data\n",
    "class(list_of_data[[3]])"
   ]
  },
  {
   "cell_type": "markdown",
   "metadata": {
    "deletable": false,
    "editable": false,
    "tags": []
   },
   "source": [
    "#### Selecting data in a list by name/label\n",
    "\n",
    "Besides using indexes, we can select data from lists using names if each element has a label\n",
    "\n",
    "![list_name.png](images/list_name.png)\n",
    "\n",
    "A list with labeled elements is made by specifying the label for each element\n",
    "- `label`=`value`\n",
    "\n",
    "Let us consider an example where labels are added to the list of patient data"
   ]
  },
  {
   "cell_type": "code",
   "execution_count": null,
   "metadata": {},
   "outputs": [],
   "source": [
    "list_of_data_named <- list(num=4, type=\"patients\", age=vector_age, name=vector_name, asthma=vector_asthma)"
   ]
  },
  {
   "cell_type": "code",
   "execution_count": null,
   "metadata": {},
   "outputs": [],
   "source": [
    "list_of_data_named"
   ]
  },
  {
   "cell_type": "markdown",
   "metadata": {
    "deletable": false,
    "editable": false,
    "tags": []
   },
   "source": [
    "Note that each element now has a corresponding label"
   ]
  },
  {
   "cell_type": "markdown",
   "metadata": {
    "deletable": false,
    "editable": false,
    "tags": []
   },
   "source": [
    "We can list the names of labels using the `names` function"
   ]
  },
  {
   "cell_type": "code",
   "execution_count": null,
   "metadata": {},
   "outputs": [],
   "source": [
    "# we use the names function to list out the names in the list\n",
    "names(list_of_data_named)"
   ]
  },
  {
   "cell_type": "markdown",
   "metadata": {
    "deletable": false,
    "editable": false,
    "tags": []
   },
   "source": [
    "Note that as before, if we use the `[]` selector on a label of interest, the data is returned as a `list`"
   ]
  },
  {
   "cell_type": "code",
   "execution_count": null,
   "metadata": {},
   "outputs": [],
   "source": [
    "list_of_data_named[\"age\"]\n",
    "class(list_of_data_named[\"age\"])"
   ]
  },
  {
   "cell_type": "markdown",
   "metadata": {
    "deletable": false,
    "editable": false,
    "tags": []
   },
   "source": [
    "To return the data as the original data type, we use the shorthand `[[ ]]` selector on the label of interest to `unlist` the data returned"
   ]
  },
  {
   "cell_type": "code",
   "execution_count": null,
   "metadata": {},
   "outputs": [],
   "source": [
    "list_of_data_named[[\"age\"]]\n",
    "class(list_of_data_named[[\"age\"]])"
   ]
  },
  {
   "cell_type": "markdown",
   "metadata": {
    "deletable": false,
    "editable": false,
    "tags": []
   },
   "source": [
    "We can use the **shorthand** ```$``` selector followed by the name of the label to `unlist` the data returned"
   ]
  },
  {
   "cell_type": "code",
   "execution_count": null,
   "metadata": {},
   "outputs": [],
   "source": [
    "list_of_data_named$age\n",
    "class(list_of_data_named$age)"
   ]
  },
  {
   "cell_type": "markdown",
   "metadata": {
    "deletable": false,
    "editable": false,
    "tags": []
   },
   "source": [
    "#### Combining selectors for lists and vectors\n",
    "\n",
    "We can also combine/chain selectors to drill down to the data point we want e.g. when a `vector` is contained within a `list`"
   ]
  },
  {
   "cell_type": "code",
   "execution_count": null,
   "metadata": {},
   "outputs": [],
   "source": [
    "list_of_data"
   ]
  },
  {
   "cell_type": "markdown",
   "metadata": {
    "deletable": false,
    "editable": false,
    "tags": []
   },
   "source": [
    "As an example, here we want to get the 3rd element (`vector_age`) from the list and then select the 1st element within 'vector_age'\n",
    "- We first use the `[[ ]]` selector to select the element from the list and ``unlist`` it to return the data in its original type (in this case, a `vector`)\n",
    "- We next add the `[]` selector to the `vector` to select the element within the vector"
   ]
  },
  {
   "cell_type": "code",
   "execution_count": null,
   "metadata": {},
   "outputs": [],
   "source": [
    "list_of_data[[3]][1] # return the vector from 3 element in list, then select the 1st element"
   ]
  },
  {
   "cell_type": "markdown",
   "metadata": {
    "deletable": false,
    "editable": false,
    "tags": []
   },
   "source": [
    "Similarly, we can do the same for labeled lists"
   ]
  },
  {
   "cell_type": "code",
   "execution_count": null,
   "metadata": {},
   "outputs": [],
   "source": [
    "list_of_data_named"
   ]
  },
  {
   "cell_type": "markdown",
   "metadata": {
    "deletable": false,
    "editable": false,
    "tags": []
   },
   "source": [
    "As an example, here we want to get vector by the `age` label from the list and then select the 1st element within `vector`\n",
    "\n",
    "We can use the `[[ ]]` or the `$` selector"
   ]
  },
  {
   "cell_type": "code",
   "execution_count": null,
   "metadata": {},
   "outputs": [],
   "source": [
    "# [[ ]] selector\n",
    "\n",
    "list_of_data_named[[\"age\"]][1]"
   ]
  },
  {
   "cell_type": "code",
   "execution_count": null,
   "metadata": {},
   "outputs": [],
   "source": [
    "# $ selector\n",
    "\n",
    "list_of_data_named$age[1]"
   ]
  },
  {
   "cell_type": "markdown",
   "metadata": {
    "deletable": false,
    "editable": false,
    "tags": []
   },
   "source": [
    "#### Summary of list data structure\n",
    "\n",
    "- Defined as `list(value1, value2,..)`\n",
    "- Values in a list are the different data type\n",
    "- `length(list)` gives the number of values in the list\n",
    "- Data can be selected using an index\n",
    "  - `list[index]`: returns data as a list\n",
    "  - `list[[index]]`: returns data in original form\n",
    "- Data can be selected by label if the list is defined with labels `list(label1=value1, label2=value2,..)`\n",
    "  - `list[\"label\"]`: returns data as a list\n",
    "  - `list[[\"label\"]]`: returns data in original form\n",
    "  - `list$label`: shorthand to return data in original form"
   ]
  },
  {
   "cell_type": "markdown",
   "metadata": {
    "deletable": false,
    "editable": false,
    "tags": []
   },
   "source": [
    "---\n",
    "#### Exercise - Lists"
   ]
  },
  {
   "cell_type": "markdown",
   "metadata": {
    "deletable": false,
    "editable": false,
    "tags": []
   },
   "source": [
    "Select the fourth name from the ```name``` element in ```list_of_data_named```"
   ]
  },
  {
   "cell_type": "code",
   "execution_count": null,
   "metadata": {},
   "outputs": [],
   "source": [
    "list_of_data_named <- list(num=4, \n",
    "                           type=\"patients\", \n",
    "                           age=vector_age, \n",
    "                           name=vector_name, \n",
    "                           asthma=vector_asthma)\n",
    "\n",
    "# start here"
   ]
  },
  {
   "cell_type": "code",
   "execution_count": null,
   "metadata": {
    "jupyter": {
     "source_hidden": true
    },
    "tags": [
     "hide-cell"
    ]
   },
   "outputs": [],
   "source": [
    "# solution\n",
    "\n",
    "list_of_data_named$name[4]"
   ]
  },
  {
   "cell_type": "markdown",
   "metadata": {
    "deletable": false,
    "editable": false,
    "tags": []
   },
   "source": [
    "---\n",
    "### 3. Data Frames\n",
    "\n",
    "![dataframe.png](images/dataframe.png)\n",
    "\n",
    "A data frame is a collection of vectors arranged in columns and the most common data structure used in data analysis, analogous to an Excel spreadsheet\n",
    "- Each column is a `vector` representing attributes (e.g. age, gender, disease)\n",
    "- Each row is a record for an observation (e.g. patient)\n",
    "\n",
    "It is defined using `data.frame` and takes pairs of `label=vector` as parameters\n",
    "- `data.frame(label_1=vector_1, label_2=vector_2, ...)`"
   ]
  },
  {
   "cell_type": "code",
   "execution_count": null,
   "metadata": {},
   "outputs": [],
   "source": [
    "this_is_a_df <- data.frame(id=c(20201,20205,20212,20213,20216), \n",
    "                           age=c(19,45, 23, 55, 65), \n",
    "                           name=c(\"Alice\",\"Bob\",\"Charlie\",\"David\", \"Eliza\"),\n",
    "                           risk=c(\"low\", \"med\", \"high\", \"high\",\"med\"))"
   ]
  },
  {
   "cell_type": "code",
   "execution_count": null,
   "metadata": {},
   "outputs": [],
   "source": [
    "this_is_a_df"
   ]
  },
  {
   "cell_type": "markdown",
   "metadata": {
    "deletable": false,
    "editable": false,
    "tags": []
   },
   "source": [
    "We can use the following functions to obtain the dimensions of the data frame\n",
    "- `length`: number of vectors\n",
    "- `nrow`: number of rows\n",
    "- `ncol`: number of columns (same as length)"
   ]
  },
  {
   "cell_type": "code",
   "execution_count": null,
   "metadata": {},
   "outputs": [],
   "source": [
    "length(this_is_a_df) # length is counted column-wise\n",
    "nrow(this_is_a_df)   # number of rows\n",
    "ncol(this_is_a_df)   # number fo columns"
   ]
  },
  {
   "cell_type": "markdown",
   "metadata": {
    "deletable": false,
    "editable": false,
    "tags": []
   },
   "source": [
    "#### Selecting data using indexes\n",
    "\n",
    "![dataframe_index.png](images/dataframe_index.png)\n",
    "\n",
    "We can select the values from a dataframe using indexes\n",
    "- Data is selected using the `[row,column]` syntax\n",
    "- Row and column indexes start with 1 (top to bottom, left to right)"
   ]
  },
  {
   "cell_type": "code",
   "execution_count": null,
   "metadata": {},
   "outputs": [],
   "source": [
    "this_is_a_df"
   ]
  },
  {
   "cell_type": "markdown",
   "metadata": {
    "deletable": false,
    "editable": false,
    "tags": []
   },
   "source": [
    "**Selecting single value**\n",
    "\n",
    "As an example, we will select `row 2` and `column 3` from the `this_is_a_df`"
   ]
  },
  {
   "cell_type": "code",
   "execution_count": null,
   "metadata": {},
   "outputs": [],
   "source": [
    "this_is_a_df[2,3] # row = 2, column = 3"
   ]
  },
  {
   "cell_type": "markdown",
   "metadata": {
    "deletable": false,
    "editable": false,
    "tags": []
   },
   "source": [
    "**Selecting single row**\n",
    "\n",
    "To select a row, we omit the column and specify the selector as `[row, ]`"
   ]
  },
  {
   "cell_type": "code",
   "execution_count": null,
   "metadata": {},
   "outputs": [],
   "source": [
    "this_is_a_df[1,] # row = 1"
   ]
  },
  {
   "cell_type": "markdown",
   "metadata": {
    "deletable": false,
    "editable": false,
    "tags": []
   },
   "source": [
    "**Selecting single column**\n",
    "\n",
    "To select a column, we omit the row and specify the selector as `[,column]`"
   ]
  },
  {
   "cell_type": "code",
   "execution_count": null,
   "metadata": {},
   "outputs": [],
   "source": [
    "this_is_a_df[,1] # col = 1"
   ]
  },
  {
   "cell_type": "markdown",
   "metadata": {
    "deletable": false,
    "editable": false,
    "tags": []
   },
   "source": [
    "**Omitting single row or column**\n",
    "\n",
    "We can omit row or columns by adding the prefix `-` to the index"
   ]
  },
  {
   "cell_type": "code",
   "execution_count": null,
   "metadata": {},
   "outputs": [],
   "source": [
    "this_is_a_df[-1,] # omit row 1"
   ]
  },
  {
   "cell_type": "code",
   "execution_count": null,
   "metadata": {},
   "outputs": [],
   "source": [
    "this_is_a_df[,-1] # omit column 1"
   ]
  },
  {
   "cell_type": "markdown",
   "metadata": {
    "deletable": false,
    "editable": false,
    "tags": []
   },
   "source": [
    "**Selecting range of rows**\n",
    "\n",
    "To select a range of rows, we specify the `start:end` range as the rows in `[row, ]`"
   ]
  },
  {
   "cell_type": "code",
   "execution_count": null,
   "metadata": {},
   "outputs": [],
   "source": [
    "this_is_a_df[1:3,]"
   ]
  },
  {
   "cell_type": "markdown",
   "metadata": {
    "deletable": false,
    "editable": false,
    "tags": []
   },
   "source": [
    "**Selecting range of columns**\n",
    "\n",
    "To select a range of columns, we specify the `start:end` range as the columns in `[,column]`"
   ]
  },
  {
   "cell_type": "code",
   "execution_count": null,
   "metadata": {},
   "outputs": [],
   "source": [
    "this_is_a_df[,1:2]"
   ]
  },
  {
   "cell_type": "markdown",
   "metadata": {
    "deletable": false,
    "editable": false,
    "tags": []
   },
   "source": [
    "**Omitting range of rows or columns**\n",
    "\n",
    "We can omit a range of rows or columns by adding the prefix `-` to the `vector` containing the `start:end` range"
   ]
  },
  {
   "cell_type": "code",
   "execution_count": null,
   "metadata": {},
   "outputs": [],
   "source": [
    "this_is_a_df[-c(1:3),] # omit rows 1-3"
   ]
  },
  {
   "cell_type": "code",
   "execution_count": null,
   "metadata": {},
   "outputs": [],
   "source": [
    "this_is_a_df[,-c(1:2)] # omit columns 1-2"
   ]
  },
  {
   "cell_type": "markdown",
   "metadata": {
    "deletable": false,
    "editable": false,
    "tags": []
   },
   "source": [
    "**Selecting specific rows**\n",
    "\n",
    "To select specific rows, we specify the row indexes as a vector in `[row,]`"
   ]
  },
  {
   "cell_type": "code",
   "execution_count": null,
   "metadata": {},
   "outputs": [],
   "source": [
    "this_is_a_df[c(1,3),] # rows 1 and 3"
   ]
  },
  {
   "cell_type": "markdown",
   "metadata": {
    "deletable": false,
    "editable": false,
    "tags": []
   },
   "source": [
    "**Selecting specific columns**\n",
    "\n",
    "To select specific columns, we specify the column indexes as a vector in `[,column]`"
   ]
  },
  {
   "cell_type": "code",
   "execution_count": null,
   "metadata": {},
   "outputs": [],
   "source": [
    "this_is_a_df[,c(1,3)] # columns 1 and 3"
   ]
  },
  {
   "cell_type": "markdown",
   "metadata": {
    "deletable": false,
    "editable": false,
    "tags": []
   },
   "source": [
    "**Omitting specific rows/columns**\n",
    "\n",
    "We can omit specifc rows/columns by adding the prefix `-` to the vector"
   ]
  },
  {
   "cell_type": "code",
   "execution_count": null,
   "metadata": {},
   "outputs": [],
   "source": [
    "this_is_a_df[-c(1,3),] # omit rows 1 and 3"
   ]
  },
  {
   "cell_type": "code",
   "execution_count": null,
   "metadata": {},
   "outputs": [],
   "source": [
    "this_is_a_df[,-c(1,3)] # omit columns 1 and 3"
   ]
  },
  {
   "cell_type": "markdown",
   "metadata": {
    "deletable": false,
    "editable": false,
    "tags": []
   },
   "source": [
    "#### Selecting data using labels/names\n",
    "\n",
    "Besides using indexes, we can select data from a data frame using `row names` or `column names`\n",
    "\n",
    "![dataframe_name.png](images/dataframe_name.png)\n",
    "\n",
    "The `column names` are already specified in a data frame. By default, the `row names` are labeled sequentially i.e. `1,2,3...`"
   ]
  },
  {
   "cell_type": "code",
   "execution_count": null,
   "metadata": {},
   "outputs": [],
   "source": [
    "this_is_a_df"
   ]
  },
  {
   "cell_type": "code",
   "execution_count": null,
   "metadata": {},
   "outputs": [],
   "source": [
    "colnames(this_is_a_df) # column names"
   ]
  },
  {
   "cell_type": "code",
   "execution_count": null,
   "metadata": {},
   "outputs": [],
   "source": [
    "rownames(this_is_a_df) # row names"
   ]
  },
  {
   "cell_type": "markdown",
   "metadata": {
    "deletable": false,
    "editable": false,
    "tags": []
   },
   "source": [
    "If needed, we can override the default row names by assigning a `vector of names` for each of the rows"
   ]
  },
  {
   "cell_type": "code",
   "execution_count": null,
   "metadata": {},
   "outputs": [],
   "source": [
    "rownames(this_is_a_df) <- c(\"patient1\",\"patient2\",\"patient3\",\"patient4\",\"patient5\")\n",
    "rownames(this_is_a_df)"
   ]
  },
  {
   "cell_type": "code",
   "execution_count": null,
   "metadata": {},
   "outputs": [],
   "source": [
    "this_is_a_df"
   ]
  },
  {
   "cell_type": "markdown",
   "metadata": {
    "deletable": false,
    "editable": false,
    "tags": []
   },
   "source": [
    "**Selecting a row by name**\n",
    "\n",
    "To select a row by name, we specify the row name (in quotes) as `[row,]`\n",
    "- This returns a data frame with the row"
   ]
  },
  {
   "cell_type": "code",
   "execution_count": null,
   "metadata": {},
   "outputs": [],
   "source": [
    "this_is_a_df[\"patient1\",]"
   ]
  },
  {
   "cell_type": "markdown",
   "metadata": {
    "deletable": false,
    "editable": false,
    "tags": []
   },
   "source": [
    "**Selecting a column by name**\n",
    "\n",
    "To select a column by name, we can specify the column name (in quotes) as `[column]`\n",
    "- This returns a data frame with the column"
   ]
  },
  {
   "cell_type": "code",
   "execution_count": null,
   "metadata": {},
   "outputs": [],
   "source": [
    "# Selecting using the [] syntax\n",
    "\n",
    "this_is_a_df[\"age\"] # returns a slice of the data frame"
   ]
  },
  {
   "cell_type": "markdown",
   "metadata": {
    "deletable": false,
    "editable": false,
    "tags": []
   },
   "source": [
    "More commonly, we want to select a column by name and return it as a `vector`. To do this, we use the `$` selector"
   ]
  },
  {
   "cell_type": "code",
   "execution_count": null,
   "metadata": {},
   "outputs": [],
   "source": [
    "this_is_a_df$age"
   ]
  },
  {
   "cell_type": "markdown",
   "metadata": {
    "deletable": false,
    "editable": false,
    "tags": []
   },
   "source": [
    "**Selecting specific rows by name**\n",
    "\n",
    "To select specific rows by name, we specify the row names as a `vector` in `[row,]`"
   ]
  },
  {
   "cell_type": "code",
   "execution_count": null,
   "metadata": {},
   "outputs": [],
   "source": [
    "# selecting multiple rows\n",
    "\n",
    "this_is_a_df[c(\"patient1\", \"patient3\"),]"
   ]
  },
  {
   "cell_type": "markdown",
   "metadata": {
    "deletable": false,
    "editable": false,
    "tags": []
   },
   "source": [
    "**Selecting specific columns by name**\n",
    "\n",
    "To select specific columns by name, we specify column names as a `vector` in `[,column]`"
   ]
  },
  {
   "cell_type": "code",
   "execution_count": null,
   "metadata": {},
   "outputs": [],
   "source": [
    "# selecting multiple columns\n",
    "\n",
    "this_is_a_df[c(\"id\", \"age\")]"
   ]
  },
  {
   "cell_type": "markdown",
   "metadata": {
    "deletable": false,
    "editable": false,
    "tags": []
   },
   "source": [
    "#### Summary of dataframe data structure\n",
    "\n",
    "- Collection of vectors arranged in column form\n",
    "- Defined as `data.frame(column1=vector1, column2=vector2,..)`\n",
    "- Row names by default are numbered sequentially but they can be relabeled `rownames(df) <- c(\"row1\", \"row2\",..)`\n",
    "- Functions to obtain dimensions\n",
    "  - `length`: number of vectors\n",
    "  - `nrow`: number of rows\n",
    "  - `ncol`: number of columns (same as length)\n",
    "- Data can be selected with indexes using `[row, column]` selector\n",
    "  - `df[row, col]`: returns single value\n",
    "  - `df[row,]`: returns row\n",
    "  - `df[,col]`: returns column\n",
    "  - `df[start:end,]`: returns range of rows\n",
    "  - `df[,start:end]`: returns range of columns\n",
    "  - `df[-row,]`: exclude row\n",
    "  - `df[,-col]`: exclude column\n",
    "- Data can be selected using row or column names\n",
    "  - `df[\"row\",]`: returns row as dataframe\n",
    "  - `df[\"col\"]`: returns column as dataframe\n",
    "  - `df[c(\"row1\", \"row3\",)`: returns specific rows\n",
    "  - `df[,c(\"col1\", \"col3\")`: returns specific columns\n",
    "  - `df$col`: returns column as vector\n"
   ]
  },
  {
   "cell_type": "markdown",
   "metadata": {
    "deletable": false,
    "editable": false,
    "tags": []
   },
   "source": [
    "---\n",
    "#### Exercise - Data Frames"
   ]
  },
  {
   "cell_type": "code",
   "execution_count": null,
   "metadata": {},
   "outputs": [],
   "source": [
    "# Data preparation\n",
    "\n",
    "this_is_a_df <- data.frame(id=c(20201,20205,20212,20213,20216),\n",
    "                           age=c(19,45, 23, 55, 65), \n",
    "                           name=c(\"Alice\",\"Bob\",\"Charlie\",\"David\", \"Eliza\"),\n",
    "                           risk=c(\"low\", \"med\", \"high\", \"high\",\"med\"))\n",
    "\n",
    "this_is_a_df"
   ]
  },
  {
   "cell_type": "markdown",
   "metadata": {
    "deletable": false,
    "editable": false,
    "tags": []
   },
   "source": [
    "##### Part 1\n",
    "\n",
    "Select rows 1,3,4 from ```this_is_a_df```"
   ]
  },
  {
   "cell_type": "code",
   "execution_count": null,
   "metadata": {},
   "outputs": [],
   "source": [
    "# start here"
   ]
  },
  {
   "cell_type": "code",
   "execution_count": null,
   "metadata": {
    "jupyter": {
     "source_hidden": true
    },
    "tags": [
     "hide-cell"
    ]
   },
   "outputs": [],
   "source": [
    "# solution\n",
    "\n",
    "this_is_a_df[c(1,3,4),]"
   ]
  },
  {
   "cell_type": "markdown",
   "metadata": {
    "deletable": false,
    "editable": false,
    "tags": []
   },
   "source": [
    "##### Part 2\n",
    "\n",
    "Select ```name``` and ```age``` from ```this_is_a_df``` and show every row except the last one"
   ]
  },
  {
   "cell_type": "code",
   "execution_count": null,
   "metadata": {},
   "outputs": [],
   "source": [
    "# start here"
   ]
  },
  {
   "cell_type": "code",
   "execution_count": null,
   "metadata": {
    "jupyter": {
     "source_hidden": true
    },
    "tags": [
     "hide-cell"
    ]
   },
   "outputs": [],
   "source": [
    "# solution\n",
    "\n",
    "this_is_a_df[-5, c(\"name\",\"age\")]"
   ]
  },
  {
   "cell_type": "markdown",
   "metadata": {
    "deletable": false,
    "editable": false,
    "tags": []
   },
   "source": [
    "##### Part 3\n",
    "\n",
    "Return the risk column as a vector, then show the breakdown of categories in a table"
   ]
  },
  {
   "cell_type": "code",
   "execution_count": null,
   "metadata": {},
   "outputs": [],
   "source": [
    "# start here"
   ]
  },
  {
   "cell_type": "code",
   "execution_count": null,
   "metadata": {
    "jupyter": {
     "source_hidden": true
    },
    "tags": [
     "hide-cell"
    ]
   },
   "outputs": [],
   "source": [
    "# solution\n",
    "\n",
    "table(this_is_a_df$risk)"
   ]
  }
 ],
 "metadata": {
  "kernelspec": {
   "display_name": "R",
   "language": "R",
   "name": "ir"
  },
  "language_info": {
   "codemirror_mode": "r",
   "file_extension": ".r",
   "mimetype": "text/x-r-source",
   "name": "R",
   "pygments_lexer": "r",
   "version": "4.1.3"
  }
 },
 "nbformat": 4,
 "nbformat_minor": 4
}
